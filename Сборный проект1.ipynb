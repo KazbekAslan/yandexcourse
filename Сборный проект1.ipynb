{
 "cells": [
  {
   "cell_type": "markdown",
   "id": "42659a51",
   "metadata": {},
   "source": [
    "# Анализ видеоигр"
   ]
  },
  {
   "cell_type": "markdown",
   "id": "47ef4b87",
   "metadata": {},
   "source": [
    "## Цель проекта и основные шаги\n",
    "\n",
    "Цель: Выявление факторов определяющие успешность игры\n",
    "\n",
    "Шаги:\n",
    "1. Считывание и изучение файла с общими данными\n",
    "2. Подготовка данных\n",
    "3. Исследовательский анализ\n",
    "4. Портрет пользователя каждого региона\n",
    "5. Проверка гипотез\n",
    "6. Вывод"
   ]
  },
  {
   "cell_type": "markdown",
   "id": "0344e520",
   "metadata": {},
   "source": [
    "## Считывание и изучение файла с общими данными\n",
    "### Отрытие файлов"
   ]
  },
  {
   "cell_type": "code",
   "execution_count": 1,
   "id": "b1d5145b",
   "metadata": {},
   "outputs": [],
   "source": [
    "from IPython.display import display\n",
    "import matplotlib.pyplot as plt \n",
    "import seaborn as sns\n",
    "import pandas as pd\n",
    "from scipy import stats as st\n",
    "import numpy as np\n",
    "import os\n",
    "\n",
    "pth1 = 'games.csv'\n",
    "pth2 = '/datasets/games.csv'\n",
    "\n",
    "if os.path.exists(pth1):\n",
    "    data = pd.read_csv(pth1, sep=',')\n",
    "elif os.path.exists(pth2):\n",
    "    data = pd.read_csv(pth2, sep=',')\n",
    "    \n",
    "pd.set_option('display.max_columns', 500)    "
   ]
  },
  {
   "cell_type": "code",
   "execution_count": 2,
   "id": "92b3ef51",
   "metadata": {
    "scrolled": true
   },
   "outputs": [
    {
     "data": {
      "text/html": [
       "<div>\n",
       "<style scoped>\n",
       "    .dataframe tbody tr th:only-of-type {\n",
       "        vertical-align: middle;\n",
       "    }\n",
       "\n",
       "    .dataframe tbody tr th {\n",
       "        vertical-align: top;\n",
       "    }\n",
       "\n",
       "    .dataframe thead th {\n",
       "        text-align: right;\n",
       "    }\n",
       "</style>\n",
       "<table border=\"1\" class=\"dataframe\">\n",
       "  <thead>\n",
       "    <tr style=\"text-align: right;\">\n",
       "      <th></th>\n",
       "      <th>Name</th>\n",
       "      <th>Platform</th>\n",
       "      <th>Year_of_Release</th>\n",
       "      <th>Genre</th>\n",
       "      <th>NA_sales</th>\n",
       "      <th>EU_sales</th>\n",
       "      <th>JP_sales</th>\n",
       "      <th>Other_sales</th>\n",
       "      <th>Critic_Score</th>\n",
       "      <th>User_Score</th>\n",
       "      <th>Rating</th>\n",
       "    </tr>\n",
       "  </thead>\n",
       "  <tbody>\n",
       "    <tr>\n",
       "      <td>0</td>\n",
       "      <td>Wii Sports</td>\n",
       "      <td>Wii</td>\n",
       "      <td>2006.0</td>\n",
       "      <td>Sports</td>\n",
       "      <td>41.36</td>\n",
       "      <td>28.96</td>\n",
       "      <td>3.77</td>\n",
       "      <td>8.45</td>\n",
       "      <td>76.0</td>\n",
       "      <td>8</td>\n",
       "      <td>E</td>\n",
       "    </tr>\n",
       "    <tr>\n",
       "      <td>1</td>\n",
       "      <td>Super Mario Bros.</td>\n",
       "      <td>NES</td>\n",
       "      <td>1985.0</td>\n",
       "      <td>Platform</td>\n",
       "      <td>29.08</td>\n",
       "      <td>3.58</td>\n",
       "      <td>6.81</td>\n",
       "      <td>0.77</td>\n",
       "      <td>NaN</td>\n",
       "      <td>NaN</td>\n",
       "      <td>NaN</td>\n",
       "    </tr>\n",
       "    <tr>\n",
       "      <td>2</td>\n",
       "      <td>Mario Kart Wii</td>\n",
       "      <td>Wii</td>\n",
       "      <td>2008.0</td>\n",
       "      <td>Racing</td>\n",
       "      <td>15.68</td>\n",
       "      <td>12.76</td>\n",
       "      <td>3.79</td>\n",
       "      <td>3.29</td>\n",
       "      <td>82.0</td>\n",
       "      <td>8.3</td>\n",
       "      <td>E</td>\n",
       "    </tr>\n",
       "    <tr>\n",
       "      <td>3</td>\n",
       "      <td>Wii Sports Resort</td>\n",
       "      <td>Wii</td>\n",
       "      <td>2009.0</td>\n",
       "      <td>Sports</td>\n",
       "      <td>15.61</td>\n",
       "      <td>10.93</td>\n",
       "      <td>3.28</td>\n",
       "      <td>2.95</td>\n",
       "      <td>80.0</td>\n",
       "      <td>8</td>\n",
       "      <td>E</td>\n",
       "    </tr>\n",
       "    <tr>\n",
       "      <td>4</td>\n",
       "      <td>Pokemon Red/Pokemon Blue</td>\n",
       "      <td>GB</td>\n",
       "      <td>1996.0</td>\n",
       "      <td>Role-Playing</td>\n",
       "      <td>11.27</td>\n",
       "      <td>8.89</td>\n",
       "      <td>10.22</td>\n",
       "      <td>1.00</td>\n",
       "      <td>NaN</td>\n",
       "      <td>NaN</td>\n",
       "      <td>NaN</td>\n",
       "    </tr>\n",
       "  </tbody>\n",
       "</table>\n",
       "</div>"
      ],
      "text/plain": [
       "                       Name Platform  Year_of_Release         Genre  NA_sales  \\\n",
       "0                Wii Sports      Wii           2006.0        Sports     41.36   \n",
       "1         Super Mario Bros.      NES           1985.0      Platform     29.08   \n",
       "2            Mario Kart Wii      Wii           2008.0        Racing     15.68   \n",
       "3         Wii Sports Resort      Wii           2009.0        Sports     15.61   \n",
       "4  Pokemon Red/Pokemon Blue       GB           1996.0  Role-Playing     11.27   \n",
       "\n",
       "   EU_sales  JP_sales  Other_sales  Critic_Score User_Score Rating  \n",
       "0     28.96      3.77         8.45          76.0          8      E  \n",
       "1      3.58      6.81         0.77           NaN        NaN    NaN  \n",
       "2     12.76      3.79         3.29          82.0        8.3      E  \n",
       "3     10.93      3.28         2.95          80.0          8      E  \n",
       "4      8.89     10.22         1.00           NaN        NaN    NaN  "
      ]
     },
     "metadata": {},
     "output_type": "display_data"
    }
   ],
   "source": [
    "display(data.head())"
   ]
  },
  {
   "cell_type": "markdown",
   "id": "83cf3b85",
   "metadata": {},
   "source": [
    "### Получение информации о файлах"
   ]
  },
  {
   "cell_type": "code",
   "execution_count": 3,
   "id": "369eb034",
   "metadata": {
    "scrolled": true
   },
   "outputs": [
    {
     "name": "stdout",
     "output_type": "stream",
     "text": [
      "<class 'pandas.core.frame.DataFrame'>\n",
      "RangeIndex: 16715 entries, 0 to 16714\n",
      "Data columns (total 11 columns):\n",
      "Name               16713 non-null object\n",
      "Platform           16715 non-null object\n",
      "Year_of_Release    16446 non-null float64\n",
      "Genre              16713 non-null object\n",
      "NA_sales           16715 non-null float64\n",
      "EU_sales           16715 non-null float64\n",
      "JP_sales           16715 non-null float64\n",
      "Other_sales        16715 non-null float64\n",
      "Critic_Score       8137 non-null float64\n",
      "User_Score         10014 non-null object\n",
      "Rating             9949 non-null object\n",
      "dtypes: float64(6), object(5)\n",
      "memory usage: 1.4+ MB\n"
     ]
    },
    {
     "data": {
      "text/plain": [
       "None"
      ]
     },
     "metadata": {},
     "output_type": "display_data"
    }
   ],
   "source": [
    "display(data.info())"
   ]
  },
  {
   "cell_type": "markdown",
   "id": "465a14d3",
   "metadata": {},
   "source": [
    "### Вывод:\n",
    "1. Название одной игры не хватет\n",
    "2. Также нет Жанра по 2 играм\n",
    "3. Релиз игр имеются пустые строки\n",
    "4. Колонка год тип данных float\n",
    "5. Столбец User_Score тип данных object"
   ]
  },
  {
   "cell_type": "markdown",
   "id": "509f6158",
   "metadata": {},
   "source": [
    "## Подготовка данных"
   ]
  },
  {
   "cell_type": "code",
   "execution_count": 4,
   "id": "2991d3fa",
   "metadata": {},
   "outputs": [
    {
     "data": {
      "text/html": [
       "<div>\n",
       "<style scoped>\n",
       "    .dataframe tbody tr th:only-of-type {\n",
       "        vertical-align: middle;\n",
       "    }\n",
       "\n",
       "    .dataframe tbody tr th {\n",
       "        vertical-align: top;\n",
       "    }\n",
       "\n",
       "    .dataframe thead th {\n",
       "        text-align: right;\n",
       "    }\n",
       "</style>\n",
       "<table border=\"1\" class=\"dataframe\">\n",
       "  <thead>\n",
       "    <tr style=\"text-align: right;\">\n",
       "      <th></th>\n",
       "      <th>name</th>\n",
       "      <th>platform</th>\n",
       "      <th>year_of_release</th>\n",
       "      <th>genre</th>\n",
       "      <th>na_sales</th>\n",
       "      <th>eu_sales</th>\n",
       "      <th>jp_sales</th>\n",
       "      <th>other_sales</th>\n",
       "      <th>critic_score</th>\n",
       "      <th>user_score</th>\n",
       "      <th>rating</th>\n",
       "    </tr>\n",
       "  </thead>\n",
       "  <tbody>\n",
       "    <tr>\n",
       "      <td>0</td>\n",
       "      <td>Wii Sports</td>\n",
       "      <td>Wii</td>\n",
       "      <td>2006.0</td>\n",
       "      <td>Sports</td>\n",
       "      <td>41.36</td>\n",
       "      <td>28.96</td>\n",
       "      <td>3.77</td>\n",
       "      <td>8.45</td>\n",
       "      <td>76.0</td>\n",
       "      <td>8</td>\n",
       "      <td>E</td>\n",
       "    </tr>\n",
       "    <tr>\n",
       "      <td>1</td>\n",
       "      <td>Super Mario Bros.</td>\n",
       "      <td>NES</td>\n",
       "      <td>1985.0</td>\n",
       "      <td>Platform</td>\n",
       "      <td>29.08</td>\n",
       "      <td>3.58</td>\n",
       "      <td>6.81</td>\n",
       "      <td>0.77</td>\n",
       "      <td>NaN</td>\n",
       "      <td>NaN</td>\n",
       "      <td>NaN</td>\n",
       "    </tr>\n",
       "    <tr>\n",
       "      <td>2</td>\n",
       "      <td>Mario Kart Wii</td>\n",
       "      <td>Wii</td>\n",
       "      <td>2008.0</td>\n",
       "      <td>Racing</td>\n",
       "      <td>15.68</td>\n",
       "      <td>12.76</td>\n",
       "      <td>3.79</td>\n",
       "      <td>3.29</td>\n",
       "      <td>82.0</td>\n",
       "      <td>8.3</td>\n",
       "      <td>E</td>\n",
       "    </tr>\n",
       "    <tr>\n",
       "      <td>3</td>\n",
       "      <td>Wii Sports Resort</td>\n",
       "      <td>Wii</td>\n",
       "      <td>2009.0</td>\n",
       "      <td>Sports</td>\n",
       "      <td>15.61</td>\n",
       "      <td>10.93</td>\n",
       "      <td>3.28</td>\n",
       "      <td>2.95</td>\n",
       "      <td>80.0</td>\n",
       "      <td>8</td>\n",
       "      <td>E</td>\n",
       "    </tr>\n",
       "    <tr>\n",
       "      <td>4</td>\n",
       "      <td>Pokemon Red/Pokemon Blue</td>\n",
       "      <td>GB</td>\n",
       "      <td>1996.0</td>\n",
       "      <td>Role-Playing</td>\n",
       "      <td>11.27</td>\n",
       "      <td>8.89</td>\n",
       "      <td>10.22</td>\n",
       "      <td>1.00</td>\n",
       "      <td>NaN</td>\n",
       "      <td>NaN</td>\n",
       "      <td>NaN</td>\n",
       "    </tr>\n",
       "  </tbody>\n",
       "</table>\n",
       "</div>"
      ],
      "text/plain": [
       "                       name platform  year_of_release         genre  na_sales  \\\n",
       "0                Wii Sports      Wii           2006.0        Sports     41.36   \n",
       "1         Super Mario Bros.      NES           1985.0      Platform     29.08   \n",
       "2            Mario Kart Wii      Wii           2008.0        Racing     15.68   \n",
       "3         Wii Sports Resort      Wii           2009.0        Sports     15.61   \n",
       "4  Pokemon Red/Pokemon Blue       GB           1996.0  Role-Playing     11.27   \n",
       "\n",
       "   eu_sales  jp_sales  other_sales  critic_score user_score rating  \n",
       "0     28.96      3.77         8.45          76.0          8      E  \n",
       "1      3.58      6.81         0.77           NaN        NaN    NaN  \n",
       "2     12.76      3.79         3.29          82.0        8.3      E  \n",
       "3     10.93      3.28         2.95          80.0          8      E  \n",
       "4      8.89     10.22         1.00           NaN        NaN    NaN  "
      ]
     },
     "metadata": {},
     "output_type": "display_data"
    }
   ],
   "source": [
    "data.columns = data.columns.str.lower()\n",
    "display(data.head())"
   ]
  },
  {
   "cell_type": "code",
   "execution_count": 5,
   "id": "af93f612",
   "metadata": {},
   "outputs": [
    {
     "data": {
      "text/html": [
       "<div>\n",
       "<style scoped>\n",
       "    .dataframe tbody tr th:only-of-type {\n",
       "        vertical-align: middle;\n",
       "    }\n",
       "\n",
       "    .dataframe tbody tr th {\n",
       "        vertical-align: top;\n",
       "    }\n",
       "\n",
       "    .dataframe thead th {\n",
       "        text-align: right;\n",
       "    }\n",
       "</style>\n",
       "<table border=\"1\" class=\"dataframe\">\n",
       "  <thead>\n",
       "    <tr style=\"text-align: right;\">\n",
       "      <th></th>\n",
       "      <th>name</th>\n",
       "      <th>platform</th>\n",
       "      <th>year_of_release</th>\n",
       "      <th>genre</th>\n",
       "      <th>na_sales</th>\n",
       "      <th>eu_sales</th>\n",
       "      <th>jp_sales</th>\n",
       "      <th>other_sales</th>\n",
       "      <th>critic_score</th>\n",
       "      <th>user_score</th>\n",
       "      <th>rating</th>\n",
       "    </tr>\n",
       "  </thead>\n",
       "  <tbody>\n",
       "    <tr>\n",
       "      <td>16708</td>\n",
       "      <td>Samurai Warriors: Sanada Maru</td>\n",
       "      <td>PS3</td>\n",
       "      <td>2016.0</td>\n",
       "      <td>Action</td>\n",
       "      <td>0.00</td>\n",
       "      <td>0.00</td>\n",
       "      <td>0.01</td>\n",
       "      <td>0.0</td>\n",
       "      <td>NaN</td>\n",
       "      <td>NaN</td>\n",
       "      <td>NaN</td>\n",
       "    </tr>\n",
       "    <tr>\n",
       "      <td>16709</td>\n",
       "      <td>LMA Manager 2007</td>\n",
       "      <td>X360</td>\n",
       "      <td>2006.0</td>\n",
       "      <td>Sports</td>\n",
       "      <td>0.00</td>\n",
       "      <td>0.01</td>\n",
       "      <td>0.00</td>\n",
       "      <td>0.0</td>\n",
       "      <td>NaN</td>\n",
       "      <td>NaN</td>\n",
       "      <td>NaN</td>\n",
       "    </tr>\n",
       "    <tr>\n",
       "      <td>16710</td>\n",
       "      <td>Haitaka no Psychedelica</td>\n",
       "      <td>PSV</td>\n",
       "      <td>2016.0</td>\n",
       "      <td>Adventure</td>\n",
       "      <td>0.00</td>\n",
       "      <td>0.00</td>\n",
       "      <td>0.01</td>\n",
       "      <td>0.0</td>\n",
       "      <td>NaN</td>\n",
       "      <td>NaN</td>\n",
       "      <td>NaN</td>\n",
       "    </tr>\n",
       "    <tr>\n",
       "      <td>16711</td>\n",
       "      <td>Spirits &amp; Spells</td>\n",
       "      <td>GBA</td>\n",
       "      <td>2003.0</td>\n",
       "      <td>Platform</td>\n",
       "      <td>0.01</td>\n",
       "      <td>0.00</td>\n",
       "      <td>0.00</td>\n",
       "      <td>0.0</td>\n",
       "      <td>NaN</td>\n",
       "      <td>NaN</td>\n",
       "      <td>NaN</td>\n",
       "    </tr>\n",
       "    <tr>\n",
       "      <td>16712</td>\n",
       "      <td>Winning Post 8 2016</td>\n",
       "      <td>PSV</td>\n",
       "      <td>2016.0</td>\n",
       "      <td>Simulation</td>\n",
       "      <td>0.00</td>\n",
       "      <td>0.00</td>\n",
       "      <td>0.01</td>\n",
       "      <td>0.0</td>\n",
       "      <td>NaN</td>\n",
       "      <td>NaN</td>\n",
       "      <td>NaN</td>\n",
       "    </tr>\n",
       "  </tbody>\n",
       "</table>\n",
       "</div>"
      ],
      "text/plain": [
       "                                name platform  year_of_release       genre  \\\n",
       "16708  Samurai Warriors: Sanada Maru      PS3           2016.0      Action   \n",
       "16709               LMA Manager 2007     X360           2006.0      Sports   \n",
       "16710        Haitaka no Psychedelica      PSV           2016.0   Adventure   \n",
       "16711               Spirits & Spells      GBA           2003.0    Platform   \n",
       "16712            Winning Post 8 2016      PSV           2016.0  Simulation   \n",
       "\n",
       "       na_sales  eu_sales  jp_sales  other_sales  critic_score user_score  \\\n",
       "16708      0.00      0.00      0.01          0.0           NaN        NaN   \n",
       "16709      0.00      0.01      0.00          0.0           NaN        NaN   \n",
       "16710      0.00      0.00      0.01          0.0           NaN        NaN   \n",
       "16711      0.01      0.00      0.00          0.0           NaN        NaN   \n",
       "16712      0.00      0.00      0.01          0.0           NaN        NaN   \n",
       "\n",
       "      rating  \n",
       "16708    NaN  \n",
       "16709    NaN  \n",
       "16710    NaN  \n",
       "16711    NaN  \n",
       "16712    NaN  "
      ]
     },
     "metadata": {},
     "output_type": "display_data"
    }
   ],
   "source": [
    "data.dropna(subset=['name', 'genre'], inplace=True)\n",
    "data.reset_index(drop=True, inplace=True)\n",
    "display(data.tail())\n"
   ]
  },
  {
   "cell_type": "markdown",
   "id": "85f705db",
   "metadata": {},
   "source": [
    "В столбце Имя и Жанр удалил 2 строки с пустыми значениями. Это незначительная инфомрация"
   ]
  },
  {
   "cell_type": "code",
   "execution_count": 6,
   "id": "41222d73",
   "metadata": {
    "scrolled": true
   },
   "outputs": [
    {
     "data": {
      "text/html": [
       "<div>\n",
       "<style scoped>\n",
       "    .dataframe tbody tr th:only-of-type {\n",
       "        vertical-align: middle;\n",
       "    }\n",
       "\n",
       "    .dataframe tbody tr th {\n",
       "        vertical-align: top;\n",
       "    }\n",
       "\n",
       "    .dataframe thead th {\n",
       "        text-align: right;\n",
       "    }\n",
       "</style>\n",
       "<table border=\"1\" class=\"dataframe\">\n",
       "  <thead>\n",
       "    <tr style=\"text-align: right;\">\n",
       "      <th></th>\n",
       "      <th>name</th>\n",
       "      <th>platform</th>\n",
       "      <th>year_of_release</th>\n",
       "      <th>genre</th>\n",
       "      <th>na_sales</th>\n",
       "      <th>eu_sales</th>\n",
       "      <th>jp_sales</th>\n",
       "      <th>other_sales</th>\n",
       "      <th>critic_score</th>\n",
       "      <th>user_score</th>\n",
       "      <th>rating</th>\n",
       "    </tr>\n",
       "  </thead>\n",
       "  <tbody>\n",
       "    <tr>\n",
       "      <td>0</td>\n",
       "      <td>Wii Sports</td>\n",
       "      <td>Wii</td>\n",
       "      <td>2006</td>\n",
       "      <td>Sports</td>\n",
       "      <td>41.36</td>\n",
       "      <td>28.96</td>\n",
       "      <td>3.77</td>\n",
       "      <td>8.45</td>\n",
       "      <td>76.0</td>\n",
       "      <td>8</td>\n",
       "      <td>E</td>\n",
       "    </tr>\n",
       "    <tr>\n",
       "      <td>1</td>\n",
       "      <td>Super Mario Bros.</td>\n",
       "      <td>NES</td>\n",
       "      <td>1985</td>\n",
       "      <td>Platform</td>\n",
       "      <td>29.08</td>\n",
       "      <td>3.58</td>\n",
       "      <td>6.81</td>\n",
       "      <td>0.77</td>\n",
       "      <td>NaN</td>\n",
       "      <td>NaN</td>\n",
       "      <td>NaN</td>\n",
       "    </tr>\n",
       "    <tr>\n",
       "      <td>2</td>\n",
       "      <td>Mario Kart Wii</td>\n",
       "      <td>Wii</td>\n",
       "      <td>2008</td>\n",
       "      <td>Racing</td>\n",
       "      <td>15.68</td>\n",
       "      <td>12.76</td>\n",
       "      <td>3.79</td>\n",
       "      <td>3.29</td>\n",
       "      <td>82.0</td>\n",
       "      <td>8.3</td>\n",
       "      <td>E</td>\n",
       "    </tr>\n",
       "    <tr>\n",
       "      <td>3</td>\n",
       "      <td>Wii Sports Resort</td>\n",
       "      <td>Wii</td>\n",
       "      <td>2009</td>\n",
       "      <td>Sports</td>\n",
       "      <td>15.61</td>\n",
       "      <td>10.93</td>\n",
       "      <td>3.28</td>\n",
       "      <td>2.95</td>\n",
       "      <td>80.0</td>\n",
       "      <td>8</td>\n",
       "      <td>E</td>\n",
       "    </tr>\n",
       "    <tr>\n",
       "      <td>4</td>\n",
       "      <td>Pokemon Red/Pokemon Blue</td>\n",
       "      <td>GB</td>\n",
       "      <td>1996</td>\n",
       "      <td>Role-Playing</td>\n",
       "      <td>11.27</td>\n",
       "      <td>8.89</td>\n",
       "      <td>10.22</td>\n",
       "      <td>1.00</td>\n",
       "      <td>NaN</td>\n",
       "      <td>NaN</td>\n",
       "      <td>NaN</td>\n",
       "    </tr>\n",
       "  </tbody>\n",
       "</table>\n",
       "</div>"
      ],
      "text/plain": [
       "                       name platform  year_of_release         genre  na_sales  \\\n",
       "0                Wii Sports      Wii             2006        Sports     41.36   \n",
       "1         Super Mario Bros.      NES             1985      Platform     29.08   \n",
       "2            Mario Kart Wii      Wii             2008        Racing     15.68   \n",
       "3         Wii Sports Resort      Wii             2009        Sports     15.61   \n",
       "4  Pokemon Red/Pokemon Blue       GB             1996  Role-Playing     11.27   \n",
       "\n",
       "   eu_sales  jp_sales  other_sales  critic_score user_score rating  \n",
       "0     28.96      3.77         8.45          76.0          8      E  \n",
       "1      3.58      6.81         0.77           NaN        NaN    NaN  \n",
       "2     12.76      3.79         3.29          82.0        8.3      E  \n",
       "3     10.93      3.28         2.95          80.0          8      E  \n",
       "4      8.89     10.22         1.00           NaN        NaN    NaN  "
      ]
     },
     "metadata": {},
     "output_type": "display_data"
    }
   ],
   "source": [
    "data['year_of_release'] = pd.to_numeric(data['year_of_release'], errors='coerce').astype('Int64')\n",
    "display(data.head())"
   ]
  },
  {
   "cell_type": "code",
   "execution_count": 7,
   "id": "c8d73a8d",
   "metadata": {},
   "outputs": [
    {
     "data": {
      "image/png": "[encoded data removed]",
      "text/plain": [
       "<Figure size 432x288 with 1 Axes>"
      ]
     },
     "metadata": {
      "needs_background": "light"
     },
     "output_type": "display_data"
    }
   ],
   "source": [
    "data['critic_score'].hist(bins=100);"
   ]
  },
  {
   "cell_type": "code",
   "execution_count": 8,
   "id": "099db968",
   "metadata": {},
   "outputs": [
    {
     "data": {
      "text/html": [
       "<div>\n",
       "<style scoped>\n",
       "    .dataframe tbody tr th:only-of-type {\n",
       "        vertical-align: middle;\n",
       "    }\n",
       "\n",
       "    .dataframe tbody tr th {\n",
       "        vertical-align: top;\n",
       "    }\n",
       "\n",
       "    .dataframe thead th {\n",
       "        text-align: right;\n",
       "    }\n",
       "</style>\n",
       "<table border=\"1\" class=\"dataframe\">\n",
       "  <thead>\n",
       "    <tr style=\"text-align: right;\">\n",
       "      <th></th>\n",
       "      <th>name</th>\n",
       "      <th>platform</th>\n",
       "      <th>year_of_release</th>\n",
       "      <th>genre</th>\n",
       "      <th>na_sales</th>\n",
       "      <th>eu_sales</th>\n",
       "      <th>jp_sales</th>\n",
       "      <th>other_sales</th>\n",
       "      <th>critic_score</th>\n",
       "      <th>user_score</th>\n",
       "      <th>rating</th>\n",
       "    </tr>\n",
       "  </thead>\n",
       "  <tbody>\n",
       "    <tr>\n",
       "      <td>0</td>\n",
       "      <td>Wii Sports</td>\n",
       "      <td>Wii</td>\n",
       "      <td>2006</td>\n",
       "      <td>Sports</td>\n",
       "      <td>41.36</td>\n",
       "      <td>28.96</td>\n",
       "      <td>3.77</td>\n",
       "      <td>8.45</td>\n",
       "      <td>76</td>\n",
       "      <td>8</td>\n",
       "      <td>E</td>\n",
       "    </tr>\n",
       "    <tr>\n",
       "      <td>1</td>\n",
       "      <td>Super Mario Bros.</td>\n",
       "      <td>NES</td>\n",
       "      <td>1985</td>\n",
       "      <td>Platform</td>\n",
       "      <td>29.08</td>\n",
       "      <td>3.58</td>\n",
       "      <td>6.81</td>\n",
       "      <td>0.77</td>\n",
       "      <td>NaN</td>\n",
       "      <td>NaN</td>\n",
       "      <td>NaN</td>\n",
       "    </tr>\n",
       "    <tr>\n",
       "      <td>2</td>\n",
       "      <td>Mario Kart Wii</td>\n",
       "      <td>Wii</td>\n",
       "      <td>2008</td>\n",
       "      <td>Racing</td>\n",
       "      <td>15.68</td>\n",
       "      <td>12.76</td>\n",
       "      <td>3.79</td>\n",
       "      <td>3.29</td>\n",
       "      <td>82</td>\n",
       "      <td>8.3</td>\n",
       "      <td>E</td>\n",
       "    </tr>\n",
       "    <tr>\n",
       "      <td>3</td>\n",
       "      <td>Wii Sports Resort</td>\n",
       "      <td>Wii</td>\n",
       "      <td>2009</td>\n",
       "      <td>Sports</td>\n",
       "      <td>15.61</td>\n",
       "      <td>10.93</td>\n",
       "      <td>3.28</td>\n",
       "      <td>2.95</td>\n",
       "      <td>80</td>\n",
       "      <td>8</td>\n",
       "      <td>E</td>\n",
       "    </tr>\n",
       "    <tr>\n",
       "      <td>4</td>\n",
       "      <td>Pokemon Red/Pokemon Blue</td>\n",
       "      <td>GB</td>\n",
       "      <td>1996</td>\n",
       "      <td>Role-Playing</td>\n",
       "      <td>11.27</td>\n",
       "      <td>8.89</td>\n",
       "      <td>10.22</td>\n",
       "      <td>1.00</td>\n",
       "      <td>NaN</td>\n",
       "      <td>NaN</td>\n",
       "      <td>NaN</td>\n",
       "    </tr>\n",
       "  </tbody>\n",
       "</table>\n",
       "</div>"
      ],
      "text/plain": [
       "                       name platform  year_of_release         genre  na_sales  \\\n",
       "0                Wii Sports      Wii             2006        Sports     41.36   \n",
       "1         Super Mario Bros.      NES             1985      Platform     29.08   \n",
       "2            Mario Kart Wii      Wii             2008        Racing     15.68   \n",
       "3         Wii Sports Resort      Wii             2009        Sports     15.61   \n",
       "4  Pokemon Red/Pokemon Blue       GB             1996  Role-Playing     11.27   \n",
       "\n",
       "   eu_sales  jp_sales  other_sales  critic_score user_score rating  \n",
       "0     28.96      3.77         8.45            76          8      E  \n",
       "1      3.58      6.81         0.77           NaN        NaN    NaN  \n",
       "2     12.76      3.79         3.29            82        8.3      E  \n",
       "3     10.93      3.28         2.95            80          8      E  \n",
       "4      8.89     10.22         1.00           NaN        NaN    NaN  "
      ]
     },
     "metadata": {},
     "output_type": "display_data"
    }
   ],
   "source": [
    "data['critic_score'] = pd.to_numeric(data['critic_score'], errors='coerce').astype('Int64')\n",
    "display(data.head())"
   ]
  },
  {
   "cell_type": "markdown",
   "id": "2374899a",
   "metadata": {},
   "source": [
    "Столбец 'critic_score' пропущены значения но думаю, что критики просто не дали свою оценку, диапозон нормальный, пропущенные значения пока не заполняю"
   ]
  },
  {
   "cell_type": "code",
   "execution_count": 9,
   "id": "1c0634d7",
   "metadata": {
    "scrolled": false
   },
   "outputs": [
    {
     "name": "stdout",
     "output_type": "stream",
     "text": [
      "<class 'pandas.core.frame.DataFrame'>\n",
      "RangeIndex: 16713 entries, 0 to 16712\n",
      "Data columns (total 11 columns):\n",
      "name               16713 non-null object\n",
      "platform           16713 non-null object\n",
      "year_of_release    16444 non-null Int64\n",
      "genre              16713 non-null object\n",
      "na_sales           16713 non-null float64\n",
      "eu_sales           16713 non-null float64\n",
      "jp_sales           16713 non-null float64\n",
      "other_sales        16713 non-null float64\n",
      "critic_score       8137 non-null Int64\n",
      "user_score         7590 non-null float64\n",
      "rating             9949 non-null object\n",
      "dtypes: Int64(2), float64(5), object(4)\n",
      "memory usage: 1.4+ MB\n"
     ]
    },
    {
     "data": {
      "image/png": "[encoded data removed]",
      "text/plain": [
       "<Figure size 432x288 with 1 Axes>"
      ]
     },
     "metadata": {
      "needs_background": "light"
     },
     "output_type": "display_data"
    }
   ],
   "source": [
    "data['user_score'] = pd.to_numeric(data['user_score'], errors='coerce').astype('float64')\n",
    "data['user_score'].hist(bins=100);\n",
    "data.info()"
   ]
  },
  {
   "cell_type": "markdown",
   "id": "d203816b",
   "metadata": {},
   "source": [
    "Столбец 'user_score' пропущены значения но думаю, что пользователи просто не дали свою оценку, диапозон нормальный, пропущенные значения пока не заполняю\n",
    "\n",
    "Значения tbd стали значениями NAN"
   ]
  },
  {
   "cell_type": "code",
   "execution_count": 10,
   "id": "72ea9834",
   "metadata": {},
   "outputs": [
    {
     "data": {
      "text/html": [
       "<div>\n",
       "<style scoped>\n",
       "    .dataframe tbody tr th:only-of-type {\n",
       "        vertical-align: middle;\n",
       "    }\n",
       "\n",
       "    .dataframe tbody tr th {\n",
       "        vertical-align: top;\n",
       "    }\n",
       "\n",
       "    .dataframe thead th {\n",
       "        text-align: right;\n",
       "    }\n",
       "</style>\n",
       "<table border=\"1\" class=\"dataframe\">\n",
       "  <thead>\n",
       "    <tr style=\"text-align: right;\">\n",
       "      <th></th>\n",
       "      <th>name</th>\n",
       "      <th>rating</th>\n",
       "    </tr>\n",
       "  </thead>\n",
       "  <tbody>\n",
       "    <tr>\n",
       "      <td>6229</td>\n",
       "      <td>de Blob 2</td>\n",
       "      <td>E10+</td>\n",
       "    </tr>\n",
       "    <tr>\n",
       "      <td>6183</td>\n",
       "      <td>Ys: The Ark of Napishtim</td>\n",
       "      <td>E10+</td>\n",
       "    </tr>\n",
       "    <tr>\n",
       "      <td>6176</td>\n",
       "      <td>Young Justice: Legacy</td>\n",
       "      <td>T</td>\n",
       "    </tr>\n",
       "    <tr>\n",
       "      <td>6151</td>\n",
       "      <td>Xiaolin Showdown</td>\n",
       "      <td>E</td>\n",
       "    </tr>\n",
       "    <tr>\n",
       "      <td>6134</td>\n",
       "      <td>X2: Wolverine's Revenge</td>\n",
       "      <td>T</td>\n",
       "    </tr>\n",
       "    <tr>\n",
       "      <td>...</td>\n",
       "      <td>...</td>\n",
       "      <td>...</td>\n",
       "    </tr>\n",
       "    <tr>\n",
       "      <td>390</td>\n",
       "      <td>Batman: Rise of Sin Tzu</td>\n",
       "      <td>T</td>\n",
       "    </tr>\n",
       "    <tr>\n",
       "      <td>379</td>\n",
       "      <td>Batman Begins</td>\n",
       "      <td>T</td>\n",
       "    </tr>\n",
       "    <tr>\n",
       "      <td>368</td>\n",
       "      <td>Barnyard</td>\n",
       "      <td>E10+</td>\n",
       "    </tr>\n",
       "    <tr>\n",
       "      <td>314</td>\n",
       "      <td>Avatar: The Last Airbender</td>\n",
       "      <td>E10+</td>\n",
       "    </tr>\n",
       "    <tr>\n",
       "      <td>291</td>\n",
       "      <td>Astro Boy: The Video Game</td>\n",
       "      <td>E10+</td>\n",
       "    </tr>\n",
       "  </tbody>\n",
       "</table>\n",
       "<p>173 rows × 2 columns</p>\n",
       "</div>"
      ],
      "text/plain": [
       "                            name rating\n",
       "6229                   de Blob 2   E10+\n",
       "6183    Ys: The Ark of Napishtim   E10+\n",
       "6176       Young Justice: Legacy      T\n",
       "6151            Xiaolin Showdown      E\n",
       "6134     X2: Wolverine's Revenge      T\n",
       "...                          ...    ...\n",
       "390      Batman: Rise of Sin Tzu      T\n",
       "379                Batman Begins      T\n",
       "368                     Barnyard   E10+\n",
       "314   Avatar: The Last Airbender   E10+\n",
       "291    Astro Boy: The Video Game   E10+\n",
       "\n",
       "[173 rows x 2 columns]"
      ]
     },
     "metadata": {},
     "output_type": "display_data"
    }
   ],
   "source": [
    "# создал сводную таблци по игре и рейтингу\n",
    "data_raiting_new = data.pivot_table(index=['name', 'rating'], values='na_sales', aggfunc='count').reset_index()\n",
    "# нахожу строки с дублирующим значением игры, т.е игре присвоены 2 рейтинга, такого не может быть \n",
    "data_raiting_dublicated = data_raiting_new.query('name.duplicated(keep=False)')\n",
    "#сортирую игры по количеству и по убыванию\n",
    "data_raiting_dublicated_sort = data_raiting_dublicated.sort_values(by=['name','na_sales'], ascending=False)\n",
    "# удаляю игры с рейтингом, которые меньше по значению\n",
    "data_raiting_without_dubl = data_raiting_dublicated_sort.drop_duplicates(subset='name', keep='first')\n",
    "del data_raiting_without_dubl['na_sales']\n",
    "#получаю дополнительную таблицу с рейтингом игр у которых ранее были дублирующие значения\n",
    "display(data_raiting_without_dubl)"
   ]
  },
  {
   "cell_type": "code",
   "execution_count": 11,
   "id": "a3ec38c3",
   "metadata": {
    "scrolled": true
   },
   "outputs": [
    {
     "data": {
      "text/html": [
       "<div>\n",
       "<style scoped>\n",
       "    .dataframe tbody tr th:only-of-type {\n",
       "        vertical-align: middle;\n",
       "    }\n",
       "\n",
       "    .dataframe tbody tr th {\n",
       "        vertical-align: top;\n",
       "    }\n",
       "\n",
       "    .dataframe thead th {\n",
       "        text-align: right;\n",
       "    }\n",
       "</style>\n",
       "<table border=\"1\" class=\"dataframe\">\n",
       "  <thead>\n",
       "    <tr style=\"text-align: right;\">\n",
       "      <th></th>\n",
       "      <th>name</th>\n",
       "      <th>platform</th>\n",
       "      <th>year_of_release</th>\n",
       "      <th>genre</th>\n",
       "      <th>na_sales</th>\n",
       "      <th>eu_sales</th>\n",
       "      <th>jp_sales</th>\n",
       "      <th>other_sales</th>\n",
       "      <th>critic_score</th>\n",
       "      <th>user_score</th>\n",
       "      <th>rating_x</th>\n",
       "      <th>rating_y</th>\n",
       "    </tr>\n",
       "  </thead>\n",
       "  <tbody>\n",
       "    <tr>\n",
       "      <td>0</td>\n",
       "      <td>Wii Sports</td>\n",
       "      <td>Wii</td>\n",
       "      <td>2006</td>\n",
       "      <td>Sports</td>\n",
       "      <td>41.36</td>\n",
       "      <td>28.96</td>\n",
       "      <td>3.77</td>\n",
       "      <td>8.45</td>\n",
       "      <td>76</td>\n",
       "      <td>8.0</td>\n",
       "      <td>E</td>\n",
       "      <td>NaN</td>\n",
       "    </tr>\n",
       "    <tr>\n",
       "      <td>1</td>\n",
       "      <td>Super Mario Bros.</td>\n",
       "      <td>NES</td>\n",
       "      <td>1985</td>\n",
       "      <td>Platform</td>\n",
       "      <td>29.08</td>\n",
       "      <td>3.58</td>\n",
       "      <td>6.81</td>\n",
       "      <td>0.77</td>\n",
       "      <td>NaN</td>\n",
       "      <td>NaN</td>\n",
       "      <td>NaN</td>\n",
       "      <td>NaN</td>\n",
       "    </tr>\n",
       "    <tr>\n",
       "      <td>2</td>\n",
       "      <td>Mario Kart Wii</td>\n",
       "      <td>Wii</td>\n",
       "      <td>2008</td>\n",
       "      <td>Racing</td>\n",
       "      <td>15.68</td>\n",
       "      <td>12.76</td>\n",
       "      <td>3.79</td>\n",
       "      <td>3.29</td>\n",
       "      <td>82</td>\n",
       "      <td>8.3</td>\n",
       "      <td>E</td>\n",
       "      <td>NaN</td>\n",
       "    </tr>\n",
       "    <tr>\n",
       "      <td>3</td>\n",
       "      <td>Wii Sports Resort</td>\n",
       "      <td>Wii</td>\n",
       "      <td>2009</td>\n",
       "      <td>Sports</td>\n",
       "      <td>15.61</td>\n",
       "      <td>10.93</td>\n",
       "      <td>3.28</td>\n",
       "      <td>2.95</td>\n",
       "      <td>80</td>\n",
       "      <td>8.0</td>\n",
       "      <td>E</td>\n",
       "      <td>NaN</td>\n",
       "    </tr>\n",
       "    <tr>\n",
       "      <td>4</td>\n",
       "      <td>Pokemon Red/Pokemon Blue</td>\n",
       "      <td>GB</td>\n",
       "      <td>1996</td>\n",
       "      <td>Role-Playing</td>\n",
       "      <td>11.27</td>\n",
       "      <td>8.89</td>\n",
       "      <td>10.22</td>\n",
       "      <td>1.00</td>\n",
       "      <td>NaN</td>\n",
       "      <td>NaN</td>\n",
       "      <td>NaN</td>\n",
       "      <td>NaN</td>\n",
       "    </tr>\n",
       "  </tbody>\n",
       "</table>\n",
       "</div>"
      ],
      "text/plain": [
       "                       name platform  year_of_release         genre  na_sales  \\\n",
       "0                Wii Sports      Wii             2006        Sports     41.36   \n",
       "1         Super Mario Bros.      NES             1985      Platform     29.08   \n",
       "2            Mario Kart Wii      Wii             2008        Racing     15.68   \n",
       "3         Wii Sports Resort      Wii             2009        Sports     15.61   \n",
       "4  Pokemon Red/Pokemon Blue       GB             1996  Role-Playing     11.27   \n",
       "\n",
       "   eu_sales  jp_sales  other_sales  critic_score  user_score rating_x rating_y  \n",
       "0     28.96      3.77         8.45            76         8.0        E      NaN  \n",
       "1      3.58      6.81         0.77           NaN         NaN      NaN      NaN  \n",
       "2     12.76      3.79         3.29            82         8.3        E      NaN  \n",
       "3     10.93      3.28         2.95            80         8.0        E      NaN  \n",
       "4      8.89     10.22         1.00           NaN         NaN      NaN      NaN  "
      ]
     },
     "metadata": {},
     "output_type": "display_data"
    }
   ],
   "source": [
    "# в основную таблицу добавляю таблицу с новым рейтингом который не дублируется\n",
    "data_new = data.merge(data_raiting_without_dubl, on='name', how='left')\n",
    "# у меня получается возможность 5-ти вариатнов, вкратце примерно выглядит так:\n",
    "# rating_x           rating_y\n",
    "# E                  E\n",
    "# NAN                NAN\n",
    "# E                  NAN\n",
    "# NAN                E\n",
    "# E                  М\n",
    "# Применяю where если rating_y == NAN, ставлю значение rating_x\n",
    "# Также дополнительно заполнятся значение rating_x == NAN. \n",
    "data_new['rating_x'] = np.where(data_new['rating_y'].isna(), data_new['rating_x'], data_new['rating_y'])\n",
    "display(data_new.head())\n"
   ]
  },
  {
   "cell_type": "code",
   "execution_count": 12,
   "id": "ac3c4e7a",
   "metadata": {
    "scrolled": true
   },
   "outputs": [
    {
     "data": {
      "text/html": [
       "<div>\n",
       "<style scoped>\n",
       "    .dataframe tbody tr th:only-of-type {\n",
       "        vertical-align: middle;\n",
       "    }\n",
       "\n",
       "    .dataframe tbody tr th {\n",
       "        vertical-align: top;\n",
       "    }\n",
       "\n",
       "    .dataframe thead th {\n",
       "        text-align: right;\n",
       "    }\n",
       "</style>\n",
       "<table border=\"1\" class=\"dataframe\">\n",
       "  <thead>\n",
       "    <tr style=\"text-align: right;\">\n",
       "      <th></th>\n",
       "      <th>name</th>\n",
       "      <th>platform</th>\n",
       "      <th>year_of_release</th>\n",
       "      <th>genre</th>\n",
       "      <th>na_sales</th>\n",
       "      <th>eu_sales</th>\n",
       "      <th>jp_sales</th>\n",
       "      <th>other_sales</th>\n",
       "      <th>critic_score</th>\n",
       "      <th>user_score</th>\n",
       "      <th>rating</th>\n",
       "    </tr>\n",
       "  </thead>\n",
       "  <tbody>\n",
       "    <tr>\n",
       "      <td>0</td>\n",
       "      <td>Wii Sports</td>\n",
       "      <td>Wii</td>\n",
       "      <td>2006</td>\n",
       "      <td>Sports</td>\n",
       "      <td>41.36</td>\n",
       "      <td>28.96</td>\n",
       "      <td>3.77</td>\n",
       "      <td>8.45</td>\n",
       "      <td>76</td>\n",
       "      <td>8.0</td>\n",
       "      <td>E</td>\n",
       "    </tr>\n",
       "    <tr>\n",
       "      <td>1</td>\n",
       "      <td>Super Mario Bros.</td>\n",
       "      <td>NES</td>\n",
       "      <td>1985</td>\n",
       "      <td>Platform</td>\n",
       "      <td>29.08</td>\n",
       "      <td>3.58</td>\n",
       "      <td>6.81</td>\n",
       "      <td>0.77</td>\n",
       "      <td>NaN</td>\n",
       "      <td>NaN</td>\n",
       "      <td>NaN</td>\n",
       "    </tr>\n",
       "    <tr>\n",
       "      <td>2</td>\n",
       "      <td>Mario Kart Wii</td>\n",
       "      <td>Wii</td>\n",
       "      <td>2008</td>\n",
       "      <td>Racing</td>\n",
       "      <td>15.68</td>\n",
       "      <td>12.76</td>\n",
       "      <td>3.79</td>\n",
       "      <td>3.29</td>\n",
       "      <td>82</td>\n",
       "      <td>8.3</td>\n",
       "      <td>E</td>\n",
       "    </tr>\n",
       "    <tr>\n",
       "      <td>3</td>\n",
       "      <td>Wii Sports Resort</td>\n",
       "      <td>Wii</td>\n",
       "      <td>2009</td>\n",
       "      <td>Sports</td>\n",
       "      <td>15.61</td>\n",
       "      <td>10.93</td>\n",
       "      <td>3.28</td>\n",
       "      <td>2.95</td>\n",
       "      <td>80</td>\n",
       "      <td>8.0</td>\n",
       "      <td>E</td>\n",
       "    </tr>\n",
       "    <tr>\n",
       "      <td>4</td>\n",
       "      <td>Pokemon Red/Pokemon Blue</td>\n",
       "      <td>GB</td>\n",
       "      <td>1996</td>\n",
       "      <td>Role-Playing</td>\n",
       "      <td>11.27</td>\n",
       "      <td>8.89</td>\n",
       "      <td>10.22</td>\n",
       "      <td>1.00</td>\n",
       "      <td>NaN</td>\n",
       "      <td>NaN</td>\n",
       "      <td>NaN</td>\n",
       "    </tr>\n",
       "  </tbody>\n",
       "</table>\n",
       "</div>"
      ],
      "text/plain": [
       "                       name platform  year_of_release         genre  na_sales  \\\n",
       "0                Wii Sports      Wii             2006        Sports     41.36   \n",
       "1         Super Mario Bros.      NES             1985      Platform     29.08   \n",
       "2            Mario Kart Wii      Wii             2008        Racing     15.68   \n",
       "3         Wii Sports Resort      Wii             2009        Sports     15.61   \n",
       "4  Pokemon Red/Pokemon Blue       GB             1996  Role-Playing     11.27   \n",
       "\n",
       "   eu_sales  jp_sales  other_sales  critic_score  user_score rating  \n",
       "0     28.96      3.77         8.45            76         8.0      E  \n",
       "1      3.58      6.81         0.77           NaN         NaN    NaN  \n",
       "2     12.76      3.79         3.29            82         8.3      E  \n",
       "3     10.93      3.28         2.95            80         8.0      E  \n",
       "4      8.89     10.22         1.00           NaN         NaN    NaN  "
      ]
     },
     "metadata": {},
     "output_type": "display_data"
    }
   ],
   "source": [
    "# Получаю итоговую таблицу\n",
    "del data_new['rating_y']\n",
    "data = data_new.rename(columns={\"rating_x\": \"rating\"})\n",
    "display(data.head())"
   ]
  },
  {
   "cell_type": "code",
   "execution_count": 13,
   "id": "cced6187",
   "metadata": {
    "scrolled": true
   },
   "outputs": [
    {
     "data": {
      "text/html": [
       "<div>\n",
       "<style scoped>\n",
       "    .dataframe tbody tr th:only-of-type {\n",
       "        vertical-align: middle;\n",
       "    }\n",
       "\n",
       "    .dataframe tbody tr th {\n",
       "        vertical-align: top;\n",
       "    }\n",
       "\n",
       "    .dataframe thead th {\n",
       "        text-align: right;\n",
       "    }\n",
       "</style>\n",
       "<table border=\"1\" class=\"dataframe\">\n",
       "  <thead>\n",
       "    <tr style=\"text-align: right;\">\n",
       "      <th></th>\n",
       "      <th>na_sales</th>\n",
       "    </tr>\n",
       "    <tr>\n",
       "      <th>rating</th>\n",
       "      <th></th>\n",
       "    </tr>\n",
       "  </thead>\n",
       "  <tbody>\n",
       "    <tr>\n",
       "      <td>E</td>\n",
       "      <td>3945</td>\n",
       "    </tr>\n",
       "    <tr>\n",
       "      <td>E10+</td>\n",
       "      <td>1442</td>\n",
       "    </tr>\n",
       "    <tr>\n",
       "      <td>EC</td>\n",
       "      <td>8</td>\n",
       "    </tr>\n",
       "    <tr>\n",
       "      <td>M</td>\n",
       "      <td>1582</td>\n",
       "    </tr>\n",
       "    <tr>\n",
       "      <td>RP</td>\n",
       "      <td>2</td>\n",
       "    </tr>\n",
       "    <tr>\n",
       "      <td>T</td>\n",
       "      <td>2991</td>\n",
       "    </tr>\n",
       "  </tbody>\n",
       "</table>\n",
       "</div>"
      ],
      "text/plain": [
       "        na_sales\n",
       "rating          \n",
       "E           3945\n",
       "E10+        1442\n",
       "EC             8\n",
       "M           1582\n",
       "RP             2\n",
       "T           2991"
      ]
     },
     "metadata": {},
     "output_type": "display_data"
    }
   ],
   "source": [
    "data['rating'] = np.where(data['rating'] == \"K-A\", \"E\", data['rating'])\n",
    "display(data.pivot_table(index='rating', values='na_sales', aggfunc='count'))"
   ]
  },
  {
   "cell_type": "code",
   "execution_count": 14,
   "id": "5b07201c",
   "metadata": {
    "scrolled": false
   },
   "outputs": [
    {
     "data": {
      "text/html": [
       "<div>\n",
       "<style scoped>\n",
       "    .dataframe tbody tr th:only-of-type {\n",
       "        vertical-align: middle;\n",
       "    }\n",
       "\n",
       "    .dataframe tbody tr th {\n",
       "        vertical-align: top;\n",
       "    }\n",
       "\n",
       "    .dataframe thead th {\n",
       "        text-align: right;\n",
       "    }\n",
       "</style>\n",
       "<table border=\"1\" class=\"dataframe\">\n",
       "  <thead>\n",
       "    <tr style=\"text-align: right;\">\n",
       "      <th></th>\n",
       "      <th>name</th>\n",
       "      <th>platform</th>\n",
       "      <th>year_of_release</th>\n",
       "      <th>genre</th>\n",
       "      <th>na_sales</th>\n",
       "      <th>eu_sales</th>\n",
       "      <th>jp_sales</th>\n",
       "      <th>other_sales</th>\n",
       "      <th>critic_score</th>\n",
       "      <th>user_score</th>\n",
       "      <th>rating</th>\n",
       "      <th>sum_sales</th>\n",
       "    </tr>\n",
       "  </thead>\n",
       "  <tbody>\n",
       "    <tr>\n",
       "      <td>0</td>\n",
       "      <td>Wii Sports</td>\n",
       "      <td>Wii</td>\n",
       "      <td>2006</td>\n",
       "      <td>Sports</td>\n",
       "      <td>41.36</td>\n",
       "      <td>28.96</td>\n",
       "      <td>3.77</td>\n",
       "      <td>8.45</td>\n",
       "      <td>76</td>\n",
       "      <td>8.0</td>\n",
       "      <td>E</td>\n",
       "      <td>82.54</td>\n",
       "    </tr>\n",
       "    <tr>\n",
       "      <td>1</td>\n",
       "      <td>Super Mario Bros.</td>\n",
       "      <td>NES</td>\n",
       "      <td>1985</td>\n",
       "      <td>Platform</td>\n",
       "      <td>29.08</td>\n",
       "      <td>3.58</td>\n",
       "      <td>6.81</td>\n",
       "      <td>0.77</td>\n",
       "      <td>NaN</td>\n",
       "      <td>NaN</td>\n",
       "      <td>NaN</td>\n",
       "      <td>40.24</td>\n",
       "    </tr>\n",
       "    <tr>\n",
       "      <td>2</td>\n",
       "      <td>Mario Kart Wii</td>\n",
       "      <td>Wii</td>\n",
       "      <td>2008</td>\n",
       "      <td>Racing</td>\n",
       "      <td>15.68</td>\n",
       "      <td>12.76</td>\n",
       "      <td>3.79</td>\n",
       "      <td>3.29</td>\n",
       "      <td>82</td>\n",
       "      <td>8.3</td>\n",
       "      <td>E</td>\n",
       "      <td>35.52</td>\n",
       "    </tr>\n",
       "    <tr>\n",
       "      <td>3</td>\n",
       "      <td>Wii Sports Resort</td>\n",
       "      <td>Wii</td>\n",
       "      <td>2009</td>\n",
       "      <td>Sports</td>\n",
       "      <td>15.61</td>\n",
       "      <td>10.93</td>\n",
       "      <td>3.28</td>\n",
       "      <td>2.95</td>\n",
       "      <td>80</td>\n",
       "      <td>8.0</td>\n",
       "      <td>E</td>\n",
       "      <td>32.77</td>\n",
       "    </tr>\n",
       "    <tr>\n",
       "      <td>4</td>\n",
       "      <td>Pokemon Red/Pokemon Blue</td>\n",
       "      <td>GB</td>\n",
       "      <td>1996</td>\n",
       "      <td>Role-Playing</td>\n",
       "      <td>11.27</td>\n",
       "      <td>8.89</td>\n",
       "      <td>10.22</td>\n",
       "      <td>1.00</td>\n",
       "      <td>NaN</td>\n",
       "      <td>NaN</td>\n",
       "      <td>NaN</td>\n",
       "      <td>31.38</td>\n",
       "    </tr>\n",
       "  </tbody>\n",
       "</table>\n",
       "</div>"
      ],
      "text/plain": [
       "                       name platform  year_of_release         genre  na_sales  \\\n",
       "0                Wii Sports      Wii             2006        Sports     41.36   \n",
       "1         Super Mario Bros.      NES             1985      Platform     29.08   \n",
       "2            Mario Kart Wii      Wii             2008        Racing     15.68   \n",
       "3         Wii Sports Resort      Wii             2009        Sports     15.61   \n",
       "4  Pokemon Red/Pokemon Blue       GB             1996  Role-Playing     11.27   \n",
       "\n",
       "   eu_sales  jp_sales  other_sales  critic_score  user_score rating  sum_sales  \n",
       "0     28.96      3.77         8.45            76         8.0      E      82.54  \n",
       "1      3.58      6.81         0.77           NaN         NaN    NaN      40.24  \n",
       "2     12.76      3.79         3.29            82         8.3      E      35.52  \n",
       "3     10.93      3.28         2.95            80         8.0      E      32.77  \n",
       "4      8.89     10.22         1.00           NaN         NaN    NaN      31.38  "
      ]
     },
     "metadata": {},
     "output_type": "display_data"
    }
   ],
   "source": [
    "data['sum_sales'] = data['na_sales'] + data['eu_sales'] + data['jp_sales'] + data['other_sales']\n",
    "display(data.head())"
   ]
  },
  {
   "cell_type": "markdown",
   "id": "3d425bf3",
   "metadata": {},
   "source": [
    "### Вывод:\n",
    "\n",
    "Изменили типы столбцов, без errors='coerce' это бы не получилось, так как имеются значения NAN и TBD\n",
    "\n",
    "Удалили 2 строки с пустыми значениями Жанра\n",
    "\n",
    "Привели к нижнему регистру названия столбцов\n"
   ]
  },
  {
   "cell_type": "markdown",
   "id": "2f8f33e2",
   "metadata": {},
   "source": [
    "## Исследовательский анализ\n",
    "### Количество выпускаемых игр в год"
   ]
  },
  {
   "cell_type": "code",
   "execution_count": 15,
   "id": "f70926ea",
   "metadata": {
    "scrolled": false
   },
   "outputs": [
    {
     "data": {
      "image/png": "[encoded data removed]",
      "text/plain": [
       "<Figure size 1152x360 with 1 Axes>"
      ]
     },
     "metadata": {
      "needs_background": "light"
     },
     "output_type": "display_data"
    },
    {
     "data": {
      "text/plain": [
       "16444"
      ]
     },
     "metadata": {},
     "output_type": "display_data"
    }
   ],
   "source": [
    "data_year = data.pivot_table(index='year_of_release', values = 'name', aggfunc = 'count')\n",
    "data_year.plot(kind='bar', figsize=(16, 5))\n",
    "plt.ylabel(\"Количество выпущенных игр\")\n",
    "plt.show()\n",
    "display(data_year['name'].sum())"
   ]
  },
  {
   "cell_type": "markdown",
   "id": "f023c4ab",
   "metadata": {},
   "source": [
    "#### Вывод\n",
    "Больше всего игр выпускалось в 2008 и 2009 годах\n",
    "* Помним что есть игры по которым не был указан год"
   ]
  },
  {
   "cell_type": "markdown",
   "id": "6596d86b",
   "metadata": {},
   "source": [
    "### Продажи по платформам в год"
   ]
  },
  {
   "cell_type": "code",
   "execution_count": 29,
   "id": "79274ba8",
   "metadata": {
    "scrolled": true
   },
   "outputs": [
    {
     "data": {
      "text/html": [
       "<div>\n",
       "<style scoped>\n",
       "    .dataframe tbody tr th:only-of-type {\n",
       "        vertical-align: middle;\n",
       "    }\n",
       "\n",
       "    .dataframe tbody tr th {\n",
       "        vertical-align: top;\n",
       "    }\n",
       "\n",
       "    .dataframe thead th {\n",
       "        text-align: right;\n",
       "    }\n",
       "</style>\n",
       "<table border=\"1\" class=\"dataframe\">\n",
       "  <thead>\n",
       "    <tr style=\"text-align: right;\">\n",
       "      <th></th>\n",
       "      <th>sum_sales</th>\n",
       "    </tr>\n",
       "    <tr>\n",
       "      <th>platform</th>\n",
       "      <th></th>\n",
       "    </tr>\n",
       "  </thead>\n",
       "  <tbody>\n",
       "    <tr>\n",
       "      <td>PS2</td>\n",
       "      <td>1255.77</td>\n",
       "    </tr>\n",
       "    <tr>\n",
       "      <td>X360</td>\n",
       "      <td>971.42</td>\n",
       "    </tr>\n",
       "    <tr>\n",
       "      <td>PS3</td>\n",
       "      <td>939.65</td>\n",
       "    </tr>\n",
       "    <tr>\n",
       "      <td>Wii</td>\n",
       "      <td>907.51</td>\n",
       "    </tr>\n",
       "    <tr>\n",
       "      <td>DS</td>\n",
       "      <td>806.12</td>\n",
       "    </tr>\n",
       "    <tr>\n",
       "      <td>PS</td>\n",
       "      <td>730.86</td>\n",
       "    </tr>\n",
       "    <tr>\n",
       "      <td>GBA</td>\n",
       "      <td>317.85</td>\n",
       "    </tr>\n",
       "  </tbody>\n",
       "</table>\n",
       "</div>"
      ],
      "text/plain": [
       "          sum_sales\n",
       "platform           \n",
       "PS2         1255.77\n",
       "X360         971.42\n",
       "PS3          939.65\n",
       "Wii          907.51\n",
       "DS           806.12\n",
       "PS           730.86\n",
       "GBA          317.85"
      ]
     },
     "metadata": {},
     "output_type": "display_data"
    }
   ],
   "source": [
    "data_platform_top = data.pivot_table(index='platform', values = 'sum_sales', aggfunc = 'sum').sort_values(by='sum_sales', ascending=False)\n",
    "data_platform_top = data_platform_top.head(7)\n",
    "display(data_platform_top)"
   ]
  },
  {
   "cell_type": "code",
   "execution_count": 30,
   "id": "e63938a0",
   "metadata": {},
   "outputs": [
    {
     "data": {
      "text/html": [
       "<div>\n",
       "<style scoped>\n",
       "    .dataframe tbody tr th:only-of-type {\n",
       "        vertical-align: middle;\n",
       "    }\n",
       "\n",
       "    .dataframe tbody tr th {\n",
       "        vertical-align: top;\n",
       "    }\n",
       "\n",
       "    .dataframe thead th {\n",
       "        text-align: right;\n",
       "    }\n",
       "</style>\n",
       "<table border=\"1\" class=\"dataframe\">\n",
       "  <thead>\n",
       "    <tr style=\"text-align: right;\">\n",
       "      <th></th>\n",
       "      <th>platform</th>\n",
       "      <th>sum_sales_x</th>\n",
       "      <th>year_of_release</th>\n",
       "      <th>sum_sales_y</th>\n",
       "    </tr>\n",
       "  </thead>\n",
       "  <tbody>\n",
       "    <tr>\n",
       "      <td>0</td>\n",
       "      <td>PS2</td>\n",
       "      <td>1255.77</td>\n",
       "      <td>2011</td>\n",
       "      <td>0.45</td>\n",
       "    </tr>\n",
       "    <tr>\n",
       "      <td>1</td>\n",
       "      <td>PS2</td>\n",
       "      <td>1255.77</td>\n",
       "      <td>2010</td>\n",
       "      <td>5.64</td>\n",
       "    </tr>\n",
       "    <tr>\n",
       "      <td>2</td>\n",
       "      <td>PS2</td>\n",
       "      <td>1255.77</td>\n",
       "      <td>2009</td>\n",
       "      <td>26.40</td>\n",
       "    </tr>\n",
       "    <tr>\n",
       "      <td>3</td>\n",
       "      <td>PS2</td>\n",
       "      <td>1255.77</td>\n",
       "      <td>2008</td>\n",
       "      <td>53.90</td>\n",
       "    </tr>\n",
       "    <tr>\n",
       "      <td>4</td>\n",
       "      <td>PS2</td>\n",
       "      <td>1255.77</td>\n",
       "      <td>2007</td>\n",
       "      <td>75.99</td>\n",
       "    </tr>\n",
       "    <tr>\n",
       "      <td>...</td>\n",
       "      <td>...</td>\n",
       "      <td>...</td>\n",
       "      <td>...</td>\n",
       "      <td>...</td>\n",
       "    </tr>\n",
       "    <tr>\n",
       "      <td>70</td>\n",
       "      <td>GBA</td>\n",
       "      <td>317.85</td>\n",
       "      <td>2004</td>\n",
       "      <td>77.91</td>\n",
       "    </tr>\n",
       "    <tr>\n",
       "      <td>71</td>\n",
       "      <td>GBA</td>\n",
       "      <td>317.85</td>\n",
       "      <td>2003</td>\n",
       "      <td>56.67</td>\n",
       "    </tr>\n",
       "    <tr>\n",
       "      <td>72</td>\n",
       "      <td>GBA</td>\n",
       "      <td>317.85</td>\n",
       "      <td>2002</td>\n",
       "      <td>74.16</td>\n",
       "    </tr>\n",
       "    <tr>\n",
       "      <td>73</td>\n",
       "      <td>GBA</td>\n",
       "      <td>317.85</td>\n",
       "      <td>2001</td>\n",
       "      <td>61.53</td>\n",
       "    </tr>\n",
       "    <tr>\n",
       "      <td>74</td>\n",
       "      <td>GBA</td>\n",
       "      <td>317.85</td>\n",
       "      <td>2000</td>\n",
       "      <td>0.07</td>\n",
       "    </tr>\n",
       "  </tbody>\n",
       "</table>\n",
       "<p>75 rows × 4 columns</p>\n",
       "</div>"
      ],
      "text/plain": [
       "   platform  sum_sales_x  year_of_release  sum_sales_y\n",
       "0       PS2      1255.77             2011         0.45\n",
       "1       PS2      1255.77             2010         5.64\n",
       "2       PS2      1255.77             2009        26.40\n",
       "3       PS2      1255.77             2008        53.90\n",
       "4       PS2      1255.77             2007        75.99\n",
       "..      ...          ...              ...          ...\n",
       "70      GBA       317.85             2004        77.91\n",
       "71      GBA       317.85             2003        56.67\n",
       "72      GBA       317.85             2002        74.16\n",
       "73      GBA       317.85             2001        61.53\n",
       "74      GBA       317.85             2000         0.07\n",
       "\n",
       "[75 rows x 4 columns]"
      ]
     },
     "metadata": {},
     "output_type": "display_data"
    }
   ],
   "source": [
    "data_platform = data.pivot_table(index=['year_of_release','platform'], values = 'sum_sales', aggfunc = 'sum')\n",
    "data_platform_sort = data_platform.reset_index().sort_values(by=['platform', 'year_of_release'], ascending=False)\n",
    "data_platform_merged = data_platform_top.merge(data_platform_sort, on='platform', how='left')\n",
    "display(data_platform_merged)"
   ]
  },
  {
   "cell_type": "code",
   "execution_count": 31,
   "id": "bfd9cdaa",
   "metadata": {},
   "outputs": [
    {
     "data": {
      "image/png": "[encoded data removed]",
      "text/plain": [
       "<Figure size 1440x576 with 1 Axes>"
      ]
     },
     "metadata": {
      "needs_background": "light"
     },
     "output_type": "display_data"
    }
   ],
   "source": [
    "f, ax1 = plt.subplots(1, 1, figsize=(20, 8), sharex=True)\n",
    "sns.lineplot(x=\"year_of_release\", y=\"sum_sales_y\",\n",
    "             hue=\"platform\",\n",
    "             data=data_platform_merged)\n",
    "ax1.set_title(\"top_platforms\");"
   ]
  },
  {
   "cell_type": "code",
   "execution_count": 39,
   "id": "b8e0831e",
   "metadata": {},
   "outputs": [
    {
     "name": "stdout",
     "output_type": "stream",
     "text": [
      "Средняя продолжитлеьность жизни платофрмы 7.67741935483871\n"
     ]
    }
   ],
   "source": [
    "data_term= data_platform_sort.pivot_table(index='platform', values = 'year_of_release', aggfunc = 'count')\n",
    "print('Средняя продолжитлеьность жизни платофрмы', data_term['year_of_release'].mean())\n"
   ]
  },
  {
   "cell_type": "markdown",
   "id": "6d7f7399",
   "metadata": {},
   "source": [
    "#### Вывод\n",
    "\n",
    "В более современные года можно увидеть закономерность, что в среднем платформа сущесвтует 5-6 лет\n",
    "\n",
    "В 1 и 2 год конкурирует с прошлой моделю\n",
    "\n",
    "В 1,2,3,4 год продажи платформы увеличиваются\n",
    "\n",
    "В 5, 6 год конкурирует с новой моделью"
   ]
  },
  {
   "cell_type": "markdown",
   "id": "c19deb4d",
   "metadata": {},
   "source": [
    "### Актауальный период"
   ]
  },
  {
   "cell_type": "code",
   "execution_count": 40,
   "id": "8bee07bc",
   "metadata": {},
   "outputs": [
    {
     "data": {
      "text/html": [
       "<div>\n",
       "<style scoped>\n",
       "    .dataframe tbody tr th:only-of-type {\n",
       "        vertical-align: middle;\n",
       "    }\n",
       "\n",
       "    .dataframe tbody tr th {\n",
       "        vertical-align: top;\n",
       "    }\n",
       "\n",
       "    .dataframe thead th {\n",
       "        text-align: right;\n",
       "    }\n",
       "</style>\n",
       "<table border=\"1\" class=\"dataframe\">\n",
       "  <thead>\n",
       "    <tr style=\"text-align: right;\">\n",
       "      <th></th>\n",
       "      <th>name</th>\n",
       "      <th>platform</th>\n",
       "      <th>year_of_release</th>\n",
       "      <th>genre</th>\n",
       "      <th>na_sales</th>\n",
       "      <th>eu_sales</th>\n",
       "      <th>jp_sales</th>\n",
       "      <th>other_sales</th>\n",
       "      <th>critic_score</th>\n",
       "      <th>user_score</th>\n",
       "      <th>rating</th>\n",
       "      <th>sum_sales</th>\n",
       "    </tr>\n",
       "  </thead>\n",
       "  <tbody>\n",
       "    <tr>\n",
       "      <td>31</td>\n",
       "      <td>Call of Duty: Black Ops 3</td>\n",
       "      <td>PS4</td>\n",
       "      <td>2015</td>\n",
       "      <td>Shooter</td>\n",
       "      <td>6.03</td>\n",
       "      <td>5.86</td>\n",
       "      <td>0.36</td>\n",
       "      <td>2.38</td>\n",
       "      <td>NaN</td>\n",
       "      <td>NaN</td>\n",
       "      <td>NaN</td>\n",
       "      <td>14.63</td>\n",
       "    </tr>\n",
       "    <tr>\n",
       "      <td>42</td>\n",
       "      <td>Grand Theft Auto V</td>\n",
       "      <td>PS4</td>\n",
       "      <td>2014</td>\n",
       "      <td>Action</td>\n",
       "      <td>3.96</td>\n",
       "      <td>6.31</td>\n",
       "      <td>0.38</td>\n",
       "      <td>1.97</td>\n",
       "      <td>97</td>\n",
       "      <td>8.3</td>\n",
       "      <td>M</td>\n",
       "      <td>12.62</td>\n",
       "    </tr>\n",
       "    <tr>\n",
       "      <td>47</td>\n",
       "      <td>Pokemon Omega Ruby/Pokemon Alpha Sapphire</td>\n",
       "      <td>3DS</td>\n",
       "      <td>2014</td>\n",
       "      <td>Role-Playing</td>\n",
       "      <td>4.35</td>\n",
       "      <td>3.49</td>\n",
       "      <td>3.10</td>\n",
       "      <td>0.74</td>\n",
       "      <td>NaN</td>\n",
       "      <td>NaN</td>\n",
       "      <td>NaN</td>\n",
       "      <td>11.68</td>\n",
       "    </tr>\n",
       "    <tr>\n",
       "      <td>77</td>\n",
       "      <td>FIFA 16</td>\n",
       "      <td>PS4</td>\n",
       "      <td>2015</td>\n",
       "      <td>Sports</td>\n",
       "      <td>1.12</td>\n",
       "      <td>6.12</td>\n",
       "      <td>0.06</td>\n",
       "      <td>1.28</td>\n",
       "      <td>82</td>\n",
       "      <td>4.3</td>\n",
       "      <td>E</td>\n",
       "      <td>8.58</td>\n",
       "    </tr>\n",
       "    <tr>\n",
       "      <td>87</td>\n",
       "      <td>Star Wars Battlefront (2015)</td>\n",
       "      <td>PS4</td>\n",
       "      <td>2015</td>\n",
       "      <td>Shooter</td>\n",
       "      <td>2.99</td>\n",
       "      <td>3.49</td>\n",
       "      <td>0.22</td>\n",
       "      <td>1.28</td>\n",
       "      <td>NaN</td>\n",
       "      <td>NaN</td>\n",
       "      <td>NaN</td>\n",
       "      <td>7.98</td>\n",
       "    </tr>\n",
       "  </tbody>\n",
       "</table>\n",
       "</div>"
      ],
      "text/plain": [
       "                                         name platform  year_of_release  \\\n",
       "31                  Call of Duty: Black Ops 3      PS4             2015   \n",
       "42                         Grand Theft Auto V      PS4             2014   \n",
       "47  Pokemon Omega Ruby/Pokemon Alpha Sapphire      3DS             2014   \n",
       "77                                    FIFA 16      PS4             2015   \n",
       "87               Star Wars Battlefront (2015)      PS4             2015   \n",
       "\n",
       "           genre  na_sales  eu_sales  jp_sales  other_sales  critic_score  \\\n",
       "31       Shooter      6.03      5.86      0.36         2.38           NaN   \n",
       "42        Action      3.96      6.31      0.38         1.97            97   \n",
       "47  Role-Playing      4.35      3.49      3.10         0.74           NaN   \n",
       "77        Sports      1.12      6.12      0.06         1.28            82   \n",
       "87       Shooter      2.99      3.49      0.22         1.28           NaN   \n",
       "\n",
       "    user_score rating  sum_sales  \n",
       "31         NaN    NaN      14.63  \n",
       "42         8.3      M      12.62  \n",
       "47         NaN    NaN      11.68  \n",
       "77         4.3      E       8.58  \n",
       "87         NaN    NaN       7.98  "
      ]
     },
     "metadata": {},
     "output_type": "display_data"
    },
    {
     "name": "stdout",
     "output_type": "stream",
     "text": [
      "<class 'pandas.core.frame.DataFrame'>\n",
      "Int64Index: 1689 entries, 31 to 16712\n",
      "Data columns (total 12 columns):\n",
      "name               1689 non-null object\n",
      "platform           1689 non-null object\n",
      "year_of_release    1689 non-null Int64\n",
      "genre              1689 non-null object\n",
      "na_sales           1689 non-null float64\n",
      "eu_sales           1689 non-null float64\n",
      "jp_sales           1689 non-null float64\n",
      "other_sales        1689 non-null float64\n",
      "critic_score       718 non-null Int64\n",
      "user_score         888 non-null float64\n",
      "rating             942 non-null object\n",
      "sum_sales          1689 non-null float64\n",
      "dtypes: Int64(2), float64(6), object(4)\n",
      "memory usage: 174.8+ KB\n"
     ]
    },
    {
     "data": {
      "text/plain": [
       "None"
      ]
     },
     "metadata": {},
     "output_type": "display_data"
    }
   ],
   "source": [
    "data_period = data.query('year_of_release >= 2014')\n",
    "display(data_period.head())\n",
    "display(data_period.info())"
   ]
  },
  {
   "cell_type": "markdown",
   "id": "056a190a",
   "metadata": {},
   "source": [
    "#### Вывод\n",
    "Основывая на результатх по платформам, можно понять что актуальные период будет не больше 5 лет, при этом необходимо убрать платформы котоыре уже отработали более 3-4 лет.\n",
    "\n",
    "В связи с чем для 2017 года актуальный период 2014-2016 год"
   ]
  },
  {
   "cell_type": "markdown",
   "id": "a1dc7959",
   "metadata": {},
   "source": [
    "### Выбор платформ"
   ]
  },
  {
   "cell_type": "code",
   "execution_count": 41,
   "id": "b9c069b6",
   "metadata": {},
   "outputs": [
    {
     "data": {
      "text/html": [
       "<div>\n",
       "<style scoped>\n",
       "    .dataframe tbody tr th:only-of-type {\n",
       "        vertical-align: middle;\n",
       "    }\n",
       "\n",
       "    .dataframe tbody tr th {\n",
       "        vertical-align: top;\n",
       "    }\n",
       "\n",
       "    .dataframe thead th {\n",
       "        text-align: right;\n",
       "    }\n",
       "</style>\n",
       "<table border=\"1\" class=\"dataframe\">\n",
       "  <thead>\n",
       "    <tr style=\"text-align: right;\">\n",
       "      <th></th>\n",
       "      <th>sum_sales</th>\n",
       "    </tr>\n",
       "    <tr>\n",
       "      <th>platform</th>\n",
       "      <th></th>\n",
       "    </tr>\n",
       "  </thead>\n",
       "  <tbody>\n",
       "    <tr>\n",
       "      <td>3DS</td>\n",
       "      <td>86.68</td>\n",
       "    </tr>\n",
       "    <tr>\n",
       "      <td>PC</td>\n",
       "      <td>27.05</td>\n",
       "    </tr>\n",
       "    <tr>\n",
       "      <td>PS3</td>\n",
       "      <td>68.18</td>\n",
       "    </tr>\n",
       "    <tr>\n",
       "      <td>PS4</td>\n",
       "      <td>288.15</td>\n",
       "    </tr>\n",
       "    <tr>\n",
       "      <td>PSP</td>\n",
       "      <td>0.36</td>\n",
       "    </tr>\n",
       "    <tr>\n",
       "      <td>PSV</td>\n",
       "      <td>22.40</td>\n",
       "    </tr>\n",
       "    <tr>\n",
       "      <td>Wii</td>\n",
       "      <td>5.07</td>\n",
       "    </tr>\n",
       "    <tr>\n",
       "      <td>WiiU</td>\n",
       "      <td>42.98</td>\n",
       "    </tr>\n",
       "    <tr>\n",
       "      <td>X360</td>\n",
       "      <td>48.22</td>\n",
       "    </tr>\n",
       "    <tr>\n",
       "      <td>XOne</td>\n",
       "      <td>140.36</td>\n",
       "    </tr>\n",
       "  </tbody>\n",
       "</table>\n",
       "</div>"
      ],
      "text/plain": [
       "          sum_sales\n",
       "platform           \n",
       "3DS           86.68\n",
       "PC            27.05\n",
       "PS3           68.18\n",
       "PS4          288.15\n",
       "PSP            0.36\n",
       "PSV           22.40\n",
       "Wii            5.07\n",
       "WiiU          42.98\n",
       "X360          48.22\n",
       "XOne         140.36"
      ]
     },
     "metadata": {},
     "output_type": "display_data"
    },
    {
     "data": {
      "text/plain": [
       "10"
      ]
     },
     "metadata": {},
     "output_type": "display_data"
    }
   ],
   "source": [
    "data_period_platform = data_period.pivot_table(index='platform', values = 'sum_sales', aggfunc = 'sum')\n",
    "display(data_period_platform.head(20))\n",
    "display(len(data_period_platform))"
   ]
  },
  {
   "cell_type": "code",
   "execution_count": 42,
   "id": "09205599",
   "metadata": {},
   "outputs": [
    {
     "data": {
      "text/plain": [
       "6"
      ]
     },
     "metadata": {},
     "output_type": "display_data"
    }
   ],
   "source": [
    "data_period_platform_hight = data_period.query(\n",
    "'platform != \"PC\" and platform != \"PSP\" and platform != \"Wii\" and platform != \"PSV\"'\n",
    "                                                 )\n",
    "data_period_platform_hight = data_period_platform_hight.reset_index()\n",
    "display(len(data_period_platform_hight.pivot_table(index='platform', values = 'sum_sales', aggfunc = 'sum')))"
   ]
  },
  {
   "cell_type": "markdown",
   "id": "5fbaf64b",
   "metadata": {},
   "source": [
    "#### Вывод\n",
    "Выбрал 6 потенциальных платформ с высокими продажами"
   ]
  },
  {
   "cell_type": "markdown",
   "id": "eec8725e",
   "metadata": {},
   "source": [
    "### Продажам игр в разбивке по платформам"
   ]
  },
  {
   "cell_type": "code",
   "execution_count": 43,
   "id": "9ba41694",
   "metadata": {},
   "outputs": [
    {
     "data": {
      "text/html": [
       "<div>\n",
       "<style scoped>\n",
       "    .dataframe tbody tr th:only-of-type {\n",
       "        vertical-align: middle;\n",
       "    }\n",
       "\n",
       "    .dataframe tbody tr th {\n",
       "        vertical-align: top;\n",
       "    }\n",
       "\n",
       "    .dataframe thead th {\n",
       "        text-align: right;\n",
       "    }\n",
       "</style>\n",
       "<table border=\"1\" class=\"dataframe\">\n",
       "  <thead>\n",
       "    <tr style=\"text-align: right;\">\n",
       "      <th></th>\n",
       "      <th>index</th>\n",
       "      <th>name</th>\n",
       "      <th>platform</th>\n",
       "      <th>year_of_release</th>\n",
       "      <th>genre</th>\n",
       "      <th>na_sales</th>\n",
       "      <th>eu_sales</th>\n",
       "      <th>jp_sales</th>\n",
       "      <th>other_sales</th>\n",
       "      <th>critic_score</th>\n",
       "      <th>user_score</th>\n",
       "      <th>rating</th>\n",
       "      <th>sum_sales</th>\n",
       "    </tr>\n",
       "  </thead>\n",
       "  <tbody>\n",
       "    <tr>\n",
       "      <td>0</td>\n",
       "      <td>31</td>\n",
       "      <td>Call of Duty: Black Ops 3</td>\n",
       "      <td>PS4</td>\n",
       "      <td>2015</td>\n",
       "      <td>Shooter</td>\n",
       "      <td>6.03</td>\n",
       "      <td>5.86</td>\n",
       "      <td>0.36</td>\n",
       "      <td>2.38</td>\n",
       "      <td>NaN</td>\n",
       "      <td>NaN</td>\n",
       "      <td>NaN</td>\n",
       "      <td>14.63</td>\n",
       "    </tr>\n",
       "    <tr>\n",
       "      <td>1</td>\n",
       "      <td>42</td>\n",
       "      <td>Grand Theft Auto V</td>\n",
       "      <td>PS4</td>\n",
       "      <td>2014</td>\n",
       "      <td>Action</td>\n",
       "      <td>3.96</td>\n",
       "      <td>6.31</td>\n",
       "      <td>0.38</td>\n",
       "      <td>1.97</td>\n",
       "      <td>97</td>\n",
       "      <td>8.3</td>\n",
       "      <td>M</td>\n",
       "      <td>12.62</td>\n",
       "    </tr>\n",
       "    <tr>\n",
       "      <td>2</td>\n",
       "      <td>47</td>\n",
       "      <td>Pokemon Omega Ruby/Pokemon Alpha Sapphire</td>\n",
       "      <td>3DS</td>\n",
       "      <td>2014</td>\n",
       "      <td>Role-Playing</td>\n",
       "      <td>4.35</td>\n",
       "      <td>3.49</td>\n",
       "      <td>3.10</td>\n",
       "      <td>0.74</td>\n",
       "      <td>NaN</td>\n",
       "      <td>NaN</td>\n",
       "      <td>NaN</td>\n",
       "      <td>11.68</td>\n",
       "    </tr>\n",
       "    <tr>\n",
       "      <td>3</td>\n",
       "      <td>77</td>\n",
       "      <td>FIFA 16</td>\n",
       "      <td>PS4</td>\n",
       "      <td>2015</td>\n",
       "      <td>Sports</td>\n",
       "      <td>1.12</td>\n",
       "      <td>6.12</td>\n",
       "      <td>0.06</td>\n",
       "      <td>1.28</td>\n",
       "      <td>82</td>\n",
       "      <td>4.3</td>\n",
       "      <td>E</td>\n",
       "      <td>8.58</td>\n",
       "    </tr>\n",
       "    <tr>\n",
       "      <td>4</td>\n",
       "      <td>87</td>\n",
       "      <td>Star Wars Battlefront (2015)</td>\n",
       "      <td>PS4</td>\n",
       "      <td>2015</td>\n",
       "      <td>Shooter</td>\n",
       "      <td>2.99</td>\n",
       "      <td>3.49</td>\n",
       "      <td>0.22</td>\n",
       "      <td>1.28</td>\n",
       "      <td>NaN</td>\n",
       "      <td>NaN</td>\n",
       "      <td>NaN</td>\n",
       "      <td>7.98</td>\n",
       "    </tr>\n",
       "  </tbody>\n",
       "</table>\n",
       "</div>"
      ],
      "text/plain": [
       "   index                                       name platform  year_of_release  \\\n",
       "0     31                  Call of Duty: Black Ops 3      PS4             2015   \n",
       "1     42                         Grand Theft Auto V      PS4             2014   \n",
       "2     47  Pokemon Omega Ruby/Pokemon Alpha Sapphire      3DS             2014   \n",
       "3     77                                    FIFA 16      PS4             2015   \n",
       "4     87               Star Wars Battlefront (2015)      PS4             2015   \n",
       "\n",
       "          genre  na_sales  eu_sales  jp_sales  other_sales  critic_score  \\\n",
       "0       Shooter      6.03      5.86      0.36         2.38           NaN   \n",
       "1        Action      3.96      6.31      0.38         1.97            97   \n",
       "2  Role-Playing      4.35      3.49      3.10         0.74           NaN   \n",
       "3        Sports      1.12      6.12      0.06         1.28            82   \n",
       "4       Shooter      2.99      3.49      0.22         1.28           NaN   \n",
       "\n",
       "   user_score rating  sum_sales  \n",
       "0         NaN    NaN      14.63  \n",
       "1         8.3      M      12.62  \n",
       "2         NaN    NaN      11.68  \n",
       "3         4.3      E       8.58  \n",
       "4         NaN    NaN       7.98  "
      ]
     },
     "metadata": {},
     "output_type": "display_data"
    },
    {
     "name": "stderr",
     "output_type": "stream",
     "text": [
      "/opt/conda/lib/python3.7/site-packages/numpy/core/_asarray.py:83: VisibleDeprecationWarning: Creating an ndarray from ragged nested sequences (which is a list-or-tuple of lists-or-tuples-or ndarrays with different lengths or shapes) is deprecated. If you meant to do this, you must specify 'dtype=object' when creating the ndarray\n",
      "  return array(a, dtype, copy=False, order=order)\n"
     ]
    },
    {
     "data": {
      "text/plain": [
       "(0, 6)"
      ]
     },
     "execution_count": 43,
     "metadata": {},
     "output_type": "execute_result"
    },
    {
     "data": {
      "image/png": "[encoded data removed]",
      "text/plain": [
       "<Figure size 1152x360 with 1 Axes>"
      ]
     },
     "metadata": {
      "needs_background": "light"
     },
     "output_type": "display_data"
    }
   ],
   "source": [
    "display(data_period_platform_hight.head())\n",
    "boxplot = data_period_platform_hight.boxplot(column=['sum_sales'], by='platform', figsize=(16, 5))\n",
    "plt.ylim(0, 6)"
   ]
  },
  {
   "cell_type": "markdown",
   "id": "6177102b",
   "metadata": {},
   "source": [
    "#### Вывод\n",
    "В каждой платформе имеются выбросы, но такие выбросы реальны, так как возможно какая-то очень популярная игра продала много копий\n",
    "\n",
    "Также почему-то у каждой платформы медианное значение почти одинаковое"
   ]
  },
  {
   "cell_type": "markdown",
   "id": "939720fa",
   "metadata": {},
   "source": [
    "### Изучение продаж платформы XOne"
   ]
  },
  {
   "cell_type": "code",
   "execution_count": 44,
   "id": "f7b08270",
   "metadata": {},
   "outputs": [
    {
     "data": {
      "text/html": [
       "<div>\n",
       "<style scoped>\n",
       "    .dataframe tbody tr th:only-of-type {\n",
       "        vertical-align: middle;\n",
       "    }\n",
       "\n",
       "    .dataframe tbody tr th {\n",
       "        vertical-align: top;\n",
       "    }\n",
       "\n",
       "    .dataframe thead th {\n",
       "        text-align: right;\n",
       "    }\n",
       "</style>\n",
       "<table border=\"1\" class=\"dataframe\">\n",
       "  <thead>\n",
       "    <tr style=\"text-align: right;\">\n",
       "      <th></th>\n",
       "      <th>level_0</th>\n",
       "      <th>index</th>\n",
       "      <th>name</th>\n",
       "      <th>platform</th>\n",
       "      <th>year_of_release</th>\n",
       "      <th>genre</th>\n",
       "      <th>na_sales</th>\n",
       "      <th>eu_sales</th>\n",
       "      <th>jp_sales</th>\n",
       "      <th>other_sales</th>\n",
       "      <th>critic_score</th>\n",
       "      <th>user_score</th>\n",
       "      <th>rating</th>\n",
       "      <th>sum_sales</th>\n",
       "    </tr>\n",
       "  </thead>\n",
       "  <tbody>\n",
       "    <tr>\n",
       "      <td>1</td>\n",
       "      <td>14</td>\n",
       "      <td>165</td>\n",
       "      <td>Grand Theft Auto V</td>\n",
       "      <td>XOne</td>\n",
       "      <td>2014</td>\n",
       "      <td>Action</td>\n",
       "      <td>2.81</td>\n",
       "      <td>2.19</td>\n",
       "      <td>0.00</td>\n",
       "      <td>0.47</td>\n",
       "      <td>97</td>\n",
       "      <td>7.9</td>\n",
       "      <td>M</td>\n",
       "      <td>5.47</td>\n",
       "    </tr>\n",
       "    <tr>\n",
       "      <td>2</td>\n",
       "      <td>16</td>\n",
       "      <td>179</td>\n",
       "      <td>Call of Duty: Advanced Warfare</td>\n",
       "      <td>XOne</td>\n",
       "      <td>2014</td>\n",
       "      <td>Shooter</td>\n",
       "      <td>3.22</td>\n",
       "      <td>1.55</td>\n",
       "      <td>0.01</td>\n",
       "      <td>0.48</td>\n",
       "      <td>81</td>\n",
       "      <td>5.4</td>\n",
       "      <td>M</td>\n",
       "      <td>5.26</td>\n",
       "    </tr>\n",
       "    <tr>\n",
       "      <td>3</td>\n",
       "      <td>21</td>\n",
       "      <td>242</td>\n",
       "      <td>Halo 5: Guardians</td>\n",
       "      <td>XOne</td>\n",
       "      <td>2015</td>\n",
       "      <td>Shooter</td>\n",
       "      <td>2.78</td>\n",
       "      <td>1.27</td>\n",
       "      <td>0.03</td>\n",
       "      <td>0.41</td>\n",
       "      <td>84</td>\n",
       "      <td>6.4</td>\n",
       "      <td>T</td>\n",
       "      <td>4.49</td>\n",
       "    </tr>\n",
       "    <tr>\n",
       "      <td>4</td>\n",
       "      <td>28</td>\n",
       "      <td>270</td>\n",
       "      <td>Fallout 4</td>\n",
       "      <td>XOne</td>\n",
       "      <td>2015</td>\n",
       "      <td>Role-Playing</td>\n",
       "      <td>2.51</td>\n",
       "      <td>1.32</td>\n",
       "      <td>0.01</td>\n",
       "      <td>0.38</td>\n",
       "      <td>88</td>\n",
       "      <td>6.2</td>\n",
       "      <td>M</td>\n",
       "      <td>4.22</td>\n",
       "    </tr>\n",
       "    <tr>\n",
       "      <td>6</td>\n",
       "      <td>39</td>\n",
       "      <td>373</td>\n",
       "      <td>Assassin's Creed: Unity</td>\n",
       "      <td>XOne</td>\n",
       "      <td>2014</td>\n",
       "      <td>Action</td>\n",
       "      <td>2.27</td>\n",
       "      <td>0.90</td>\n",
       "      <td>0.00</td>\n",
       "      <td>0.33</td>\n",
       "      <td>72</td>\n",
       "      <td>4.1</td>\n",
       "      <td>M</td>\n",
       "      <td>3.50</td>\n",
       "    </tr>\n",
       "  </tbody>\n",
       "</table>\n",
       "</div>"
      ],
      "text/plain": [
       "   level_0  index                            name platform  year_of_release  \\\n",
       "1       14    165              Grand Theft Auto V     XOne             2014   \n",
       "2       16    179  Call of Duty: Advanced Warfare     XOne             2014   \n",
       "3       21    242               Halo 5: Guardians     XOne             2015   \n",
       "4       28    270                       Fallout 4     XOne             2015   \n",
       "6       39    373         Assassin's Creed: Unity     XOne             2014   \n",
       "\n",
       "          genre  na_sales  eu_sales  jp_sales  other_sales  critic_score  \\\n",
       "1        Action      2.81      2.19      0.00         0.47            97   \n",
       "2       Shooter      3.22      1.55      0.01         0.48            81   \n",
       "3       Shooter      2.78      1.27      0.03         0.41            84   \n",
       "4  Role-Playing      2.51      1.32      0.01         0.38            88   \n",
       "6        Action      2.27      0.90      0.00         0.33            72   \n",
       "\n",
       "   user_score rating  sum_sales  \n",
       "1         7.9      M       5.47  \n",
       "2         5.4      M       5.26  \n",
       "3         6.4      T       4.49  \n",
       "4         6.2      M       4.22  \n",
       "6         4.1      M       3.50  "
      ]
     },
     "metadata": {},
     "output_type": "display_data"
    }
   ],
   "source": [
    "data_XOne = data_period_platform_hight.query('platform == \"XOne\"').reset_index()\n",
    "data_XOne_final = data_XOne.dropna(subset=['critic_score', 'user_score'])\n",
    "display(data_XOne_final.head())\n",
    "\n"
   ]
  },
  {
   "cell_type": "code",
   "execution_count": 45,
   "id": "ccf493ff",
   "metadata": {},
   "outputs": [
    {
     "data": {
      "image/png": "[encoded data removed]",
      "text/plain": [
       "<Figure size 432x288 with 1 Axes>"
      ]
     },
     "metadata": {
      "needs_background": "light"
     },
     "output_type": "display_data"
    }
   ],
   "source": [
    "data_XOne_final.plot(x='critic_score', y='sum_sales', kind='scatter')\n",
    "plt.title('Зависимость продаж от оценки критиков')\n",
    "plt.show()"
   ]
  },
  {
   "cell_type": "code",
   "execution_count": 46,
   "id": "18d662bc",
   "metadata": {},
   "outputs": [
    {
     "data": {
      "image/png": "[encoded data removed]",
      "text/plain": [
       "<Figure size 432x288 with 1 Axes>"
      ]
     },
     "metadata": {
      "needs_background": "light"
     },
     "output_type": "display_data"
    }
   ],
   "source": [
    "data_XOne_final.plot(x='user_score', y='sum_sales', kind='scatter')\n",
    "plt.title('Зависимость продаж от оценки пользователей')\n",
    "plt.show()"
   ]
  },
  {
   "cell_type": "code",
   "execution_count": 47,
   "id": "3f6ea884",
   "metadata": {},
   "outputs": [
    {
     "data": {
      "text/plain": [
       "-0.0917343450331075"
      ]
     },
     "metadata": {},
     "output_type": "display_data"
    },
    {
     "data": {
      "text/plain": [
       "0.42211185105557647"
      ]
     },
     "metadata": {},
     "output_type": "display_data"
    }
   ],
   "source": [
    "display(data_XOne_final['user_score'].corr(data_XOne_final['sum_sales']))\n",
    "display(data_XOne_final['critic_score'].astype('int').corr(data_XOne_final['sum_sales']))\n"
   ]
  },
  {
   "cell_type": "markdown",
   "id": "2a9c491f",
   "metadata": {},
   "source": [
    "#### Вывод\n",
    "На графики и по коэфициенту корреляции можно понять, что зависимость оценки критиов от продаж больше, чем оценки пользователей. Это логично, так как пользователи ориентируются на оценки критиков перед покупкой игры. \n",
    "\n",
    "чем выше оченка, тем больше продаж\n",
    "\n",
    "Зависимсоть критиков от продаж слабая\n",
    "Зависиомть пользователей от продаж отсутствует"
   ]
  },
  {
   "cell_type": "markdown",
   "id": "caded4c2",
   "metadata": {},
   "source": [
    "### Общая зависимость продаж от оценки критиков и пользователей"
   ]
  },
  {
   "cell_type": "code",
   "execution_count": 48,
   "id": "75e92b40",
   "metadata": {},
   "outputs": [
    {
     "data": {
      "text/plain": [
       "0.004264283332695287"
      ]
     },
     "metadata": {},
     "output_type": "display_data"
    },
    {
     "data": {
      "text/plain": [
       "0.3863209760179763"
      ]
     },
     "metadata": {},
     "output_type": "display_data"
    }
   ],
   "source": [
    "display(data_period_platform_hight['user_score'].corr(data_period_platform_hight['sum_sales']))\n",
    "display(data_period_platform_hight['critic_score'].astype('float').corr(data_period_platform_hight['sum_sales']))\n"
   ]
  },
  {
   "cell_type": "markdown",
   "id": "136dbf4b",
   "metadata": {},
   "source": [
    "#### Вывод\n",
    "Общие продажи к оценки пользователей отсутсвует\n",
    "\n",
    "Зависимость общих прода к оценке критиков оченб слабая"
   ]
  },
  {
   "cell_type": "markdown",
   "id": "e881ce67",
   "metadata": {},
   "source": [
    "### Продажи по жанрам"
   ]
  },
  {
   "cell_type": "code",
   "execution_count": 49,
   "id": "122d85f1",
   "metadata": {},
   "outputs": [
    {
     "data": {
      "text/html": [
       "<div>\n",
       "<style scoped>\n",
       "    .dataframe tbody tr th:only-of-type {\n",
       "        vertical-align: middle;\n",
       "    }\n",
       "\n",
       "    .dataframe tbody tr th {\n",
       "        vertical-align: top;\n",
       "    }\n",
       "\n",
       "    .dataframe thead th {\n",
       "        text-align: right;\n",
       "    }\n",
       "</style>\n",
       "<table border=\"1\" class=\"dataframe\">\n",
       "  <thead>\n",
       "    <tr style=\"text-align: right;\">\n",
       "      <th></th>\n",
       "      <th>sum_sales</th>\n",
       "    </tr>\n",
       "    <tr>\n",
       "      <th>genre</th>\n",
       "      <th></th>\n",
       "    </tr>\n",
       "  </thead>\n",
       "  <tbody>\n",
       "    <tr>\n",
       "      <td>Action</td>\n",
       "      <td>1744.17</td>\n",
       "    </tr>\n",
       "    <tr>\n",
       "      <td>Sports</td>\n",
       "      <td>1331.27</td>\n",
       "    </tr>\n",
       "    <tr>\n",
       "      <td>Shooter</td>\n",
       "      <td>1052.45</td>\n",
       "    </tr>\n",
       "    <tr>\n",
       "      <td>Role-Playing</td>\n",
       "      <td>934.56</td>\n",
       "    </tr>\n",
       "    <tr>\n",
       "      <td>Platform</td>\n",
       "      <td>827.77</td>\n",
       "    </tr>\n",
       "    <tr>\n",
       "      <td>Misc</td>\n",
       "      <td>802.51</td>\n",
       "    </tr>\n",
       "    <tr>\n",
       "      <td>Racing</td>\n",
       "      <td>728.67</td>\n",
       "    </tr>\n",
       "    <tr>\n",
       "      <td>Fighting</td>\n",
       "      <td>447.53</td>\n",
       "    </tr>\n",
       "    <tr>\n",
       "      <td>Simulation</td>\n",
       "      <td>389.97</td>\n",
       "    </tr>\n",
       "    <tr>\n",
       "      <td>Puzzle</td>\n",
       "      <td>242.57</td>\n",
       "    </tr>\n",
       "    <tr>\n",
       "      <td>Adventure</td>\n",
       "      <td>237.59</td>\n",
       "    </tr>\n",
       "    <tr>\n",
       "      <td>Strategy</td>\n",
       "      <td>174.23</td>\n",
       "    </tr>\n",
       "  </tbody>\n",
       "</table>\n",
       "</div>"
      ],
      "text/plain": [
       "              sum_sales\n",
       "genre                  \n",
       "Action          1744.17\n",
       "Sports          1331.27\n",
       "Shooter         1052.45\n",
       "Role-Playing     934.56\n",
       "Platform         827.77\n",
       "Misc             802.51\n",
       "Racing           728.67\n",
       "Fighting         447.53\n",
       "Simulation       389.97\n",
       "Puzzle           242.57\n",
       "Adventure        237.59\n",
       "Strategy         174.23"
      ]
     },
     "metadata": {},
     "output_type": "display_data"
    },
    {
     "data": {
      "text/html": [
       "<div>\n",
       "<style scoped>\n",
       "    .dataframe tbody tr th:only-of-type {\n",
       "        vertical-align: middle;\n",
       "    }\n",
       "\n",
       "    .dataframe tbody tr th {\n",
       "        vertical-align: top;\n",
       "    }\n",
       "\n",
       "    .dataframe thead th {\n",
       "        text-align: right;\n",
       "    }\n",
       "</style>\n",
       "<table border=\"1\" class=\"dataframe\">\n",
       "  <thead>\n",
       "    <tr style=\"text-align: right;\">\n",
       "      <th></th>\n",
       "      <th>sum_sales</th>\n",
       "    </tr>\n",
       "    <tr>\n",
       "      <th>genre</th>\n",
       "      <th></th>\n",
       "    </tr>\n",
       "  </thead>\n",
       "  <tbody>\n",
       "    <tr>\n",
       "      <td>Action</td>\n",
       "      <td>199.36</td>\n",
       "    </tr>\n",
       "    <tr>\n",
       "      <td>Shooter</td>\n",
       "      <td>170.94</td>\n",
       "    </tr>\n",
       "    <tr>\n",
       "      <td>Sports</td>\n",
       "      <td>109.48</td>\n",
       "    </tr>\n",
       "    <tr>\n",
       "      <td>Role-Playing</td>\n",
       "      <td>101.44</td>\n",
       "    </tr>\n",
       "    <tr>\n",
       "      <td>Misc</td>\n",
       "      <td>37.55</td>\n",
       "    </tr>\n",
       "    <tr>\n",
       "      <td>Fighting</td>\n",
       "      <td>28.22</td>\n",
       "    </tr>\n",
       "    <tr>\n",
       "      <td>Racing</td>\n",
       "      <td>27.52</td>\n",
       "    </tr>\n",
       "    <tr>\n",
       "      <td>Platform</td>\n",
       "      <td>18.09</td>\n",
       "    </tr>\n",
       "    <tr>\n",
       "      <td>Adventure</td>\n",
       "      <td>17.55</td>\n",
       "    </tr>\n",
       "    <tr>\n",
       "      <td>Simulation</td>\n",
       "      <td>13.13</td>\n",
       "    </tr>\n",
       "    <tr>\n",
       "      <td>Strategy</td>\n",
       "      <td>3.96</td>\n",
       "    </tr>\n",
       "    <tr>\n",
       "      <td>Puzzle</td>\n",
       "      <td>2.21</td>\n",
       "    </tr>\n",
       "  </tbody>\n",
       "</table>\n",
       "</div>"
      ],
      "text/plain": [
       "              sum_sales\n",
       "genre                  \n",
       "Action           199.36\n",
       "Shooter          170.94\n",
       "Sports           109.48\n",
       "Role-Playing     101.44\n",
       "Misc              37.55\n",
       "Fighting          28.22\n",
       "Racing            27.52\n",
       "Platform          18.09\n",
       "Adventure         17.55\n",
       "Simulation        13.13\n",
       "Strategy           3.96\n",
       "Puzzle             2.21"
      ]
     },
     "metadata": {},
     "output_type": "display_data"
    }
   ],
   "source": [
    "data_genre = data.pivot_table(index='genre', values = 'sum_sales', aggfunc = 'sum').sort_values(by='sum_sales', ascending=False)\n",
    "data_period_genre = data_period.pivot_table(index='genre', values = 'sum_sales', aggfunc = 'sum').sort_values(by='sum_sales', ascending=False)\n",
    "display(data_genre)\n",
    "display(data_period_genre)"
   ]
  },
  {
   "cell_type": "markdown",
   "id": "4f10d268",
   "metadata": {},
   "source": [
    "#### Вывод\n",
    "\n",
    "Рассматривая общую таблицу и талблицу за три года, можно понять общее, что ТРИ ТОП жанра Action, Sports, Shooter\n",
    "\n",
    "Низкие продажи у Strategy, Puzzle, Simulation, Adventure"
   ]
  },
  {
   "cell_type": "markdown",
   "id": "b990f2c8",
   "metadata": {},
   "source": [
    "## Портрет пользователя каждого региона\n",
    "### ТОП 5 платформ"
   ]
  },
  {
   "cell_type": "code",
   "execution_count": 58,
   "id": "ab24355f",
   "metadata": {
    "scrolled": false
   },
   "outputs": [
    {
     "data": {
      "text/html": [
       "<div>\n",
       "<style scoped>\n",
       "    .dataframe tbody tr th:only-of-type {\n",
       "        vertical-align: middle;\n",
       "    }\n",
       "\n",
       "    .dataframe tbody tr th {\n",
       "        vertical-align: top;\n",
       "    }\n",
       "\n",
       "    .dataframe thead th {\n",
       "        text-align: right;\n",
       "    }\n",
       "</style>\n",
       "<table border=\"1\" class=\"dataframe\">\n",
       "  <thead>\n",
       "    <tr style=\"text-align: right;\">\n",
       "      <th></th>\n",
       "      <th>platform</th>\n",
       "      <th>eu_sales</th>\n",
       "      <th>eu_share</th>\n",
       "    </tr>\n",
       "  </thead>\n",
       "  <tbody>\n",
       "    <tr>\n",
       "      <td>3</td>\n",
       "      <td>PS4</td>\n",
       "      <td>130.04</td>\n",
       "      <td>0.551204</td>\n",
       "    </tr>\n",
       "    <tr>\n",
       "      <td>9</td>\n",
       "      <td>XOne</td>\n",
       "      <td>46.25</td>\n",
       "      <td>0.196041</td>\n",
       "    </tr>\n",
       "    <tr>\n",
       "      <td>2</td>\n",
       "      <td>PS3</td>\n",
       "      <td>25.54</td>\n",
       "      <td>0.108257</td>\n",
       "    </tr>\n",
       "    <tr>\n",
       "      <td>1</td>\n",
       "      <td>PC</td>\n",
       "      <td>17.97</td>\n",
       "      <td>0.076170</td>\n",
       "    </tr>\n",
       "    <tr>\n",
       "      <td>0</td>\n",
       "      <td>3DS</td>\n",
       "      <td>16.12</td>\n",
       "      <td>0.068328</td>\n",
       "    </tr>\n",
       "  </tbody>\n",
       "</table>\n",
       "</div>"
      ],
      "text/plain": [
       "  platform  eu_sales  eu_share\n",
       "3      PS4    130.04  0.551204\n",
       "9     XOne     46.25  0.196041\n",
       "2      PS3     25.54  0.108257\n",
       "1       PC     17.97  0.076170\n",
       "0      3DS     16.12  0.068328"
      ]
     },
     "metadata": {},
     "output_type": "display_data"
    }
   ],
   "source": [
    "top_region_eu = data_period.pivot_table(index='platform', values = 'eu_sales', aggfunc = 'sum').reset_index()\n",
    "top_region_eu = top_region_eu.sort_values(by='eu_sales', ascending=False)\n",
    "top_region_eu = top_region_eu.head()\n",
    "sum_eu = top_region_eu['eu_sales'].sum()\n",
    "top_region_eu['eu_share'] = top_region_eu['eu_sales'] / sum_eu\n",
    "display(top_region_eu)"
   ]
  },
  {
   "cell_type": "code",
   "execution_count": 59,
   "id": "d6d0e760",
   "metadata": {},
   "outputs": [
    {
     "data": {
      "text/html": [
       "<div>\n",
       "<style scoped>\n",
       "    .dataframe tbody tr th:only-of-type {\n",
       "        vertical-align: middle;\n",
       "    }\n",
       "\n",
       "    .dataframe tbody tr th {\n",
       "        vertical-align: top;\n",
       "    }\n",
       "\n",
       "    .dataframe thead th {\n",
       "        text-align: right;\n",
       "    }\n",
       "</style>\n",
       "<table border=\"1\" class=\"dataframe\">\n",
       "  <thead>\n",
       "    <tr style=\"text-align: right;\">\n",
       "      <th></th>\n",
       "      <th>platform</th>\n",
       "      <th>na_sales</th>\n",
       "      <th>na_share</th>\n",
       "    </tr>\n",
       "  </thead>\n",
       "  <tbody>\n",
       "    <tr>\n",
       "      <td>3</td>\n",
       "      <td>PS4</td>\n",
       "      <td>98.61</td>\n",
       "      <td>0.389963</td>\n",
       "    </tr>\n",
       "    <tr>\n",
       "      <td>9</td>\n",
       "      <td>XOne</td>\n",
       "      <td>81.27</td>\n",
       "      <td>0.321390</td>\n",
       "    </tr>\n",
       "    <tr>\n",
       "      <td>8</td>\n",
       "      <td>X360</td>\n",
       "      <td>28.30</td>\n",
       "      <td>0.111915</td>\n",
       "    </tr>\n",
       "    <tr>\n",
       "      <td>0</td>\n",
       "      <td>3DS</td>\n",
       "      <td>22.64</td>\n",
       "      <td>0.089532</td>\n",
       "    </tr>\n",
       "    <tr>\n",
       "      <td>2</td>\n",
       "      <td>PS3</td>\n",
       "      <td>22.05</td>\n",
       "      <td>0.087199</td>\n",
       "    </tr>\n",
       "  </tbody>\n",
       "</table>\n",
       "</div>"
      ],
      "text/plain": [
       "  platform  na_sales  na_share\n",
       "3      PS4     98.61  0.389963\n",
       "9     XOne     81.27  0.321390\n",
       "8     X360     28.30  0.111915\n",
       "0      3DS     22.64  0.089532\n",
       "2      PS3     22.05  0.087199"
      ]
     },
     "metadata": {},
     "output_type": "display_data"
    }
   ],
   "source": [
    "top_region_na = data_period.pivot_table(index='platform', values = 'na_sales', aggfunc = 'sum').reset_index()\n",
    "top_region_na = top_region_na.sort_values(by='na_sales', ascending=False)\n",
    "top_region_na = top_region_na.head()\n",
    "sum_na = top_region_na['na_sales'].sum()\n",
    "top_region_na['na_share'] = top_region_na['na_sales'] / sum_na\n",
    "display(top_region_na)"
   ]
  },
  {
   "cell_type": "code",
   "execution_count": 60,
   "id": "764ba0fa",
   "metadata": {},
   "outputs": [
    {
     "data": {
      "text/html": [
       "<div>\n",
       "<style scoped>\n",
       "    .dataframe tbody tr th:only-of-type {\n",
       "        vertical-align: middle;\n",
       "    }\n",
       "\n",
       "    .dataframe tbody tr th {\n",
       "        vertical-align: top;\n",
       "    }\n",
       "\n",
       "    .dataframe thead th {\n",
       "        text-align: right;\n",
       "    }\n",
       "</style>\n",
       "<table border=\"1\" class=\"dataframe\">\n",
       "  <thead>\n",
       "    <tr style=\"text-align: right;\">\n",
       "      <th></th>\n",
       "      <th>platform</th>\n",
       "      <th>jp_sales</th>\n",
       "      <th>jp_share</th>\n",
       "    </tr>\n",
       "  </thead>\n",
       "  <tbody>\n",
       "    <tr>\n",
       "      <td>0</td>\n",
       "      <td>3DS</td>\n",
       "      <td>44.24</td>\n",
       "      <td>0.479151</td>\n",
       "    </tr>\n",
       "    <tr>\n",
       "      <td>3</td>\n",
       "      <td>PS4</td>\n",
       "      <td>15.02</td>\n",
       "      <td>0.162677</td>\n",
       "    </tr>\n",
       "    <tr>\n",
       "      <td>5</td>\n",
       "      <td>PSV</td>\n",
       "      <td>14.54</td>\n",
       "      <td>0.157479</td>\n",
       "    </tr>\n",
       "    <tr>\n",
       "      <td>2</td>\n",
       "      <td>PS3</td>\n",
       "      <td>11.22</td>\n",
       "      <td>0.121521</td>\n",
       "    </tr>\n",
       "    <tr>\n",
       "      <td>7</td>\n",
       "      <td>WiiU</td>\n",
       "      <td>7.31</td>\n",
       "      <td>0.079173</td>\n",
       "    </tr>\n",
       "  </tbody>\n",
       "</table>\n",
       "</div>"
      ],
      "text/plain": [
       "  platform  jp_sales  jp_share\n",
       "0      3DS     44.24  0.479151\n",
       "3      PS4     15.02  0.162677\n",
       "5      PSV     14.54  0.157479\n",
       "2      PS3     11.22  0.121521\n",
       "7     WiiU      7.31  0.079173"
      ]
     },
     "metadata": {},
     "output_type": "display_data"
    }
   ],
   "source": [
    "top_region_jp = data_period.pivot_table(index='platform', values = 'jp_sales', aggfunc = 'sum').reset_index()\n",
    "top_region_jp = top_region_jp.sort_values(by='jp_sales', ascending=False)\n",
    "top_region_jp = top_region_jp.head()\n",
    "sum_jp = top_region_jp['jp_sales'].sum()\n",
    "top_region_jp['jp_share'] = top_region_jp['jp_sales'] / sum_jp\n",
    "display(top_region_jp)"
   ]
  },
  {
   "cell_type": "code",
   "execution_count": 69,
   "id": "d177b447",
   "metadata": {},
   "outputs": [
    {
     "data": {
      "image/png": "[encoded data removed]",
      "text/plain": [
       "<Figure size 1440x576 with 3 Axes>"
      ]
     },
     "metadata": {
      "needs_background": "light"
     },
     "output_type": "display_data"
    }
   ],
   "source": [
    "x1 = top_region_eu['platform']\n",
    "x2 = top_region_na['platform']\n",
    "x3 = top_region_jp['platform']\n",
    "y1 = top_region_eu['eu_share']\n",
    "y2 = top_region_na['na_share']\n",
    "y3 = top_region_jp['jp_share']\n",
    "f, (ax1, ax2, ax3) = plt.subplots(1, 3, figsize=(20, 8))\n",
    "\n",
    "sns.barplot(x=x1, y=y1, ax=ax1)\n",
    "ax1.axhline(0, color=\"k\", clip_on=False)\n",
    "ax1.set_title(\"eu_share\")\n",
    "\n",
    "sns.barplot(x=x2, y=y2, ax=ax2)\n",
    "ax2.axhline(0, clip_on=False)\n",
    "ax2.set_title(\"na_share\")\n",
    "\n",
    "sns.barplot(x=x3, y=y3, ax=ax3)\n",
    "ax3.axhline(0, clip_on=False)\n",
    "ax3.set_title(\"jp_share\")\n",
    "\n",
    "plt.show()              "
   ]
  },
  {
   "cell_type": "markdown",
   "id": "c94448d7",
   "metadata": {},
   "source": [
    "#### Вывод\n",
    "Из графика видно что:\n",
    "\n",
    "в EU лидирует PS4\n",
    "В NA лидирует PS4\n",
    "В JP лидирует 3DS\n"
   ]
  },
  {
   "cell_type": "markdown",
   "id": "45a49305",
   "metadata": {},
   "source": [
    "### ТОП жанры"
   ]
  },
  {
   "cell_type": "code",
   "execution_count": 74,
   "id": "876fb667",
   "metadata": {},
   "outputs": [
    {
     "data": {
      "text/html": [
       "<div>\n",
       "<style scoped>\n",
       "    .dataframe tbody tr th:only-of-type {\n",
       "        vertical-align: middle;\n",
       "    }\n",
       "\n",
       "    .dataframe tbody tr th {\n",
       "        vertical-align: top;\n",
       "    }\n",
       "\n",
       "    .dataframe thead th {\n",
       "        text-align: right;\n",
       "    }\n",
       "</style>\n",
       "<table border=\"1\" class=\"dataframe\">\n",
       "  <thead>\n",
       "    <tr style=\"text-align: right;\">\n",
       "      <th></th>\n",
       "      <th>genre</th>\n",
       "      <th>eu_sales</th>\n",
       "      <th>eu_share</th>\n",
       "    </tr>\n",
       "  </thead>\n",
       "  <tbody>\n",
       "    <tr>\n",
       "      <td>0</td>\n",
       "      <td>Action</td>\n",
       "      <td>74.68</td>\n",
       "      <td>0.327214</td>\n",
       "    </tr>\n",
       "    <tr>\n",
       "      <td>8</td>\n",
       "      <td>Shooter</td>\n",
       "      <td>65.52</td>\n",
       "      <td>0.287079</td>\n",
       "    </tr>\n",
       "    <tr>\n",
       "      <td>10</td>\n",
       "      <td>Sports</td>\n",
       "      <td>45.73</td>\n",
       "      <td>0.200368</td>\n",
       "    </tr>\n",
       "    <tr>\n",
       "      <td>7</td>\n",
       "      <td>Role-Playing</td>\n",
       "      <td>28.17</td>\n",
       "      <td>0.123428</td>\n",
       "    </tr>\n",
       "    <tr>\n",
       "      <td>6</td>\n",
       "      <td>Racing</td>\n",
       "      <td>14.13</td>\n",
       "      <td>0.061911</td>\n",
       "    </tr>\n",
       "  </tbody>\n",
       "</table>\n",
       "</div>"
      ],
      "text/plain": [
       "           genre  eu_sales  eu_share\n",
       "0         Action     74.68  0.327214\n",
       "8        Shooter     65.52  0.287079\n",
       "10        Sports     45.73  0.200368\n",
       "7   Role-Playing     28.17  0.123428\n",
       "6         Racing     14.13  0.061911"
      ]
     },
     "metadata": {},
     "output_type": "display_data"
    }
   ],
   "source": [
    "top_genre_eu = data_period.pivot_table(index='genre', values = 'eu_sales', aggfunc = 'sum').reset_index()\n",
    "top_genre_eu = top_genre_eu.sort_values(by='eu_sales', ascending=False)\n",
    "top_genre_eu = top_genre_eu.head()\n",
    "sum_genre_eu = top_genre_eu['eu_sales'].sum()\n",
    "top_genre_eu['eu_share'] = top_genre_eu['eu_sales'] / sum_genre_eu\n",
    "display(top_genre_eu)"
   ]
  },
  {
   "cell_type": "code",
   "execution_count": 75,
   "id": "087e1e27",
   "metadata": {
    "scrolled": true
   },
   "outputs": [
    {
     "data": {
      "text/html": [
       "<div>\n",
       "<style scoped>\n",
       "    .dataframe tbody tr th:only-of-type {\n",
       "        vertical-align: middle;\n",
       "    }\n",
       "\n",
       "    .dataframe tbody tr th {\n",
       "        vertical-align: top;\n",
       "    }\n",
       "\n",
       "    .dataframe thead th {\n",
       "        text-align: right;\n",
       "    }\n",
       "</style>\n",
       "<table border=\"1\" class=\"dataframe\">\n",
       "  <thead>\n",
       "    <tr style=\"text-align: right;\">\n",
       "      <th></th>\n",
       "      <th>genre</th>\n",
       "      <th>na_sales</th>\n",
       "      <th>na_share</th>\n",
       "    </tr>\n",
       "  </thead>\n",
       "  <tbody>\n",
       "    <tr>\n",
       "      <td>8</td>\n",
       "      <td>Shooter</td>\n",
       "      <td>79.02</td>\n",
       "      <td>0.320959</td>\n",
       "    </tr>\n",
       "    <tr>\n",
       "      <td>0</td>\n",
       "      <td>Action</td>\n",
       "      <td>72.53</td>\n",
       "      <td>0.294598</td>\n",
       "    </tr>\n",
       "    <tr>\n",
       "      <td>10</td>\n",
       "      <td>Sports</td>\n",
       "      <td>46.13</td>\n",
       "      <td>0.187368</td>\n",
       "    </tr>\n",
       "    <tr>\n",
       "      <td>7</td>\n",
       "      <td>Role-Playing</td>\n",
       "      <td>33.47</td>\n",
       "      <td>0.135946</td>\n",
       "    </tr>\n",
       "    <tr>\n",
       "      <td>3</td>\n",
       "      <td>Misc</td>\n",
       "      <td>15.05</td>\n",
       "      <td>0.061129</td>\n",
       "    </tr>\n",
       "  </tbody>\n",
       "</table>\n",
       "</div>"
      ],
      "text/plain": [
       "           genre  na_sales  na_share\n",
       "8        Shooter     79.02  0.320959\n",
       "0         Action     72.53  0.294598\n",
       "10        Sports     46.13  0.187368\n",
       "7   Role-Playing     33.47  0.135946\n",
       "3           Misc     15.05  0.061129"
      ]
     },
     "metadata": {},
     "output_type": "display_data"
    }
   ],
   "source": [
    "top_genre_na = data_period.pivot_table(index='genre', values = 'na_sales', aggfunc = 'sum').reset_index()\n",
    "top_genre_na = top_genre_na.sort_values(by='na_sales', ascending=False)\n",
    "top_genre_na = top_genre_na.head()\n",
    "sum_genre_na = top_genre_na['na_sales'].sum()\n",
    "top_genre_na['na_share'] = top_genre_na['na_sales'] / sum_genre_na\n",
    "display(top_genre_na)"
   ]
  },
  {
   "cell_type": "code",
   "execution_count": 76,
   "id": "093880ab",
   "metadata": {
    "scrolled": true
   },
   "outputs": [
    {
     "data": {
      "text/html": [
       "<div>\n",
       "<style scoped>\n",
       "    .dataframe tbody tr th:only-of-type {\n",
       "        vertical-align: middle;\n",
       "    }\n",
       "\n",
       "    .dataframe tbody tr th {\n",
       "        vertical-align: top;\n",
       "    }\n",
       "\n",
       "    .dataframe thead th {\n",
       "        text-align: right;\n",
       "    }\n",
       "</style>\n",
       "<table border=\"1\" class=\"dataframe\">\n",
       "  <thead>\n",
       "    <tr style=\"text-align: right;\">\n",
       "      <th></th>\n",
       "      <th>genre</th>\n",
       "      <th>jp_sales</th>\n",
       "      <th>jp_share</th>\n",
       "    </tr>\n",
       "  </thead>\n",
       "  <tbody>\n",
       "    <tr>\n",
       "      <td>7</td>\n",
       "      <td>Role-Playing</td>\n",
       "      <td>31.16</td>\n",
       "      <td>0.401598</td>\n",
       "    </tr>\n",
       "    <tr>\n",
       "      <td>0</td>\n",
       "      <td>Action</td>\n",
       "      <td>29.58</td>\n",
       "      <td>0.381235</td>\n",
       "    </tr>\n",
       "    <tr>\n",
       "      <td>2</td>\n",
       "      <td>Fighting</td>\n",
       "      <td>6.37</td>\n",
       "      <td>0.082098</td>\n",
       "    </tr>\n",
       "    <tr>\n",
       "      <td>3</td>\n",
       "      <td>Misc</td>\n",
       "      <td>5.61</td>\n",
       "      <td>0.072303</td>\n",
       "    </tr>\n",
       "    <tr>\n",
       "      <td>8</td>\n",
       "      <td>Shooter</td>\n",
       "      <td>4.87</td>\n",
       "      <td>0.062766</td>\n",
       "    </tr>\n",
       "  </tbody>\n",
       "</table>\n",
       "</div>"
      ],
      "text/plain": [
       "          genre  jp_sales  jp_share\n",
       "7  Role-Playing     31.16  0.401598\n",
       "0        Action     29.58  0.381235\n",
       "2      Fighting      6.37  0.082098\n",
       "3          Misc      5.61  0.072303\n",
       "8       Shooter      4.87  0.062766"
      ]
     },
     "metadata": {},
     "output_type": "display_data"
    }
   ],
   "source": [
    "top_genre_jp = data_period.pivot_table(index='genre', values = 'jp_sales', aggfunc = 'sum').reset_index()\n",
    "top_genre_jp = top_genre_jp.sort_values(by='jp_sales', ascending=False)\n",
    "top_genre_jp = top_genre_jp.head()\n",
    "sum__genre_jp = top_genre_jp['jp_sales'].sum()\n",
    "top_genre_jp['jp_share'] = top_genre_jp['jp_sales'] / sum__genre_jp\n",
    "display(top_genre_jp)"
   ]
  },
  {
   "cell_type": "code",
   "execution_count": 77,
   "id": "89053e76",
   "metadata": {},
   "outputs": [
    {
     "data": {
      "image/png": "[encoded data removed]",
      "text/plain": [
       "<Figure size 1440x576 with 3 Axes>"
      ]
     },
     "metadata": {
      "needs_background": "light"
     },
     "output_type": "display_data"
    }
   ],
   "source": [
    "x1 = top_genre_eu['genre']\n",
    "x2 = top_genre_na['genre']\n",
    "x3 = top_genre_jp['genre']\n",
    "y1 = top_genre_eu['eu_share']\n",
    "y2 = top_genre_na['na_share']\n",
    "y3 = top_genre_jp['jp_share']\n",
    "f, (ax1, ax2, ax3) = plt.subplots(1, 3, figsize=(20, 8))\n",
    "\n",
    "sns.barplot(x=x1, y=y1, ax=ax1)\n",
    "ax1.axhline(0, color=\"k\", clip_on=False)\n",
    "ax1.set_title(\"eu_share\")\n",
    "\n",
    "sns.barplot(x=x2, y=y2, ax=ax2)\n",
    "ax2.axhline(0, clip_on=False)\n",
    "ax2.set_title(\"na_share\")\n",
    "\n",
    "sns.barplot(x=x3, y=y3, ax=ax3)\n",
    "ax3.axhline(0, clip_on=False)\n",
    "ax3.set_title(\"jp_share\")\n",
    "\n",
    "plt.show() "
   ]
  },
  {
   "cell_type": "markdown",
   "id": "20c066f7",
   "metadata": {},
   "source": [
    "#### Вывод\n",
    "Из графика видно:\n",
    "\n",
    "EU -Action\n",
    "\n",
    "NA - Shooter\n",
    "\n",
    "JP - Role_Playing\n"
   ]
  },
  {
   "cell_type": "markdown",
   "id": "8c7ec14f",
   "metadata": {},
   "source": [
    "### Рейтинг ESRB продаж по регионам"
   ]
  },
  {
   "cell_type": "code",
   "execution_count": 79,
   "id": "4cd5e1da",
   "metadata": {},
   "outputs": [
    {
     "data": {
      "text/html": [
       "<div>\n",
       "<style scoped>\n",
       "    .dataframe tbody tr th:only-of-type {\n",
       "        vertical-align: middle;\n",
       "    }\n",
       "\n",
       "    .dataframe tbody tr th {\n",
       "        vertical-align: top;\n",
       "    }\n",
       "\n",
       "    .dataframe thead th {\n",
       "        text-align: right;\n",
       "    }\n",
       "</style>\n",
       "<table border=\"1\" class=\"dataframe\">\n",
       "  <thead>\n",
       "    <tr style=\"text-align: right;\">\n",
       "      <th></th>\n",
       "      <th>index</th>\n",
       "      <th>rating</th>\n",
       "      <th>eu_sales</th>\n",
       "      <th>jp_sales</th>\n",
       "      <th>na_sales</th>\n",
       "    </tr>\n",
       "  </thead>\n",
       "  <tbody>\n",
       "    <tr>\n",
       "      <td>0</td>\n",
       "      <td>2</td>\n",
       "      <td>M</td>\n",
       "      <td>93.44</td>\n",
       "      <td>8.01</td>\n",
       "      <td>96.42</td>\n",
       "    </tr>\n",
       "    <tr>\n",
       "      <td>1</td>\n",
       "      <td>0</td>\n",
       "      <td>E</td>\n",
       "      <td>57.94</td>\n",
       "      <td>8.91</td>\n",
       "      <td>49.55</td>\n",
       "    </tr>\n",
       "    <tr>\n",
       "      <td>2</td>\n",
       "      <td>3</td>\n",
       "      <td>T</td>\n",
       "      <td>34.05</td>\n",
       "      <td>14.78</td>\n",
       "      <td>38.93</td>\n",
       "    </tr>\n",
       "    <tr>\n",
       "      <td>3</td>\n",
       "      <td>1</td>\n",
       "      <td>E10+</td>\n",
       "      <td>26.35</td>\n",
       "      <td>4.49</td>\n",
       "      <td>34.49</td>\n",
       "    </tr>\n",
       "  </tbody>\n",
       "</table>\n",
       "</div>"
      ],
      "text/plain": [
       "   index rating  eu_sales  jp_sales  na_sales\n",
       "0      2      M     93.44      8.01     96.42\n",
       "1      0      E     57.94      8.91     49.55\n",
       "2      3      T     34.05     14.78     38.93\n",
       "3      1   E10+     26.35      4.49     34.49"
      ]
     },
     "metadata": {},
     "output_type": "display_data"
    }
   ],
   "source": [
    "data_period_rating = data_period.dropna(subset=['rating']).reset_index()\n",
    "rating = data_period_rating.pivot_table(index='rating', values = ['na_sales', 'eu_sales', 'jp_sales'], aggfunc = 'sum').reset_index()\n",
    "rating = rating.sort_values(by=['eu_sales', 'na_sales', 'jp_sales'], ascending=False).reset_index()\n",
    "display(rating)"
   ]
  },
  {
   "cell_type": "code",
   "execution_count": 80,
   "id": "aff0be05",
   "metadata": {},
   "outputs": [
    {
     "data": {
      "image/png": "[encoded data removed]",
      "text/plain": [
       "<Figure size 1440x576 with 3 Axes>"
      ]
     },
     "metadata": {
      "needs_background": "light"
     },
     "output_type": "display_data"
    }
   ],
   "source": [
    "x = rating['rating']\n",
    "y1 = rating['eu_sales']\n",
    "y2 = rating['na_sales']\n",
    "y3 = rating['jp_sales']\n",
    "f, (ax1, ax2, ax3) = plt.subplots(1, 3, figsize=(20, 8), sharex=True)\n",
    "\n",
    "sns.barplot(x=x, y=y1, ax=ax1)\n",
    "ax1.axhline(0, clip_on=False)\n",
    "ax1.set_ylabel(\"eu_sales\")\n",
    "\n",
    "sns.barplot(x=x, y=y2, ax=ax2)\n",
    "ax2.axhline(0, clip_on=False)\n",
    "ax2.set_ylabel(\"na_sales\")\n",
    "\n",
    "sns.barplot(x=x, y=y3, ax=ax3)\n",
    "ax3.axhline(0, clip_on=False)\n",
    "ax3.set_ylabel(\"jp_sales\")\n",
    "\n",
    "plt.show() "
   ]
  },
  {
   "cell_type": "markdown",
   "id": "780ce15b",
   "metadata": {},
   "source": [
    "#### Вывод\n",
    "ESRB рейтинг влияет на продажи\n",
    "\n",
    "Из графика видно что в EU и NA больше продаюся игры с рейтингом М, Е, Т, E10+\n",
    "\n",
    "В JP ситуация координально отлицается лидирует T, E, M, E10+\n"
   ]
  },
  {
   "cell_type": "markdown",
   "id": "5c642479",
   "metadata": {},
   "source": [
    "## Проверка гипотез\n",
    "### Средние пользовательские рейтинги платформ Xbox One и PC одинаковые"
   ]
  },
  {
   "cell_type": "code",
   "execution_count": 81,
   "id": "10387cf6",
   "metadata": {},
   "outputs": [],
   "source": [
    "data_XOne = data.query('platform == \"XOne\"')\n",
    "data_XOne = data_XOne.dropna(subset=['user_score']).reset_index()\n",
    "data_PC = data.query('platform == \"PC\"')\n",
    "data_PC = data_PC.dropna(subset=['user_score']).reset_index()"
   ]
  },
  {
   "cell_type": "markdown",
   "id": "9cb59f1c",
   "metadata": {},
   "source": [
    "H0: Средний рейтинг Xbox One равен среднему рейтингу PC      \n",
    "H1: Средний рейтинг не равны  "
   ]
  },
  {
   "cell_type": "code",
   "execution_count": 82,
   "id": "d71d8aca",
   "metadata": {},
   "outputs": [
    {
     "name": "stdout",
     "output_type": "stream",
     "text": [
      "Отвергаем нулевую гипотезу\n"
     ]
    }
   ],
   "source": [
    "alpha = 0.05\n",
    "results = st.ttest_ind(data_XOne['user_score'], data_PC['user_score'])\n",
    "\n",
    "\n",
    "if results.pvalue < alpha:\n",
    "    print('Отвергаем нулевую гипотезу')\n",
    "else:\n",
    "    print('Не получилось отвергнуть нулевую гипотезу')\n"
   ]
  },
  {
   "cell_type": "markdown",
   "id": "f4002e55",
   "metadata": {},
   "source": [
    "#### Вывод\n",
    "Средние рейтинги не равны "
   ]
  },
  {
   "cell_type": "markdown",
   "id": "3f5f387f",
   "metadata": {},
   "source": [
    "### Средние пользовательские рейтинги жанров Action и Sports разные"
   ]
  },
  {
   "cell_type": "code",
   "execution_count": 83,
   "id": "f285765b",
   "metadata": {},
   "outputs": [],
   "source": [
    "data_action = data.query('genre == \"Action\"')\n",
    "data_action = data_action.dropna(subset=['user_score']).reset_index()\n",
    "data_sports = data.query('genre == \"Sports\"')\n",
    "data_sports = data_sports.dropna(subset=['user_score']).reset_index()"
   ]
  },
  {
   "cell_type": "markdown",
   "id": "de00371b",
   "metadata": {},
   "source": [
    "H0: Средний рейтинг Action равен среднему рейтингу Sports      \n",
    "H1: Средний рейтинг не равны  "
   ]
  },
  {
   "cell_type": "code",
   "execution_count": 84,
   "id": "db2074cf",
   "metadata": {},
   "outputs": [
    {
     "name": "stdout",
     "output_type": "stream",
     "text": [
      "Не получилось отвергнуть нулевую гипотезу\n"
     ]
    }
   ],
   "source": [
    "alpha = 0.05\n",
    "results = st.ttest_ind(data_action['user_score'], data_sports['user_score'])\n",
    "\n",
    "\n",
    "if results.pvalue < alpha:\n",
    "    print('Отвергаем нулевую гипотезу')\n",
    "else:\n",
    "    print('Не получилось отвергнуть нулевую гипотезу')\n"
   ]
  },
  {
   "cell_type": "markdown",
   "id": "0ec44397",
   "metadata": {},
   "source": [
    "#### Вывод\n",
    "Средний рейтинг Action равен среднему рейтингу Sports"
   ]
  },
  {
   "cell_type": "markdown",
   "id": "156fa535",
   "metadata": {},
   "source": [
    "## Вывод\n",
    "\n",
    "Проанализовал файл продаж и играми в разных регионах, для формирования заказа на 2017 год, необходимо учитывать:\n",
    "\n",
    "1. Платформа. В среднем на платформой пользуются 5 лет, поэтому нельзя заказывать игры на старых платформах\n",
    "2. Регион. Продажи в регионах отличаются особенно в Японии (странный вкус)\n",
    "3. Жанр. ТОП это Action и Shooter\n",
    "4. Обязательно смотреть на оценки критиков и пользователей, причем оценка критиков больше влиеят на продажи, чем оценка пользователя\n",
    "5. рейтинг ESRB. Продажи зависят от возвратсной категории. В принципе это логично, так как аудитория и количество людей разное."
   ]
  }
 ],
 "metadata": {
  "ExecuteTimeLog": [
   {
    "duration": 1624,
    "start_time": "2021-10-06T09:29:33.853Z"
   },
   {
    "duration": 23,
    "start_time": "2021-10-06T09:29:35.480Z"
   },
   {
    "duration": 26,
    "start_time": "2021-10-06T09:29:35.511Z"
   },
   {
    "duration": 55,
    "start_time": "2021-10-06T09:29:35.539Z"
   },
   {
    "duration": 31,
    "start_time": "2021-10-06T09:29:35.597Z"
   },
   {
    "duration": 53,
    "start_time": "2021-10-06T09:29:35.631Z"
   },
   {
    "duration": 530,
    "start_time": "2021-10-06T09:29:35.688Z"
   },
   {
    "duration": 556,
    "start_time": "2021-10-06T09:29:36.222Z"
   },
   {
    "duration": 11,
    "start_time": "2021-10-06T09:29:36.783Z"
   },
   {
    "duration": 30,
    "start_time": "2021-10-06T09:29:36.797Z"
   },
   {
    "duration": 688,
    "start_time": "2021-10-06T09:29:36.831Z"
   },
   {
    "duration": 33,
    "start_time": "2021-10-06T09:29:37.522Z"
   },
   {
    "duration": 1643,
    "start_time": "2021-10-06T09:29:37.557Z"
   },
   {
    "duration": 41,
    "start_time": "2021-10-06T09:29:39.202Z"
   },
   {
    "duration": 51,
    "start_time": "2021-10-06T09:29:39.246Z"
   },
   {
    "duration": 49,
    "start_time": "2021-10-06T09:29:39.300Z"
   },
   {
    "duration": 814,
    "start_time": "2021-10-06T09:29:39.352Z"
   },
   {
    "duration": 39,
    "start_time": "2021-10-06T09:29:40.169Z"
   },
   {
    "duration": 380,
    "start_time": "2021-10-06T09:29:40.210Z"
   },
   {
    "duration": 395,
    "start_time": "2021-10-06T09:29:40.592Z"
   },
   {
    "duration": 10,
    "start_time": "2021-10-06T09:29:40.989Z"
   },
   {
    "duration": 15,
    "start_time": "2021-10-06T09:29:41.003Z"
   },
   {
    "duration": 69,
    "start_time": "2021-10-06T09:29:41.020Z"
   },
   {
    "duration": 30,
    "start_time": "2021-10-06T09:29:41.091Z"
   },
   {
    "duration": 1251,
    "start_time": "2021-10-06T09:29:41.123Z"
   },
   {
    "duration": 28,
    "start_time": "2021-10-06T09:29:42.382Z"
   },
   {
    "duration": 1370,
    "start_time": "2021-10-06T09:29:42.412Z"
   },
   {
    "duration": 38,
    "start_time": "2021-10-06T09:29:43.785Z"
   },
   {
    "duration": 1148,
    "start_time": "2021-10-06T09:29:43.826Z"
   },
   {
    "duration": 23,
    "start_time": "2021-10-06T09:29:44.982Z"
   },
   {
    "duration": 8,
    "start_time": "2021-10-06T09:29:45.008Z"
   },
   {
    "duration": 47,
    "start_time": "2021-10-06T09:29:45.019Z"
   },
   {
    "duration": 18,
    "start_time": "2021-10-06T09:29:45.069Z"
   },
   {
    "duration": 9,
    "start_time": "2021-10-06T09:34:13.992Z"
   },
   {
    "duration": 197,
    "start_time": "2021-10-07T10:29:05.210Z"
   },
   {
    "duration": 1201,
    "start_time": "2021-10-07T10:29:19.097Z"
   },
   {
    "duration": 15,
    "start_time": "2021-10-07T10:29:20.300Z"
   },
   {
    "duration": 11,
    "start_time": "2021-10-07T10:29:20.317Z"
   },
   {
    "duration": 12,
    "start_time": "2021-10-07T10:29:20.329Z"
   },
   {
    "duration": 17,
    "start_time": "2021-10-07T10:29:20.343Z"
   },
   {
    "duration": 38,
    "start_time": "2021-10-07T10:29:20.362Z"
   },
   {
    "duration": 320,
    "start_time": "2021-10-07T10:29:20.402Z"
   },
   {
    "duration": 229,
    "start_time": "2021-10-07T10:29:20.725Z"
   },
   {
    "duration": 185086,
    "start_time": "2021-10-07T10:26:15.870Z"
   },
   {
    "duration": 185083,
    "start_time": "2021-10-07T10:26:15.874Z"
   },
   {
    "duration": 185079,
    "start_time": "2021-10-07T10:26:15.879Z"
   },
   {
    "duration": 185074,
    "start_time": "2021-10-07T10:26:15.885Z"
   },
   {
    "duration": 185070,
    "start_time": "2021-10-07T10:26:15.889Z"
   },
   {
    "duration": 185067,
    "start_time": "2021-10-07T10:26:15.893Z"
   },
   {
    "duration": 185061,
    "start_time": "2021-10-07T10:26:15.900Z"
   },
   {
    "duration": 185056,
    "start_time": "2021-10-07T10:26:15.906Z"
   },
   {
    "duration": 185049,
    "start_time": "2021-10-07T10:26:15.914Z"
   },
   {
    "duration": 185043,
    "start_time": "2021-10-07T10:26:15.921Z"
   },
   {
    "duration": 185032,
    "start_time": "2021-10-07T10:26:15.933Z"
   },
   {
    "duration": 185028,
    "start_time": "2021-10-07T10:26:15.938Z"
   },
   {
    "duration": 185025,
    "start_time": "2021-10-07T10:26:15.942Z"
   },
   {
    "duration": 185022,
    "start_time": "2021-10-07T10:26:15.946Z"
   },
   {
    "duration": 185018,
    "start_time": "2021-10-07T10:26:15.951Z"
   },
   {
    "duration": 185013,
    "start_time": "2021-10-07T10:26:15.957Z"
   },
   {
    "duration": 185008,
    "start_time": "2021-10-07T10:26:15.962Z"
   },
   {
    "duration": 185005,
    "start_time": "2021-10-07T10:26:15.966Z"
   },
   {
    "duration": 184999,
    "start_time": "2021-10-07T10:26:15.973Z"
   },
   {
    "duration": 184992,
    "start_time": "2021-10-07T10:26:15.981Z"
   },
   {
    "duration": 184987,
    "start_time": "2021-10-07T10:26:15.987Z"
   },
   {
    "duration": 184984,
    "start_time": "2021-10-07T10:26:15.991Z"
   },
   {
    "duration": 184981,
    "start_time": "2021-10-07T10:26:15.995Z"
   },
   {
    "duration": 184979,
    "start_time": "2021-10-07T10:26:15.998Z"
   },
   {
    "duration": 184973,
    "start_time": "2021-10-07T10:26:16.005Z"
   },
   {
    "duration": 184968,
    "start_time": "2021-10-07T10:26:16.011Z"
   },
   {
    "duration": 184961,
    "start_time": "2021-10-07T10:26:16.019Z"
   },
   {
    "duration": 14,
    "start_time": "2021-10-07T10:30:26.379Z"
   },
   {
    "duration": 357,
    "start_time": "2021-10-07T10:30:48.797Z"
   },
   {
    "duration": 7,
    "start_time": "2021-10-07T10:30:54.061Z"
   },
   {
    "duration": 18,
    "start_time": "2021-10-07T10:31:39.183Z"
   },
   {
    "duration": 18,
    "start_time": "2021-10-07T10:32:07.843Z"
   },
   {
    "duration": 18,
    "start_time": "2021-10-07T10:32:21.106Z"
   },
   {
    "duration": 19,
    "start_time": "2021-10-07T10:32:32.058Z"
   },
   {
    "duration": 26,
    "start_time": "2021-10-07T10:33:01.060Z"
   },
   {
    "duration": 18,
    "start_time": "2021-10-07T10:33:18.767Z"
   },
   {
    "duration": 183,
    "start_time": "2021-10-07T10:33:46.170Z"
   },
   {
    "duration": 32,
    "start_time": "2021-10-07T10:33:58.916Z"
   },
   {
    "duration": 46,
    "start_time": "2021-10-07T10:36:59.553Z"
   },
   {
    "duration": 50,
    "start_time": "2021-10-07T10:37:03.595Z"
   },
   {
    "duration": 52,
    "start_time": "2021-10-07T10:37:37.350Z"
   },
   {
    "duration": 51,
    "start_time": "2021-10-07T10:37:46.746Z"
   },
   {
    "duration": 48,
    "start_time": "2021-10-07T10:39:32.249Z"
   },
   {
    "duration": 37,
    "start_time": "2021-10-07T10:39:38.130Z"
   },
   {
    "duration": 35,
    "start_time": "2021-10-07T10:40:05.922Z"
   },
   {
    "duration": 35,
    "start_time": "2021-10-07T10:42:13.148Z"
   },
   {
    "duration": 49,
    "start_time": "2021-10-07T10:45:10.636Z"
   },
   {
    "duration": 63,
    "start_time": "2021-10-07T10:45:14.553Z"
   },
   {
    "duration": 1169,
    "start_time": "2021-10-08T13:04:09.815Z"
   },
   {
    "duration": 15,
    "start_time": "2021-10-08T13:04:10.986Z"
   },
   {
    "duration": 12,
    "start_time": "2021-10-08T13:04:11.003Z"
   },
   {
    "duration": 13,
    "start_time": "2021-10-08T13:04:11.017Z"
   },
   {
    "duration": 18,
    "start_time": "2021-10-08T13:04:11.031Z"
   },
   {
    "duration": 14,
    "start_time": "2021-10-08T13:04:11.050Z"
   },
   {
    "duration": 361,
    "start_time": "2021-10-08T13:04:11.066Z"
   },
   {
    "duration": 14,
    "start_time": "2021-10-08T13:04:11.429Z"
   },
   {
    "duration": 354,
    "start_time": "2021-10-08T13:04:11.445Z"
   },
   {
    "duration": 24,
    "start_time": "2021-10-08T13:04:11.802Z"
   },
   {
    "duration": 223,
    "start_time": "2021-10-08T13:04:11.828Z"
   },
   {
    "duration": 185413,
    "start_time": "2021-10-08T13:01:06.640Z"
   },
   {
    "duration": 185408,
    "start_time": "2021-10-08T13:01:06.647Z"
   },
   {
    "duration": 185402,
    "start_time": "2021-10-08T13:01:06.654Z"
   },
   {
    "duration": 185399,
    "start_time": "2021-10-08T13:01:06.659Z"
   },
   {
    "duration": 185391,
    "start_time": "2021-10-08T13:01:06.668Z"
   },
   {
    "duration": 185385,
    "start_time": "2021-10-08T13:01:06.675Z"
   },
   {
    "duration": 185382,
    "start_time": "2021-10-08T13:01:06.680Z"
   },
   {
    "duration": 185378,
    "start_time": "2021-10-08T13:01:06.685Z"
   },
   {
    "duration": 185375,
    "start_time": "2021-10-08T13:01:06.690Z"
   },
   {
    "duration": 185370,
    "start_time": "2021-10-08T13:01:06.696Z"
   },
   {
    "duration": 185368,
    "start_time": "2021-10-08T13:01:06.700Z"
   },
   {
    "duration": 185365,
    "start_time": "2021-10-08T13:01:06.704Z"
   },
   {
    "duration": 185361,
    "start_time": "2021-10-08T13:01:06.709Z"
   },
   {
    "duration": 185358,
    "start_time": "2021-10-08T13:01:06.714Z"
   },
   {
    "duration": 185355,
    "start_time": "2021-10-08T13:01:06.718Z"
   },
   {
    "duration": 185347,
    "start_time": "2021-10-08T13:01:06.728Z"
   },
   {
    "duration": 185343,
    "start_time": "2021-10-08T13:01:06.733Z"
   },
   {
    "duration": 185340,
    "start_time": "2021-10-08T13:01:06.737Z"
   },
   {
    "duration": 185336,
    "start_time": "2021-10-08T13:01:06.741Z"
   },
   {
    "duration": 185331,
    "start_time": "2021-10-08T13:01:06.747Z"
   },
   {
    "duration": 185326,
    "start_time": "2021-10-08T13:01:06.753Z"
   },
   {
    "duration": 185321,
    "start_time": "2021-10-08T13:01:06.758Z"
   },
   {
    "duration": 185317,
    "start_time": "2021-10-08T13:01:06.763Z"
   },
   {
    "duration": 185313,
    "start_time": "2021-10-08T13:01:06.768Z"
   },
   {
    "duration": 21,
    "start_time": "2021-10-08T13:04:36.845Z"
   },
   {
    "duration": 34,
    "start_time": "2021-10-08T13:06:07.232Z"
   },
   {
    "duration": 44,
    "start_time": "2021-10-08T13:06:52.222Z"
   },
   {
    "duration": 1149,
    "start_time": "2021-10-08T13:10:17.905Z"
   },
   {
    "duration": 15,
    "start_time": "2021-10-08T13:10:19.056Z"
   },
   {
    "duration": 12,
    "start_time": "2021-10-08T13:10:19.073Z"
   },
   {
    "duration": 11,
    "start_time": "2021-10-08T13:10:19.087Z"
   },
   {
    "duration": 19,
    "start_time": "2021-10-08T13:10:19.099Z"
   },
   {
    "duration": 13,
    "start_time": "2021-10-08T13:10:19.119Z"
   },
   {
    "duration": 339,
    "start_time": "2021-10-08T13:10:19.133Z"
   },
   {
    "duration": 14,
    "start_time": "2021-10-08T13:10:19.474Z"
   },
   {
    "duration": 347,
    "start_time": "2021-10-08T13:10:19.490Z"
   },
   {
    "duration": 36,
    "start_time": "2021-10-08T13:10:19.839Z"
   },
   {
    "duration": 230,
    "start_time": "2021-10-08T13:10:19.877Z"
   },
   {
    "duration": 185415,
    "start_time": "2021-10-08T13:07:14.695Z"
   },
   {
    "duration": 185412,
    "start_time": "2021-10-08T13:07:14.699Z"
   },
   {
    "duration": 185409,
    "start_time": "2021-10-08T13:07:14.703Z"
   },
   {
    "duration": 185405,
    "start_time": "2021-10-08T13:07:14.708Z"
   },
   {
    "duration": 185403,
    "start_time": "2021-10-08T13:07:14.712Z"
   },
   {
    "duration": 185399,
    "start_time": "2021-10-08T13:07:14.717Z"
   },
   {
    "duration": 185394,
    "start_time": "2021-10-08T13:07:14.723Z"
   },
   {
    "duration": 185383,
    "start_time": "2021-10-08T13:07:14.735Z"
   },
   {
    "duration": 185380,
    "start_time": "2021-10-08T13:07:14.739Z"
   },
   {
    "duration": 185375,
    "start_time": "2021-10-08T13:07:14.745Z"
   },
   {
    "duration": 185373,
    "start_time": "2021-10-08T13:07:14.749Z"
   },
   {
    "duration": 185369,
    "start_time": "2021-10-08T13:07:14.754Z"
   },
   {
    "duration": 185368,
    "start_time": "2021-10-08T13:07:14.757Z"
   },
   {
    "duration": 185364,
    "start_time": "2021-10-08T13:07:14.762Z"
   },
   {
    "duration": 185361,
    "start_time": "2021-10-08T13:07:14.766Z"
   },
   {
    "duration": 185357,
    "start_time": "2021-10-08T13:07:14.771Z"
   },
   {
    "duration": 185353,
    "start_time": "2021-10-08T13:07:14.776Z"
   },
   {
    "duration": 185350,
    "start_time": "2021-10-08T13:07:14.780Z"
   },
   {
    "duration": 185347,
    "start_time": "2021-10-08T13:07:14.784Z"
   },
   {
    "duration": 185344,
    "start_time": "2021-10-08T13:07:14.788Z"
   },
   {
    "duration": 185341,
    "start_time": "2021-10-08T13:07:14.792Z"
   },
   {
    "duration": 185338,
    "start_time": "2021-10-08T13:07:14.796Z"
   },
   {
    "duration": 185330,
    "start_time": "2021-10-08T13:07:14.805Z"
   },
   {
    "duration": 185327,
    "start_time": "2021-10-08T13:07:14.809Z"
   },
   {
    "duration": 32,
    "start_time": "2021-10-08T13:11:07.898Z"
   },
   {
    "duration": 47,
    "start_time": "2021-10-08T13:11:49.417Z"
   },
   {
    "duration": 44,
    "start_time": "2021-10-08T13:11:52.491Z"
   },
   {
    "duration": 50,
    "start_time": "2021-10-08T13:12:12.502Z"
   },
   {
    "duration": 33,
    "start_time": "2021-10-08T13:12:16.440Z"
   },
   {
    "duration": 153,
    "start_time": "2021-10-08T13:15:29.100Z"
   },
   {
    "duration": 8856,
    "start_time": "2021-10-08T13:15:35.089Z"
   },
   {
    "duration": 30,
    "start_time": "2021-10-08T13:16:43.808Z"
   },
   {
    "duration": 41,
    "start_time": "2021-10-08T13:17:24.127Z"
   },
   {
    "duration": 1204,
    "start_time": "2021-10-08T13:18:59.166Z"
   },
   {
    "duration": 15,
    "start_time": "2021-10-08T13:19:00.372Z"
   },
   {
    "duration": 20,
    "start_time": "2021-10-08T13:19:00.389Z"
   },
   {
    "duration": 16,
    "start_time": "2021-10-08T13:19:00.410Z"
   },
   {
    "duration": 20,
    "start_time": "2021-10-08T13:19:00.428Z"
   },
   {
    "duration": 14,
    "start_time": "2021-10-08T13:19:00.449Z"
   },
   {
    "duration": 331,
    "start_time": "2021-10-08T13:19:00.464Z"
   },
   {
    "duration": 13,
    "start_time": "2021-10-08T13:19:00.800Z"
   },
   {
    "duration": 351,
    "start_time": "2021-10-08T13:19:00.815Z"
   },
   {
    "duration": 54,
    "start_time": "2021-10-08T13:19:01.168Z"
   },
   {
    "duration": 229,
    "start_time": "2021-10-08T13:19:01.223Z"
   },
   {
    "duration": 185415,
    "start_time": "2021-10-08T13:15:56.039Z"
   },
   {
    "duration": 185412,
    "start_time": "2021-10-08T13:15:56.043Z"
   },
   {
    "duration": 185402,
    "start_time": "2021-10-08T13:15:56.054Z"
   },
   {
    "duration": 185399,
    "start_time": "2021-10-08T13:15:56.058Z"
   },
   {
    "duration": 185398,
    "start_time": "2021-10-08T13:15:56.061Z"
   },
   {
    "duration": 185393,
    "start_time": "2021-10-08T13:15:56.067Z"
   },
   {
    "duration": 185391,
    "start_time": "2021-10-08T13:15:56.070Z"
   },
   {
    "duration": 185388,
    "start_time": "2021-10-08T13:15:56.074Z"
   },
   {
    "duration": 185385,
    "start_time": "2021-10-08T13:15:56.078Z"
   },
   {
    "duration": 185381,
    "start_time": "2021-10-08T13:15:56.083Z"
   },
   {
    "duration": 185378,
    "start_time": "2021-10-08T13:15:56.087Z"
   },
   {
    "duration": 185373,
    "start_time": "2021-10-08T13:15:56.093Z"
   },
   {
    "duration": 185369,
    "start_time": "2021-10-08T13:15:56.098Z"
   },
   {
    "duration": 185366,
    "start_time": "2021-10-08T13:15:56.102Z"
   },
   {
    "duration": 185364,
    "start_time": "2021-10-08T13:15:56.105Z"
   },
   {
    "duration": 185355,
    "start_time": "2021-10-08T13:15:56.115Z"
   },
   {
    "duration": 185353,
    "start_time": "2021-10-08T13:15:56.118Z"
   },
   {
    "duration": 185350,
    "start_time": "2021-10-08T13:15:56.122Z"
   },
   {
    "duration": 185347,
    "start_time": "2021-10-08T13:15:56.126Z"
   },
   {
    "duration": 185344,
    "start_time": "2021-10-08T13:15:56.130Z"
   },
   {
    "duration": 185342,
    "start_time": "2021-10-08T13:15:56.134Z"
   },
   {
    "duration": 185339,
    "start_time": "2021-10-08T13:15:56.138Z"
   },
   {
    "duration": 185336,
    "start_time": "2021-10-08T13:15:56.142Z"
   },
   {
    "duration": 185332,
    "start_time": "2021-10-08T13:15:56.147Z"
   },
   {
    "duration": 5447,
    "start_time": "2021-10-08T13:21:32.982Z"
   },
   {
    "duration": 39,
    "start_time": "2021-10-08T13:22:13.364Z"
   },
   {
    "duration": 47,
    "start_time": "2021-10-08T13:23:08.332Z"
   },
   {
    "duration": 43,
    "start_time": "2021-10-08T13:23:29.332Z"
   },
   {
    "duration": 46,
    "start_time": "2021-10-08T13:23:42.385Z"
   },
   {
    "duration": 48,
    "start_time": "2021-10-08T13:30:16.389Z"
   },
   {
    "duration": 39,
    "start_time": "2021-10-08T13:30:58.070Z"
   },
   {
    "duration": 38,
    "start_time": "2021-10-08T13:31:07.619Z"
   },
   {
    "duration": 43,
    "start_time": "2021-10-08T13:31:28.894Z"
   },
   {
    "duration": 37,
    "start_time": "2021-10-08T13:32:11.534Z"
   },
   {
    "duration": 79,
    "start_time": "2021-10-08T13:33:45.823Z"
   },
   {
    "duration": 44,
    "start_time": "2021-10-08T13:34:07.735Z"
   },
   {
    "duration": 52,
    "start_time": "2021-10-08T13:34:46.979Z"
   },
   {
    "duration": 34,
    "start_time": "2021-10-08T13:34:50.444Z"
   },
   {
    "duration": 41,
    "start_time": "2021-10-08T13:35:26.968Z"
   },
   {
    "duration": 205,
    "start_time": "2021-10-08T13:35:55.029Z"
   },
   {
    "duration": 54,
    "start_time": "2021-10-08T13:36:05.968Z"
   },
   {
    "duration": 40,
    "start_time": "2021-10-08T13:36:41.887Z"
   },
   {
    "duration": 37,
    "start_time": "2021-10-08T13:36:50.915Z"
   },
   {
    "duration": 39,
    "start_time": "2021-10-08T13:47:53.655Z"
   },
   {
    "duration": 39,
    "start_time": "2021-10-08T13:59:22.591Z"
   },
   {
    "duration": 40,
    "start_time": "2021-10-08T14:01:48.041Z"
   },
   {
    "duration": 40,
    "start_time": "2021-10-08T14:03:03.732Z"
   },
   {
    "duration": 198,
    "start_time": "2021-10-08T14:03:24.092Z"
   },
   {
    "duration": 41,
    "start_time": "2021-10-08T14:06:11.398Z"
   },
   {
    "duration": 39,
    "start_time": "2021-10-08T14:06:37.096Z"
   },
   {
    "duration": 40,
    "start_time": "2021-10-08T14:06:54.143Z"
   },
   {
    "duration": 42,
    "start_time": "2021-10-08T14:08:36.797Z"
   },
   {
    "duration": 44,
    "start_time": "2021-10-08T14:08:44.924Z"
   },
   {
    "duration": 1106,
    "start_time": "2021-10-08T14:09:40.133Z"
   },
   {
    "duration": 15,
    "start_time": "2021-10-08T14:09:41.241Z"
   },
   {
    "duration": 13,
    "start_time": "2021-10-08T14:09:41.258Z"
   },
   {
    "duration": 12,
    "start_time": "2021-10-08T14:09:41.273Z"
   },
   {
    "duration": 27,
    "start_time": "2021-10-08T14:09:41.286Z"
   },
   {
    "duration": 15,
    "start_time": "2021-10-08T14:09:41.314Z"
   },
   {
    "duration": 325,
    "start_time": "2021-10-08T14:09:41.330Z"
   },
   {
    "duration": 14,
    "start_time": "2021-10-08T14:09:41.658Z"
   },
   {
    "duration": 336,
    "start_time": "2021-10-08T14:09:41.674Z"
   },
   {
    "duration": 44,
    "start_time": "2021-10-08T14:09:42.012Z"
   },
   {
    "duration": 3,
    "start_time": "2021-10-08T14:09:42.058Z"
   },
   {
    "duration": 38,
    "start_time": "2021-10-08T14:09:42.063Z"
   },
   {
    "duration": 390,
    "start_time": "2021-10-08T14:09:42.103Z"
   },
   {
    "duration": 24,
    "start_time": "2021-10-08T14:09:42.495Z"
   },
   {
    "duration": 1010,
    "start_time": "2021-10-08T14:09:42.521Z"
   },
   {
    "duration": 25,
    "start_time": "2021-10-08T14:09:43.533Z"
   },
   {
    "duration": 15,
    "start_time": "2021-10-08T14:09:43.560Z"
   },
   {
    "duration": 23,
    "start_time": "2021-10-08T14:09:43.600Z"
   },
   {
    "duration": 308,
    "start_time": "2021-10-08T14:09:43.625Z"
   },
   {
    "duration": 21,
    "start_time": "2021-10-08T14:09:43.935Z"
   },
   {
    "duration": 344,
    "start_time": "2021-10-08T14:09:43.958Z"
   },
   {
    "duration": 296,
    "start_time": "2021-10-08T14:09:44.303Z"
   },
   {
    "duration": 545,
    "start_time": "2021-10-08T14:09:44.602Z"
   },
   {
    "duration": 185347,
    "start_time": "2021-10-08T14:06:39.802Z"
   },
   {
    "duration": 185343,
    "start_time": "2021-10-08T14:06:39.807Z"
   },
   {
    "duration": 185340,
    "start_time": "2021-10-08T14:06:39.811Z"
   },
   {
    "duration": 185336,
    "start_time": "2021-10-08T14:06:39.816Z"
   },
   {
    "duration": 185334,
    "start_time": "2021-10-08T14:06:39.820Z"
   },
   {
    "duration": 185329,
    "start_time": "2021-10-08T14:06:39.825Z"
   },
   {
    "duration": 185325,
    "start_time": "2021-10-08T14:06:39.830Z"
   },
   {
    "duration": 185322,
    "start_time": "2021-10-08T14:06:39.834Z"
   },
   {
    "duration": 185317,
    "start_time": "2021-10-08T14:06:39.840Z"
   },
   {
    "duration": 185313,
    "start_time": "2021-10-08T14:06:39.845Z"
   },
   {
    "duration": 185310,
    "start_time": "2021-10-08T14:06:39.849Z"
   },
   {
    "duration": 185307,
    "start_time": "2021-10-08T14:06:39.853Z"
   },
   {
    "duration": 40,
    "start_time": "2021-10-08T14:11:29.770Z"
   },
   {
    "duration": 1130,
    "start_time": "2021-10-08T14:24:12.834Z"
   },
   {
    "duration": 15,
    "start_time": "2021-10-08T14:24:13.966Z"
   },
   {
    "duration": 17,
    "start_time": "2021-10-08T14:24:13.982Z"
   },
   {
    "duration": 16,
    "start_time": "2021-10-08T14:24:14.001Z"
   },
   {
    "duration": 20,
    "start_time": "2021-10-08T14:24:14.019Z"
   },
   {
    "duration": 16,
    "start_time": "2021-10-08T14:24:14.040Z"
   },
   {
    "duration": 325,
    "start_time": "2021-10-08T14:24:14.057Z"
   },
   {
    "duration": 21,
    "start_time": "2021-10-08T14:24:14.384Z"
   },
   {
    "duration": 335,
    "start_time": "2021-10-08T14:24:14.407Z"
   },
   {
    "duration": 40,
    "start_time": "2021-10-08T14:24:14.744Z"
   },
   {
    "duration": 41,
    "start_time": "2021-10-08T14:24:14.786Z"
   },
   {
    "duration": 247,
    "start_time": "2021-10-08T14:24:14.829Z"
   },
   {
    "duration": 185395,
    "start_time": "2021-10-08T14:21:09.683Z"
   },
   {
    "duration": 185391,
    "start_time": "2021-10-08T14:21:09.688Z"
   },
   {
    "duration": 185386,
    "start_time": "2021-10-08T14:21:09.694Z"
   },
   {
    "duration": 185383,
    "start_time": "2021-10-08T14:21:09.698Z"
   },
   {
    "duration": 185380,
    "start_time": "2021-10-08T14:21:09.702Z"
   },
   {
    "duration": 185378,
    "start_time": "2021-10-08T14:21:09.705Z"
   },
   {
    "duration": 185374,
    "start_time": "2021-10-08T14:21:09.710Z"
   },
   {
    "duration": 185365,
    "start_time": "2021-10-08T14:21:09.720Z"
   },
   {
    "duration": 185361,
    "start_time": "2021-10-08T14:21:09.725Z"
   },
   {
    "duration": 185358,
    "start_time": "2021-10-08T14:21:09.729Z"
   },
   {
    "duration": 185354,
    "start_time": "2021-10-08T14:21:09.733Z"
   },
   {
    "duration": 185351,
    "start_time": "2021-10-08T14:21:09.737Z"
   },
   {
    "duration": 185347,
    "start_time": "2021-10-08T14:21:09.742Z"
   },
   {
    "duration": 185345,
    "start_time": "2021-10-08T14:21:09.745Z"
   },
   {
    "duration": 185341,
    "start_time": "2021-10-08T14:21:09.750Z"
   },
   {
    "duration": 185333,
    "start_time": "2021-10-08T14:21:09.759Z"
   },
   {
    "duration": 185330,
    "start_time": "2021-10-08T14:21:09.763Z"
   },
   {
    "duration": 185327,
    "start_time": "2021-10-08T14:21:09.767Z"
   },
   {
    "duration": 185324,
    "start_time": "2021-10-08T14:21:09.771Z"
   },
   {
    "duration": 185321,
    "start_time": "2021-10-08T14:21:09.775Z"
   },
   {
    "duration": 185318,
    "start_time": "2021-10-08T14:21:09.779Z"
   },
   {
    "duration": 185315,
    "start_time": "2021-10-08T14:21:09.783Z"
   },
   {
    "duration": 185312,
    "start_time": "2021-10-08T14:21:09.787Z"
   },
   {
    "duration": 185309,
    "start_time": "2021-10-08T14:21:09.791Z"
   },
   {
    "duration": 32,
    "start_time": "2021-10-08T14:25:01.489Z"
   },
   {
    "duration": 1138,
    "start_time": "2021-10-08T14:25:29.043Z"
   },
   {
    "duration": 15,
    "start_time": "2021-10-08T14:25:30.182Z"
   },
   {
    "duration": 12,
    "start_time": "2021-10-08T14:25:30.199Z"
   },
   {
    "duration": 13,
    "start_time": "2021-10-08T14:25:30.213Z"
   },
   {
    "duration": 41,
    "start_time": "2021-10-08T14:25:30.227Z"
   },
   {
    "duration": 14,
    "start_time": "2021-10-08T14:25:30.270Z"
   },
   {
    "duration": 330,
    "start_time": "2021-10-08T14:25:30.286Z"
   },
   {
    "duration": 14,
    "start_time": "2021-10-08T14:25:30.617Z"
   },
   {
    "duration": 343,
    "start_time": "2021-10-08T14:25:30.633Z"
   },
   {
    "duration": 59,
    "start_time": "2021-10-08T14:25:30.979Z"
   },
   {
    "duration": 28,
    "start_time": "2021-10-08T14:25:31.039Z"
   },
   {
    "duration": 45,
    "start_time": "2021-10-08T14:25:31.069Z"
   },
   {
    "duration": 294,
    "start_time": "2021-10-08T14:25:31.116Z"
   },
   {
    "duration": 185396,
    "start_time": "2021-10-08T14:22:26.017Z"
   },
   {
    "duration": 185393,
    "start_time": "2021-10-08T14:22:26.021Z"
   },
   {
    "duration": 185384,
    "start_time": "2021-10-08T14:22:26.031Z"
   },
   {
    "duration": 185381,
    "start_time": "2021-10-08T14:22:26.035Z"
   },
   {
    "duration": 185377,
    "start_time": "2021-10-08T14:22:26.039Z"
   },
   {
    "duration": 185352,
    "start_time": "2021-10-08T14:22:26.065Z"
   },
   {
    "duration": 185346,
    "start_time": "2021-10-08T14:22:26.072Z"
   },
   {
    "duration": 185342,
    "start_time": "2021-10-08T14:22:26.077Z"
   },
   {
    "duration": 185339,
    "start_time": "2021-10-08T14:22:26.081Z"
   },
   {
    "duration": 185335,
    "start_time": "2021-10-08T14:22:26.086Z"
   },
   {
    "duration": 185331,
    "start_time": "2021-10-08T14:22:26.090Z"
   },
   {
    "duration": 185327,
    "start_time": "2021-10-08T14:22:26.095Z"
   },
   {
    "duration": 185320,
    "start_time": "2021-10-08T14:22:26.103Z"
   },
   {
    "duration": 185316,
    "start_time": "2021-10-08T14:22:26.108Z"
   },
   {
    "duration": 185313,
    "start_time": "2021-10-08T14:22:26.112Z"
   },
   {
    "duration": 185310,
    "start_time": "2021-10-08T14:22:26.116Z"
   },
   {
    "duration": 185306,
    "start_time": "2021-10-08T14:22:26.120Z"
   },
   {
    "duration": 185302,
    "start_time": "2021-10-08T14:22:26.125Z"
   },
   {
    "duration": 185277,
    "start_time": "2021-10-08T14:22:26.151Z"
   },
   {
    "duration": 185254,
    "start_time": "2021-10-08T14:22:26.175Z"
   },
   {
    "duration": 185252,
    "start_time": "2021-10-08T14:22:26.178Z"
   },
   {
    "duration": 185247,
    "start_time": "2021-10-08T14:22:26.183Z"
   },
   {
    "duration": 185245,
    "start_time": "2021-10-08T14:22:26.186Z"
   },
   {
    "duration": 185241,
    "start_time": "2021-10-08T14:22:26.191Z"
   },
   {
    "duration": 47,
    "start_time": "2021-10-08T14:26:13.368Z"
   },
   {
    "duration": 48,
    "start_time": "2021-10-08T14:26:24.519Z"
   },
   {
    "duration": 32,
    "start_time": "2021-10-08T14:26:38.296Z"
   },
   {
    "duration": 33,
    "start_time": "2021-10-08T14:26:46.625Z"
   },
   {
    "duration": 33,
    "start_time": "2021-10-08T14:27:01.434Z"
   },
   {
    "duration": 1136,
    "start_time": "2021-10-08T14:31:26.688Z"
   },
   {
    "duration": 15,
    "start_time": "2021-10-08T14:31:27.826Z"
   },
   {
    "duration": 10,
    "start_time": "2021-10-08T14:31:27.843Z"
   },
   {
    "duration": 12,
    "start_time": "2021-10-08T14:31:27.855Z"
   },
   {
    "duration": 39,
    "start_time": "2021-10-08T14:31:27.868Z"
   },
   {
    "duration": 13,
    "start_time": "2021-10-08T14:31:27.908Z"
   },
   {
    "duration": 329,
    "start_time": "2021-10-08T14:31:27.922Z"
   },
   {
    "duration": 14,
    "start_time": "2021-10-08T14:31:28.253Z"
   },
   {
    "duration": 347,
    "start_time": "2021-10-08T14:31:28.269Z"
   },
   {
    "duration": 47,
    "start_time": "2021-10-08T14:31:28.617Z"
   },
   {
    "duration": 53,
    "start_time": "2021-10-08T14:31:28.665Z"
   },
   {
    "duration": 222,
    "start_time": "2021-10-08T14:31:28.720Z"
   },
   {
    "duration": 185289,
    "start_time": "2021-10-08T14:28:23.656Z"
   },
   {
    "duration": 185284,
    "start_time": "2021-10-08T14:28:23.661Z"
   },
   {
    "duration": 185281,
    "start_time": "2021-10-08T14:28:23.665Z"
   },
   {
    "duration": 185272,
    "start_time": "2021-10-08T14:28:23.675Z"
   },
   {
    "duration": 185269,
    "start_time": "2021-10-08T14:28:23.679Z"
   },
   {
    "duration": 185266,
    "start_time": "2021-10-08T14:28:23.683Z"
   },
   {
    "duration": 185262,
    "start_time": "2021-10-08T14:28:23.688Z"
   },
   {
    "duration": 185258,
    "start_time": "2021-10-08T14:28:23.693Z"
   },
   {
    "duration": 185255,
    "start_time": "2021-10-08T14:28:23.697Z"
   },
   {
    "duration": 185250,
    "start_time": "2021-10-08T14:28:23.703Z"
   },
   {
    "duration": 185248,
    "start_time": "2021-10-08T14:28:23.706Z"
   },
   {
    "duration": 185245,
    "start_time": "2021-10-08T14:28:23.710Z"
   },
   {
    "duration": 185242,
    "start_time": "2021-10-08T14:28:23.714Z"
   },
   {
    "duration": 185239,
    "start_time": "2021-10-08T14:28:23.718Z"
   },
   {
    "duration": 185235,
    "start_time": "2021-10-08T14:28:23.723Z"
   },
   {
    "duration": 185231,
    "start_time": "2021-10-08T14:28:23.728Z"
   },
   {
    "duration": 185229,
    "start_time": "2021-10-08T14:28:23.731Z"
   },
   {
    "duration": 185225,
    "start_time": "2021-10-08T14:28:23.736Z"
   },
   {
    "duration": 185223,
    "start_time": "2021-10-08T14:28:23.740Z"
   },
   {
    "duration": 185220,
    "start_time": "2021-10-08T14:28:23.744Z"
   },
   {
    "duration": 185217,
    "start_time": "2021-10-08T14:28:23.748Z"
   },
   {
    "duration": 185213,
    "start_time": "2021-10-08T14:28:23.752Z"
   },
   {
    "duration": 185210,
    "start_time": "2021-10-08T14:28:23.756Z"
   },
   {
    "duration": 185208,
    "start_time": "2021-10-08T14:28:23.760Z"
   },
   {
    "duration": 185204,
    "start_time": "2021-10-08T14:28:23.764Z"
   },
   {
    "duration": 54,
    "start_time": "2021-10-08T14:32:44.197Z"
   },
   {
    "duration": 183,
    "start_time": "2021-10-08T14:33:10.718Z"
   },
   {
    "duration": 249,
    "start_time": "2021-10-08T14:33:31.832Z"
   },
   {
    "duration": 51,
    "start_time": "2021-10-08T14:33:45.848Z"
   },
   {
    "duration": 47,
    "start_time": "2021-10-08T14:34:15.498Z"
   },
   {
    "duration": 46,
    "start_time": "2021-10-08T14:34:43.628Z"
   },
   {
    "duration": 44,
    "start_time": "2021-10-08T14:35:07.309Z"
   },
   {
    "duration": 54,
    "start_time": "2021-10-08T14:35:24.785Z"
   },
   {
    "duration": 49,
    "start_time": "2021-10-08T14:36:28.648Z"
   },
   {
    "duration": 181,
    "start_time": "2021-10-08T14:37:57.478Z"
   },
   {
    "duration": 185,
    "start_time": "2021-10-08T14:38:31.984Z"
   },
   {
    "duration": 180,
    "start_time": "2021-10-08T14:38:49.397Z"
   },
   {
    "duration": 189,
    "start_time": "2021-10-08T14:39:07.689Z"
   },
   {
    "duration": 1131,
    "start_time": "2021-10-08T14:39:21.360Z"
   },
   {
    "duration": 16,
    "start_time": "2021-10-08T14:39:22.492Z"
   },
   {
    "duration": 11,
    "start_time": "2021-10-08T14:39:22.510Z"
   },
   {
    "duration": 12,
    "start_time": "2021-10-08T14:39:22.523Z"
   },
   {
    "duration": 17,
    "start_time": "2021-10-08T14:39:22.537Z"
   },
   {
    "duration": 14,
    "start_time": "2021-10-08T14:39:22.555Z"
   },
   {
    "duration": 365,
    "start_time": "2021-10-08T14:39:22.570Z"
   },
   {
    "duration": 14,
    "start_time": "2021-10-08T14:39:22.938Z"
   },
   {
    "duration": 357,
    "start_time": "2021-10-08T14:39:22.954Z"
   },
   {
    "duration": 266,
    "start_time": "2021-10-08T14:39:23.313Z"
   },
   {
    "duration": 185393,
    "start_time": "2021-10-08T14:36:18.188Z"
   },
   {
    "duration": 185390,
    "start_time": "2021-10-08T14:36:18.192Z"
   },
   {
    "duration": 185386,
    "start_time": "2021-10-08T14:36:18.197Z"
   },
   {
    "duration": 185369,
    "start_time": "2021-10-08T14:36:18.215Z"
   },
   {
    "duration": 185364,
    "start_time": "2021-10-08T14:36:18.221Z"
   },
   {
    "duration": 185361,
    "start_time": "2021-10-08T14:36:18.225Z"
   },
   {
    "duration": 185358,
    "start_time": "2021-10-08T14:36:18.229Z"
   },
   {
    "duration": 185354,
    "start_time": "2021-10-08T14:36:18.234Z"
   },
   {
    "duration": 185351,
    "start_time": "2021-10-08T14:36:18.238Z"
   },
   {
    "duration": 185348,
    "start_time": "2021-10-08T14:36:18.242Z"
   },
   {
    "duration": 185345,
    "start_time": "2021-10-08T14:36:18.246Z"
   },
   {
    "duration": 185340,
    "start_time": "2021-10-08T14:36:18.251Z"
   },
   {
    "duration": 185337,
    "start_time": "2021-10-08T14:36:18.255Z"
   },
   {
    "duration": 185333,
    "start_time": "2021-10-08T14:36:18.260Z"
   },
   {
    "duration": 185330,
    "start_time": "2021-10-08T14:36:18.264Z"
   },
   {
    "duration": 185316,
    "start_time": "2021-10-08T14:36:18.279Z"
   },
   {
    "duration": 185313,
    "start_time": "2021-10-08T14:36:18.283Z"
   },
   {
    "duration": 185309,
    "start_time": "2021-10-08T14:36:18.288Z"
   },
   {
    "duration": 185306,
    "start_time": "2021-10-08T14:36:18.292Z"
   },
   {
    "duration": 185302,
    "start_time": "2021-10-08T14:36:18.296Z"
   },
   {
    "duration": 185299,
    "start_time": "2021-10-08T14:36:18.300Z"
   },
   {
    "duration": 185296,
    "start_time": "2021-10-08T14:36:18.304Z"
   },
   {
    "duration": 185293,
    "start_time": "2021-10-08T14:36:18.308Z"
   },
   {
    "duration": 185289,
    "start_time": "2021-10-08T14:36:18.312Z"
   },
   {
    "duration": 185286,
    "start_time": "2021-10-08T14:36:18.316Z"
   },
   {
    "duration": 185282,
    "start_time": "2021-10-08T14:36:18.321Z"
   },
   {
    "duration": 185279,
    "start_time": "2021-10-08T14:36:18.325Z"
   },
   {
    "duration": 233,
    "start_time": "2021-10-08T14:39:43.801Z"
   },
   {
    "duration": 55,
    "start_time": "2021-10-08T14:39:57.981Z"
   },
   {
    "duration": 39,
    "start_time": "2021-10-08T14:40:27.234Z"
   },
   {
    "duration": 33,
    "start_time": "2021-10-08T14:41:07.393Z"
   },
   {
    "duration": 152,
    "start_time": "2021-10-08T15:03:28.112Z"
   },
   {
    "duration": 147,
    "start_time": "2021-10-08T15:03:38.083Z"
   },
   {
    "duration": 53,
    "start_time": "2021-10-08T15:27:41.246Z"
   },
   {
    "duration": 38,
    "start_time": "2021-10-08T15:28:49.355Z"
   },
   {
    "duration": 32,
    "start_time": "2021-10-08T15:29:28.689Z"
   },
   {
    "duration": 30,
    "start_time": "2021-10-08T15:29:45.279Z"
   },
   {
    "duration": 27,
    "start_time": "2021-10-08T15:29:58.671Z"
   },
   {
    "duration": 32,
    "start_time": "2021-10-08T15:30:02.952Z"
   },
   {
    "duration": 36,
    "start_time": "2021-10-08T15:30:46.995Z"
   },
   {
    "duration": 174,
    "start_time": "2021-10-08T15:31:29.892Z"
   },
   {
    "duration": 36,
    "start_time": "2021-10-08T15:31:39.835Z"
   },
   {
    "duration": 40,
    "start_time": "2021-10-08T15:31:56.531Z"
   },
   {
    "duration": 32,
    "start_time": "2021-10-08T15:32:36.972Z"
   },
   {
    "duration": 35,
    "start_time": "2021-10-08T15:32:47.101Z"
   },
   {
    "duration": 32,
    "start_time": "2021-10-08T15:44:34.753Z"
   },
   {
    "duration": 1110,
    "start_time": "2021-10-08T15:44:59.537Z"
   },
   {
    "duration": 16,
    "start_time": "2021-10-08T15:45:00.649Z"
   },
   {
    "duration": 18,
    "start_time": "2021-10-08T15:45:00.668Z"
   },
   {
    "duration": 13,
    "start_time": "2021-10-08T15:45:00.688Z"
   },
   {
    "duration": 23,
    "start_time": "2021-10-08T15:45:00.703Z"
   },
   {
    "duration": 14,
    "start_time": "2021-10-08T15:45:00.728Z"
   },
   {
    "duration": 337,
    "start_time": "2021-10-08T15:45:00.744Z"
   },
   {
    "duration": 22,
    "start_time": "2021-10-08T15:45:01.085Z"
   },
   {
    "duration": 353,
    "start_time": "2021-10-08T15:45:01.110Z"
   },
   {
    "duration": 53,
    "start_time": "2021-10-08T15:45:01.465Z"
   },
   {
    "duration": 51,
    "start_time": "2021-10-08T15:45:01.519Z"
   },
   {
    "duration": 250,
    "start_time": "2021-10-08T15:45:01.571Z"
   },
   {
    "duration": 185371,
    "start_time": "2021-10-08T15:41:56.453Z"
   },
   {
    "duration": 185367,
    "start_time": "2021-10-08T15:41:56.459Z"
   },
   {
    "duration": 185363,
    "start_time": "2021-10-08T15:41:56.464Z"
   },
   {
    "duration": 185360,
    "start_time": "2021-10-08T15:41:56.469Z"
   },
   {
    "duration": 185357,
    "start_time": "2021-10-08T15:41:56.473Z"
   },
   {
    "duration": 185353,
    "start_time": "2021-10-08T15:41:56.478Z"
   },
   {
    "duration": 185351,
    "start_time": "2021-10-08T15:41:56.482Z"
   },
   {
    "duration": 185349,
    "start_time": "2021-10-08T15:41:56.486Z"
   },
   {
    "duration": 185340,
    "start_time": "2021-10-08T15:41:56.496Z"
   },
   {
    "duration": 185337,
    "start_time": "2021-10-08T15:41:56.500Z"
   },
   {
    "duration": 185335,
    "start_time": "2021-10-08T15:41:56.504Z"
   },
   {
    "duration": 185331,
    "start_time": "2021-10-08T15:41:56.509Z"
   },
   {
    "duration": 185329,
    "start_time": "2021-10-08T15:41:56.513Z"
   },
   {
    "duration": 185325,
    "start_time": "2021-10-08T15:41:56.518Z"
   },
   {
    "duration": 185323,
    "start_time": "2021-10-08T15:41:56.522Z"
   },
   {
    "duration": 185318,
    "start_time": "2021-10-08T15:41:56.528Z"
   },
   {
    "duration": 185316,
    "start_time": "2021-10-08T15:41:56.532Z"
   },
   {
    "duration": 185312,
    "start_time": "2021-10-08T15:41:56.537Z"
   },
   {
    "duration": 185309,
    "start_time": "2021-10-08T15:41:56.541Z"
   },
   {
    "duration": 185306,
    "start_time": "2021-10-08T15:41:56.546Z"
   },
   {
    "duration": 185298,
    "start_time": "2021-10-08T15:41:56.556Z"
   },
   {
    "duration": 185295,
    "start_time": "2021-10-08T15:41:56.560Z"
   },
   {
    "duration": 185292,
    "start_time": "2021-10-08T15:41:56.564Z"
   },
   {
    "duration": 185289,
    "start_time": "2021-10-08T15:41:56.568Z"
   },
   {
    "duration": 185285,
    "start_time": "2021-10-08T15:41:56.573Z"
   },
   {
    "duration": 1148,
    "start_time": "2021-10-08T15:45:53.825Z"
   },
   {
    "duration": 16,
    "start_time": "2021-10-08T15:45:54.975Z"
   },
   {
    "duration": 14,
    "start_time": "2021-10-08T15:45:54.994Z"
   },
   {
    "duration": 12,
    "start_time": "2021-10-08T15:45:55.011Z"
   },
   {
    "duration": 24,
    "start_time": "2021-10-08T15:45:55.025Z"
   },
   {
    "duration": 14,
    "start_time": "2021-10-08T15:45:55.051Z"
   },
   {
    "duration": 339,
    "start_time": "2021-10-08T15:45:55.067Z"
   },
   {
    "duration": 16,
    "start_time": "2021-10-08T15:45:55.408Z"
   },
   {
    "duration": 352,
    "start_time": "2021-10-08T15:45:55.427Z"
   },
   {
    "duration": 54,
    "start_time": "2021-10-08T15:45:55.781Z"
   },
   {
    "duration": 67,
    "start_time": "2021-10-08T15:45:55.837Z"
   },
   {
    "duration": 225,
    "start_time": "2021-10-08T15:45:55.906Z"
   },
   {
    "duration": 185381,
    "start_time": "2021-10-08T15:42:50.753Z"
   },
   {
    "duration": 185366,
    "start_time": "2021-10-08T15:42:50.769Z"
   },
   {
    "duration": 185364,
    "start_time": "2021-10-08T15:42:50.773Z"
   },
   {
    "duration": 185321,
    "start_time": "2021-10-08T15:42:50.818Z"
   },
   {
    "duration": 185318,
    "start_time": "2021-10-08T15:42:50.822Z"
   },
   {
    "duration": 185316,
    "start_time": "2021-10-08T15:42:50.826Z"
   },
   {
    "duration": 185313,
    "start_time": "2021-10-08T15:42:50.830Z"
   },
   {
    "duration": 185310,
    "start_time": "2021-10-08T15:42:50.834Z"
   },
   {
    "duration": 185308,
    "start_time": "2021-10-08T15:42:50.838Z"
   },
   {
    "duration": 185305,
    "start_time": "2021-10-08T15:42:50.842Z"
   },
   {
    "duration": 185303,
    "start_time": "2021-10-08T15:42:50.846Z"
   },
   {
    "duration": 185301,
    "start_time": "2021-10-08T15:42:50.849Z"
   },
   {
    "duration": 185298,
    "start_time": "2021-10-08T15:42:50.854Z"
   },
   {
    "duration": 185296,
    "start_time": "2021-10-08T15:42:50.857Z"
   },
   {
    "duration": 185288,
    "start_time": "2021-10-08T15:42:50.867Z"
   },
   {
    "duration": 185284,
    "start_time": "2021-10-08T15:42:50.872Z"
   },
   {
    "duration": 185280,
    "start_time": "2021-10-08T15:42:50.878Z"
   },
   {
    "duration": 185275,
    "start_time": "2021-10-08T15:42:50.884Z"
   },
   {
    "duration": 185208,
    "start_time": "2021-10-08T15:42:50.952Z"
   },
   {
    "duration": 185200,
    "start_time": "2021-10-08T15:42:50.962Z"
   },
   {
    "duration": 185197,
    "start_time": "2021-10-08T15:42:50.966Z"
   },
   {
    "duration": 185194,
    "start_time": "2021-10-08T15:42:50.970Z"
   },
   {
    "duration": 185191,
    "start_time": "2021-10-08T15:42:50.974Z"
   },
   {
    "duration": 185189,
    "start_time": "2021-10-08T15:42:50.977Z"
   },
   {
    "duration": 185185,
    "start_time": "2021-10-08T15:42:50.982Z"
   },
   {
    "duration": 1165,
    "start_time": "2021-10-08T15:51:28.769Z"
   },
   {
    "duration": 15,
    "start_time": "2021-10-08T15:51:29.936Z"
   },
   {
    "duration": 11,
    "start_time": "2021-10-08T15:51:29.953Z"
   },
   {
    "duration": 11,
    "start_time": "2021-10-08T15:51:29.966Z"
   },
   {
    "duration": 29,
    "start_time": "2021-10-08T15:51:29.979Z"
   },
   {
    "duration": 15,
    "start_time": "2021-10-08T15:51:30.010Z"
   },
   {
    "duration": 338,
    "start_time": "2021-10-08T15:51:30.026Z"
   },
   {
    "duration": 14,
    "start_time": "2021-10-08T15:51:30.367Z"
   },
   {
    "duration": 355,
    "start_time": "2021-10-08T15:51:30.383Z"
   },
   {
    "duration": 41,
    "start_time": "2021-10-08T15:51:30.739Z"
   },
   {
    "duration": 66,
    "start_time": "2021-10-08T15:51:30.782Z"
   },
   {
    "duration": 236,
    "start_time": "2021-10-08T15:51:30.850Z"
   },
   {
    "duration": 185375,
    "start_time": "2021-10-08T15:48:25.714Z"
   },
   {
    "duration": 185365,
    "start_time": "2021-10-08T15:48:25.725Z"
   },
   {
    "duration": 185363,
    "start_time": "2021-10-08T15:48:25.729Z"
   },
   {
    "duration": 185359,
    "start_time": "2021-10-08T15:48:25.734Z"
   },
   {
    "duration": 185355,
    "start_time": "2021-10-08T15:48:25.739Z"
   },
   {
    "duration": 185353,
    "start_time": "2021-10-08T15:48:25.743Z"
   },
   {
    "duration": 185318,
    "start_time": "2021-10-08T15:48:25.779Z"
   },
   {
    "duration": 185314,
    "start_time": "2021-10-08T15:48:25.785Z"
   },
   {
    "duration": 185311,
    "start_time": "2021-10-08T15:48:25.789Z"
   },
   {
    "duration": 185307,
    "start_time": "2021-10-08T15:48:25.794Z"
   },
   {
    "duration": 185303,
    "start_time": "2021-10-08T15:48:25.800Z"
   },
   {
    "duration": 185300,
    "start_time": "2021-10-08T15:48:25.804Z"
   },
   {
    "duration": 185292,
    "start_time": "2021-10-08T15:48:25.813Z"
   },
   {
    "duration": 185289,
    "start_time": "2021-10-08T15:48:25.818Z"
   },
   {
    "duration": 185286,
    "start_time": "2021-10-08T15:48:25.822Z"
   },
   {
    "duration": 185283,
    "start_time": "2021-10-08T15:48:25.826Z"
   },
   {
    "duration": 185281,
    "start_time": "2021-10-08T15:48:25.830Z"
   },
   {
    "duration": 185276,
    "start_time": "2021-10-08T15:48:25.836Z"
   },
   {
    "duration": 185274,
    "start_time": "2021-10-08T15:48:25.840Z"
   },
   {
    "duration": 185271,
    "start_time": "2021-10-08T15:48:25.844Z"
   },
   {
    "duration": 185267,
    "start_time": "2021-10-08T15:48:25.849Z"
   },
   {
    "duration": 185264,
    "start_time": "2021-10-08T15:48:25.853Z"
   },
   {
    "duration": 185261,
    "start_time": "2021-10-08T15:48:25.857Z"
   },
   {
    "duration": 185255,
    "start_time": "2021-10-08T15:48:25.864Z"
   },
   {
    "duration": 185220,
    "start_time": "2021-10-08T15:48:25.900Z"
   },
   {
    "duration": 1190,
    "start_time": "2021-10-08T15:52:33.779Z"
   },
   {
    "duration": 17,
    "start_time": "2021-10-08T15:52:34.971Z"
   },
   {
    "duration": 19,
    "start_time": "2021-10-08T15:52:34.990Z"
   },
   {
    "duration": 18,
    "start_time": "2021-10-08T15:52:35.012Z"
   },
   {
    "duration": 20,
    "start_time": "2021-10-08T15:52:35.032Z"
   },
   {
    "duration": 15,
    "start_time": "2021-10-08T15:52:35.054Z"
   },
   {
    "duration": 355,
    "start_time": "2021-10-08T15:52:35.076Z"
   },
   {
    "duration": 14,
    "start_time": "2021-10-08T15:52:35.434Z"
   },
   {
    "duration": 354,
    "start_time": "2021-10-08T15:52:35.450Z"
   },
   {
    "duration": 42,
    "start_time": "2021-10-08T15:52:35.806Z"
   },
   {
    "duration": 69,
    "start_time": "2021-10-08T15:52:35.850Z"
   },
   {
    "duration": 240,
    "start_time": "2021-10-08T15:52:35.921Z"
   },
   {
    "duration": 185127,
    "start_time": "2021-10-08T15:49:31.037Z"
   },
   {
    "duration": 185123,
    "start_time": "2021-10-08T15:49:31.042Z"
   },
   {
    "duration": 185118,
    "start_time": "2021-10-08T15:49:31.047Z"
   },
   {
    "duration": 185114,
    "start_time": "2021-10-08T15:49:31.052Z"
   },
   {
    "duration": 185110,
    "start_time": "2021-10-08T15:49:31.057Z"
   },
   {
    "duration": 185094,
    "start_time": "2021-10-08T15:49:31.074Z"
   },
   {
    "duration": 185090,
    "start_time": "2021-10-08T15:49:31.079Z"
   },
   {
    "duration": 184999,
    "start_time": "2021-10-08T15:49:31.171Z"
   },
   {
    "duration": 184996,
    "start_time": "2021-10-08T15:49:31.175Z"
   },
   {
    "duration": 184991,
    "start_time": "2021-10-08T15:49:31.181Z"
   },
   {
    "duration": 184987,
    "start_time": "2021-10-08T15:49:31.186Z"
   },
   {
    "duration": 184983,
    "start_time": "2021-10-08T15:49:31.191Z"
   },
   {
    "duration": 184979,
    "start_time": "2021-10-08T15:49:31.196Z"
   },
   {
    "duration": 184976,
    "start_time": "2021-10-08T15:49:31.200Z"
   },
   {
    "duration": 184973,
    "start_time": "2021-10-08T15:49:31.204Z"
   },
   {
    "duration": 184969,
    "start_time": "2021-10-08T15:49:31.209Z"
   },
   {
    "duration": 184899,
    "start_time": "2021-10-08T15:49:31.280Z"
   },
   {
    "duration": 184895,
    "start_time": "2021-10-08T15:49:31.285Z"
   },
   {
    "duration": 184890,
    "start_time": "2021-10-08T15:49:31.290Z"
   },
   {
    "duration": 184885,
    "start_time": "2021-10-08T15:49:31.296Z"
   },
   {
    "duration": 184882,
    "start_time": "2021-10-08T15:49:31.300Z"
   },
   {
    "duration": 184878,
    "start_time": "2021-10-08T15:49:31.305Z"
   },
   {
    "duration": 184874,
    "start_time": "2021-10-08T15:49:31.310Z"
   },
   {
    "duration": 184868,
    "start_time": "2021-10-08T15:49:31.317Z"
   },
   {
    "duration": 184857,
    "start_time": "2021-10-08T15:49:31.329Z"
   },
   {
    "duration": 1173,
    "start_time": "2021-10-08T15:53:13.397Z"
   },
   {
    "duration": 16,
    "start_time": "2021-10-08T15:53:14.572Z"
   },
   {
    "duration": 14,
    "start_time": "2021-10-08T15:53:14.590Z"
   },
   {
    "duration": 14,
    "start_time": "2021-10-08T15:53:14.606Z"
   },
   {
    "duration": 37,
    "start_time": "2021-10-08T15:53:14.621Z"
   },
   {
    "duration": 12,
    "start_time": "2021-10-08T15:53:14.660Z"
   },
   {
    "duration": 309,
    "start_time": "2021-10-08T15:53:14.674Z"
   },
   {
    "duration": 22,
    "start_time": "2021-10-08T15:53:14.985Z"
   },
   {
    "duration": 349,
    "start_time": "2021-10-08T15:53:15.009Z"
   },
   {
    "duration": 50,
    "start_time": "2021-10-08T15:53:15.359Z"
   },
   {
    "duration": 47,
    "start_time": "2021-10-08T15:53:15.410Z"
   },
   {
    "duration": 225,
    "start_time": "2021-10-08T15:53:15.458Z"
   },
   {
    "duration": 185355,
    "start_time": "2021-10-08T15:50:10.330Z"
   },
   {
    "duration": 185350,
    "start_time": "2021-10-08T15:50:10.336Z"
   },
   {
    "duration": 185347,
    "start_time": "2021-10-08T15:50:10.340Z"
   },
   {
    "duration": 185343,
    "start_time": "2021-10-08T15:50:10.345Z"
   },
   {
    "duration": 185320,
    "start_time": "2021-10-08T15:50:10.369Z"
   },
   {
    "duration": 185318,
    "start_time": "2021-10-08T15:50:10.372Z"
   },
   {
    "duration": 185312,
    "start_time": "2021-10-08T15:50:10.379Z"
   },
   {
    "duration": 185304,
    "start_time": "2021-10-08T15:50:10.388Z"
   },
   {
    "duration": 185301,
    "start_time": "2021-10-08T15:50:10.392Z"
   },
   {
    "duration": 185298,
    "start_time": "2021-10-08T15:50:10.396Z"
   },
   {
    "duration": 185295,
    "start_time": "2021-10-08T15:50:10.400Z"
   },
   {
    "duration": 185292,
    "start_time": "2021-10-08T15:50:10.404Z"
   },
   {
    "duration": 185288,
    "start_time": "2021-10-08T15:50:10.409Z"
   },
   {
    "duration": 185285,
    "start_time": "2021-10-08T15:50:10.413Z"
   },
   {
    "duration": 185282,
    "start_time": "2021-10-08T15:50:10.417Z"
   },
   {
    "duration": 185278,
    "start_time": "2021-10-08T15:50:10.422Z"
   },
   {
    "duration": 185275,
    "start_time": "2021-10-08T15:50:10.426Z"
   },
   {
    "duration": 185271,
    "start_time": "2021-10-08T15:50:10.431Z"
   },
   {
    "duration": 185268,
    "start_time": "2021-10-08T15:50:10.435Z"
   },
   {
    "duration": 185236,
    "start_time": "2021-10-08T15:50:10.468Z"
   },
   {
    "duration": 185216,
    "start_time": "2021-10-08T15:50:10.489Z"
   },
   {
    "duration": 185214,
    "start_time": "2021-10-08T15:50:10.492Z"
   },
   {
    "duration": 185209,
    "start_time": "2021-10-08T15:50:10.498Z"
   },
   {
    "duration": 185206,
    "start_time": "2021-10-08T15:50:10.502Z"
   },
   {
    "duration": 185203,
    "start_time": "2021-10-08T15:50:10.506Z"
   },
   {
    "duration": 168,
    "start_time": "2021-10-08T15:54:30.535Z"
   },
   {
    "duration": 53,
    "start_time": "2021-10-08T15:54:36.465Z"
   },
   {
    "duration": 1169,
    "start_time": "2021-10-08T15:56:35.167Z"
   },
   {
    "duration": 16,
    "start_time": "2021-10-08T15:56:36.337Z"
   },
   {
    "duration": 17,
    "start_time": "2021-10-08T15:56:36.354Z"
   },
   {
    "duration": 15,
    "start_time": "2021-10-08T15:56:36.373Z"
   },
   {
    "duration": 29,
    "start_time": "2021-10-08T15:56:36.389Z"
   },
   {
    "duration": 13,
    "start_time": "2021-10-08T15:56:36.420Z"
   },
   {
    "duration": 313,
    "start_time": "2021-10-08T15:56:36.435Z"
   },
   {
    "duration": 14,
    "start_time": "2021-10-08T15:56:36.751Z"
   },
   {
    "duration": 346,
    "start_time": "2021-10-08T15:56:36.768Z"
   },
   {
    "duration": 40,
    "start_time": "2021-10-08T15:56:37.116Z"
   },
   {
    "duration": 75,
    "start_time": "2021-10-08T15:56:37.157Z"
   },
   {
    "duration": 229,
    "start_time": "2021-10-08T15:56:37.234Z"
   },
   {
    "duration": 185373,
    "start_time": "2021-10-08T15:53:32.092Z"
   },
   {
    "duration": 185370,
    "start_time": "2021-10-08T15:53:32.097Z"
   },
   {
    "duration": 185366,
    "start_time": "2021-10-08T15:53:32.102Z"
   },
   {
    "duration": 185346,
    "start_time": "2021-10-08T15:53:32.124Z"
   },
   {
    "duration": 185342,
    "start_time": "2021-10-08T15:53:32.129Z"
   },
   {
    "duration": 185335,
    "start_time": "2021-10-08T15:53:32.137Z"
   },
   {
    "duration": 185330,
    "start_time": "2021-10-08T15:53:32.144Z"
   },
   {
    "duration": 185326,
    "start_time": "2021-10-08T15:53:32.149Z"
   },
   {
    "duration": 185323,
    "start_time": "2021-10-08T15:53:32.154Z"
   },
   {
    "duration": 185317,
    "start_time": "2021-10-08T15:53:32.161Z"
   },
   {
    "duration": 185314,
    "start_time": "2021-10-08T15:53:32.165Z"
   },
   {
    "duration": 185303,
    "start_time": "2021-10-08T15:53:32.178Z"
   },
   {
    "duration": 185298,
    "start_time": "2021-10-08T15:53:32.184Z"
   },
   {
    "duration": 185292,
    "start_time": "2021-10-08T15:53:32.192Z"
   },
   {
    "duration": 185287,
    "start_time": "2021-10-08T15:53:32.198Z"
   },
   {
    "duration": 185285,
    "start_time": "2021-10-08T15:53:32.202Z"
   },
   {
    "duration": 185278,
    "start_time": "2021-10-08T15:53:32.210Z"
   },
   {
    "duration": 185274,
    "start_time": "2021-10-08T15:53:32.216Z"
   },
   {
    "duration": 185270,
    "start_time": "2021-10-08T15:53:32.221Z"
   },
   {
    "duration": 185265,
    "start_time": "2021-10-08T15:53:32.227Z"
   },
   {
    "duration": 185262,
    "start_time": "2021-10-08T15:53:32.232Z"
   },
   {
    "duration": 185258,
    "start_time": "2021-10-08T15:53:32.237Z"
   },
   {
    "duration": 185255,
    "start_time": "2021-10-08T15:53:32.242Z"
   },
   {
    "duration": 185249,
    "start_time": "2021-10-08T15:53:32.249Z"
   },
   {
    "duration": 185242,
    "start_time": "2021-10-08T15:53:32.257Z"
   },
   {
    "duration": 1152,
    "start_time": "2021-10-08T15:57:35.312Z"
   },
   {
    "duration": 15,
    "start_time": "2021-10-08T15:57:36.466Z"
   },
   {
    "duration": 44,
    "start_time": "2021-10-08T15:57:36.483Z"
   },
   {
    "duration": 27,
    "start_time": "2021-10-08T15:57:36.529Z"
   },
   {
    "duration": 45,
    "start_time": "2021-10-08T15:57:36.557Z"
   },
   {
    "duration": 14,
    "start_time": "2021-10-08T15:57:36.603Z"
   },
   {
    "duration": 322,
    "start_time": "2021-10-08T15:57:36.619Z"
   },
   {
    "duration": 14,
    "start_time": "2021-10-08T15:57:36.944Z"
   },
   {
    "duration": 347,
    "start_time": "2021-10-08T15:57:36.960Z"
   },
   {
    "duration": 41,
    "start_time": "2021-10-08T15:57:37.309Z"
   },
   {
    "duration": 92,
    "start_time": "2021-10-08T15:57:37.352Z"
   },
   {
    "duration": 222,
    "start_time": "2021-10-08T15:57:37.446Z"
   },
   {
    "duration": 185360,
    "start_time": "2021-10-08T15:54:32.311Z"
   },
   {
    "duration": 185353,
    "start_time": "2021-10-08T15:54:32.319Z"
   },
   {
    "duration": 185350,
    "start_time": "2021-10-08T15:54:32.323Z"
   },
   {
    "duration": 185345,
    "start_time": "2021-10-08T15:54:32.329Z"
   },
   {
    "duration": 185343,
    "start_time": "2021-10-08T15:54:32.333Z"
   },
   {
    "duration": 185338,
    "start_time": "2021-10-08T15:54:32.339Z"
   },
   {
    "duration": 185334,
    "start_time": "2021-10-08T15:54:32.344Z"
   },
   {
    "duration": 185330,
    "start_time": "2021-10-08T15:54:32.350Z"
   },
   {
    "duration": 185327,
    "start_time": "2021-10-08T15:54:32.354Z"
   },
   {
    "duration": 185324,
    "start_time": "2021-10-08T15:54:32.358Z"
   },
   {
    "duration": 185319,
    "start_time": "2021-10-08T15:54:32.365Z"
   },
   {
    "duration": 185314,
    "start_time": "2021-10-08T15:54:32.371Z"
   },
   {
    "duration": 185311,
    "start_time": "2021-10-08T15:54:32.375Z"
   },
   {
    "duration": 185307,
    "start_time": "2021-10-08T15:54:32.381Z"
   },
   {
    "duration": 185302,
    "start_time": "2021-10-08T15:54:32.387Z"
   },
   {
    "duration": 185293,
    "start_time": "2021-10-08T15:54:32.398Z"
   },
   {
    "duration": 185289,
    "start_time": "2021-10-08T15:54:32.403Z"
   },
   {
    "duration": 185285,
    "start_time": "2021-10-08T15:54:32.408Z"
   },
   {
    "duration": 185283,
    "start_time": "2021-10-08T15:54:32.412Z"
   },
   {
    "duration": 185278,
    "start_time": "2021-10-08T15:54:32.418Z"
   },
   {
    "duration": 185273,
    "start_time": "2021-10-08T15:54:32.424Z"
   },
   {
    "duration": 185269,
    "start_time": "2021-10-08T15:54:32.430Z"
   },
   {
    "duration": 185264,
    "start_time": "2021-10-08T15:54:32.436Z"
   },
   {
    "duration": 185259,
    "start_time": "2021-10-08T15:54:32.441Z"
   },
   {
    "duration": 185255,
    "start_time": "2021-10-08T15:54:32.446Z"
   },
   {
    "duration": 1129,
    "start_time": "2021-10-08T16:02:46.826Z"
   },
   {
    "duration": 15,
    "start_time": "2021-10-08T16:02:47.957Z"
   },
   {
    "duration": 10,
    "start_time": "2021-10-08T16:02:47.973Z"
   },
   {
    "duration": 11,
    "start_time": "2021-10-08T16:02:47.985Z"
   },
   {
    "duration": 19,
    "start_time": "2021-10-08T16:02:47.998Z"
   },
   {
    "duration": 12,
    "start_time": "2021-10-08T16:02:48.018Z"
   },
   {
    "duration": 330,
    "start_time": "2021-10-08T16:02:48.031Z"
   },
   {
    "duration": 14,
    "start_time": "2021-10-08T16:02:48.363Z"
   },
   {
    "duration": 343,
    "start_time": "2021-10-08T16:02:48.379Z"
   },
   {
    "duration": 38,
    "start_time": "2021-10-08T16:02:48.723Z"
   },
   {
    "duration": 61,
    "start_time": "2021-10-08T16:02:48.762Z"
   },
   {
    "duration": 233,
    "start_time": "2021-10-08T16:02:48.825Z"
   },
   {
    "duration": 185365,
    "start_time": "2021-10-08T15:59:43.695Z"
   },
   {
    "duration": 185362,
    "start_time": "2021-10-08T15:59:43.699Z"
   },
   {
    "duration": 185359,
    "start_time": "2021-10-08T15:59:43.703Z"
   },
   {
    "duration": 185356,
    "start_time": "2021-10-08T15:59:43.707Z"
   },
   {
    "duration": 185353,
    "start_time": "2021-10-08T15:59:43.711Z"
   },
   {
    "duration": 185350,
    "start_time": "2021-10-08T15:59:43.715Z"
   },
   {
    "duration": 185347,
    "start_time": "2021-10-08T15:59:43.719Z"
   },
   {
    "duration": 185344,
    "start_time": "2021-10-08T15:59:43.723Z"
   },
   {
    "duration": 185341,
    "start_time": "2021-10-08T15:59:43.727Z"
   },
   {
    "duration": 185338,
    "start_time": "2021-10-08T15:59:43.731Z"
   },
   {
    "duration": 185336,
    "start_time": "2021-10-08T15:59:43.734Z"
   },
   {
    "duration": 185331,
    "start_time": "2021-10-08T15:59:43.739Z"
   },
   {
    "duration": 185322,
    "start_time": "2021-10-08T15:59:43.749Z"
   },
   {
    "duration": 185315,
    "start_time": "2021-10-08T15:59:43.757Z"
   },
   {
    "duration": 185312,
    "start_time": "2021-10-08T15:59:43.761Z"
   },
   {
    "duration": 185309,
    "start_time": "2021-10-08T15:59:43.765Z"
   },
   {
    "duration": 185306,
    "start_time": "2021-10-08T15:59:43.769Z"
   },
   {
    "duration": 185302,
    "start_time": "2021-10-08T15:59:43.774Z"
   },
   {
    "duration": 185298,
    "start_time": "2021-10-08T15:59:43.778Z"
   },
   {
    "duration": 185295,
    "start_time": "2021-10-08T15:59:43.782Z"
   },
   {
    "duration": 185292,
    "start_time": "2021-10-08T15:59:43.786Z"
   },
   {
    "duration": 185289,
    "start_time": "2021-10-08T15:59:43.790Z"
   },
   {
    "duration": 185286,
    "start_time": "2021-10-08T15:59:43.794Z"
   },
   {
    "duration": 185284,
    "start_time": "2021-10-08T15:59:43.797Z"
   },
   {
    "duration": 185280,
    "start_time": "2021-10-08T15:59:43.802Z"
   },
   {
    "duration": 55,
    "start_time": "2021-10-08T16:10:17.646Z"
   },
   {
    "duration": 1154,
    "start_time": "2021-10-08T16:10:49.827Z"
   },
   {
    "duration": 15,
    "start_time": "2021-10-08T16:10:50.983Z"
   },
   {
    "duration": 11,
    "start_time": "2021-10-08T16:10:51.001Z"
   },
   {
    "duration": 11,
    "start_time": "2021-10-08T16:10:51.014Z"
   },
   {
    "duration": 18,
    "start_time": "2021-10-08T16:10:51.027Z"
   },
   {
    "duration": 13,
    "start_time": "2021-10-08T16:10:51.046Z"
   },
   {
    "duration": 351,
    "start_time": "2021-10-08T16:10:51.060Z"
   },
   {
    "duration": 14,
    "start_time": "2021-10-08T16:10:51.414Z"
   },
   {
    "duration": 354,
    "start_time": "2021-10-08T16:10:51.430Z"
   },
   {
    "duration": 51,
    "start_time": "2021-10-08T16:10:51.786Z"
   },
   {
    "duration": 31,
    "start_time": "2021-10-08T16:10:51.839Z"
   },
   {
    "duration": 267,
    "start_time": "2021-10-08T16:10:51.872Z"
   },
   {
    "duration": 185359,
    "start_time": "2021-10-08T16:07:46.782Z"
   },
   {
    "duration": 185356,
    "start_time": "2021-10-08T16:07:46.786Z"
   },
   {
    "duration": 185353,
    "start_time": "2021-10-08T16:07:46.790Z"
   },
   {
    "duration": 185312,
    "start_time": "2021-10-08T16:07:46.832Z"
   },
   {
    "duration": 185306,
    "start_time": "2021-10-08T16:07:46.839Z"
   },
   {
    "duration": 185301,
    "start_time": "2021-10-08T16:07:46.845Z"
   },
   {
    "duration": 185295,
    "start_time": "2021-10-08T16:07:46.852Z"
   },
   {
    "duration": 185288,
    "start_time": "2021-10-08T16:07:46.860Z"
   },
   {
    "duration": 185285,
    "start_time": "2021-10-08T16:07:46.864Z"
   },
   {
    "duration": 185280,
    "start_time": "2021-10-08T16:07:46.870Z"
   },
   {
    "duration": 185277,
    "start_time": "2021-10-08T16:07:46.874Z"
   },
   {
    "duration": 185273,
    "start_time": "2021-10-08T16:07:46.879Z"
   },
   {
    "duration": 185269,
    "start_time": "2021-10-08T16:07:46.884Z"
   },
   {
    "duration": 185266,
    "start_time": "2021-10-08T16:07:46.888Z"
   },
   {
    "duration": 185262,
    "start_time": "2021-10-08T16:07:46.893Z"
   },
   {
    "duration": 185259,
    "start_time": "2021-10-08T16:07:46.897Z"
   },
   {
    "duration": 185208,
    "start_time": "2021-10-08T16:07:46.949Z"
   },
   {
    "duration": 185173,
    "start_time": "2021-10-08T16:07:46.985Z"
   },
   {
    "duration": 185169,
    "start_time": "2021-10-08T16:07:46.990Z"
   },
   {
    "duration": 185165,
    "start_time": "2021-10-08T16:07:46.995Z"
   },
   {
    "duration": 185162,
    "start_time": "2021-10-08T16:07:46.999Z"
   },
   {
    "duration": 185159,
    "start_time": "2021-10-08T16:07:47.003Z"
   },
   {
    "duration": 185155,
    "start_time": "2021-10-08T16:07:47.007Z"
   },
   {
    "duration": 185151,
    "start_time": "2021-10-08T16:07:47.012Z"
   },
   {
    "duration": 185148,
    "start_time": "2021-10-08T16:07:47.017Z"
   },
   {
    "duration": 22,
    "start_time": "2021-10-08T16:11:57.295Z"
   },
   {
    "duration": 37,
    "start_time": "2021-10-08T16:12:10.550Z"
   },
   {
    "duration": 39,
    "start_time": "2021-10-08T16:13:17.413Z"
   },
   {
    "duration": 1130,
    "start_time": "2021-10-08T16:30:22.570Z"
   },
   {
    "duration": 15,
    "start_time": "2021-10-08T16:30:23.702Z"
   },
   {
    "duration": 14,
    "start_time": "2021-10-08T16:30:23.719Z"
   },
   {
    "duration": 12,
    "start_time": "2021-10-08T16:30:23.735Z"
   },
   {
    "duration": 20,
    "start_time": "2021-10-08T16:30:23.749Z"
   },
   {
    "duration": 37,
    "start_time": "2021-10-08T16:30:23.771Z"
   },
   {
    "duration": 325,
    "start_time": "2021-10-08T16:30:23.809Z"
   },
   {
    "duration": 15,
    "start_time": "2021-10-08T16:30:24.136Z"
   },
   {
    "duration": 361,
    "start_time": "2021-10-08T16:30:24.153Z"
   },
   {
    "duration": 41,
    "start_time": "2021-10-08T16:30:24.516Z"
   },
   {
    "duration": 69,
    "start_time": "2021-10-08T16:30:24.559Z"
   },
   {
    "duration": 230,
    "start_time": "2021-10-08T16:30:24.630Z"
   },
   {
    "duration": 185368,
    "start_time": "2021-10-08T16:27:19.495Z"
   },
   {
    "duration": 185364,
    "start_time": "2021-10-08T16:27:19.500Z"
   },
   {
    "duration": 185359,
    "start_time": "2021-10-08T16:27:19.506Z"
   },
   {
    "duration": 185353,
    "start_time": "2021-10-08T16:27:19.513Z"
   },
   {
    "duration": 185335,
    "start_time": "2021-10-08T16:27:19.532Z"
   },
   {
    "duration": 185332,
    "start_time": "2021-10-08T16:27:19.536Z"
   },
   {
    "duration": 185329,
    "start_time": "2021-10-08T16:27:19.540Z"
   },
   {
    "duration": 185324,
    "start_time": "2021-10-08T16:27:19.546Z"
   },
   {
    "duration": 185322,
    "start_time": "2021-10-08T16:27:19.549Z"
   },
   {
    "duration": 185317,
    "start_time": "2021-10-08T16:27:19.555Z"
   },
   {
    "duration": 185313,
    "start_time": "2021-10-08T16:27:19.560Z"
   },
   {
    "duration": 185309,
    "start_time": "2021-10-08T16:27:19.564Z"
   },
   {
    "duration": 185305,
    "start_time": "2021-10-08T16:27:19.569Z"
   },
   {
    "duration": 185303,
    "start_time": "2021-10-08T16:27:19.573Z"
   },
   {
    "duration": 185298,
    "start_time": "2021-10-08T16:27:19.578Z"
   },
   {
    "duration": 185289,
    "start_time": "2021-10-08T16:27:19.589Z"
   },
   {
    "duration": 185284,
    "start_time": "2021-10-08T16:27:19.594Z"
   },
   {
    "duration": 185281,
    "start_time": "2021-10-08T16:27:19.598Z"
   },
   {
    "duration": 185277,
    "start_time": "2021-10-08T16:27:19.603Z"
   },
   {
    "duration": 185274,
    "start_time": "2021-10-08T16:27:19.607Z"
   },
   {
    "duration": 185270,
    "start_time": "2021-10-08T16:27:19.612Z"
   },
   {
    "duration": 185266,
    "start_time": "2021-10-08T16:27:19.617Z"
   },
   {
    "duration": 185263,
    "start_time": "2021-10-08T16:27:19.621Z"
   },
   {
    "duration": 185259,
    "start_time": "2021-10-08T16:27:19.626Z"
   },
   {
    "duration": 185256,
    "start_time": "2021-10-08T16:27:19.630Z"
   },
   {
    "duration": 1051,
    "start_time": "2021-10-08T16:30:59.233Z"
   },
   {
    "duration": 16,
    "start_time": "2021-10-08T16:31:00.286Z"
   },
   {
    "duration": 18,
    "start_time": "2021-10-08T16:31:00.304Z"
   },
   {
    "duration": 15,
    "start_time": "2021-10-08T16:31:00.325Z"
   },
   {
    "duration": 23,
    "start_time": "2021-10-08T16:31:00.341Z"
   },
   {
    "duration": 13,
    "start_time": "2021-10-08T16:31:00.365Z"
   },
   {
    "duration": 326,
    "start_time": "2021-10-08T16:31:00.380Z"
   },
   {
    "duration": 13,
    "start_time": "2021-10-08T16:31:00.708Z"
   },
   {
    "duration": 353,
    "start_time": "2021-10-08T16:31:00.723Z"
   },
   {
    "duration": 51,
    "start_time": "2021-10-08T16:31:01.077Z"
   },
   {
    "duration": 70,
    "start_time": "2021-10-08T16:31:01.129Z"
   },
   {
    "duration": 223,
    "start_time": "2021-10-08T16:31:01.201Z"
   },
   {
    "duration": 185372,
    "start_time": "2021-10-08T16:27:56.055Z"
   },
   {
    "duration": 185368,
    "start_time": "2021-10-08T16:27:56.060Z"
   },
   {
    "duration": 185363,
    "start_time": "2021-10-08T16:27:56.066Z"
   },
   {
    "duration": 185338,
    "start_time": "2021-10-08T16:27:56.092Z"
   },
   {
    "duration": 185334,
    "start_time": "2021-10-08T16:27:56.097Z"
   },
   {
    "duration": 185330,
    "start_time": "2021-10-08T16:27:56.102Z"
   },
   {
    "duration": 185313,
    "start_time": "2021-10-08T16:27:56.120Z"
   },
   {
    "duration": 185306,
    "start_time": "2021-10-08T16:27:56.128Z"
   },
   {
    "duration": 185301,
    "start_time": "2021-10-08T16:27:56.134Z"
   },
   {
    "duration": 185298,
    "start_time": "2021-10-08T16:27:56.138Z"
   },
   {
    "duration": 185291,
    "start_time": "2021-10-08T16:27:56.145Z"
   },
   {
    "duration": 185287,
    "start_time": "2021-10-08T16:27:56.150Z"
   },
   {
    "duration": 185284,
    "start_time": "2021-10-08T16:27:56.154Z"
   },
   {
    "duration": 185280,
    "start_time": "2021-10-08T16:27:56.159Z"
   },
   {
    "duration": 185276,
    "start_time": "2021-10-08T16:27:56.164Z"
   },
   {
    "duration": 185273,
    "start_time": "2021-10-08T16:27:56.168Z"
   },
   {
    "duration": 185269,
    "start_time": "2021-10-08T16:27:56.173Z"
   },
   {
    "duration": 185264,
    "start_time": "2021-10-08T16:27:56.178Z"
   },
   {
    "duration": 185261,
    "start_time": "2021-10-08T16:27:56.183Z"
   },
   {
    "duration": 185258,
    "start_time": "2021-10-08T16:27:56.187Z"
   },
   {
    "duration": 185253,
    "start_time": "2021-10-08T16:27:56.192Z"
   },
   {
    "duration": 185250,
    "start_time": "2021-10-08T16:27:56.196Z"
   },
   {
    "duration": 185247,
    "start_time": "2021-10-08T16:27:56.200Z"
   },
   {
    "duration": 185243,
    "start_time": "2021-10-08T16:27:56.205Z"
   },
   {
    "duration": 185238,
    "start_time": "2021-10-08T16:27:56.211Z"
   },
   {
    "duration": 17,
    "start_time": "2021-10-08T16:32:10.364Z"
   },
   {
    "duration": 1229,
    "start_time": "2021-10-08T16:33:18.278Z"
   },
   {
    "duration": 15,
    "start_time": "2021-10-08T16:33:19.509Z"
   },
   {
    "duration": 56,
    "start_time": "2021-10-08T16:33:19.526Z"
   },
   {
    "duration": 26,
    "start_time": "2021-10-08T16:33:19.584Z"
   },
   {
    "duration": 50,
    "start_time": "2021-10-08T16:33:19.612Z"
   },
   {
    "duration": 18,
    "start_time": "2021-10-08T16:33:19.664Z"
   },
   {
    "duration": 386,
    "start_time": "2021-10-08T16:33:19.684Z"
   },
   {
    "duration": 14,
    "start_time": "2021-10-08T16:33:20.073Z"
   },
   {
    "duration": 348,
    "start_time": "2021-10-08T16:33:20.095Z"
   },
   {
    "duration": 40,
    "start_time": "2021-10-08T16:33:20.445Z"
   },
   {
    "duration": 247,
    "start_time": "2021-10-08T16:33:20.486Z"
   },
   {
    "duration": 185343,
    "start_time": "2021-10-08T16:30:15.392Z"
   },
   {
    "duration": 185340,
    "start_time": "2021-10-08T16:30:15.396Z"
   },
   {
    "duration": 185336,
    "start_time": "2021-10-08T16:30:15.401Z"
   },
   {
    "duration": 185333,
    "start_time": "2021-10-08T16:30:15.405Z"
   },
   {
    "duration": 185330,
    "start_time": "2021-10-08T16:30:15.409Z"
   },
   {
    "duration": 185327,
    "start_time": "2021-10-08T16:30:15.413Z"
   },
   {
    "duration": 185305,
    "start_time": "2021-10-08T16:30:15.436Z"
   },
   {
    "duration": 185300,
    "start_time": "2021-10-08T16:30:15.442Z"
   },
   {
    "duration": 185297,
    "start_time": "2021-10-08T16:30:15.446Z"
   },
   {
    "duration": 185287,
    "start_time": "2021-10-08T16:30:15.457Z"
   },
   {
    "duration": 185285,
    "start_time": "2021-10-08T16:30:15.460Z"
   },
   {
    "duration": 185280,
    "start_time": "2021-10-08T16:30:15.466Z"
   },
   {
    "duration": 185278,
    "start_time": "2021-10-08T16:30:15.469Z"
   },
   {
    "duration": 185274,
    "start_time": "2021-10-08T16:30:15.474Z"
   },
   {
    "duration": 185270,
    "start_time": "2021-10-08T16:30:15.479Z"
   },
   {
    "duration": 185267,
    "start_time": "2021-10-08T16:30:15.483Z"
   },
   {
    "duration": 185264,
    "start_time": "2021-10-08T16:30:15.487Z"
   },
   {
    "duration": 185260,
    "start_time": "2021-10-08T16:30:15.492Z"
   },
   {
    "duration": 185257,
    "start_time": "2021-10-08T16:30:15.496Z"
   },
   {
    "duration": 185254,
    "start_time": "2021-10-08T16:30:15.500Z"
   },
   {
    "duration": 185251,
    "start_time": "2021-10-08T16:30:15.504Z"
   },
   {
    "duration": 185248,
    "start_time": "2021-10-08T16:30:15.508Z"
   },
   {
    "duration": 185245,
    "start_time": "2021-10-08T16:30:15.512Z"
   },
   {
    "duration": 185242,
    "start_time": "2021-10-08T16:30:15.516Z"
   },
   {
    "duration": 185239,
    "start_time": "2021-10-08T16:30:15.520Z"
   },
   {
    "duration": 1109,
    "start_time": "2021-10-08T16:34:11.653Z"
   },
   {
    "duration": 16,
    "start_time": "2021-10-08T16:34:12.764Z"
   },
   {
    "duration": 46,
    "start_time": "2021-10-08T16:34:12.782Z"
   },
   {
    "duration": 144,
    "start_time": "2021-10-08T16:34:12.830Z"
   },
   {
    "duration": 54,
    "start_time": "2021-10-08T16:34:12.976Z"
   },
   {
    "duration": 12,
    "start_time": "2021-10-08T16:34:13.031Z"
   },
   {
    "duration": 298,
    "start_time": "2021-10-08T16:34:13.045Z"
   },
   {
    "duration": 14,
    "start_time": "2021-10-08T16:34:13.345Z"
   },
   {
    "duration": 348,
    "start_time": "2021-10-08T16:34:13.360Z"
   },
   {
    "duration": 39,
    "start_time": "2021-10-08T16:34:13.710Z"
   },
   {
    "duration": 57,
    "start_time": "2021-10-08T16:34:13.751Z"
   },
   {
    "duration": 255,
    "start_time": "2021-10-08T16:34:13.809Z"
   },
   {
    "duration": 185357,
    "start_time": "2021-10-08T16:31:08.709Z"
   },
   {
    "duration": 185352,
    "start_time": "2021-10-08T16:31:08.715Z"
   },
   {
    "duration": 185349,
    "start_time": "2021-10-08T16:31:08.719Z"
   },
   {
    "duration": 185346,
    "start_time": "2021-10-08T16:31:08.723Z"
   },
   {
    "duration": 185343,
    "start_time": "2021-10-08T16:31:08.727Z"
   },
   {
    "duration": 185339,
    "start_time": "2021-10-08T16:31:08.732Z"
   },
   {
    "duration": 185335,
    "start_time": "2021-10-08T16:31:08.737Z"
   },
   {
    "duration": 185332,
    "start_time": "2021-10-08T16:31:08.741Z"
   },
   {
    "duration": 185329,
    "start_time": "2021-10-08T16:31:08.745Z"
   },
   {
    "duration": 185326,
    "start_time": "2021-10-08T16:31:08.749Z"
   },
   {
    "duration": 185323,
    "start_time": "2021-10-08T16:31:08.753Z"
   },
   {
    "duration": 185313,
    "start_time": "2021-10-08T16:31:08.764Z"
   },
   {
    "duration": 185311,
    "start_time": "2021-10-08T16:31:08.767Z"
   },
   {
    "duration": 185308,
    "start_time": "2021-10-08T16:31:08.771Z"
   },
   {
    "duration": 185305,
    "start_time": "2021-10-08T16:31:08.775Z"
   },
   {
    "duration": 185301,
    "start_time": "2021-10-08T16:31:08.780Z"
   },
   {
    "duration": 185299,
    "start_time": "2021-10-08T16:31:08.783Z"
   },
   {
    "duration": 185295,
    "start_time": "2021-10-08T16:31:08.787Z"
   },
   {
    "duration": 185292,
    "start_time": "2021-10-08T16:31:08.791Z"
   },
   {
    "duration": 185288,
    "start_time": "2021-10-08T16:31:08.796Z"
   },
   {
    "duration": 185286,
    "start_time": "2021-10-08T16:31:08.799Z"
   },
   {
    "duration": 185283,
    "start_time": "2021-10-08T16:31:08.803Z"
   },
   {
    "duration": 185281,
    "start_time": "2021-10-08T16:31:08.807Z"
   },
   {
    "duration": 185279,
    "start_time": "2021-10-08T16:31:08.810Z"
   },
   {
    "duration": 1163,
    "start_time": "2021-10-08T16:35:34.703Z"
   },
   {
    "duration": 16,
    "start_time": "2021-10-08T16:35:35.867Z"
   },
   {
    "duration": 11,
    "start_time": "2021-10-08T16:35:35.885Z"
   },
   {
    "duration": 12,
    "start_time": "2021-10-08T16:35:35.898Z"
   },
   {
    "duration": 17,
    "start_time": "2021-10-08T16:35:35.912Z"
   },
   {
    "duration": 20,
    "start_time": "2021-10-08T16:35:35.931Z"
   },
   {
    "duration": 320,
    "start_time": "2021-10-08T16:35:35.953Z"
   },
   {
    "duration": 24,
    "start_time": "2021-10-08T16:35:36.276Z"
   },
   {
    "duration": 343,
    "start_time": "2021-10-08T16:35:36.302Z"
   },
   {
    "duration": 53,
    "start_time": "2021-10-08T16:35:36.647Z"
   },
   {
    "duration": 43,
    "start_time": "2021-10-08T16:35:36.702Z"
   },
   {
    "duration": 279,
    "start_time": "2021-10-08T16:35:36.746Z"
   },
   {
    "duration": 185370,
    "start_time": "2021-10-08T16:32:31.658Z"
   },
   {
    "duration": 185351,
    "start_time": "2021-10-08T16:32:31.678Z"
   },
   {
    "duration": 185347,
    "start_time": "2021-10-08T16:32:31.683Z"
   },
   {
    "duration": 185341,
    "start_time": "2021-10-08T16:32:31.689Z"
   },
   {
    "duration": 185339,
    "start_time": "2021-10-08T16:32:31.693Z"
   },
   {
    "duration": 185335,
    "start_time": "2021-10-08T16:32:31.697Z"
   },
   {
    "duration": 185324,
    "start_time": "2021-10-08T16:32:31.709Z"
   },
   {
    "duration": 185321,
    "start_time": "2021-10-08T16:32:31.713Z"
   },
   {
    "duration": 185318,
    "start_time": "2021-10-08T16:32:31.717Z"
   },
   {
    "duration": 185313,
    "start_time": "2021-10-08T16:32:31.723Z"
   },
   {
    "duration": 185309,
    "start_time": "2021-10-08T16:32:31.728Z"
   },
   {
    "duration": 185306,
    "start_time": "2021-10-08T16:32:31.732Z"
   },
   {
    "duration": 185303,
    "start_time": "2021-10-08T16:32:31.736Z"
   },
   {
    "duration": 185300,
    "start_time": "2021-10-08T16:32:31.740Z"
   },
   {
    "duration": 185297,
    "start_time": "2021-10-08T16:32:31.744Z"
   },
   {
    "duration": 185293,
    "start_time": "2021-10-08T16:32:31.748Z"
   },
   {
    "duration": 185290,
    "start_time": "2021-10-08T16:32:31.752Z"
   },
   {
    "duration": 185287,
    "start_time": "2021-10-08T16:32:31.756Z"
   },
   {
    "duration": 185284,
    "start_time": "2021-10-08T16:32:31.760Z"
   },
   {
    "duration": 185280,
    "start_time": "2021-10-08T16:32:31.765Z"
   },
   {
    "duration": 185277,
    "start_time": "2021-10-08T16:32:31.769Z"
   },
   {
    "duration": 185274,
    "start_time": "2021-10-08T16:32:31.773Z"
   },
   {
    "duration": 185271,
    "start_time": "2021-10-08T16:32:31.777Z"
   },
   {
    "duration": 185267,
    "start_time": "2021-10-08T16:32:31.782Z"
   },
   {
    "duration": 33,
    "start_time": "2021-10-08T16:36:39.104Z"
   },
   {
    "duration": 1057,
    "start_time": "2021-10-08T16:55:13.814Z"
   },
   {
    "duration": 14,
    "start_time": "2021-10-08T16:55:14.873Z"
   },
   {
    "duration": 16,
    "start_time": "2021-10-08T16:55:14.889Z"
   },
   {
    "duration": 13,
    "start_time": "2021-10-08T16:55:14.906Z"
   },
   {
    "duration": 16,
    "start_time": "2021-10-08T16:55:14.921Z"
   },
   {
    "duration": 13,
    "start_time": "2021-10-08T16:55:14.939Z"
   },
   {
    "duration": 354,
    "start_time": "2021-10-08T16:55:14.954Z"
   },
   {
    "duration": 14,
    "start_time": "2021-10-08T16:55:15.310Z"
   },
   {
    "duration": 346,
    "start_time": "2021-10-08T16:55:15.326Z"
   },
   {
    "duration": 46,
    "start_time": "2021-10-08T16:55:15.674Z"
   },
   {
    "duration": 45,
    "start_time": "2021-10-08T16:55:15.721Z"
   },
   {
    "duration": 224,
    "start_time": "2021-10-08T16:55:15.767Z"
   },
   {
    "duration": 185351,
    "start_time": "2021-10-08T16:52:10.642Z"
   },
   {
    "duration": 185348,
    "start_time": "2021-10-08T16:52:10.646Z"
   },
   {
    "duration": 185344,
    "start_time": "2021-10-08T16:52:10.650Z"
   },
   {
    "duration": 185339,
    "start_time": "2021-10-08T16:52:10.656Z"
   },
   {
    "duration": 185336,
    "start_time": "2021-10-08T16:52:10.660Z"
   },
   {
    "duration": 185333,
    "start_time": "2021-10-08T16:52:10.664Z"
   },
   {
    "duration": 185329,
    "start_time": "2021-10-08T16:52:10.669Z"
   },
   {
    "duration": 185321,
    "start_time": "2021-10-08T16:52:10.678Z"
   },
   {
    "duration": 185317,
    "start_time": "2021-10-08T16:52:10.683Z"
   },
   {
    "duration": 185313,
    "start_time": "2021-10-08T16:52:10.688Z"
   },
   {
    "duration": 185309,
    "start_time": "2021-10-08T16:52:10.693Z"
   },
   {
    "duration": 185305,
    "start_time": "2021-10-08T16:52:10.698Z"
   },
   {
    "duration": 185301,
    "start_time": "2021-10-08T16:52:10.703Z"
   },
   {
    "duration": 185298,
    "start_time": "2021-10-08T16:52:10.707Z"
   },
   {
    "duration": 185295,
    "start_time": "2021-10-08T16:52:10.711Z"
   },
   {
    "duration": 185291,
    "start_time": "2021-10-08T16:52:10.716Z"
   },
   {
    "duration": 185288,
    "start_time": "2021-10-08T16:52:10.720Z"
   },
   {
    "duration": 185284,
    "start_time": "2021-10-08T16:52:10.724Z"
   },
   {
    "duration": 185281,
    "start_time": "2021-10-08T16:52:10.728Z"
   },
   {
    "duration": 185278,
    "start_time": "2021-10-08T16:52:10.732Z"
   },
   {
    "duration": 185275,
    "start_time": "2021-10-08T16:52:10.736Z"
   },
   {
    "duration": 185272,
    "start_time": "2021-10-08T16:52:10.740Z"
   },
   {
    "duration": 185269,
    "start_time": "2021-10-08T16:52:10.744Z"
   },
   {
    "duration": 185266,
    "start_time": "2021-10-08T16:52:10.748Z"
   },
   {
    "duration": 1153,
    "start_time": "2021-10-08T16:59:19.177Z"
   },
   {
    "duration": 14,
    "start_time": "2021-10-08T16:59:20.332Z"
   },
   {
    "duration": 10,
    "start_time": "2021-10-08T16:59:20.349Z"
   },
   {
    "duration": 12,
    "start_time": "2021-10-08T16:59:20.361Z"
   },
   {
    "duration": 26,
    "start_time": "2021-10-08T16:59:20.374Z"
   },
   {
    "duration": 12,
    "start_time": "2021-10-08T16:59:20.402Z"
   },
   {
    "duration": 323,
    "start_time": "2021-10-08T16:59:20.416Z"
   },
   {
    "duration": 14,
    "start_time": "2021-10-08T16:59:20.741Z"
   },
   {
    "duration": 342,
    "start_time": "2021-10-08T16:59:20.757Z"
   },
   {
    "duration": 37,
    "start_time": "2021-10-08T16:59:21.101Z"
   },
   {
    "duration": 23,
    "start_time": "2021-10-08T16:59:21.140Z"
   },
   {
    "duration": 43,
    "start_time": "2021-10-08T16:59:21.164Z"
   },
   {
    "duration": 340,
    "start_time": "2021-10-08T16:59:21.208Z"
   },
   {
    "duration": 185348,
    "start_time": "2021-10-08T16:56:16.202Z"
   },
   {
    "duration": 185345,
    "start_time": "2021-10-08T16:56:16.206Z"
   },
   {
    "duration": 185342,
    "start_time": "2021-10-08T16:56:16.210Z"
   },
   {
    "duration": 185299,
    "start_time": "2021-10-08T16:56:16.254Z"
   },
   {
    "duration": 185296,
    "start_time": "2021-10-08T16:56:16.258Z"
   },
   {
    "duration": 185291,
    "start_time": "2021-10-08T16:56:16.263Z"
   },
   {
    "duration": 185289,
    "start_time": "2021-10-08T16:56:16.267Z"
   },
   {
    "duration": 185284,
    "start_time": "2021-10-08T16:56:16.273Z"
   },
   {
    "duration": 185280,
    "start_time": "2021-10-08T16:56:16.278Z"
   },
   {
    "duration": 185276,
    "start_time": "2021-10-08T16:56:16.283Z"
   },
   {
    "duration": 185268,
    "start_time": "2021-10-08T16:56:16.292Z"
   },
   {
    "duration": 185263,
    "start_time": "2021-10-08T16:56:16.298Z"
   },
   {
    "duration": 185260,
    "start_time": "2021-10-08T16:56:16.302Z"
   },
   {
    "duration": 185254,
    "start_time": "2021-10-08T16:56:16.309Z"
   },
   {
    "duration": 185249,
    "start_time": "2021-10-08T16:56:16.316Z"
   },
   {
    "duration": 185245,
    "start_time": "2021-10-08T16:56:16.321Z"
   },
   {
    "duration": 185241,
    "start_time": "2021-10-08T16:56:16.326Z"
   },
   {
    "duration": 185237,
    "start_time": "2021-10-08T16:56:16.331Z"
   },
   {
    "duration": 185233,
    "start_time": "2021-10-08T16:56:16.336Z"
   },
   {
    "duration": 185229,
    "start_time": "2021-10-08T16:56:16.341Z"
   },
   {
    "duration": 185197,
    "start_time": "2021-10-08T16:56:16.375Z"
   },
   {
    "duration": 185191,
    "start_time": "2021-10-08T16:56:16.382Z"
   },
   {
    "duration": 185187,
    "start_time": "2021-10-08T16:56:16.387Z"
   },
   {
    "duration": 185181,
    "start_time": "2021-10-08T16:56:16.394Z"
   },
   {
    "duration": 4863,
    "start_time": "2021-10-08T16:59:55.346Z"
   },
   {
    "duration": 1130,
    "start_time": "2021-10-08T17:00:13.324Z"
   },
   {
    "duration": 16,
    "start_time": "2021-10-08T17:00:14.456Z"
   },
   {
    "duration": 21,
    "start_time": "2021-10-08T17:00:14.475Z"
   },
   {
    "duration": 20,
    "start_time": "2021-10-08T17:00:14.497Z"
   },
   {
    "duration": 32,
    "start_time": "2021-10-08T17:00:14.519Z"
   },
   {
    "duration": 17,
    "start_time": "2021-10-08T17:00:14.553Z"
   },
   {
    "duration": 306,
    "start_time": "2021-10-08T17:00:14.572Z"
   },
   {
    "duration": 20,
    "start_time": "2021-10-08T17:00:14.880Z"
   },
   {
    "duration": 345,
    "start_time": "2021-10-08T17:00:14.902Z"
   },
   {
    "duration": 40,
    "start_time": "2021-10-08T17:00:15.249Z"
   },
   {
    "duration": 24,
    "start_time": "2021-10-08T17:00:15.300Z"
   },
   {
    "duration": 21,
    "start_time": "2021-10-08T17:00:15.325Z"
   },
   {
    "duration": 225,
    "start_time": "2021-10-08T17:00:15.347Z"
   },
   {
    "duration": 185202,
    "start_time": "2021-10-08T16:57:10.373Z"
   },
   {
    "duration": 185199,
    "start_time": "2021-10-08T16:57:10.377Z"
   },
   {
    "duration": 185187,
    "start_time": "2021-10-08T16:57:10.390Z"
   },
   {
    "duration": 185184,
    "start_time": "2021-10-08T16:57:10.394Z"
   },
   {
    "duration": 185181,
    "start_time": "2021-10-08T16:57:10.398Z"
   },
   {
    "duration": 185178,
    "start_time": "2021-10-08T16:57:10.402Z"
   },
   {
    "duration": 185174,
    "start_time": "2021-10-08T16:57:10.407Z"
   },
   {
    "duration": 185170,
    "start_time": "2021-10-08T16:57:10.412Z"
   },
   {
    "duration": 185165,
    "start_time": "2021-10-08T16:57:10.417Z"
   },
   {
    "duration": 185161,
    "start_time": "2021-10-08T16:57:10.422Z"
   },
   {
    "duration": 185156,
    "start_time": "2021-10-08T16:57:10.428Z"
   },
   {
    "duration": 185153,
    "start_time": "2021-10-08T16:57:10.432Z"
   },
   {
    "duration": 185148,
    "start_time": "2021-10-08T16:57:10.438Z"
   },
   {
    "duration": 185144,
    "start_time": "2021-10-08T16:57:10.443Z"
   },
   {
    "duration": 185141,
    "start_time": "2021-10-08T16:57:10.447Z"
   },
   {
    "duration": 185139,
    "start_time": "2021-10-08T16:57:10.451Z"
   },
   {
    "duration": 185132,
    "start_time": "2021-10-08T16:57:10.459Z"
   },
   {
    "duration": 185128,
    "start_time": "2021-10-08T16:57:10.465Z"
   },
   {
    "duration": 185122,
    "start_time": "2021-10-08T16:57:10.472Z"
   },
   {
    "duration": 185118,
    "start_time": "2021-10-08T16:57:10.477Z"
   },
   {
    "duration": 185115,
    "start_time": "2021-10-08T16:57:10.482Z"
   },
   {
    "duration": 185104,
    "start_time": "2021-10-08T16:57:10.494Z"
   },
   {
    "duration": 185101,
    "start_time": "2021-10-08T16:57:10.499Z"
   },
   {
    "duration": 185094,
    "start_time": "2021-10-08T16:57:10.507Z"
   },
   {
    "duration": 11,
    "start_time": "2021-10-08T17:04:16.852Z"
   },
   {
    "duration": 15,
    "start_time": "2021-10-08T17:04:36.537Z"
   },
   {
    "duration": 389,
    "start_time": "2021-10-08T17:04:50.695Z"
   },
   {
    "duration": 22,
    "start_time": "2021-10-08T17:04:55.599Z"
   },
   {
    "duration": 12,
    "start_time": "2021-10-08T17:07:06.472Z"
   },
   {
    "duration": 10,
    "start_time": "2021-10-08T17:07:17.539Z"
   },
   {
    "duration": 15,
    "start_time": "2021-10-08T17:08:12.222Z"
   },
   {
    "duration": 12,
    "start_time": "2021-10-08T17:09:56.343Z"
   },
   {
    "duration": 5,
    "start_time": "2021-10-08T17:10:17.100Z"
   },
   {
    "duration": 5,
    "start_time": "2021-10-08T17:10:22.828Z"
   },
   {
    "duration": 4,
    "start_time": "2021-10-08T17:10:28.347Z"
   },
   {
    "duration": 23,
    "start_time": "2021-10-08T17:10:46.432Z"
   },
   {
    "duration": 13,
    "start_time": "2021-10-08T17:13:03.326Z"
   },
   {
    "duration": 24,
    "start_time": "2021-10-08T17:13:26.586Z"
   },
   {
    "duration": 20,
    "start_time": "2021-10-08T17:14:21.926Z"
   },
   {
    "duration": 47,
    "start_time": "2021-10-08T17:14:46.142Z"
   },
   {
    "duration": 11,
    "start_time": "2021-10-08T17:14:50.188Z"
   },
   {
    "duration": 1104,
    "start_time": "2021-10-08T17:15:04.522Z"
   },
   {
    "duration": 22,
    "start_time": "2021-10-08T17:15:20.956Z"
   },
   {
    "duration": 25,
    "start_time": "2021-10-08T17:15:28.739Z"
   },
   {
    "duration": 15,
    "start_time": "2021-10-08T17:15:40.389Z"
   },
   {
    "duration": 12,
    "start_time": "2021-10-08T17:18:12.570Z"
   },
   {
    "duration": 9,
    "start_time": "2021-10-08T17:18:21.193Z"
   },
   {
    "duration": 941,
    "start_time": "2021-10-08T17:21:02.191Z"
   },
   {
    "duration": 21,
    "start_time": "2021-10-08T17:21:06.813Z"
   },
   {
    "duration": 16,
    "start_time": "2021-10-08T17:21:12.004Z"
   },
   {
    "duration": 24,
    "start_time": "2021-10-08T17:21:16.383Z"
   },
   {
    "duration": 17,
    "start_time": "2021-10-08T17:23:05.208Z"
   },
   {
    "duration": 300,
    "start_time": "2021-10-08T17:23:39.647Z"
   },
   {
    "duration": 22,
    "start_time": "2021-10-08T17:23:50.251Z"
   },
   {
    "duration": 337,
    "start_time": "2021-10-08T17:23:53.369Z"
   },
   {
    "duration": 321,
    "start_time": "2021-10-08T17:23:56.179Z"
   },
   {
    "duration": 505,
    "start_time": "2021-10-08T17:23:58.849Z"
   },
   {
    "duration": 5,
    "start_time": "2021-10-08T17:26:21.801Z"
   },
   {
    "duration": 413,
    "start_time": "2021-10-08T17:26:27.000Z"
   },
   {
    "duration": 425,
    "start_time": "2021-10-08T17:27:26.690Z"
   },
   {
    "duration": 470,
    "start_time": "2021-10-08T17:27:59.508Z"
   },
   {
    "duration": 439,
    "start_time": "2021-10-08T17:30:21.216Z"
   },
   {
    "duration": 6,
    "start_time": "2021-10-08T17:30:49.969Z"
   },
   {
    "duration": 454,
    "start_time": "2021-10-08T17:32:57.659Z"
   },
   {
    "duration": 569,
    "start_time": "2021-10-08T17:33:36.258Z"
   },
   {
    "duration": 1187,
    "start_time": "2021-10-08T17:34:01.570Z"
   },
   {
    "duration": 16,
    "start_time": "2021-10-08T17:34:02.759Z"
   },
   {
    "duration": 17,
    "start_time": "2021-10-08T17:34:02.776Z"
   },
   {
    "duration": 29,
    "start_time": "2021-10-08T17:34:02.794Z"
   },
   {
    "duration": 18,
    "start_time": "2021-10-08T17:34:02.825Z"
   },
   {
    "duration": 13,
    "start_time": "2021-10-08T17:34:02.845Z"
   },
   {
    "duration": 312,
    "start_time": "2021-10-08T17:34:02.861Z"
   },
   {
    "duration": 14,
    "start_time": "2021-10-08T17:34:03.175Z"
   },
   {
    "duration": 359,
    "start_time": "2021-10-08T17:34:03.200Z"
   },
   {
    "duration": 51,
    "start_time": "2021-10-08T17:34:03.561Z"
   },
   {
    "duration": 27,
    "start_time": "2021-10-08T17:34:03.614Z"
   },
   {
    "duration": 18,
    "start_time": "2021-10-08T17:34:03.642Z"
   },
   {
    "duration": 38,
    "start_time": "2021-10-08T17:34:03.662Z"
   },
   {
    "duration": 412,
    "start_time": "2021-10-08T17:34:03.702Z"
   },
   {
    "duration": 22,
    "start_time": "2021-10-08T17:34:04.116Z"
   },
   {
    "duration": 1057,
    "start_time": "2021-10-08T17:34:04.139Z"
   },
   {
    "duration": 25,
    "start_time": "2021-10-08T17:34:05.199Z"
   },
   {
    "duration": 14,
    "start_time": "2021-10-08T17:34:05.225Z"
   },
   {
    "duration": 19,
    "start_time": "2021-10-08T17:34:05.240Z"
   },
   {
    "duration": 324,
    "start_time": "2021-10-08T17:34:05.261Z"
   },
   {
    "duration": 25,
    "start_time": "2021-10-08T17:34:05.586Z"
   },
   {
    "duration": 296,
    "start_time": "2021-10-08T17:34:05.613Z"
   },
   {
    "duration": 292,
    "start_time": "2021-10-08T17:34:05.913Z"
   },
   {
    "duration": 7,
    "start_time": "2021-10-08T17:34:06.207Z"
   },
   {
    "duration": 539,
    "start_time": "2021-10-08T17:34:06.216Z"
   },
   {
    "duration": 185286,
    "start_time": "2021-10-08T17:31:01.472Z"
   },
   {
    "duration": 185284,
    "start_time": "2021-10-08T17:31:01.476Z"
   },
   {
    "duration": 185280,
    "start_time": "2021-10-08T17:31:01.481Z"
   },
   {
    "duration": 185277,
    "start_time": "2021-10-08T17:31:01.485Z"
   },
   {
    "duration": 185276,
    "start_time": "2021-10-08T17:31:01.488Z"
   },
   {
    "duration": 185272,
    "start_time": "2021-10-08T17:31:01.493Z"
   },
   {
    "duration": 185269,
    "start_time": "2021-10-08T17:31:01.498Z"
   },
   {
    "duration": 185266,
    "start_time": "2021-10-08T17:31:01.502Z"
   },
   {
    "duration": 185264,
    "start_time": "2021-10-08T17:31:01.506Z"
   },
   {
    "duration": 185261,
    "start_time": "2021-10-08T17:31:01.510Z"
   },
   {
    "duration": 185259,
    "start_time": "2021-10-08T17:31:01.514Z"
   },
   {
    "duration": 431,
    "start_time": "2021-10-08T17:34:30.781Z"
   },
   {
    "duration": 432,
    "start_time": "2021-10-08T17:36:05.730Z"
   },
   {
    "duration": 580,
    "start_time": "2021-10-08T17:36:20.143Z"
   },
   {
    "duration": 155,
    "start_time": "2021-10-08T17:37:26.751Z"
   },
   {
    "duration": 599,
    "start_time": "2021-10-08T17:37:46.839Z"
   },
   {
    "duration": 599,
    "start_time": "2021-10-08T17:38:27.128Z"
   },
   {
    "duration": 431,
    "start_time": "2021-10-08T17:39:18.411Z"
   },
   {
    "duration": 435,
    "start_time": "2021-10-08T17:39:31.949Z"
   },
   {
    "duration": 504,
    "start_time": "2021-10-08T17:39:45.392Z"
   },
   {
    "duration": 447,
    "start_time": "2021-10-08T17:40:36.980Z"
   },
   {
    "duration": 8,
    "start_time": "2021-10-08T17:42:47.136Z"
   },
   {
    "duration": 7,
    "start_time": "2021-10-08T17:43:02.232Z"
   },
   {
    "duration": 23,
    "start_time": "2021-10-08T17:44:19.835Z"
   },
   {
    "duration": 52,
    "start_time": "2021-10-08T17:45:15.241Z"
   },
   {
    "duration": 89,
    "start_time": "2021-10-08T17:45:28.519Z"
   },
   {
    "duration": 84,
    "start_time": "2021-10-08T17:45:36.218Z"
   },
   {
    "duration": 22,
    "start_time": "2021-10-08T17:45:56.860Z"
   },
   {
    "duration": 825,
    "start_time": "2021-10-08T17:46:12.506Z"
   },
   {
    "duration": 21,
    "start_time": "2021-10-08T17:47:19.467Z"
   },
   {
    "duration": 20,
    "start_time": "2021-10-08T17:47:31.939Z"
   },
   {
    "duration": 19,
    "start_time": "2021-10-08T17:47:36.837Z"
   },
   {
    "duration": 22,
    "start_time": "2021-10-08T17:50:26.182Z"
   },
   {
    "duration": 25,
    "start_time": "2021-10-08T17:51:02.091Z"
   },
   {
    "duration": 679,
    "start_time": "2021-10-08T17:51:13.468Z"
   },
   {
    "duration": 686,
    "start_time": "2021-10-08T17:51:58.575Z"
   },
   {
    "duration": 763,
    "start_time": "2021-10-08T17:56:32.756Z"
   },
   {
    "duration": 632,
    "start_time": "2021-10-08T17:56:51.042Z"
   },
   {
    "duration": 685,
    "start_time": "2021-10-08T17:57:00.867Z"
   },
   {
    "duration": 19,
    "start_time": "2021-10-08T17:58:02.723Z"
   },
   {
    "duration": 883,
    "start_time": "2021-10-08T17:58:05.201Z"
   },
   {
    "duration": 26,
    "start_time": "2021-10-08T17:58:29.384Z"
   },
   {
    "duration": 622,
    "start_time": "2021-10-08T17:58:31.708Z"
   },
   {
    "duration": 22,
    "start_time": "2021-10-08T17:59:10.643Z"
   },
   {
    "duration": 656,
    "start_time": "2021-10-08T17:59:11.367Z"
   },
   {
    "duration": 15,
    "start_time": "2021-10-08T17:59:18.115Z"
   },
   {
    "duration": 5,
    "start_time": "2021-10-08T17:59:32.151Z"
   },
   {
    "duration": 17,
    "start_time": "2021-10-08T17:59:38.400Z"
   },
   {
    "duration": 6,
    "start_time": "2021-10-08T17:59:43.549Z"
   },
   {
    "duration": 1157,
    "start_time": "2021-10-08T18:01:01.229Z"
   },
   {
    "duration": 15,
    "start_time": "2021-10-08T18:01:02.388Z"
   },
   {
    "duration": 14,
    "start_time": "2021-10-08T18:01:02.405Z"
   },
   {
    "duration": 12,
    "start_time": "2021-10-08T18:01:02.421Z"
   },
   {
    "duration": 28,
    "start_time": "2021-10-08T18:01:02.434Z"
   },
   {
    "duration": 13,
    "start_time": "2021-10-08T18:01:02.464Z"
   },
   {
    "duration": 330,
    "start_time": "2021-10-08T18:01:02.478Z"
   },
   {
    "duration": 14,
    "start_time": "2021-10-08T18:01:02.811Z"
   },
   {
    "duration": 346,
    "start_time": "2021-10-08T18:01:02.826Z"
   },
   {
    "duration": 50,
    "start_time": "2021-10-08T18:01:03.174Z"
   },
   {
    "duration": 25,
    "start_time": "2021-10-08T18:01:03.225Z"
   },
   {
    "duration": 18,
    "start_time": "2021-10-08T18:01:03.251Z"
   },
   {
    "duration": 34,
    "start_time": "2021-10-08T18:01:03.271Z"
   },
   {
    "duration": 407,
    "start_time": "2021-10-08T18:01:03.307Z"
   },
   {
    "duration": 22,
    "start_time": "2021-10-08T18:01:03.715Z"
   },
   {
    "duration": 1052,
    "start_time": "2021-10-08T18:01:03.738Z"
   },
   {
    "duration": 29,
    "start_time": "2021-10-08T18:01:04.791Z"
   },
   {
    "duration": 15,
    "start_time": "2021-10-08T18:01:04.821Z"
   },
   {
    "duration": 27,
    "start_time": "2021-10-08T18:01:04.837Z"
   },
   {
    "duration": 345,
    "start_time": "2021-10-08T18:01:04.866Z"
   },
   {
    "duration": 24,
    "start_time": "2021-10-08T18:01:05.213Z"
   },
   {
    "duration": 285,
    "start_time": "2021-10-08T18:01:05.238Z"
   },
   {
    "duration": 292,
    "start_time": "2021-10-08T18:01:05.526Z"
   },
   {
    "duration": 8,
    "start_time": "2021-10-08T18:01:05.820Z"
   },
   {
    "duration": 7,
    "start_time": "2021-10-08T18:01:05.829Z"
   },
   {
    "duration": 23,
    "start_time": "2021-10-08T18:01:05.838Z"
   },
   {
    "duration": 55,
    "start_time": "2021-10-08T18:01:05.863Z"
   },
   {
    "duration": 715,
    "start_time": "2021-10-08T18:01:05.920Z"
   },
   {
    "duration": 19,
    "start_time": "2021-10-08T18:01:06.637Z"
   },
   {
    "duration": 668,
    "start_time": "2021-10-08T18:01:06.657Z"
   },
   {
    "duration": 22,
    "start_time": "2021-10-08T18:01:07.326Z"
   },
   {
    "duration": 655,
    "start_time": "2021-10-08T18:01:07.349Z"
   },
   {
    "duration": 16,
    "start_time": "2021-10-08T18:01:08.006Z"
   },
   {
    "duration": 43,
    "start_time": "2021-10-08T18:01:08.023Z"
   },
   {
    "duration": 17,
    "start_time": "2021-10-08T18:01:08.068Z"
   },
   {
    "duration": 4,
    "start_time": "2021-10-08T18:01:08.087Z"
   },
   {
    "duration": 1187,
    "start_time": "2021-10-08T18:03:55.491Z"
   },
   {
    "duration": 16,
    "start_time": "2021-10-08T18:03:56.680Z"
   },
   {
    "duration": 12,
    "start_time": "2021-10-08T18:03:56.698Z"
   },
   {
    "duration": 12,
    "start_time": "2021-10-08T18:03:56.712Z"
   },
   {
    "duration": 18,
    "start_time": "2021-10-08T18:03:56.726Z"
   },
   {
    "duration": 14,
    "start_time": "2021-10-08T18:03:56.745Z"
   },
   {
    "duration": 343,
    "start_time": "2021-10-08T18:03:56.760Z"
   },
   {
    "duration": 14,
    "start_time": "2021-10-08T18:03:57.106Z"
   },
   {
    "duration": 350,
    "start_time": "2021-10-08T18:03:57.122Z"
   },
   {
    "duration": 57,
    "start_time": "2021-10-08T18:03:57.473Z"
   },
   {
    "duration": 26,
    "start_time": "2021-10-08T18:03:57.532Z"
   },
   {
    "duration": 20,
    "start_time": "2021-10-08T18:03:57.560Z"
   },
   {
    "duration": 17,
    "start_time": "2021-10-08T18:03:57.600Z"
   },
   {
    "duration": 422,
    "start_time": "2021-10-08T18:03:57.619Z"
   },
   {
    "duration": 23,
    "start_time": "2021-10-08T18:03:58.043Z"
   },
   {
    "duration": 1026,
    "start_time": "2021-10-08T18:03:58.068Z"
   },
   {
    "duration": 22,
    "start_time": "2021-10-08T18:03:59.099Z"
   },
   {
    "duration": 16,
    "start_time": "2021-10-08T18:03:59.123Z"
   },
   {
    "duration": 22,
    "start_time": "2021-10-08T18:03:59.141Z"
   },
   {
    "duration": 312,
    "start_time": "2021-10-08T18:03:59.165Z"
   },
   {
    "duration": 28,
    "start_time": "2021-10-08T18:03:59.479Z"
   },
   {
    "duration": 300,
    "start_time": "2021-10-08T18:03:59.509Z"
   },
   {
    "duration": 298,
    "start_time": "2021-10-08T18:03:59.813Z"
   },
   {
    "duration": 8,
    "start_time": "2021-10-08T18:04:00.114Z"
   },
   {
    "duration": 21,
    "start_time": "2021-10-08T18:04:00.124Z"
   },
   {
    "duration": 28,
    "start_time": "2021-10-08T18:04:00.147Z"
   },
   {
    "duration": 36,
    "start_time": "2021-10-08T18:04:00.177Z"
   },
   {
    "duration": 664,
    "start_time": "2021-10-08T18:04:00.214Z"
   },
   {
    "duration": 27,
    "start_time": "2021-10-08T18:04:00.880Z"
   },
   {
    "duration": 645,
    "start_time": "2021-10-08T18:04:00.908Z"
   },
   {
    "duration": 22,
    "start_time": "2021-10-08T18:04:01.555Z"
   },
   {
    "duration": 642,
    "start_time": "2021-10-08T18:04:01.579Z"
   },
   {
    "duration": 15,
    "start_time": "2021-10-08T18:04:02.223Z"
   },
   {
    "duration": 21,
    "start_time": "2021-10-08T18:04:02.239Z"
   },
   {
    "duration": 40,
    "start_time": "2021-10-08T18:04:02.261Z"
   },
   {
    "duration": 18,
    "start_time": "2021-10-08T18:04:02.302Z"
   },
   {
    "duration": 1263,
    "start_time": "2021-10-10T04:51:30.688Z"
   },
   {
    "duration": 17,
    "start_time": "2021-10-10T04:51:31.953Z"
   },
   {
    "duration": 12,
    "start_time": "2021-10-10T04:51:31.973Z"
   },
   {
    "duration": 16,
    "start_time": "2021-10-10T04:51:31.988Z"
   },
   {
    "duration": 17,
    "start_time": "2021-10-10T04:51:32.006Z"
   },
   {
    "duration": 13,
    "start_time": "2021-10-10T04:51:32.025Z"
   },
   {
    "duration": 349,
    "start_time": "2021-10-10T04:51:32.040Z"
   },
   {
    "duration": 18,
    "start_time": "2021-10-10T04:51:32.391Z"
   },
   {
    "duration": 348,
    "start_time": "2021-10-10T04:51:32.411Z"
   },
   {
    "duration": 51,
    "start_time": "2021-10-10T04:51:32.761Z"
   },
   {
    "duration": 26,
    "start_time": "2021-10-10T04:51:32.814Z"
   },
   {
    "duration": 19,
    "start_time": "2021-10-10T04:51:32.841Z"
   },
   {
    "duration": 55,
    "start_time": "2021-10-10T04:51:32.861Z"
   },
   {
    "duration": 183425,
    "start_time": "2021-10-10T04:48:29.493Z"
   },
   {
    "duration": 183422,
    "start_time": "2021-10-10T04:48:29.498Z"
   },
   {
    "duration": 183417,
    "start_time": "2021-10-10T04:48:29.504Z"
   },
   {
    "duration": 183413,
    "start_time": "2021-10-10T04:48:29.510Z"
   },
   {
    "duration": 183409,
    "start_time": "2021-10-10T04:48:29.515Z"
   },
   {
    "duration": 183377,
    "start_time": "2021-10-10T04:48:29.549Z"
   },
   {
    "duration": 183375,
    "start_time": "2021-10-10T04:48:29.553Z"
   },
   {
    "duration": 183371,
    "start_time": "2021-10-10T04:48:29.558Z"
   },
   {
    "duration": 183366,
    "start_time": "2021-10-10T04:48:29.564Z"
   },
   {
    "duration": 183363,
    "start_time": "2021-10-10T04:48:29.569Z"
   },
   {
    "duration": 183360,
    "start_time": "2021-10-10T04:48:29.573Z"
   },
   {
    "duration": 183357,
    "start_time": "2021-10-10T04:48:29.578Z"
   },
   {
    "duration": 183354,
    "start_time": "2021-10-10T04:48:29.582Z"
   },
   {
    "duration": 183351,
    "start_time": "2021-10-10T04:48:29.587Z"
   },
   {
    "duration": 183347,
    "start_time": "2021-10-10T04:48:29.592Z"
   },
   {
    "duration": 183344,
    "start_time": "2021-10-10T04:48:29.597Z"
   },
   {
    "duration": 183341,
    "start_time": "2021-10-10T04:48:29.601Z"
   },
   {
    "duration": 183338,
    "start_time": "2021-10-10T04:48:29.606Z"
   },
   {
    "duration": 183335,
    "start_time": "2021-10-10T04:48:29.610Z"
   },
   {
    "duration": 183332,
    "start_time": "2021-10-10T04:48:29.615Z"
   },
   {
    "duration": 183329,
    "start_time": "2021-10-10T04:48:29.619Z"
   },
   {
    "duration": 183326,
    "start_time": "2021-10-10T04:48:29.623Z"
   },
   {
    "duration": 183311,
    "start_time": "2021-10-10T04:48:29.640Z"
   },
   {
    "duration": 183306,
    "start_time": "2021-10-10T04:48:29.646Z"
   },
   {
    "duration": 183304,
    "start_time": "2021-10-10T04:48:29.650Z"
   },
   {
    "duration": 15,
    "start_time": "2021-10-10T04:51:40.656Z"
   },
   {
    "duration": 23,
    "start_time": "2021-10-10T04:56:37.155Z"
   },
   {
    "duration": 14,
    "start_time": "2021-10-10T04:57:08.227Z"
   },
   {
    "duration": 16,
    "start_time": "2021-10-10T04:59:34.576Z"
   },
   {
    "duration": 394,
    "start_time": "2021-10-10T04:59:36.583Z"
   },
   {
    "duration": 21,
    "start_time": "2021-10-10T04:59:37.963Z"
   },
   {
    "duration": 1034,
    "start_time": "2021-10-10T04:59:40.168Z"
   },
   {
    "duration": 24,
    "start_time": "2021-10-10T04:59:41.719Z"
   },
   {
    "duration": 15,
    "start_time": "2021-10-10T04:59:43.257Z"
   },
   {
    "duration": 17,
    "start_time": "2021-10-10T04:59:44.534Z"
   },
   {
    "duration": 324,
    "start_time": "2021-10-10T04:59:45.668Z"
   },
   {
    "duration": 29,
    "start_time": "2021-10-10T04:59:46.535Z"
   },
   {
    "duration": 279,
    "start_time": "2021-10-10T04:59:46.737Z"
   },
   {
    "duration": 297,
    "start_time": "2021-10-10T04:59:47.018Z"
   },
   {
    "duration": 6,
    "start_time": "2021-10-10T04:59:47.317Z"
   },
   {
    "duration": 7,
    "start_time": "2021-10-10T04:59:48.276Z"
   },
   {
    "duration": 24,
    "start_time": "2021-10-10T04:59:49.056Z"
   },
   {
    "duration": 14,
    "start_time": "2021-10-10T05:05:09.039Z"
   },
   {
    "duration": 15,
    "start_time": "2021-10-10T05:05:36.543Z"
   },
   {
    "duration": 15,
    "start_time": "2021-10-10T05:06:04.149Z"
   },
   {
    "duration": 14,
    "start_time": "2021-10-10T05:06:29.724Z"
   },
   {
    "duration": 15,
    "start_time": "2021-10-10T05:07:51.638Z"
   },
   {
    "duration": 21,
    "start_time": "2021-10-10T05:08:07.031Z"
   },
   {
    "duration": 22,
    "start_time": "2021-10-10T05:11:49.235Z"
   },
   {
    "duration": 30,
    "start_time": "2021-10-10T05:13:24.697Z"
   },
   {
    "duration": 27,
    "start_time": "2021-10-10T05:13:42.919Z"
   },
   {
    "duration": 1191,
    "start_time": "2021-10-10T05:15:34.901Z"
   },
   {
    "duration": 18,
    "start_time": "2021-10-10T05:15:36.093Z"
   },
   {
    "duration": 12,
    "start_time": "2021-10-10T05:15:36.113Z"
   },
   {
    "duration": 12,
    "start_time": "2021-10-10T05:15:36.126Z"
   },
   {
    "duration": 20,
    "start_time": "2021-10-10T05:15:36.139Z"
   },
   {
    "duration": 12,
    "start_time": "2021-10-10T05:15:36.160Z"
   },
   {
    "duration": 349,
    "start_time": "2021-10-10T05:15:36.174Z"
   },
   {
    "duration": 15,
    "start_time": "2021-10-10T05:15:36.526Z"
   },
   {
    "duration": 367,
    "start_time": "2021-10-10T05:15:36.543Z"
   },
   {
    "duration": 42,
    "start_time": "2021-10-10T05:15:36.911Z"
   },
   {
    "duration": 24,
    "start_time": "2021-10-10T05:15:36.955Z"
   },
   {
    "duration": 36,
    "start_time": "2021-10-10T05:15:36.981Z"
   },
   {
    "duration": 13,
    "start_time": "2021-10-10T05:15:37.019Z"
   },
   {
    "duration": 14,
    "start_time": "2021-10-10T05:15:37.034Z"
   },
   {
    "duration": 436,
    "start_time": "2021-10-10T05:15:37.050Z"
   },
   {
    "duration": 18,
    "start_time": "2021-10-10T05:15:37.488Z"
   },
   {
    "duration": 34,
    "start_time": "2021-10-10T05:15:37.508Z"
   },
   {
    "duration": 225,
    "start_time": "2021-10-10T05:15:37.544Z"
   },
   {
    "duration": 183441,
    "start_time": "2021-10-10T05:12:34.331Z"
   },
   {
    "duration": 183435,
    "start_time": "2021-10-10T05:12:34.338Z"
   },
   {
    "duration": 183431,
    "start_time": "2021-10-10T05:12:34.343Z"
   },
   {
    "duration": 183427,
    "start_time": "2021-10-10T05:12:34.348Z"
   },
   {
    "duration": 183422,
    "start_time": "2021-10-10T05:12:34.354Z"
   },
   {
    "duration": 183417,
    "start_time": "2021-10-10T05:12:34.360Z"
   },
   {
    "duration": 183415,
    "start_time": "2021-10-10T05:12:34.364Z"
   },
   {
    "duration": 183411,
    "start_time": "2021-10-10T05:12:34.369Z"
   },
   {
    "duration": 183407,
    "start_time": "2021-10-10T05:12:34.374Z"
   },
   {
    "duration": 183404,
    "start_time": "2021-10-10T05:12:34.379Z"
   },
   {
    "duration": 183401,
    "start_time": "2021-10-10T05:12:34.383Z"
   },
   {
    "duration": 183397,
    "start_time": "2021-10-10T05:12:34.388Z"
   },
   {
    "duration": 183389,
    "start_time": "2021-10-10T05:12:34.398Z"
   },
   {
    "duration": 183385,
    "start_time": "2021-10-10T05:12:34.403Z"
   },
   {
    "duration": 183381,
    "start_time": "2021-10-10T05:12:34.408Z"
   },
   {
    "duration": 183379,
    "start_time": "2021-10-10T05:12:34.412Z"
   },
   {
    "duration": 183375,
    "start_time": "2021-10-10T05:12:34.417Z"
   },
   {
    "duration": 183372,
    "start_time": "2021-10-10T05:12:34.422Z"
   },
   {
    "duration": 183369,
    "start_time": "2021-10-10T05:12:34.426Z"
   },
   {
    "duration": 183366,
    "start_time": "2021-10-10T05:12:34.431Z"
   },
   {
    "duration": 183362,
    "start_time": "2021-10-10T05:12:34.436Z"
   },
   {
    "duration": 56,
    "start_time": "2021-10-10T05:17:18.521Z"
   },
   {
    "duration": 44,
    "start_time": "2021-10-10T05:17:25.272Z"
   },
   {
    "duration": 43,
    "start_time": "2021-10-10T05:17:38.736Z"
   },
   {
    "duration": 142,
    "start_time": "2021-10-10T05:18:03.113Z"
   },
   {
    "duration": 3528,
    "start_time": "2021-10-10T05:18:16.167Z"
   },
   {
    "duration": 1144,
    "start_time": "2021-10-10T05:19:02.421Z"
   },
   {
    "duration": 19,
    "start_time": "2021-10-10T05:19:03.567Z"
   },
   {
    "duration": 15,
    "start_time": "2021-10-10T05:19:03.588Z"
   },
   {
    "duration": 15,
    "start_time": "2021-10-10T05:19:03.605Z"
   },
   {
    "duration": 19,
    "start_time": "2021-10-10T05:19:03.621Z"
   },
   {
    "duration": 13,
    "start_time": "2021-10-10T05:19:03.641Z"
   },
   {
    "duration": 346,
    "start_time": "2021-10-10T05:19:03.656Z"
   },
   {
    "duration": 14,
    "start_time": "2021-10-10T05:19:04.004Z"
   },
   {
    "duration": 347,
    "start_time": "2021-10-10T05:19:04.020Z"
   },
   {
    "duration": 56,
    "start_time": "2021-10-10T05:19:04.369Z"
   },
   {
    "duration": 26,
    "start_time": "2021-10-10T05:19:04.426Z"
   },
   {
    "duration": 18,
    "start_time": "2021-10-10T05:19:04.454Z"
   },
   {
    "duration": 34,
    "start_time": "2021-10-10T05:19:04.474Z"
   },
   {
    "duration": 18,
    "start_time": "2021-10-10T05:19:04.509Z"
   },
   {
    "duration": 410,
    "start_time": "2021-10-10T05:19:04.529Z"
   },
   {
    "duration": 15,
    "start_time": "2021-10-10T05:19:04.940Z"
   },
   {
    "duration": 56,
    "start_time": "2021-10-10T05:19:04.957Z"
   },
   {
    "duration": 278,
    "start_time": "2021-10-10T05:19:05.015Z"
   },
   {
    "duration": 183445,
    "start_time": "2021-10-10T05:16:01.851Z"
   },
   {
    "duration": 183440,
    "start_time": "2021-10-10T05:16:01.857Z"
   },
   {
    "duration": 183435,
    "start_time": "2021-10-10T05:16:01.863Z"
   },
   {
    "duration": 183431,
    "start_time": "2021-10-10T05:16:01.868Z"
   },
   {
    "duration": 183426,
    "start_time": "2021-10-10T05:16:01.874Z"
   },
   {
    "duration": 183424,
    "start_time": "2021-10-10T05:16:01.878Z"
   },
   {
    "duration": 183414,
    "start_time": "2021-10-10T05:16:01.889Z"
   },
   {
    "duration": 183410,
    "start_time": "2021-10-10T05:16:01.894Z"
   },
   {
    "duration": 183406,
    "start_time": "2021-10-10T05:16:01.899Z"
   },
   {
    "duration": 183403,
    "start_time": "2021-10-10T05:16:01.903Z"
   },
   {
    "duration": 183397,
    "start_time": "2021-10-10T05:16:01.910Z"
   },
   {
    "duration": 183394,
    "start_time": "2021-10-10T05:16:01.914Z"
   },
   {
    "duration": 183390,
    "start_time": "2021-10-10T05:16:01.919Z"
   },
   {
    "duration": 183387,
    "start_time": "2021-10-10T05:16:01.923Z"
   },
   {
    "duration": 183383,
    "start_time": "2021-10-10T05:16:01.928Z"
   },
   {
    "duration": 183380,
    "start_time": "2021-10-10T05:16:01.932Z"
   },
   {
    "duration": 183376,
    "start_time": "2021-10-10T05:16:01.937Z"
   },
   {
    "duration": 183374,
    "start_time": "2021-10-10T05:16:01.941Z"
   },
   {
    "duration": 183370,
    "start_time": "2021-10-10T05:16:01.946Z"
   },
   {
    "duration": 183367,
    "start_time": "2021-10-10T05:16:01.950Z"
   },
   {
    "duration": 183363,
    "start_time": "2021-10-10T05:16:01.955Z"
   },
   {
    "duration": 41,
    "start_time": "2021-10-10T05:19:45.036Z"
   },
   {
    "duration": 1174,
    "start_time": "2021-10-10T05:21:01.902Z"
   },
   {
    "duration": 15,
    "start_time": "2021-10-10T05:21:03.078Z"
   },
   {
    "duration": 30,
    "start_time": "2021-10-10T05:21:03.095Z"
   },
   {
    "duration": 33,
    "start_time": "2021-10-10T05:21:03.127Z"
   },
   {
    "duration": 31,
    "start_time": "2021-10-10T05:21:03.162Z"
   },
   {
    "duration": 27,
    "start_time": "2021-10-10T05:21:03.195Z"
   },
   {
    "duration": 311,
    "start_time": "2021-10-10T05:21:03.223Z"
   },
   {
    "duration": 14,
    "start_time": "2021-10-10T05:21:03.537Z"
   },
   {
    "duration": 356,
    "start_time": "2021-10-10T05:21:03.553Z"
   },
   {
    "duration": 38,
    "start_time": "2021-10-10T05:21:03.911Z"
   },
   {
    "duration": 23,
    "start_time": "2021-10-10T05:21:03.951Z"
   },
   {
    "duration": 39,
    "start_time": "2021-10-10T05:21:03.976Z"
   },
   {
    "duration": 14,
    "start_time": "2021-10-10T05:21:04.017Z"
   },
   {
    "duration": 28,
    "start_time": "2021-10-10T05:21:04.033Z"
   },
   {
    "duration": 405,
    "start_time": "2021-10-10T05:21:04.062Z"
   },
   {
    "duration": 14,
    "start_time": "2021-10-10T05:21:04.468Z"
   },
   {
    "duration": 40,
    "start_time": "2021-10-10T05:21:04.484Z"
   },
   {
    "duration": 229,
    "start_time": "2021-10-10T05:21:04.525Z"
   },
   {
    "duration": 183435,
    "start_time": "2021-10-10T05:18:01.322Z"
   },
   {
    "duration": 183431,
    "start_time": "2021-10-10T05:18:01.327Z"
   },
   {
    "duration": 183425,
    "start_time": "2021-10-10T05:18:01.334Z"
   },
   {
    "duration": 183422,
    "start_time": "2021-10-10T05:18:01.338Z"
   },
   {
    "duration": 183418,
    "start_time": "2021-10-10T05:18:01.343Z"
   },
   {
    "duration": 183414,
    "start_time": "2021-10-10T05:18:01.348Z"
   },
   {
    "duration": 183410,
    "start_time": "2021-10-10T05:18:01.353Z"
   },
   {
    "duration": 183406,
    "start_time": "2021-10-10T05:18:01.358Z"
   },
   {
    "duration": 183402,
    "start_time": "2021-10-10T05:18:01.363Z"
   },
   {
    "duration": 183398,
    "start_time": "2021-10-10T05:18:01.368Z"
   },
   {
    "duration": 183395,
    "start_time": "2021-10-10T05:18:01.372Z"
   },
   {
    "duration": 183393,
    "start_time": "2021-10-10T05:18:01.376Z"
   },
   {
    "duration": 183389,
    "start_time": "2021-10-10T05:18:01.381Z"
   },
   {
    "duration": 183384,
    "start_time": "2021-10-10T05:18:01.387Z"
   },
   {
    "duration": 183380,
    "start_time": "2021-10-10T05:18:01.392Z"
   },
   {
    "duration": 183377,
    "start_time": "2021-10-10T05:18:01.396Z"
   },
   {
    "duration": 183373,
    "start_time": "2021-10-10T05:18:01.401Z"
   },
   {
    "duration": 183368,
    "start_time": "2021-10-10T05:18:01.406Z"
   },
   {
    "duration": 183366,
    "start_time": "2021-10-10T05:18:01.410Z"
   },
   {
    "duration": 183361,
    "start_time": "2021-10-10T05:18:01.416Z"
   },
   {
    "duration": 183351,
    "start_time": "2021-10-10T05:18:01.427Z"
   },
   {
    "duration": 33,
    "start_time": "2021-10-10T05:21:42.630Z"
   },
   {
    "duration": 37,
    "start_time": "2021-10-10T05:21:52.721Z"
   },
   {
    "duration": 30,
    "start_time": "2021-10-10T05:22:27.664Z"
   },
   {
    "duration": 361,
    "start_time": "2021-10-10T05:24:16.185Z"
   },
   {
    "duration": 447,
    "start_time": "2021-10-10T05:24:53.635Z"
   },
   {
    "duration": 347,
    "start_time": "2021-10-10T05:25:07.614Z"
   },
   {
    "duration": 147,
    "start_time": "2021-10-10T05:26:25.362Z"
   },
   {
    "duration": 365,
    "start_time": "2021-10-10T05:26:38.393Z"
   },
   {
    "duration": 307,
    "start_time": "2021-10-10T05:27:22.555Z"
   },
   {
    "duration": 295,
    "start_time": "2021-10-10T05:27:48.449Z"
   },
   {
    "duration": 349,
    "start_time": "2021-10-10T05:27:53.233Z"
   },
   {
    "duration": 520,
    "start_time": "2021-10-10T05:30:56.545Z"
   },
   {
    "duration": 1154,
    "start_time": "2021-10-10T05:31:22.521Z"
   },
   {
    "duration": 16,
    "start_time": "2021-10-10T05:31:23.677Z"
   },
   {
    "duration": 11,
    "start_time": "2021-10-10T05:31:23.697Z"
   },
   {
    "duration": 14,
    "start_time": "2021-10-10T05:31:23.709Z"
   },
   {
    "duration": 21,
    "start_time": "2021-10-10T05:31:23.724Z"
   },
   {
    "duration": 15,
    "start_time": "2021-10-10T05:31:23.746Z"
   },
   {
    "duration": 366,
    "start_time": "2021-10-10T05:31:23.763Z"
   },
   {
    "duration": 15,
    "start_time": "2021-10-10T05:31:24.131Z"
   },
   {
    "duration": 369,
    "start_time": "2021-10-10T05:31:24.147Z"
   },
   {
    "duration": 39,
    "start_time": "2021-10-10T05:31:24.518Z"
   },
   {
    "duration": 42,
    "start_time": "2021-10-10T05:31:24.559Z"
   },
   {
    "duration": 19,
    "start_time": "2021-10-10T05:31:24.603Z"
   },
   {
    "duration": 15,
    "start_time": "2021-10-10T05:31:24.624Z"
   },
   {
    "duration": 15,
    "start_time": "2021-10-10T05:31:24.640Z"
   },
   {
    "duration": 437,
    "start_time": "2021-10-10T05:31:24.657Z"
   },
   {
    "duration": 15,
    "start_time": "2021-10-10T05:31:25.095Z"
   },
   {
    "duration": 30,
    "start_time": "2021-10-10T05:31:25.112Z"
   },
   {
    "duration": 458,
    "start_time": "2021-10-10T05:31:25.143Z"
   },
   {
    "duration": 252,
    "start_time": "2021-10-10T05:31:25.603Z"
   },
   {
    "duration": 183436,
    "start_time": "2021-10-10T05:28:22.421Z"
   },
   {
    "duration": 183431,
    "start_time": "2021-10-10T05:28:22.427Z"
   },
   {
    "duration": 183427,
    "start_time": "2021-10-10T05:28:22.432Z"
   },
   {
    "duration": 183423,
    "start_time": "2021-10-10T05:28:22.437Z"
   },
   {
    "duration": 183418,
    "start_time": "2021-10-10T05:28:22.443Z"
   },
   {
    "duration": 183407,
    "start_time": "2021-10-10T05:28:22.456Z"
   },
   {
    "duration": 183402,
    "start_time": "2021-10-10T05:28:22.462Z"
   },
   {
    "duration": 183397,
    "start_time": "2021-10-10T05:28:22.468Z"
   },
   {
    "duration": 183393,
    "start_time": "2021-10-10T05:28:22.473Z"
   },
   {
    "duration": 183389,
    "start_time": "2021-10-10T05:28:22.478Z"
   },
   {
    "duration": 183384,
    "start_time": "2021-10-10T05:28:22.484Z"
   },
   {
    "duration": 183380,
    "start_time": "2021-10-10T05:28:22.489Z"
   },
   {
    "duration": 183376,
    "start_time": "2021-10-10T05:28:22.494Z"
   },
   {
    "duration": 183371,
    "start_time": "2021-10-10T05:28:22.500Z"
   },
   {
    "duration": 183366,
    "start_time": "2021-10-10T05:28:22.506Z"
   },
   {
    "duration": 183361,
    "start_time": "2021-10-10T05:28:22.512Z"
   },
   {
    "duration": 183357,
    "start_time": "2021-10-10T05:28:22.517Z"
   },
   {
    "duration": 183352,
    "start_time": "2021-10-10T05:28:22.523Z"
   },
   {
    "duration": 183347,
    "start_time": "2021-10-10T05:28:22.529Z"
   },
   {
    "duration": 183343,
    "start_time": "2021-10-10T05:28:22.534Z"
   },
   {
    "duration": 183339,
    "start_time": "2021-10-10T05:28:22.539Z"
   },
   {
    "duration": 407,
    "start_time": "2021-10-10T05:31:58.115Z"
   },
   {
    "duration": 482,
    "start_time": "2021-10-10T05:32:36.587Z"
   },
   {
    "duration": 426,
    "start_time": "2021-10-10T05:32:45.027Z"
   },
   {
    "duration": 406,
    "start_time": "2021-10-10T05:33:06.536Z"
   },
   {
    "duration": 14,
    "start_time": "2021-10-10T05:33:38.319Z"
   },
   {
    "duration": 28,
    "start_time": "2021-10-10T05:33:43.304Z"
   },
   {
    "duration": 499,
    "start_time": "2021-10-10T05:33:47.458Z"
   },
   {
    "duration": 333,
    "start_time": "2021-10-10T05:33:55.850Z"
   },
   {
    "duration": 513,
    "start_time": "2021-10-10T05:34:06.442Z"
   },
   {
    "duration": 14,
    "start_time": "2021-10-10T05:34:34.107Z"
   },
   {
    "duration": 30,
    "start_time": "2021-10-10T05:34:34.666Z"
   },
   {
    "duration": 453,
    "start_time": "2021-10-10T05:34:35.462Z"
   },
   {
    "duration": 13,
    "start_time": "2021-10-10T05:42:47.664Z"
   },
   {
    "duration": 10,
    "start_time": "2021-10-10T05:43:09.625Z"
   },
   {
    "duration": 10,
    "start_time": "2021-10-10T05:43:15.156Z"
   },
   {
    "duration": 502,
    "start_time": "2021-10-10T05:43:48.820Z"
   },
   {
    "duration": 10,
    "start_time": "2021-10-10T05:43:52.752Z"
   },
   {
    "duration": 14,
    "start_time": "2021-10-10T05:44:56.652Z"
   },
   {
    "duration": 12,
    "start_time": "2021-10-10T05:45:05.380Z"
   },
   {
    "duration": 10,
    "start_time": "2021-10-10T05:45:15.157Z"
   },
   {
    "duration": 23,
    "start_time": "2021-10-10T05:45:29.963Z"
   },
   {
    "duration": 14,
    "start_time": "2021-10-10T05:45:33.304Z"
   },
   {
    "duration": 17,
    "start_time": "2021-10-10T05:45:35.102Z"
   },
   {
    "duration": 312,
    "start_time": "2021-10-10T05:45:41.618Z"
   },
   {
    "duration": 21,
    "start_time": "2021-10-10T05:45:44.909Z"
   },
   {
    "duration": 318,
    "start_time": "2021-10-10T05:45:45.209Z"
   },
   {
    "duration": 332,
    "start_time": "2021-10-10T05:45:45.698Z"
   },
   {
    "duration": 7,
    "start_time": "2021-10-10T05:45:46.196Z"
   },
   {
    "duration": 9,
    "start_time": "2021-10-10T05:45:52.243Z"
   },
   {
    "duration": 25,
    "start_time": "2021-10-10T05:45:55.495Z"
   },
   {
    "duration": 17,
    "start_time": "2021-10-10T05:48:03.245Z"
   },
   {
    "duration": 23,
    "start_time": "2021-10-10T05:48:30.288Z"
   },
   {
    "duration": 22,
    "start_time": "2021-10-10T05:49:17.212Z"
   },
   {
    "duration": 17,
    "start_time": "2021-10-10T05:49:53.018Z"
   },
   {
    "duration": 16,
    "start_time": "2021-10-10T05:51:41.862Z"
   },
   {
    "duration": 15,
    "start_time": "2021-10-10T05:52:30.920Z"
   },
   {
    "duration": 16,
    "start_time": "2021-10-10T05:53:42.974Z"
   },
   {
    "duration": 4101,
    "start_time": "2021-10-10T05:55:14.124Z"
   },
   {
    "duration": 16,
    "start_time": "2021-10-10T05:56:03.479Z"
   },
   {
    "duration": 22,
    "start_time": "2021-10-10T05:56:04.042Z"
   },
   {
    "duration": 17,
    "start_time": "2021-10-10T05:56:05.794Z"
   },
   {
    "duration": 807,
    "start_time": "2021-10-10T05:56:11.573Z"
   },
   {
    "duration": 675,
    "start_time": "2021-10-10T05:58:29.308Z"
   },
   {
    "duration": 656,
    "start_time": "2021-10-10T05:59:25.711Z"
   },
   {
    "duration": 623,
    "start_time": "2021-10-10T05:59:40.535Z"
   },
   {
    "duration": 51,
    "start_time": "2021-10-10T05:59:56.882Z"
   },
   {
    "duration": 55,
    "start_time": "2021-10-10T06:00:02.169Z"
   },
   {
    "duration": 675,
    "start_time": "2021-10-10T06:00:15.213Z"
   },
   {
    "duration": 154,
    "start_time": "2021-10-10T06:01:29.222Z"
   },
   {
    "duration": 839,
    "start_time": "2021-10-10T06:01:57.470Z"
   },
   {
    "duration": 17,
    "start_time": "2021-10-10T06:05:40.514Z"
   },
   {
    "duration": 19,
    "start_time": "2021-10-10T06:05:47.759Z"
   },
   {
    "duration": 148,
    "start_time": "2021-10-10T06:05:59.818Z"
   },
   {
    "duration": 25,
    "start_time": "2021-10-10T06:06:25.741Z"
   },
   {
    "duration": 16,
    "start_time": "2021-10-10T06:07:00.097Z"
   },
   {
    "duration": 17,
    "start_time": "2021-10-10T06:08:13.709Z"
   },
   {
    "duration": 17,
    "start_time": "2021-10-10T06:09:15.712Z"
   },
   {
    "duration": 701,
    "start_time": "2021-10-10T06:10:30.304Z"
   },
   {
    "duration": 61,
    "start_time": "2021-10-10T06:11:33.754Z"
   },
   {
    "duration": 24,
    "start_time": "2021-10-10T06:11:40.665Z"
   },
   {
    "duration": 745,
    "start_time": "2021-10-10T06:11:43.607Z"
   },
   {
    "duration": 18,
    "start_time": "2021-10-10T06:11:54.785Z"
   },
   {
    "duration": 5,
    "start_time": "2021-10-10T06:11:55.558Z"
   },
   {
    "duration": 17,
    "start_time": "2021-10-10T06:11:58.151Z"
   },
   {
    "duration": 5,
    "start_time": "2021-10-10T06:12:00.633Z"
   },
   {
    "duration": 101,
    "start_time": "2021-10-10T08:27:47.170Z"
   }
  ],
  "kernelspec": {
   "display_name": "Python 3",
   "language": "python",
   "name": "python3"
  },
  "language_info": {
   "codemirror_mode": {
    "name": "ipython",
    "version": 3
   },
   "file_extension": ".py",
   "mimetype": "text/x-python",
   "name": "python",
   "nbconvert_exporter": "python",
   "pygments_lexer": "ipython3",
   "version": "3.7.10"
  },
  "toc": {
   "base_numbering": 1,
   "nav_menu": {},
   "number_sections": true,
   "sideBar": true,
   "skip_h1_title": true,
   "title_cell": "Table of Contents",
   "title_sidebar": "Contents",
   "toc_cell": false,
   "toc_position": {
    "height": "calc(100% - 180px)",
    "left": "10px",
    "top": "150px",
    "width": "255.594px"
   },
   "toc_section_display": true,
   "toc_window_display": true
  }
 },
 "nbformat": 4,
 "nbformat_minor": 5
}
