{
 "cells": [
  {
   "cell_type": "markdown",
   "metadata": {
    "toc": true
   },
   "source": [
    "<h1>Содержание<span class=\"tocSkip\"></span></h1>\n",
    "<div class=\"toc\"><ul class=\"toc-item\"><li><span><a href=\"#Подготовка-данных\" data-toc-modified-id=\"Подготовка-данных-1\"><span class=\"toc-item-num\">1&nbsp;&nbsp;</span>Подготовка данных</a></span><ul class=\"toc-item\"><li><span><a href=\"#Вывод\" data-toc-modified-id=\"Вывод-1.1\"><span class=\"toc-item-num\">1.1&nbsp;&nbsp;</span>Вывод</a></span></li><li><span><a href=\"#Вывод\" data-toc-modified-id=\"Вывод-1.2\"><span class=\"toc-item-num\">1.2&nbsp;&nbsp;</span>Вывод</a></span></li></ul></li><li><span><a href=\"#Анализ-данных\" data-toc-modified-id=\"Анализ-данных-2\"><span class=\"toc-item-num\">2&nbsp;&nbsp;</span>Анализ данных</a></span><ul class=\"toc-item\"><li><span><a href=\"#Вывод\" data-toc-modified-id=\"Вывод-2.1\"><span class=\"toc-item-num\">2.1&nbsp;&nbsp;</span>Вывод</a></span></li><li><span><a href=\"#Вывод\" data-toc-modified-id=\"Вывод-2.2\"><span class=\"toc-item-num\">2.2&nbsp;&nbsp;</span>Вывод</a></span></li><li><span><a href=\"#Вывод\" data-toc-modified-id=\"Вывод-2.3\"><span class=\"toc-item-num\">2.3&nbsp;&nbsp;</span>Вывод</a></span></li></ul></li><li><span><a href=\"#Модель\" data-toc-modified-id=\"Модель-3\"><span class=\"toc-item-num\">3&nbsp;&nbsp;</span>Модель</a></span><ul class=\"toc-item\"><li><span><a href=\"#Вывод\" data-toc-modified-id=\"Вывод-3.1\"><span class=\"toc-item-num\">3.1&nbsp;&nbsp;</span>Вывод</a></span></li></ul></li><li><span><a href=\"#Чек-лист-готовности-проекта\" data-toc-modified-id=\"Чек-лист-готовности-проекта-4\"><span class=\"toc-item-num\">4&nbsp;&nbsp;</span>Чек-лист готовности проекта</a></span></li></ul></div>"
   ]
  },
  {
   "cell_type": "markdown",
   "metadata": {},
   "source": [
    "# Восстановление золота из руды"
   ]
  },
  {
   "cell_type": "markdown",
   "metadata": {},
   "source": [
    "Подготовьте прототип модели машинного обучения для «Цифры». Компания разрабатывает решения для эффективной работы промышленных предприятий.\n",
    "\n",
    "Модель должна предсказать коэффициент восстановления золота из золотосодержащей руды. Используйте данные с параметрами добычи и очистки. \n",
    "\n",
    "Модель поможет оптимизировать производство, чтобы не запускать предприятие с убыточными характеристиками.\n",
    "\n",
    "Вам нужно:\n",
    "\n",
    "1. Подготовить данные;\n",
    "2. Провести исследовательский анализ данных;\n",
    "3. Построить и обучить модель.\n",
    "\n",
    "Чтобы выполнить проект, обращайтесь к библиотекам *pandas*, *matplotlib* и *sklearn.* Вам поможет их документация."
   ]
  },
  {
   "cell_type": "markdown",
   "metadata": {},
   "source": [
    "## Подготовка данных"
   ]
  },
  {
   "cell_type": "code",
   "execution_count": 1,
   "metadata": {},
   "outputs": [],
   "source": [
    "import pandas as pd\n",
    "from sklearn.metrics import mean_absolute_error\n",
    "from scipy import stats as st\n",
    "import matplotlib.pyplot as plt\n",
    "import numpy as np\n",
    "from sklearn.model_selection import train_test_split\n",
    "from sklearn.linear_model import LinearRegression\n",
    "from sklearn.tree import DecisionTreeRegressor\n",
    "from sklearn.ensemble import RandomForestRegressor\n",
    "from sklearn.metrics import fbeta_score, make_scorer\n",
    "from sklearn.metrics import mean_squared_error\n",
    "import os\n",
    "pd.set_option('display.max_columns', 500)"
   ]
  },
  {
   "cell_type": "code",
   "execution_count": 2,
   "metadata": {},
   "outputs": [],
   "source": [
    "pth1='gold_recovery_train_new.csv'\n",
    "pth2='/datasets/gold_recovery_train_new.csv'\n",
    "pth3='gold_recovery_test_new.csv'\n",
    "pth4='/datasets/gold_recovery_test_new.csv'\n",
    "pth5='gold_recovery_full_new.csv'\n",
    "pth6='/datasets/gold_recovery_full_new.csv'\n",
    "\n",
    "\n",
    "if os.path.exists(pth1):\n",
    "    data_train = pd.read_csv(pth1)\n",
    "elif os.path.exists(pth2):\n",
    "    data_train = pd.read_csv(pth2)\n",
    "if os.path.exists(pth3):\n",
    "    data_test = pd.read_csv(pth3)\n",
    "elif os.path.exists(pth4):\n",
    "    data_test = pd.read_csv(pth4)\n",
    "if os.path.exists(pth5):\n",
    "    data_full = pd.read_csv(pth5)\n",
    "elif os.path.exists(pth6):\n",
    "    data_full = pd.read_csv(pth6)\n",
    "\n"
   ]
  },
  {
   "cell_type": "code",
   "execution_count": 3,
   "metadata": {
    "scrolled": false
   },
   "outputs": [
    {
     "data": {
      "text/html": [
       "<div>\n",
       "<style scoped>\n",
       "    .dataframe tbody tr th:only-of-type {\n",
       "        vertical-align: middle;\n",
       "    }\n",
       "\n",
       "    .dataframe tbody tr th {\n",
       "        vertical-align: top;\n",
       "    }\n",
       "\n",
       "    .dataframe thead th {\n",
       "        text-align: right;\n",
       "    }\n",
       "</style>\n",
       "<table border=\"1\" class=\"dataframe\">\n",
       "  <thead>\n",
       "    <tr style=\"text-align: right;\">\n",
       "      <th></th>\n",
       "      <th>final.output.concentrate_ag</th>\n",
       "      <th>final.output.concentrate_pb</th>\n",
       "      <th>final.output.concentrate_sol</th>\n",
       "      <th>final.output.concentrate_au</th>\n",
       "      <th>final.output.recovery</th>\n",
       "      <th>final.output.tail_ag</th>\n",
       "      <th>final.output.tail_pb</th>\n",
       "      <th>final.output.tail_sol</th>\n",
       "      <th>final.output.tail_au</th>\n",
       "      <th>primary_cleaner.input.sulfate</th>\n",
       "      <th>primary_cleaner.input.depressant</th>\n",
       "      <th>primary_cleaner.input.feed_size</th>\n",
       "      <th>primary_cleaner.input.xanthate</th>\n",
       "      <th>primary_cleaner.output.concentrate_ag</th>\n",
       "      <th>primary_cleaner.output.concentrate_pb</th>\n",
       "      <th>primary_cleaner.output.concentrate_sol</th>\n",
       "      <th>primary_cleaner.output.concentrate_au</th>\n",
       "      <th>primary_cleaner.output.tail_ag</th>\n",
       "      <th>primary_cleaner.output.tail_pb</th>\n",
       "      <th>primary_cleaner.output.tail_sol</th>\n",
       "      <th>primary_cleaner.output.tail_au</th>\n",
       "      <th>primary_cleaner.state.floatbank8_a_air</th>\n",
       "      <th>primary_cleaner.state.floatbank8_a_level</th>\n",
       "      <th>primary_cleaner.state.floatbank8_b_air</th>\n",
       "      <th>primary_cleaner.state.floatbank8_b_level</th>\n",
       "      <th>primary_cleaner.state.floatbank8_c_air</th>\n",
       "      <th>primary_cleaner.state.floatbank8_c_level</th>\n",
       "      <th>primary_cleaner.state.floatbank8_d_air</th>\n",
       "      <th>primary_cleaner.state.floatbank8_d_level</th>\n",
       "      <th>rougher.calculation.sulfate_to_au_concentrate</th>\n",
       "      <th>rougher.calculation.floatbank10_sulfate_to_au_feed</th>\n",
       "      <th>rougher.calculation.floatbank11_sulfate_to_au_feed</th>\n",
       "      <th>rougher.calculation.au_pb_ratio</th>\n",
       "      <th>rougher.input.feed_ag</th>\n",
       "      <th>rougher.input.feed_pb</th>\n",
       "      <th>rougher.input.feed_rate</th>\n",
       "      <th>rougher.input.feed_size</th>\n",
       "      <th>rougher.input.feed_sol</th>\n",
       "      <th>rougher.input.feed_au</th>\n",
       "      <th>rougher.input.floatbank10_sulfate</th>\n",
       "      <th>rougher.input.floatbank10_xanthate</th>\n",
       "      <th>rougher.input.floatbank11_sulfate</th>\n",
       "      <th>rougher.input.floatbank11_xanthate</th>\n",
       "      <th>rougher.output.concentrate_ag</th>\n",
       "      <th>rougher.output.concentrate_pb</th>\n",
       "      <th>rougher.output.concentrate_sol</th>\n",
       "      <th>rougher.output.concentrate_au</th>\n",
       "      <th>rougher.output.recovery</th>\n",
       "      <th>rougher.output.tail_ag</th>\n",
       "      <th>rougher.output.tail_pb</th>\n",
       "      <th>rougher.output.tail_sol</th>\n",
       "      <th>rougher.output.tail_au</th>\n",
       "      <th>rougher.state.floatbank10_a_air</th>\n",
       "      <th>rougher.state.floatbank10_a_level</th>\n",
       "      <th>rougher.state.floatbank10_b_air</th>\n",
       "      <th>rougher.state.floatbank10_b_level</th>\n",
       "      <th>rougher.state.floatbank10_c_air</th>\n",
       "      <th>rougher.state.floatbank10_c_level</th>\n",
       "      <th>rougher.state.floatbank10_d_air</th>\n",
       "      <th>rougher.state.floatbank10_d_level</th>\n",
       "      <th>rougher.state.floatbank10_e_air</th>\n",
       "      <th>rougher.state.floatbank10_e_level</th>\n",
       "      <th>rougher.state.floatbank10_f_air</th>\n",
       "      <th>rougher.state.floatbank10_f_level</th>\n",
       "      <th>secondary_cleaner.output.tail_ag</th>\n",
       "      <th>secondary_cleaner.output.tail_pb</th>\n",
       "      <th>secondary_cleaner.output.tail_sol</th>\n",
       "      <th>secondary_cleaner.output.tail_au</th>\n",
       "      <th>secondary_cleaner.state.floatbank2_a_air</th>\n",
       "      <th>secondary_cleaner.state.floatbank2_a_level</th>\n",
       "      <th>secondary_cleaner.state.floatbank2_b_air</th>\n",
       "      <th>secondary_cleaner.state.floatbank2_b_level</th>\n",
       "      <th>secondary_cleaner.state.floatbank3_a_air</th>\n",
       "      <th>secondary_cleaner.state.floatbank3_a_level</th>\n",
       "      <th>secondary_cleaner.state.floatbank3_b_air</th>\n",
       "      <th>secondary_cleaner.state.floatbank3_b_level</th>\n",
       "      <th>secondary_cleaner.state.floatbank4_a_air</th>\n",
       "      <th>secondary_cleaner.state.floatbank4_a_level</th>\n",
       "      <th>secondary_cleaner.state.floatbank4_b_air</th>\n",
       "      <th>secondary_cleaner.state.floatbank4_b_level</th>\n",
       "      <th>secondary_cleaner.state.floatbank5_a_air</th>\n",
       "      <th>secondary_cleaner.state.floatbank5_a_level</th>\n",
       "      <th>secondary_cleaner.state.floatbank5_b_air</th>\n",
       "      <th>secondary_cleaner.state.floatbank5_b_level</th>\n",
       "      <th>secondary_cleaner.state.floatbank6_a_air</th>\n",
       "      <th>secondary_cleaner.state.floatbank6_a_level</th>\n",
       "    </tr>\n",
       "  </thead>\n",
       "  <tbody>\n",
       "    <tr>\n",
       "      <td>count</td>\n",
       "      <td>14148.000000</td>\n",
       "      <td>14148.000000</td>\n",
       "      <td>13938.000000</td>\n",
       "      <td>14149.000000</td>\n",
       "      <td>14149.000000</td>\n",
       "      <td>14149.000000</td>\n",
       "      <td>14049.000000</td>\n",
       "      <td>14144.000000</td>\n",
       "      <td>14149.000000</td>\n",
       "      <td>14129.000000</td>\n",
       "      <td>14117.000000</td>\n",
       "      <td>14149.000000</td>\n",
       "      <td>14049.000000</td>\n",
       "      <td>14149.000000</td>\n",
       "      <td>14063.000000</td>\n",
       "      <td>13863.000000</td>\n",
       "      <td>14149.000000</td>\n",
       "      <td>14148.000000</td>\n",
       "      <td>14134.000000</td>\n",
       "      <td>14103.000000</td>\n",
       "      <td>14149.000000</td>\n",
       "      <td>14145.000000</td>\n",
       "      <td>14148.000000</td>\n",
       "      <td>14145.000000</td>\n",
       "      <td>14148.000000</td>\n",
       "      <td>14147.000000</td>\n",
       "      <td>14148.000000</td>\n",
       "      <td>14146.000000</td>\n",
       "      <td>14148.000000</td>\n",
       "      <td>1.414800e+04</td>\n",
       "      <td>14148.000000</td>\n",
       "      <td>14148.000000</td>\n",
       "      <td>14149.000000</td>\n",
       "      <td>14149.000000</td>\n",
       "      <td>14049.000000</td>\n",
       "      <td>14141.000000</td>\n",
       "      <td>14005.000000</td>\n",
       "      <td>14071.000000</td>\n",
       "      <td>14149.000000</td>\n",
       "      <td>14120.000000</td>\n",
       "      <td>14141.000000</td>\n",
       "      <td>14113.000000</td>\n",
       "      <td>13721.000000</td>\n",
       "      <td>14149.000000</td>\n",
       "      <td>14149.000000</td>\n",
       "      <td>14127.000000</td>\n",
       "      <td>14149.000000</td>\n",
       "      <td>14149.000000</td>\n",
       "      <td>14148.000000</td>\n",
       "      <td>14149.000000</td>\n",
       "      <td>14149.000000</td>\n",
       "      <td>14149.000000</td>\n",
       "      <td>14148.000000</td>\n",
       "      <td>14148.000000</td>\n",
       "      <td>14148.000000</td>\n",
       "      <td>14148.000000</td>\n",
       "      <td>14148.000000</td>\n",
       "      <td>14148.000000</td>\n",
       "      <td>14149.000000</td>\n",
       "      <td>14149.000000</td>\n",
       "      <td>13713.000000</td>\n",
       "      <td>14149.000000</td>\n",
       "      <td>14149.000000</td>\n",
       "      <td>14149.000000</td>\n",
       "      <td>14147.000000</td>\n",
       "      <td>14139.000000</td>\n",
       "      <td>12544.000000</td>\n",
       "      <td>14149.000000</td>\n",
       "      <td>13932.000000</td>\n",
       "      <td>14148.000000</td>\n",
       "      <td>14128.000000</td>\n",
       "      <td>14148.000000</td>\n",
       "      <td>14145.000000</td>\n",
       "      <td>14148.000000</td>\n",
       "      <td>14148.000000</td>\n",
       "      <td>14148.000000</td>\n",
       "      <td>14143.000000</td>\n",
       "      <td>14148.000000</td>\n",
       "      <td>14148.000000</td>\n",
       "      <td>14148.000000</td>\n",
       "      <td>14148.000000</td>\n",
       "      <td>14148.000000</td>\n",
       "      <td>14148.000000</td>\n",
       "      <td>14148.000000</td>\n",
       "      <td>14147.000000</td>\n",
       "      <td>14148.000000</td>\n",
       "    </tr>\n",
       "    <tr>\n",
       "      <td>mean</td>\n",
       "      <td>5.142034</td>\n",
       "      <td>10.132960</td>\n",
       "      <td>9.202849</td>\n",
       "      <td>44.003792</td>\n",
       "      <td>66.518832</td>\n",
       "      <td>9.607035</td>\n",
       "      <td>2.597298</td>\n",
       "      <td>10.512122</td>\n",
       "      <td>2.918421</td>\n",
       "      <td>133.320659</td>\n",
       "      <td>8.866996</td>\n",
       "      <td>7.322310</td>\n",
       "      <td>0.885588</td>\n",
       "      <td>8.200916</td>\n",
       "      <td>9.588862</td>\n",
       "      <td>10.114745</td>\n",
       "      <td>32.386836</td>\n",
       "      <td>16.303929</td>\n",
       "      <td>3.443398</td>\n",
       "      <td>7.533566</td>\n",
       "      <td>3.839637</td>\n",
       "      <td>1608.000064</td>\n",
       "      <td>-488.775525</td>\n",
       "      <td>1608.610983</td>\n",
       "      <td>-489.171786</td>\n",
       "      <td>1608.879407</td>\n",
       "      <td>-489.605549</td>\n",
       "      <td>1542.189963</td>\n",
       "      <td>-483.462423</td>\n",
       "      <td>4.038265e+04</td>\n",
       "      <td>3456.608298</td>\n",
       "      <td>3253.356387</td>\n",
       "      <td>2.367314</td>\n",
       "      <td>8.579195</td>\n",
       "      <td>3.522778</td>\n",
       "      <td>474.027714</td>\n",
       "      <td>60.110518</td>\n",
       "      <td>36.312593</td>\n",
       "      <td>7.866577</td>\n",
       "      <td>11.764931</td>\n",
       "      <td>5.854529</td>\n",
       "      <td>11.368685</td>\n",
       "      <td>5.894176</td>\n",
       "      <td>11.775812</td>\n",
       "      <td>7.664555</td>\n",
       "      <td>28.302715</td>\n",
       "      <td>19.439958</td>\n",
       "      <td>82.704502</td>\n",
       "      <td>5.567124</td>\n",
       "      <td>0.653277</td>\n",
       "      <td>17.882853</td>\n",
       "      <td>1.757473</td>\n",
       "      <td>1124.726280</td>\n",
       "      <td>-369.460950</td>\n",
       "      <td>1320.705069</td>\n",
       "      <td>-464.258983</td>\n",
       "      <td>1299.360578</td>\n",
       "      <td>-465.054849</td>\n",
       "      <td>1210.335236</td>\n",
       "      <td>-465.457377</td>\n",
       "      <td>1090.213187</td>\n",
       "      <td>-464.919119</td>\n",
       "      <td>1035.490299</td>\n",
       "      <td>-464.688631</td>\n",
       "      <td>14.281629</td>\n",
       "      <td>5.848863</td>\n",
       "      <td>6.938693</td>\n",
       "      <td>4.246961</td>\n",
       "      <td>29.613649</td>\n",
       "      <td>-502.223914</td>\n",
       "      <td>24.914403</td>\n",
       "      <td>-503.695706</td>\n",
       "      <td>29.243372</td>\n",
       "      <td>-478.244059</td>\n",
       "      <td>22.656261</td>\n",
       "      <td>-488.924046</td>\n",
       "      <td>19.985454</td>\n",
       "      <td>-478.696836</td>\n",
       "      <td>15.487065</td>\n",
       "      <td>-460.229416</td>\n",
       "      <td>16.775136</td>\n",
       "      <td>-483.956022</td>\n",
       "      <td>13.064590</td>\n",
       "      <td>-483.966564</td>\n",
       "      <td>19.577539</td>\n",
       "      <td>-506.798480</td>\n",
       "    </tr>\n",
       "    <tr>\n",
       "      <td>std</td>\n",
       "      <td>1.369586</td>\n",
       "      <td>1.654930</td>\n",
       "      <td>2.790516</td>\n",
       "      <td>4.905261</td>\n",
       "      <td>10.295402</td>\n",
       "      <td>2.319069</td>\n",
       "      <td>0.971843</td>\n",
       "      <td>3.003617</td>\n",
       "      <td>0.903712</td>\n",
       "      <td>39.431659</td>\n",
       "      <td>3.361589</td>\n",
       "      <td>0.614062</td>\n",
       "      <td>0.372714</td>\n",
       "      <td>2.005185</td>\n",
       "      <td>2.694296</td>\n",
       "      <td>4.064076</td>\n",
       "      <td>5.798843</td>\n",
       "      <td>3.739843</td>\n",
       "      <td>1.490106</td>\n",
       "      <td>2.133220</td>\n",
       "      <td>1.603544</td>\n",
       "      <td>128.394355</td>\n",
       "      <td>35.704184</td>\n",
       "      <td>131.112729</td>\n",
       "      <td>33.604449</td>\n",
       "      <td>134.266898</td>\n",
       "      <td>35.624002</td>\n",
       "      <td>278.316132</td>\n",
       "      <td>47.100934</td>\n",
       "      <td>3.801436e+05</td>\n",
       "      <td>5772.510248</td>\n",
       "      <td>6753.290662</td>\n",
       "      <td>0.873551</td>\n",
       "      <td>1.896284</td>\n",
       "      <td>1.073394</td>\n",
       "      <td>104.039838</td>\n",
       "      <td>22.418485</td>\n",
       "      <td>4.956057</td>\n",
       "      <td>1.919506</td>\n",
       "      <td>3.278813</td>\n",
       "      <td>1.104263</td>\n",
       "      <td>3.743672</td>\n",
       "      <td>1.124233</td>\n",
       "      <td>2.731747</td>\n",
       "      <td>1.856279</td>\n",
       "      <td>6.102982</td>\n",
       "      <td>3.765192</td>\n",
       "      <td>14.479156</td>\n",
       "      <td>1.039136</td>\n",
       "      <td>0.263766</td>\n",
       "      <td>3.432859</td>\n",
       "      <td>0.713187</td>\n",
       "      <td>169.310825</td>\n",
       "      <td>93.952787</td>\n",
       "      <td>183.155975</td>\n",
       "      <td>57.401954</td>\n",
       "      <td>213.404094</td>\n",
       "      <td>55.904716</td>\n",
       "      <td>210.431555</td>\n",
       "      <td>55.771393</td>\n",
       "      <td>184.610118</td>\n",
       "      <td>56.602962</td>\n",
       "      <td>175.052279</td>\n",
       "      <td>56.645965</td>\n",
       "      <td>4.477126</td>\n",
       "      <td>2.861799</td>\n",
       "      <td>4.155487</td>\n",
       "      <td>2.389060</td>\n",
       "      <td>5.800494</td>\n",
       "      <td>60.281705</td>\n",
       "      <td>5.994959</td>\n",
       "      <td>62.837357</td>\n",
       "      <td>5.637309</td>\n",
       "      <td>54.655143</td>\n",
       "      <td>4.996017</td>\n",
       "      <td>41.928112</td>\n",
       "      <td>5.657723</td>\n",
       "      <td>50.736021</td>\n",
       "      <td>5.255655</td>\n",
       "      <td>58.843586</td>\n",
       "      <td>5.831906</td>\n",
       "      <td>37.892788</td>\n",
       "      <td>5.765617</td>\n",
       "      <td>39.207913</td>\n",
       "      <td>5.764417</td>\n",
       "      <td>37.079249</td>\n",
       "    </tr>\n",
       "    <tr>\n",
       "      <td>min</td>\n",
       "      <td>0.000000</td>\n",
       "      <td>0.000000</td>\n",
       "      <td>0.000000</td>\n",
       "      <td>0.000000</td>\n",
       "      <td>0.000000</td>\n",
       "      <td>0.000000</td>\n",
       "      <td>0.000000</td>\n",
       "      <td>0.000000</td>\n",
       "      <td>0.000000</td>\n",
       "      <td>0.003112</td>\n",
       "      <td>0.000000</td>\n",
       "      <td>1.080000</td>\n",
       "      <td>0.000005</td>\n",
       "      <td>0.000000</td>\n",
       "      <td>0.000000</td>\n",
       "      <td>0.000000</td>\n",
       "      <td>0.000000</td>\n",
       "      <td>0.000000</td>\n",
       "      <td>0.000000</td>\n",
       "      <td>0.000000</td>\n",
       "      <td>0.000000</td>\n",
       "      <td>0.006352</td>\n",
       "      <td>-798.641662</td>\n",
       "      <td>0.008700</td>\n",
       "      <td>-740.122129</td>\n",
       "      <td>0.015159</td>\n",
       "      <td>-799.803073</td>\n",
       "      <td>0.008655</td>\n",
       "      <td>-799.788598</td>\n",
       "      <td>-4.223520e+07</td>\n",
       "      <td>-486.598675</td>\n",
       "      <td>-264.982785</td>\n",
       "      <td>-0.010548</td>\n",
       "      <td>0.010000</td>\n",
       "      <td>0.010000</td>\n",
       "      <td>0.012786</td>\n",
       "      <td>9.659576</td>\n",
       "      <td>0.010000</td>\n",
       "      <td>0.010000</td>\n",
       "      <td>0.001083</td>\n",
       "      <td>0.001428</td>\n",
       "      <td>0.000098</td>\n",
       "      <td>0.000290</td>\n",
       "      <td>0.000000</td>\n",
       "      <td>0.000000</td>\n",
       "      <td>0.000000</td>\n",
       "      <td>0.000000</td>\n",
       "      <td>0.000000</td>\n",
       "      <td>0.594562</td>\n",
       "      <td>0.007566</td>\n",
       "      <td>10.014648</td>\n",
       "      <td>0.020676</td>\n",
       "      <td>-0.041078</td>\n",
       "      <td>-650.202881</td>\n",
       "      <td>-0.653384</td>\n",
       "      <td>-650.260008</td>\n",
       "      <td>-0.035112</td>\n",
       "      <td>-640.995627</td>\n",
       "      <td>-0.554299</td>\n",
       "      <td>-640.519003</td>\n",
       "      <td>-1.970275</td>\n",
       "      <td>-649.443911</td>\n",
       "      <td>-2.430587</td>\n",
       "      <td>-649.880981</td>\n",
       "      <td>0.000000</td>\n",
       "      <td>0.000000</td>\n",
       "      <td>0.000000</td>\n",
       "      <td>0.000000</td>\n",
       "      <td>0.077503</td>\n",
       "      <td>-799.606441</td>\n",
       "      <td>0.000000</td>\n",
       "      <td>-799.873878</td>\n",
       "      <td>0.000000</td>\n",
       "      <td>-799.613013</td>\n",
       "      <td>0.000000</td>\n",
       "      <td>-759.177381</td>\n",
       "      <td>0.000000</td>\n",
       "      <td>-799.709069</td>\n",
       "      <td>0.000000</td>\n",
       "      <td>-799.889113</td>\n",
       "      <td>-0.372054</td>\n",
       "      <td>-797.142475</td>\n",
       "      <td>0.646208</td>\n",
       "      <td>-800.006180</td>\n",
       "      <td>0.195324</td>\n",
       "      <td>-809.398668</td>\n",
       "    </tr>\n",
       "    <tr>\n",
       "      <td>25%</td>\n",
       "      <td>4.211620</td>\n",
       "      <td>9.297355</td>\n",
       "      <td>7.484645</td>\n",
       "      <td>43.276111</td>\n",
       "      <td>62.545817</td>\n",
       "      <td>7.997429</td>\n",
       "      <td>1.905973</td>\n",
       "      <td>8.811324</td>\n",
       "      <td>2.368607</td>\n",
       "      <td>107.006651</td>\n",
       "      <td>6.040604</td>\n",
       "      <td>6.960000</td>\n",
       "      <td>0.607021</td>\n",
       "      <td>7.107126</td>\n",
       "      <td>8.333489</td>\n",
       "      <td>7.488139</td>\n",
       "      <td>30.857764</td>\n",
       "      <td>13.873147</td>\n",
       "      <td>2.420259</td>\n",
       "      <td>6.332548</td>\n",
       "      <td>2.867957</td>\n",
       "      <td>1595.695815</td>\n",
       "      <td>-500.287952</td>\n",
       "      <td>1558.959943</td>\n",
       "      <td>-500.375645</td>\n",
       "      <td>1549.871886</td>\n",
       "      <td>-500.601718</td>\n",
       "      <td>1452.678767</td>\n",
       "      <td>-500.459917</td>\n",
       "      <td>3.999430e+04</td>\n",
       "      <td>2527.093354</td>\n",
       "      <td>2512.200873</td>\n",
       "      <td>1.999588</td>\n",
       "      <td>7.132802</td>\n",
       "      <td>2.780010</td>\n",
       "      <td>420.781913</td>\n",
       "      <td>48.973027</td>\n",
       "      <td>34.117635</td>\n",
       "      <td>6.596217</td>\n",
       "      <td>9.861100</td>\n",
       "      <td>5.117359</td>\n",
       "      <td>9.505507</td>\n",
       "      <td>5.199168</td>\n",
       "      <td>10.486871</td>\n",
       "      <td>6.850501</td>\n",
       "      <td>26.703554</td>\n",
       "      <td>18.432161</td>\n",
       "      <td>79.993067</td>\n",
       "      <td>4.921647</td>\n",
       "      <td>0.474047</td>\n",
       "      <td>15.688727</td>\n",
       "      <td>1.310800</td>\n",
       "      <td>999.799166</td>\n",
       "      <td>-499.787867</td>\n",
       "      <td>1199.366448</td>\n",
       "      <td>-500.183028</td>\n",
       "      <td>1103.095071</td>\n",
       "      <td>-500.211863</td>\n",
       "      <td>1059.708509</td>\n",
       "      <td>-500.359197</td>\n",
       "      <td>997.183864</td>\n",
       "      <td>-500.250033</td>\n",
       "      <td>900.966986</td>\n",
       "      <td>-500.476526</td>\n",
       "      <td>12.177364</td>\n",
       "      <td>3.982298</td>\n",
       "      <td>3.225486</td>\n",
       "      <td>3.153122</td>\n",
       "      <td>25.099584</td>\n",
       "      <td>-500.248814</td>\n",
       "      <td>22.048294</td>\n",
       "      <td>-500.270997</td>\n",
       "      <td>24.991662</td>\n",
       "      <td>-500.175065</td>\n",
       "      <td>19.948436</td>\n",
       "      <td>-500.110581</td>\n",
       "      <td>14.990775</td>\n",
       "      <td>-500.628656</td>\n",
       "      <td>11.894558</td>\n",
       "      <td>-500.149000</td>\n",
       "      <td>11.083980</td>\n",
       "      <td>-500.363177</td>\n",
       "      <td>8.994405</td>\n",
       "      <td>-500.105994</td>\n",
       "      <td>14.989304</td>\n",
       "      <td>-500.745104</td>\n",
       "    </tr>\n",
       "    <tr>\n",
       "      <td>50%</td>\n",
       "      <td>4.994652</td>\n",
       "      <td>10.297144</td>\n",
       "      <td>8.845462</td>\n",
       "      <td>44.872436</td>\n",
       "      <td>67.432775</td>\n",
       "      <td>9.480270</td>\n",
       "      <td>2.592022</td>\n",
       "      <td>10.514621</td>\n",
       "      <td>2.851025</td>\n",
       "      <td>133.018328</td>\n",
       "      <td>8.035811</td>\n",
       "      <td>7.290000</td>\n",
       "      <td>0.888749</td>\n",
       "      <td>8.226247</td>\n",
       "      <td>9.933520</td>\n",
       "      <td>9.726566</td>\n",
       "      <td>33.225835</td>\n",
       "      <td>15.800604</td>\n",
       "      <td>3.218374</td>\n",
       "      <td>7.714419</td>\n",
       "      <td>3.510337</td>\n",
       "      <td>1601.824410</td>\n",
       "      <td>-499.909375</td>\n",
       "      <td>1601.818514</td>\n",
       "      <td>-499.938003</td>\n",
       "      <td>1601.574628</td>\n",
       "      <td>-499.871346</td>\n",
       "      <td>1600.168346</td>\n",
       "      <td>-499.831833</td>\n",
       "      <td>4.368431e+04</td>\n",
       "      <td>2975.892211</td>\n",
       "      <td>2899.807724</td>\n",
       "      <td>2.249275</td>\n",
       "      <td>8.156092</td>\n",
       "      <td>3.422677</td>\n",
       "      <td>499.454777</td>\n",
       "      <td>55.373885</td>\n",
       "      <td>37.020345</td>\n",
       "      <td>7.649138</td>\n",
       "      <td>11.688702</td>\n",
       "      <td>5.951071</td>\n",
       "      <td>11.384283</td>\n",
       "      <td>5.998460</td>\n",
       "      <td>11.747362</td>\n",
       "      <td>7.760435</td>\n",
       "      <td>29.257545</td>\n",
       "      <td>19.947312</td>\n",
       "      <td>85.299462</td>\n",
       "      <td>5.722018</td>\n",
       "      <td>0.625805</td>\n",
       "      <td>18.015894</td>\n",
       "      <td>1.745513</td>\n",
       "      <td>1001.685708</td>\n",
       "      <td>-300.175125</td>\n",
       "      <td>1301.365123</td>\n",
       "      <td>-499.764620</td>\n",
       "      <td>1300.213385</td>\n",
       "      <td>-499.682528</td>\n",
       "      <td>1200.744308</td>\n",
       "      <td>-499.465285</td>\n",
       "      <td>1050.496363</td>\n",
       "      <td>-499.611447</td>\n",
       "      <td>1000.053757</td>\n",
       "      <td>-499.364335</td>\n",
       "      <td>15.357951</td>\n",
       "      <td>5.442310</td>\n",
       "      <td>7.302639</td>\n",
       "      <td>3.980210</td>\n",
       "      <td>30.027721</td>\n",
       "      <td>-499.959206</td>\n",
       "      <td>27.022783</td>\n",
       "      <td>-500.014092</td>\n",
       "      <td>28.016530</td>\n",
       "      <td>-499.877837</td>\n",
       "      <td>22.037270</td>\n",
       "      <td>-499.966809</td>\n",
       "      <td>20.001789</td>\n",
       "      <td>-499.681450</td>\n",
       "      <td>14.975536</td>\n",
       "      <td>-499.388738</td>\n",
       "      <td>17.932223</td>\n",
       "      <td>-499.702452</td>\n",
       "      <td>11.997547</td>\n",
       "      <td>-499.914556</td>\n",
       "      <td>19.984175</td>\n",
       "      <td>-500.061431</td>\n",
       "    </tr>\n",
       "    <tr>\n",
       "      <td>75%</td>\n",
       "      <td>5.859540</td>\n",
       "      <td>11.170603</td>\n",
       "      <td>10.487508</td>\n",
       "      <td>46.166425</td>\n",
       "      <td>72.346428</td>\n",
       "      <td>11.003707</td>\n",
       "      <td>3.241723</td>\n",
       "      <td>11.933009</td>\n",
       "      <td>3.434764</td>\n",
       "      <td>159.825396</td>\n",
       "      <td>11.522173</td>\n",
       "      <td>7.700000</td>\n",
       "      <td>1.100933</td>\n",
       "      <td>9.504924</td>\n",
       "      <td>11.310817</td>\n",
       "      <td>13.052807</td>\n",
       "      <td>35.330145</td>\n",
       "      <td>18.450109</td>\n",
       "      <td>4.253218</td>\n",
       "      <td>8.910664</td>\n",
       "      <td>4.492470</td>\n",
       "      <td>1699.716408</td>\n",
       "      <td>-499.378551</td>\n",
       "      <td>1700.215351</td>\n",
       "      <td>-499.389658</td>\n",
       "      <td>1700.464037</td>\n",
       "      <td>-498.801774</td>\n",
       "      <td>1699.358771</td>\n",
       "      <td>-498.480341</td>\n",
       "      <td>4.776041e+04</td>\n",
       "      <td>3716.360822</td>\n",
       "      <td>3596.534806</td>\n",
       "      <td>2.660896</td>\n",
       "      <td>9.918304</td>\n",
       "      <td>4.226107</td>\n",
       "      <td>547.334973</td>\n",
       "      <td>66.080172</td>\n",
       "      <td>39.423265</td>\n",
       "      <td>9.066976</td>\n",
       "      <td>13.607115</td>\n",
       "      <td>6.602533</td>\n",
       "      <td>13.497134</td>\n",
       "      <td>6.699006</td>\n",
       "      <td>13.426419</td>\n",
       "      <td>8.601927</td>\n",
       "      <td>31.743913</td>\n",
       "      <td>21.392714</td>\n",
       "      <td>90.165021</td>\n",
       "      <td>6.310633</td>\n",
       "      <td>0.794326</td>\n",
       "      <td>19.938672</td>\n",
       "      <td>2.186790</td>\n",
       "      <td>1299.505513</td>\n",
       "      <td>-299.963153</td>\n",
       "      <td>1449.553689</td>\n",
       "      <td>-400.425493</td>\n",
       "      <td>1450.350668</td>\n",
       "      <td>-400.664736</td>\n",
       "      <td>1344.378462</td>\n",
       "      <td>-401.052891</td>\n",
       "      <td>1200.047746</td>\n",
       "      <td>-400.596104</td>\n",
       "      <td>1100.165435</td>\n",
       "      <td>-401.014951</td>\n",
       "      <td>17.230151</td>\n",
       "      <td>7.797948</td>\n",
       "      <td>10.547068</td>\n",
       "      <td>4.883943</td>\n",
       "      <td>34.893057</td>\n",
       "      <td>-499.593198</td>\n",
       "      <td>28.939454</td>\n",
       "      <td>-499.764112</td>\n",
       "      <td>34.990095</td>\n",
       "      <td>-436.923166</td>\n",
       "      <td>25.970365</td>\n",
       "      <td>-499.757501</td>\n",
       "      <td>24.990826</td>\n",
       "      <td>-477.472413</td>\n",
       "      <td>20.059375</td>\n",
       "      <td>-400.039008</td>\n",
       "      <td>21.346550</td>\n",
       "      <td>-487.712108</td>\n",
       "      <td>17.982903</td>\n",
       "      <td>-453.186936</td>\n",
       "      <td>24.991623</td>\n",
       "      <td>-499.536466</td>\n",
       "    </tr>\n",
       "    <tr>\n",
       "      <td>max</td>\n",
       "      <td>16.001945</td>\n",
       "      <td>17.031899</td>\n",
       "      <td>18.124851</td>\n",
       "      <td>52.756638</td>\n",
       "      <td>100.000000</td>\n",
       "      <td>19.552149</td>\n",
       "      <td>5.639565</td>\n",
       "      <td>22.317730</td>\n",
       "      <td>8.197408</td>\n",
       "      <td>250.127834</td>\n",
       "      <td>20.052255</td>\n",
       "      <td>10.470000</td>\n",
       "      <td>2.512968</td>\n",
       "      <td>16.081632</td>\n",
       "      <td>17.081278</td>\n",
       "      <td>22.280845</td>\n",
       "      <td>45.933934</td>\n",
       "      <td>29.459575</td>\n",
       "      <td>9.634565</td>\n",
       "      <td>20.620833</td>\n",
       "      <td>17.788925</td>\n",
       "      <td>2079.531340</td>\n",
       "      <td>-330.134203</td>\n",
       "      <td>2114.906758</td>\n",
       "      <td>-347.354380</td>\n",
       "      <td>2013.156457</td>\n",
       "      <td>-346.653450</td>\n",
       "      <td>2398.903635</td>\n",
       "      <td>-30.601828</td>\n",
       "      <td>3.428099e+06</td>\n",
       "      <td>629638.977914</td>\n",
       "      <td>718684.955855</td>\n",
       "      <td>39.379272</td>\n",
       "      <td>14.596026</td>\n",
       "      <td>7.142594</td>\n",
       "      <td>717.508837</td>\n",
       "      <td>484.967466</td>\n",
       "      <td>48.363177</td>\n",
       "      <td>13.126043</td>\n",
       "      <td>36.118275</td>\n",
       "      <td>9.703448</td>\n",
       "      <td>37.980648</td>\n",
       "      <td>9.698407</td>\n",
       "      <td>24.480271</td>\n",
       "      <td>13.617072</td>\n",
       "      <td>38.351193</td>\n",
       "      <td>28.146838</td>\n",
       "      <td>100.000000</td>\n",
       "      <td>12.719177</td>\n",
       "      <td>3.778064</td>\n",
       "      <td>66.117188</td>\n",
       "      <td>9.688980</td>\n",
       "      <td>1521.980372</td>\n",
       "      <td>-281.039299</td>\n",
       "      <td>1809.194008</td>\n",
       "      <td>-296.383080</td>\n",
       "      <td>2499.129174</td>\n",
       "      <td>-292.155509</td>\n",
       "      <td>1817.199290</td>\n",
       "      <td>-208.330673</td>\n",
       "      <td>1922.636637</td>\n",
       "      <td>-272.199598</td>\n",
       "      <td>1706.307502</td>\n",
       "      <td>-191.718480</td>\n",
       "      <td>23.264738</td>\n",
       "      <td>17.042505</td>\n",
       "      <td>17.976171</td>\n",
       "      <td>26.811643</td>\n",
       "      <td>52.651399</td>\n",
       "      <td>-127.875565</td>\n",
       "      <td>35.152122</td>\n",
       "      <td>-212.064665</td>\n",
       "      <td>44.260464</td>\n",
       "      <td>-191.678810</td>\n",
       "      <td>35.072841</td>\n",
       "      <td>-159.742331</td>\n",
       "      <td>30.115735</td>\n",
       "      <td>-245.239184</td>\n",
       "      <td>24.007913</td>\n",
       "      <td>-145.071088</td>\n",
       "      <td>43.709931</td>\n",
       "      <td>-275.073125</td>\n",
       "      <td>27.926001</td>\n",
       "      <td>-157.396071</td>\n",
       "      <td>32.188906</td>\n",
       "      <td>-104.427459</td>\n",
       "    </tr>\n",
       "  </tbody>\n",
       "</table>\n",
       "</div>"
      ],
      "text/plain": [
       "       final.output.concentrate_ag  final.output.concentrate_pb  \\\n",
       "count                 14148.000000                 14148.000000   \n",
       "mean                      5.142034                    10.132960   \n",
       "std                       1.369586                     1.654930   \n",
       "min                       0.000000                     0.000000   \n",
       "25%                       4.211620                     9.297355   \n",
       "50%                       4.994652                    10.297144   \n",
       "75%                       5.859540                    11.170603   \n",
       "max                      16.001945                    17.031899   \n",
       "\n",
       "       final.output.concentrate_sol  final.output.concentrate_au  \\\n",
       "count                  13938.000000                 14149.000000   \n",
       "mean                       9.202849                    44.003792   \n",
       "std                        2.790516                     4.905261   \n",
       "min                        0.000000                     0.000000   \n",
       "25%                        7.484645                    43.276111   \n",
       "50%                        8.845462                    44.872436   \n",
       "75%                       10.487508                    46.166425   \n",
       "max                       18.124851                    52.756638   \n",
       "\n",
       "       final.output.recovery  final.output.tail_ag  final.output.tail_pb  \\\n",
       "count           14149.000000          14149.000000          14049.000000   \n",
       "mean               66.518832              9.607035              2.597298   \n",
       "std                10.295402              2.319069              0.971843   \n",
       "min                 0.000000              0.000000              0.000000   \n",
       "25%                62.545817              7.997429              1.905973   \n",
       "50%                67.432775              9.480270              2.592022   \n",
       "75%                72.346428             11.003707              3.241723   \n",
       "max               100.000000             19.552149              5.639565   \n",
       "\n",
       "       final.output.tail_sol  final.output.tail_au  \\\n",
       "count           14144.000000          14149.000000   \n",
       "mean               10.512122              2.918421   \n",
       "std                 3.003617              0.903712   \n",
       "min                 0.000000              0.000000   \n",
       "25%                 8.811324              2.368607   \n",
       "50%                10.514621              2.851025   \n",
       "75%                11.933009              3.434764   \n",
       "max                22.317730              8.197408   \n",
       "\n",
       "       primary_cleaner.input.sulfate  primary_cleaner.input.depressant  \\\n",
       "count                   14129.000000                      14117.000000   \n",
       "mean                      133.320659                          8.866996   \n",
       "std                        39.431659                          3.361589   \n",
       "min                         0.003112                          0.000000   \n",
       "25%                       107.006651                          6.040604   \n",
       "50%                       133.018328                          8.035811   \n",
       "75%                       159.825396                         11.522173   \n",
       "max                       250.127834                         20.052255   \n",
       "\n",
       "       primary_cleaner.input.feed_size  primary_cleaner.input.xanthate  \\\n",
       "count                     14149.000000                    14049.000000   \n",
       "mean                          7.322310                        0.885588   \n",
       "std                           0.614062                        0.372714   \n",
       "min                           1.080000                        0.000005   \n",
       "25%                           6.960000                        0.607021   \n",
       "50%                           7.290000                        0.888749   \n",
       "75%                           7.700000                        1.100933   \n",
       "max                          10.470000                        2.512968   \n",
       "\n",
       "       primary_cleaner.output.concentrate_ag  \\\n",
       "count                           14149.000000   \n",
       "mean                                8.200916   \n",
       "std                                 2.005185   \n",
       "min                                 0.000000   \n",
       "25%                                 7.107126   \n",
       "50%                                 8.226247   \n",
       "75%                                 9.504924   \n",
       "max                                16.081632   \n",
       "\n",
       "       primary_cleaner.output.concentrate_pb  \\\n",
       "count                           14063.000000   \n",
       "mean                                9.588862   \n",
       "std                                 2.694296   \n",
       "min                                 0.000000   \n",
       "25%                                 8.333489   \n",
       "50%                                 9.933520   \n",
       "75%                                11.310817   \n",
       "max                                17.081278   \n",
       "\n",
       "       primary_cleaner.output.concentrate_sol  \\\n",
       "count                            13863.000000   \n",
       "mean                                10.114745   \n",
       "std                                  4.064076   \n",
       "min                                  0.000000   \n",
       "25%                                  7.488139   \n",
       "50%                                  9.726566   \n",
       "75%                                 13.052807   \n",
       "max                                 22.280845   \n",
       "\n",
       "       primary_cleaner.output.concentrate_au  primary_cleaner.output.tail_ag  \\\n",
       "count                           14149.000000                    14148.000000   \n",
       "mean                               32.386836                       16.303929   \n",
       "std                                 5.798843                        3.739843   \n",
       "min                                 0.000000                        0.000000   \n",
       "25%                                30.857764                       13.873147   \n",
       "50%                                33.225835                       15.800604   \n",
       "75%                                35.330145                       18.450109   \n",
       "max                                45.933934                       29.459575   \n",
       "\n",
       "       primary_cleaner.output.tail_pb  primary_cleaner.output.tail_sol  \\\n",
       "count                    14134.000000                     14103.000000   \n",
       "mean                         3.443398                         7.533566   \n",
       "std                          1.490106                         2.133220   \n",
       "min                          0.000000                         0.000000   \n",
       "25%                          2.420259                         6.332548   \n",
       "50%                          3.218374                         7.714419   \n",
       "75%                          4.253218                         8.910664   \n",
       "max                          9.634565                        20.620833   \n",
       "\n",
       "       primary_cleaner.output.tail_au  primary_cleaner.state.floatbank8_a_air  \\\n",
       "count                    14149.000000                            14145.000000   \n",
       "mean                         3.839637                             1608.000064   \n",
       "std                          1.603544                              128.394355   \n",
       "min                          0.000000                                0.006352   \n",
       "25%                          2.867957                             1595.695815   \n",
       "50%                          3.510337                             1601.824410   \n",
       "75%                          4.492470                             1699.716408   \n",
       "max                         17.788925                             2079.531340   \n",
       "\n",
       "       primary_cleaner.state.floatbank8_a_level  \\\n",
       "count                              14148.000000   \n",
       "mean                                -488.775525   \n",
       "std                                   35.704184   \n",
       "min                                 -798.641662   \n",
       "25%                                 -500.287952   \n",
       "50%                                 -499.909375   \n",
       "75%                                 -499.378551   \n",
       "max                                 -330.134203   \n",
       "\n",
       "       primary_cleaner.state.floatbank8_b_air  \\\n",
       "count                            14145.000000   \n",
       "mean                              1608.610983   \n",
       "std                                131.112729   \n",
       "min                                  0.008700   \n",
       "25%                               1558.959943   \n",
       "50%                               1601.818514   \n",
       "75%                               1700.215351   \n",
       "max                               2114.906758   \n",
       "\n",
       "       primary_cleaner.state.floatbank8_b_level  \\\n",
       "count                              14148.000000   \n",
       "mean                                -489.171786   \n",
       "std                                   33.604449   \n",
       "min                                 -740.122129   \n",
       "25%                                 -500.375645   \n",
       "50%                                 -499.938003   \n",
       "75%                                 -499.389658   \n",
       "max                                 -347.354380   \n",
       "\n",
       "       primary_cleaner.state.floatbank8_c_air  \\\n",
       "count                            14147.000000   \n",
       "mean                              1608.879407   \n",
       "std                                134.266898   \n",
       "min                                  0.015159   \n",
       "25%                               1549.871886   \n",
       "50%                               1601.574628   \n",
       "75%                               1700.464037   \n",
       "max                               2013.156457   \n",
       "\n",
       "       primary_cleaner.state.floatbank8_c_level  \\\n",
       "count                              14148.000000   \n",
       "mean                                -489.605549   \n",
       "std                                   35.624002   \n",
       "min                                 -799.803073   \n",
       "25%                                 -500.601718   \n",
       "50%                                 -499.871346   \n",
       "75%                                 -498.801774   \n",
       "max                                 -346.653450   \n",
       "\n",
       "       primary_cleaner.state.floatbank8_d_air  \\\n",
       "count                            14146.000000   \n",
       "mean                              1542.189963   \n",
       "std                                278.316132   \n",
       "min                                  0.008655   \n",
       "25%                               1452.678767   \n",
       "50%                               1600.168346   \n",
       "75%                               1699.358771   \n",
       "max                               2398.903635   \n",
       "\n",
       "       primary_cleaner.state.floatbank8_d_level  \\\n",
       "count                              14148.000000   \n",
       "mean                                -483.462423   \n",
       "std                                   47.100934   \n",
       "min                                 -799.788598   \n",
       "25%                                 -500.459917   \n",
       "50%                                 -499.831833   \n",
       "75%                                 -498.480341   \n",
       "max                                  -30.601828   \n",
       "\n",
       "       rougher.calculation.sulfate_to_au_concentrate  \\\n",
       "count                                   1.414800e+04   \n",
       "mean                                    4.038265e+04   \n",
       "std                                     3.801436e+05   \n",
       "min                                    -4.223520e+07   \n",
       "25%                                     3.999430e+04   \n",
       "50%                                     4.368431e+04   \n",
       "75%                                     4.776041e+04   \n",
       "max                                     3.428099e+06   \n",
       "\n",
       "       rougher.calculation.floatbank10_sulfate_to_au_feed  \\\n",
       "count                                       14148.000000    \n",
       "mean                                         3456.608298    \n",
       "std                                          5772.510248    \n",
       "min                                          -486.598675    \n",
       "25%                                          2527.093354    \n",
       "50%                                          2975.892211    \n",
       "75%                                          3716.360822    \n",
       "max                                        629638.977914    \n",
       "\n",
       "       rougher.calculation.floatbank11_sulfate_to_au_feed  \\\n",
       "count                                       14148.000000    \n",
       "mean                                         3253.356387    \n",
       "std                                          6753.290662    \n",
       "min                                          -264.982785    \n",
       "25%                                          2512.200873    \n",
       "50%                                          2899.807724    \n",
       "75%                                          3596.534806    \n",
       "max                                        718684.955855    \n",
       "\n",
       "       rougher.calculation.au_pb_ratio  rougher.input.feed_ag  \\\n",
       "count                     14149.000000           14149.000000   \n",
       "mean                          2.367314               8.579195   \n",
       "std                           0.873551               1.896284   \n",
       "min                          -0.010548               0.010000   \n",
       "25%                           1.999588               7.132802   \n",
       "50%                           2.249275               8.156092   \n",
       "75%                           2.660896               9.918304   \n",
       "max                          39.379272              14.596026   \n",
       "\n",
       "       rougher.input.feed_pb  rougher.input.feed_rate  \\\n",
       "count           14049.000000             14141.000000   \n",
       "mean                3.522778               474.027714   \n",
       "std                 1.073394               104.039838   \n",
       "min                 0.010000                 0.012786   \n",
       "25%                 2.780010               420.781913   \n",
       "50%                 3.422677               499.454777   \n",
       "75%                 4.226107               547.334973   \n",
       "max                 7.142594               717.508837   \n",
       "\n",
       "       rougher.input.feed_size  rougher.input.feed_sol  rougher.input.feed_au  \\\n",
       "count             14005.000000            14071.000000           14149.000000   \n",
       "mean                 60.110518               36.312593               7.866577   \n",
       "std                  22.418485                4.956057               1.919506   \n",
       "min                   9.659576                0.010000               0.010000   \n",
       "25%                  48.973027               34.117635               6.596217   \n",
       "50%                  55.373885               37.020345               7.649138   \n",
       "75%                  66.080172               39.423265               9.066976   \n",
       "max                 484.967466               48.363177              13.126043   \n",
       "\n",
       "       rougher.input.floatbank10_sulfate  rougher.input.floatbank10_xanthate  \\\n",
       "count                       14120.000000                        14141.000000   \n",
       "mean                           11.764931                            5.854529   \n",
       "std                             3.278813                            1.104263   \n",
       "min                             0.001083                            0.001428   \n",
       "25%                             9.861100                            5.117359   \n",
       "50%                            11.688702                            5.951071   \n",
       "75%                            13.607115                            6.602533   \n",
       "max                            36.118275                            9.703448   \n",
       "\n",
       "       rougher.input.floatbank11_sulfate  rougher.input.floatbank11_xanthate  \\\n",
       "count                       14113.000000                        13721.000000   \n",
       "mean                           11.368685                            5.894176   \n",
       "std                             3.743672                            1.124233   \n",
       "min                             0.000098                            0.000290   \n",
       "25%                             9.505507                            5.199168   \n",
       "50%                            11.384283                            5.998460   \n",
       "75%                            13.497134                            6.699006   \n",
       "max                            37.980648                            9.698407   \n",
       "\n",
       "       rougher.output.concentrate_ag  rougher.output.concentrate_pb  \\\n",
       "count                   14149.000000                   14149.000000   \n",
       "mean                       11.775812                       7.664555   \n",
       "std                         2.731747                       1.856279   \n",
       "min                         0.000000                       0.000000   \n",
       "25%                        10.486871                       6.850501   \n",
       "50%                        11.747362                       7.760435   \n",
       "75%                        13.426419                       8.601927   \n",
       "max                        24.480271                      13.617072   \n",
       "\n",
       "       rougher.output.concentrate_sol  rougher.output.concentrate_au  \\\n",
       "count                    14127.000000                   14149.000000   \n",
       "mean                        28.302715                      19.439958   \n",
       "std                          6.102982                       3.765192   \n",
       "min                          0.000000                       0.000000   \n",
       "25%                         26.703554                      18.432161   \n",
       "50%                         29.257545                      19.947312   \n",
       "75%                         31.743913                      21.392714   \n",
       "max                         38.351193                      28.146838   \n",
       "\n",
       "       rougher.output.recovery  rougher.output.tail_ag  \\\n",
       "count             14149.000000            14148.000000   \n",
       "mean                 82.704502                5.567124   \n",
       "std                  14.479156                1.039136   \n",
       "min                   0.000000                0.594562   \n",
       "25%                  79.993067                4.921647   \n",
       "50%                  85.299462                5.722018   \n",
       "75%                  90.165021                6.310633   \n",
       "max                 100.000000               12.719177   \n",
       "\n",
       "       rougher.output.tail_pb  rougher.output.tail_sol  \\\n",
       "count            14149.000000             14149.000000   \n",
       "mean                 0.653277                17.882853   \n",
       "std                  0.263766                 3.432859   \n",
       "min                  0.007566                10.014648   \n",
       "25%                  0.474047                15.688727   \n",
       "50%                  0.625805                18.015894   \n",
       "75%                  0.794326                19.938672   \n",
       "max                  3.778064                66.117188   \n",
       "\n",
       "       rougher.output.tail_au  rougher.state.floatbank10_a_air  \\\n",
       "count            14149.000000                     14148.000000   \n",
       "mean                 1.757473                      1124.726280   \n",
       "std                  0.713187                       169.310825   \n",
       "min                  0.020676                        -0.041078   \n",
       "25%                  1.310800                       999.799166   \n",
       "50%                  1.745513                      1001.685708   \n",
       "75%                  2.186790                      1299.505513   \n",
       "max                  9.688980                      1521.980372   \n",
       "\n",
       "       rougher.state.floatbank10_a_level  rougher.state.floatbank10_b_air  \\\n",
       "count                       14148.000000                     14148.000000   \n",
       "mean                         -369.460950                      1320.705069   \n",
       "std                            93.952787                       183.155975   \n",
       "min                          -650.202881                        -0.653384   \n",
       "25%                          -499.787867                      1199.366448   \n",
       "50%                          -300.175125                      1301.365123   \n",
       "75%                          -299.963153                      1449.553689   \n",
       "max                          -281.039299                      1809.194008   \n",
       "\n",
       "       rougher.state.floatbank10_b_level  rougher.state.floatbank10_c_air  \\\n",
       "count                       14148.000000                     14148.000000   \n",
       "mean                         -464.258983                      1299.360578   \n",
       "std                            57.401954                       213.404094   \n",
       "min                          -650.260008                        -0.035112   \n",
       "25%                          -500.183028                      1103.095071   \n",
       "50%                          -499.764620                      1300.213385   \n",
       "75%                          -400.425493                      1450.350668   \n",
       "max                          -296.383080                      2499.129174   \n",
       "\n",
       "       rougher.state.floatbank10_c_level  rougher.state.floatbank10_d_air  \\\n",
       "count                       14148.000000                     14149.000000   \n",
       "mean                         -465.054849                      1210.335236   \n",
       "std                            55.904716                       210.431555   \n",
       "min                          -640.995627                        -0.554299   \n",
       "25%                          -500.211863                      1059.708509   \n",
       "50%                          -499.682528                      1200.744308   \n",
       "75%                          -400.664736                      1344.378462   \n",
       "max                          -292.155509                      1817.199290   \n",
       "\n",
       "       rougher.state.floatbank10_d_level  rougher.state.floatbank10_e_air  \\\n",
       "count                       14149.000000                     13713.000000   \n",
       "mean                         -465.457377                      1090.213187   \n",
       "std                            55.771393                       184.610118   \n",
       "min                          -640.519003                        -1.970275   \n",
       "25%                          -500.359197                       997.183864   \n",
       "50%                          -499.465285                      1050.496363   \n",
       "75%                          -401.052891                      1200.047746   \n",
       "max                          -208.330673                      1922.636637   \n",
       "\n",
       "       rougher.state.floatbank10_e_level  rougher.state.floatbank10_f_air  \\\n",
       "count                       14149.000000                     14149.000000   \n",
       "mean                         -464.919119                      1035.490299   \n",
       "std                            56.602962                       175.052279   \n",
       "min                          -649.443911                        -2.430587   \n",
       "25%                          -500.250033                       900.966986   \n",
       "50%                          -499.611447                      1000.053757   \n",
       "75%                          -400.596104                      1100.165435   \n",
       "max                          -272.199598                      1706.307502   \n",
       "\n",
       "       rougher.state.floatbank10_f_level  secondary_cleaner.output.tail_ag  \\\n",
       "count                       14149.000000                      14147.000000   \n",
       "mean                         -464.688631                         14.281629   \n",
       "std                            56.645965                          4.477126   \n",
       "min                          -649.880981                          0.000000   \n",
       "25%                          -500.476526                         12.177364   \n",
       "50%                          -499.364335                         15.357951   \n",
       "75%                          -401.014951                         17.230151   \n",
       "max                          -191.718480                         23.264738   \n",
       "\n",
       "       secondary_cleaner.output.tail_pb  secondary_cleaner.output.tail_sol  \\\n",
       "count                      14139.000000                       12544.000000   \n",
       "mean                           5.848863                           6.938693   \n",
       "std                            2.861799                           4.155487   \n",
       "min                            0.000000                           0.000000   \n",
       "25%                            3.982298                           3.225486   \n",
       "50%                            5.442310                           7.302639   \n",
       "75%                            7.797948                          10.547068   \n",
       "max                           17.042505                          17.976171   \n",
       "\n",
       "       secondary_cleaner.output.tail_au  \\\n",
       "count                      14149.000000   \n",
       "mean                           4.246961   \n",
       "std                            2.389060   \n",
       "min                            0.000000   \n",
       "25%                            3.153122   \n",
       "50%                            3.980210   \n",
       "75%                            4.883943   \n",
       "max                           26.811643   \n",
       "\n",
       "       secondary_cleaner.state.floatbank2_a_air  \\\n",
       "count                              13932.000000   \n",
       "mean                                  29.613649   \n",
       "std                                    5.800494   \n",
       "min                                    0.077503   \n",
       "25%                                   25.099584   \n",
       "50%                                   30.027721   \n",
       "75%                                   34.893057   \n",
       "max                                   52.651399   \n",
       "\n",
       "       secondary_cleaner.state.floatbank2_a_level  \\\n",
       "count                                14148.000000   \n",
       "mean                                  -502.223914   \n",
       "std                                     60.281705   \n",
       "min                                   -799.606441   \n",
       "25%                                   -500.248814   \n",
       "50%                                   -499.959206   \n",
       "75%                                   -499.593198   \n",
       "max                                   -127.875565   \n",
       "\n",
       "       secondary_cleaner.state.floatbank2_b_air  \\\n",
       "count                              14128.000000   \n",
       "mean                                  24.914403   \n",
       "std                                    5.994959   \n",
       "min                                    0.000000   \n",
       "25%                                   22.048294   \n",
       "50%                                   27.022783   \n",
       "75%                                   28.939454   \n",
       "max                                   35.152122   \n",
       "\n",
       "       secondary_cleaner.state.floatbank2_b_level  \\\n",
       "count                                14148.000000   \n",
       "mean                                  -503.695706   \n",
       "std                                     62.837357   \n",
       "min                                   -799.873878   \n",
       "25%                                   -500.270997   \n",
       "50%                                   -500.014092   \n",
       "75%                                   -499.764112   \n",
       "max                                   -212.064665   \n",
       "\n",
       "       secondary_cleaner.state.floatbank3_a_air  \\\n",
       "count                              14145.000000   \n",
       "mean                                  29.243372   \n",
       "std                                    5.637309   \n",
       "min                                    0.000000   \n",
       "25%                                   24.991662   \n",
       "50%                                   28.016530   \n",
       "75%                                   34.990095   \n",
       "max                                   44.260464   \n",
       "\n",
       "       secondary_cleaner.state.floatbank3_a_level  \\\n",
       "count                                14148.000000   \n",
       "mean                                  -478.244059   \n",
       "std                                     54.655143   \n",
       "min                                   -799.613013   \n",
       "25%                                   -500.175065   \n",
       "50%                                   -499.877837   \n",
       "75%                                   -436.923166   \n",
       "max                                   -191.678810   \n",
       "\n",
       "       secondary_cleaner.state.floatbank3_b_air  \\\n",
       "count                              14148.000000   \n",
       "mean                                  22.656261   \n",
       "std                                    4.996017   \n",
       "min                                    0.000000   \n",
       "25%                                   19.948436   \n",
       "50%                                   22.037270   \n",
       "75%                                   25.970365   \n",
       "max                                   35.072841   \n",
       "\n",
       "       secondary_cleaner.state.floatbank3_b_level  \\\n",
       "count                                14148.000000   \n",
       "mean                                  -488.924046   \n",
       "std                                     41.928112   \n",
       "min                                   -759.177381   \n",
       "25%                                   -500.110581   \n",
       "50%                                   -499.966809   \n",
       "75%                                   -499.757501   \n",
       "max                                   -159.742331   \n",
       "\n",
       "       secondary_cleaner.state.floatbank4_a_air  \\\n",
       "count                              14143.000000   \n",
       "mean                                  19.985454   \n",
       "std                                    5.657723   \n",
       "min                                    0.000000   \n",
       "25%                                   14.990775   \n",
       "50%                                   20.001789   \n",
       "75%                                   24.990826   \n",
       "max                                   30.115735   \n",
       "\n",
       "       secondary_cleaner.state.floatbank4_a_level  \\\n",
       "count                                14148.000000   \n",
       "mean                                  -478.696836   \n",
       "std                                     50.736021   \n",
       "min                                   -799.709069   \n",
       "25%                                   -500.628656   \n",
       "50%                                   -499.681450   \n",
       "75%                                   -477.472413   \n",
       "max                                   -245.239184   \n",
       "\n",
       "       secondary_cleaner.state.floatbank4_b_air  \\\n",
       "count                              14148.000000   \n",
       "mean                                  15.487065   \n",
       "std                                    5.255655   \n",
       "min                                    0.000000   \n",
       "25%                                   11.894558   \n",
       "50%                                   14.975536   \n",
       "75%                                   20.059375   \n",
       "max                                   24.007913   \n",
       "\n",
       "       secondary_cleaner.state.floatbank4_b_level  \\\n",
       "count                                14148.000000   \n",
       "mean                                  -460.229416   \n",
       "std                                     58.843586   \n",
       "min                                   -799.889113   \n",
       "25%                                   -500.149000   \n",
       "50%                                   -499.388738   \n",
       "75%                                   -400.039008   \n",
       "max                                   -145.071088   \n",
       "\n",
       "       secondary_cleaner.state.floatbank5_a_air  \\\n",
       "count                              14148.000000   \n",
       "mean                                  16.775136   \n",
       "std                                    5.831906   \n",
       "min                                   -0.372054   \n",
       "25%                                   11.083980   \n",
       "50%                                   17.932223   \n",
       "75%                                   21.346550   \n",
       "max                                   43.709931   \n",
       "\n",
       "       secondary_cleaner.state.floatbank5_a_level  \\\n",
       "count                                14148.000000   \n",
       "mean                                  -483.956022   \n",
       "std                                     37.892788   \n",
       "min                                   -797.142475   \n",
       "25%                                   -500.363177   \n",
       "50%                                   -499.702452   \n",
       "75%                                   -487.712108   \n",
       "max                                   -275.073125   \n",
       "\n",
       "       secondary_cleaner.state.floatbank5_b_air  \\\n",
       "count                              14148.000000   \n",
       "mean                                  13.064590   \n",
       "std                                    5.765617   \n",
       "min                                    0.646208   \n",
       "25%                                    8.994405   \n",
       "50%                                   11.997547   \n",
       "75%                                   17.982903   \n",
       "max                                   27.926001   \n",
       "\n",
       "       secondary_cleaner.state.floatbank5_b_level  \\\n",
       "count                                14148.000000   \n",
       "mean                                  -483.966564   \n",
       "std                                     39.207913   \n",
       "min                                   -800.006180   \n",
       "25%                                   -500.105994   \n",
       "50%                                   -499.914556   \n",
       "75%                                   -453.186936   \n",
       "max                                   -157.396071   \n",
       "\n",
       "       secondary_cleaner.state.floatbank6_a_air  \\\n",
       "count                              14147.000000   \n",
       "mean                                  19.577539   \n",
       "std                                    5.764417   \n",
       "min                                    0.195324   \n",
       "25%                                   14.989304   \n",
       "50%                                   19.984175   \n",
       "75%                                   24.991623   \n",
       "max                                   32.188906   \n",
       "\n",
       "       secondary_cleaner.state.floatbank6_a_level  \n",
       "count                                14148.000000  \n",
       "mean                                  -506.798480  \n",
       "std                                     37.079249  \n",
       "min                                   -809.398668  \n",
       "25%                                   -500.745104  \n",
       "50%                                   -500.061431  \n",
       "75%                                   -499.536466  \n",
       "max                                   -104.427459  "
      ]
     },
     "execution_count": 3,
     "metadata": {},
     "output_type": "execute_result"
    }
   ],
   "source": [
    "data_train.describe()"
   ]
  },
  {
   "cell_type": "code",
   "execution_count": 4,
   "metadata": {
    "scrolled": true
   },
   "outputs": [
    {
     "data": {
      "text/html": [
       "<div>\n",
       "<style scoped>\n",
       "    .dataframe tbody tr th:only-of-type {\n",
       "        vertical-align: middle;\n",
       "    }\n",
       "\n",
       "    .dataframe tbody tr th {\n",
       "        vertical-align: top;\n",
       "    }\n",
       "\n",
       "    .dataframe thead th {\n",
       "        text-align: right;\n",
       "    }\n",
       "</style>\n",
       "<table border=\"1\" class=\"dataframe\">\n",
       "  <thead>\n",
       "    <tr style=\"text-align: right;\">\n",
       "      <th></th>\n",
       "      <th>primary_cleaner.input.sulfate</th>\n",
       "      <th>primary_cleaner.input.depressant</th>\n",
       "      <th>primary_cleaner.input.feed_size</th>\n",
       "      <th>primary_cleaner.input.xanthate</th>\n",
       "      <th>primary_cleaner.state.floatbank8_a_air</th>\n",
       "      <th>primary_cleaner.state.floatbank8_a_level</th>\n",
       "      <th>primary_cleaner.state.floatbank8_b_air</th>\n",
       "      <th>primary_cleaner.state.floatbank8_b_level</th>\n",
       "      <th>primary_cleaner.state.floatbank8_c_air</th>\n",
       "      <th>primary_cleaner.state.floatbank8_c_level</th>\n",
       "      <th>primary_cleaner.state.floatbank8_d_air</th>\n",
       "      <th>primary_cleaner.state.floatbank8_d_level</th>\n",
       "      <th>rougher.input.feed_ag</th>\n",
       "      <th>rougher.input.feed_pb</th>\n",
       "      <th>rougher.input.feed_rate</th>\n",
       "      <th>rougher.input.feed_size</th>\n",
       "      <th>rougher.input.feed_sol</th>\n",
       "      <th>rougher.input.feed_au</th>\n",
       "      <th>rougher.input.floatbank10_sulfate</th>\n",
       "      <th>rougher.input.floatbank10_xanthate</th>\n",
       "      <th>rougher.input.floatbank11_sulfate</th>\n",
       "      <th>rougher.input.floatbank11_xanthate</th>\n",
       "      <th>rougher.state.floatbank10_a_air</th>\n",
       "      <th>rougher.state.floatbank10_a_level</th>\n",
       "      <th>rougher.state.floatbank10_b_air</th>\n",
       "      <th>rougher.state.floatbank10_b_level</th>\n",
       "      <th>rougher.state.floatbank10_c_air</th>\n",
       "      <th>rougher.state.floatbank10_c_level</th>\n",
       "      <th>rougher.state.floatbank10_d_air</th>\n",
       "      <th>rougher.state.floatbank10_d_level</th>\n",
       "      <th>rougher.state.floatbank10_e_air</th>\n",
       "      <th>rougher.state.floatbank10_e_level</th>\n",
       "      <th>rougher.state.floatbank10_f_air</th>\n",
       "      <th>rougher.state.floatbank10_f_level</th>\n",
       "      <th>secondary_cleaner.state.floatbank2_a_air</th>\n",
       "      <th>secondary_cleaner.state.floatbank2_a_level</th>\n",
       "      <th>secondary_cleaner.state.floatbank2_b_air</th>\n",
       "      <th>secondary_cleaner.state.floatbank2_b_level</th>\n",
       "      <th>secondary_cleaner.state.floatbank3_a_air</th>\n",
       "      <th>secondary_cleaner.state.floatbank3_a_level</th>\n",
       "      <th>secondary_cleaner.state.floatbank3_b_air</th>\n",
       "      <th>secondary_cleaner.state.floatbank3_b_level</th>\n",
       "      <th>secondary_cleaner.state.floatbank4_a_air</th>\n",
       "      <th>secondary_cleaner.state.floatbank4_a_level</th>\n",
       "      <th>secondary_cleaner.state.floatbank4_b_air</th>\n",
       "      <th>secondary_cleaner.state.floatbank4_b_level</th>\n",
       "      <th>secondary_cleaner.state.floatbank5_a_air</th>\n",
       "      <th>secondary_cleaner.state.floatbank5_a_level</th>\n",
       "      <th>secondary_cleaner.state.floatbank5_b_air</th>\n",
       "      <th>secondary_cleaner.state.floatbank5_b_level</th>\n",
       "      <th>secondary_cleaner.state.floatbank6_a_air</th>\n",
       "      <th>secondary_cleaner.state.floatbank6_a_level</th>\n",
       "    </tr>\n",
       "  </thead>\n",
       "  <tbody>\n",
       "    <tr>\n",
       "      <td>count</td>\n",
       "      <td>5286.000000</td>\n",
       "      <td>5285.000000</td>\n",
       "      <td>5290.000000</td>\n",
       "      <td>5286.000000</td>\n",
       "      <td>5.290000e+03</td>\n",
       "      <td>5290.000000</td>\n",
       "      <td>5.290000e+03</td>\n",
       "      <td>5290.000000</td>\n",
       "      <td>5.290000e+03</td>\n",
       "      <td>5290.000000</td>\n",
       "      <td>5.290000e+03</td>\n",
       "      <td>5290.000000</td>\n",
       "      <td>5290.000000</td>\n",
       "      <td>5290.000000</td>\n",
       "      <td>5287.000000</td>\n",
       "      <td>5289.000000</td>\n",
       "      <td>5269.000000</td>\n",
       "      <td>5290.000000</td>\n",
       "      <td>5285.000000</td>\n",
       "      <td>5290.000000</td>\n",
       "      <td>5282.000000</td>\n",
       "      <td>5265.000000</td>\n",
       "      <td>5290.000000</td>\n",
       "      <td>5290.000000</td>\n",
       "      <td>5290.000000</td>\n",
       "      <td>5290.000000</td>\n",
       "      <td>5290.000000</td>\n",
       "      <td>5290.000000</td>\n",
       "      <td>5290.000000</td>\n",
       "      <td>5290.000000</td>\n",
       "      <td>5290.000000</td>\n",
       "      <td>5290.000000</td>\n",
       "      <td>5290.000000</td>\n",
       "      <td>5290.000000</td>\n",
       "      <td>5287.000000</td>\n",
       "      <td>5290.000000</td>\n",
       "      <td>5288.000000</td>\n",
       "      <td>5290.000000</td>\n",
       "      <td>5281.000000</td>\n",
       "      <td>5290.000000</td>\n",
       "      <td>5.290000e+03</td>\n",
       "      <td>5290.000000</td>\n",
       "      <td>5.290000e+03</td>\n",
       "      <td>5290.000000</td>\n",
       "      <td>5.290000e+03</td>\n",
       "      <td>5290.000000</td>\n",
       "      <td>5290.000000</td>\n",
       "      <td>5290.000000</td>\n",
       "      <td>5290.000000</td>\n",
       "      <td>5290.000000</td>\n",
       "      <td>5290.000000</td>\n",
       "      <td>5290.000000</td>\n",
       "    </tr>\n",
       "    <tr>\n",
       "      <td>mean</td>\n",
       "      <td>174.839652</td>\n",
       "      <td>8.683596</td>\n",
       "      <td>7.266339</td>\n",
       "      <td>1.383803</td>\n",
       "      <td>1.539494e+03</td>\n",
       "      <td>-497.665883</td>\n",
       "      <td>1.545174e+03</td>\n",
       "      <td>-500.273098</td>\n",
       "      <td>1.527272e+03</td>\n",
       "      <td>-498.330680</td>\n",
       "      <td>1.544844e+03</td>\n",
       "      <td>-500.199527</td>\n",
       "      <td>9.371940</td>\n",
       "      <td>3.798082</td>\n",
       "      <td>489.800620</td>\n",
       "      <td>55.951097</td>\n",
       "      <td>37.716648</td>\n",
       "      <td>9.334682</td>\n",
       "      <td>13.855759</td>\n",
       "      <td>6.467745</td>\n",
       "      <td>13.922328</td>\n",
       "      <td>6.512103</td>\n",
       "      <td>1053.400166</td>\n",
       "      <td>-395.732530</td>\n",
       "      <td>1318.926879</td>\n",
       "      <td>-475.241428</td>\n",
       "      <td>1301.595477</td>\n",
       "      <td>-474.836671</td>\n",
       "      <td>1214.847960</td>\n",
       "      <td>-475.682272</td>\n",
       "      <td>1056.648995</td>\n",
       "      <td>-469.029688</td>\n",
       "      <td>997.949719</td>\n",
       "      <td>-470.482465</td>\n",
       "      <td>26.312630</td>\n",
       "      <td>-502.750897</td>\n",
       "      <td>21.949119</td>\n",
       "      <td>-501.987097</td>\n",
       "      <td>25.402926</td>\n",
       "      <td>-507.490314</td>\n",
       "      <td>2.098211e+01</td>\n",
       "      <td>-506.627916</td>\n",
       "      <td>1.632007e+01</td>\n",
       "      <td>-505.144570</td>\n",
       "      <td>1.373544e+01</td>\n",
       "      <td>-463.349858</td>\n",
       "      <td>12.804186</td>\n",
       "      <td>-501.329122</td>\n",
       "      <td>9.881145</td>\n",
       "      <td>-495.663398</td>\n",
       "      <td>17.304935</td>\n",
       "      <td>-501.793193</td>\n",
       "    </tr>\n",
       "    <tr>\n",
       "      <td>std</td>\n",
       "      <td>43.027080</td>\n",
       "      <td>3.072050</td>\n",
       "      <td>0.610219</td>\n",
       "      <td>0.643474</td>\n",
       "      <td>1.167979e+02</td>\n",
       "      <td>19.952431</td>\n",
       "      <td>1.222246e+02</td>\n",
       "      <td>32.968307</td>\n",
       "      <td>1.225380e+02</td>\n",
       "      <td>21.964876</td>\n",
       "      <td>1.247731e+02</td>\n",
       "      <td>31.045257</td>\n",
       "      <td>1.926264</td>\n",
       "      <td>0.954859</td>\n",
       "      <td>108.036326</td>\n",
       "      <td>19.081758</td>\n",
       "      <td>5.491415</td>\n",
       "      <td>1.619521</td>\n",
       "      <td>3.350852</td>\n",
       "      <td>1.065114</td>\n",
       "      <td>3.223769</td>\n",
       "      <td>0.886989</td>\n",
       "      <td>121.139309</td>\n",
       "      <td>91.085505</td>\n",
       "      <td>156.450366</td>\n",
       "      <td>45.649466</td>\n",
       "      <td>171.269667</td>\n",
       "      <td>45.859866</td>\n",
       "      <td>185.763319</td>\n",
       "      <td>47.844967</td>\n",
       "      <td>131.542839</td>\n",
       "      <td>59.325990</td>\n",
       "      <td>128.218869</td>\n",
       "      <td>60.759318</td>\n",
       "      <td>3.429852</td>\n",
       "      <td>28.756505</td>\n",
       "      <td>4.354961</td>\n",
       "      <td>34.582722</td>\n",
       "      <td>6.526457</td>\n",
       "      <td>47.620908</td>\n",
       "      <td>6.736179e+00</td>\n",
       "      <td>44.528673</td>\n",
       "      <td>3.493583e+00</td>\n",
       "      <td>31.427337</td>\n",
       "      <td>3.430484e+00</td>\n",
       "      <td>86.189107</td>\n",
       "      <td>3.026591</td>\n",
       "      <td>17.951495</td>\n",
       "      <td>2.868205</td>\n",
       "      <td>34.535007</td>\n",
       "      <td>4.536544</td>\n",
       "      <td>39.044215</td>\n",
       "    </tr>\n",
       "    <tr>\n",
       "      <td>min</td>\n",
       "      <td>2.566156</td>\n",
       "      <td>0.003839</td>\n",
       "      <td>5.650000</td>\n",
       "      <td>0.004984</td>\n",
       "      <td>5.445860e-32</td>\n",
       "      <td>-795.316337</td>\n",
       "      <td>6.647490e-32</td>\n",
       "      <td>-799.997015</td>\n",
       "      <td>4.033736e-32</td>\n",
       "      <td>-799.960571</td>\n",
       "      <td>4.039220e-32</td>\n",
       "      <td>-799.794250</td>\n",
       "      <td>0.568441</td>\n",
       "      <td>0.273677</td>\n",
       "      <td>0.002986</td>\n",
       "      <td>0.046369</td>\n",
       "      <td>1.393488</td>\n",
       "      <td>0.568632</td>\n",
       "      <td>0.001147</td>\n",
       "      <td>0.000568</td>\n",
       "      <td>0.000077</td>\n",
       "      <td>0.006985</td>\n",
       "      <td>-0.042069</td>\n",
       "      <td>-657.949759</td>\n",
       "      <td>-0.721806</td>\n",
       "      <td>-650.245277</td>\n",
       "      <td>-0.056636</td>\n",
       "      <td>-647.544439</td>\n",
       "      <td>-0.992219</td>\n",
       "      <td>-648.390665</td>\n",
       "      <td>-1.982295</td>\n",
       "      <td>-649.267537</td>\n",
       "      <td>-2.593390</td>\n",
       "      <td>-649.949283</td>\n",
       "      <td>0.205329</td>\n",
       "      <td>-784.091091</td>\n",
       "      <td>0.006064</td>\n",
       "      <td>-797.783989</td>\n",
       "      <td>0.000000</td>\n",
       "      <td>-799.755798</td>\n",
       "      <td>1.521587e-17</td>\n",
       "      <td>-809.333008</td>\n",
       "      <td>1.079872e-16</td>\n",
       "      <td>-799.798523</td>\n",
       "      <td>2.489718e-17</td>\n",
       "      <td>-800.836914</td>\n",
       "      <td>0.069227</td>\n",
       "      <td>-797.323986</td>\n",
       "      <td>0.528083</td>\n",
       "      <td>-800.220337</td>\n",
       "      <td>-0.079426</td>\n",
       "      <td>-809.741464</td>\n",
       "    </tr>\n",
       "    <tr>\n",
       "      <td>25%</td>\n",
       "      <td>147.121401</td>\n",
       "      <td>6.489555</td>\n",
       "      <td>6.890000</td>\n",
       "      <td>0.907623</td>\n",
       "      <td>1.498936e+03</td>\n",
       "      <td>-500.357298</td>\n",
       "      <td>1.498971e+03</td>\n",
       "      <td>-500.703002</td>\n",
       "      <td>1.473230e+03</td>\n",
       "      <td>-501.018117</td>\n",
       "      <td>1.499481e+03</td>\n",
       "      <td>-500.452469</td>\n",
       "      <td>8.112434</td>\n",
       "      <td>3.240251</td>\n",
       "      <td>407.020883</td>\n",
       "      <td>43.906347</td>\n",
       "      <td>34.505576</td>\n",
       "      <td>8.207814</td>\n",
       "      <td>11.995006</td>\n",
       "      <td>5.998779</td>\n",
       "      <td>11.997200</td>\n",
       "      <td>5.999157</td>\n",
       "      <td>999.205344</td>\n",
       "      <td>-499.920565</td>\n",
       "      <td>1200.871883</td>\n",
       "      <td>-500.256114</td>\n",
       "      <td>1199.651371</td>\n",
       "      <td>-500.233831</td>\n",
       "      <td>1093.368068</td>\n",
       "      <td>-500.440610</td>\n",
       "      <td>999.361403</td>\n",
       "      <td>-500.190639</td>\n",
       "      <td>901.024994</td>\n",
       "      <td>-500.624783</td>\n",
       "      <td>24.942328</td>\n",
       "      <td>-500.206517</td>\n",
       "      <td>20.002315</td>\n",
       "      <td>-500.218030</td>\n",
       "      <td>22.982288</td>\n",
       "      <td>-500.297951</td>\n",
       "      <td>1.796786e+01</td>\n",
       "      <td>-500.145128</td>\n",
       "      <td>1.403618e+01</td>\n",
       "      <td>-500.868258</td>\n",
       "      <td>1.202862e+01</td>\n",
       "      <td>-500.323028</td>\n",
       "      <td>10.914838</td>\n",
       "      <td>-500.726841</td>\n",
       "      <td>8.036719</td>\n",
       "      <td>-500.194668</td>\n",
       "      <td>13.997317</td>\n",
       "      <td>-500.690984</td>\n",
       "    </tr>\n",
       "    <tr>\n",
       "      <td>50%</td>\n",
       "      <td>177.828489</td>\n",
       "      <td>8.052207</td>\n",
       "      <td>7.250000</td>\n",
       "      <td>1.197610</td>\n",
       "      <td>1.585129e+03</td>\n",
       "      <td>-499.969164</td>\n",
       "      <td>1.595622e+03</td>\n",
       "      <td>-500.028514</td>\n",
       "      <td>1.549595e+03</td>\n",
       "      <td>-500.017711</td>\n",
       "      <td>1.594579e+03</td>\n",
       "      <td>-500.023307</td>\n",
       "      <td>9.762654</td>\n",
       "      <td>3.740716</td>\n",
       "      <td>499.051440</td>\n",
       "      <td>50.841029</td>\n",
       "      <td>37.980276</td>\n",
       "      <td>9.593766</td>\n",
       "      <td>14.003126</td>\n",
       "      <td>6.498181</td>\n",
       "      <td>14.004371</td>\n",
       "      <td>6.498744</td>\n",
       "      <td>1000.472055</td>\n",
       "      <td>-399.693363</td>\n",
       "      <td>1302.254995</td>\n",
       "      <td>-499.837803</td>\n",
       "      <td>1300.202274</td>\n",
       "      <td>-499.777222</td>\n",
       "      <td>1207.014092</td>\n",
       "      <td>-499.691917</td>\n",
       "      <td>1047.495449</td>\n",
       "      <td>-499.765796</td>\n",
       "      <td>999.441879</td>\n",
       "      <td>-499.680986</td>\n",
       "      <td>26.910569</td>\n",
       "      <td>-500.003902</td>\n",
       "      <td>22.942603</td>\n",
       "      <td>-500.019058</td>\n",
       "      <td>25.010105</td>\n",
       "      <td>-500.034578</td>\n",
       "      <td>2.100316e+01</td>\n",
       "      <td>-500.013819</td>\n",
       "      <td>1.700847e+01</td>\n",
       "      <td>-500.115727</td>\n",
       "      <td>1.496486e+01</td>\n",
       "      <td>-499.576513</td>\n",
       "      <td>12.954182</td>\n",
       "      <td>-499.990332</td>\n",
       "      <td>10.004301</td>\n",
       "      <td>-499.990535</td>\n",
       "      <td>16.014935</td>\n",
       "      <td>-500.007126</td>\n",
       "    </tr>\n",
       "    <tr>\n",
       "      <td>75%</td>\n",
       "      <td>208.125438</td>\n",
       "      <td>10.027764</td>\n",
       "      <td>7.600000</td>\n",
       "      <td>1.797819</td>\n",
       "      <td>1.602077e+03</td>\n",
       "      <td>-499.568951</td>\n",
       "      <td>1.602324e+03</td>\n",
       "      <td>-499.293257</td>\n",
       "      <td>1.601144e+03</td>\n",
       "      <td>-498.994130</td>\n",
       "      <td>1.600965e+03</td>\n",
       "      <td>-499.607040</td>\n",
       "      <td>10.652297</td>\n",
       "      <td>4.282634</td>\n",
       "      <td>575.307213</td>\n",
       "      <td>62.431047</td>\n",
       "      <td>41.635385</td>\n",
       "      <td>10.463538</td>\n",
       "      <td>16.974284</td>\n",
       "      <td>7.085457</td>\n",
       "      <td>16.959671</td>\n",
       "      <td>7.091808</td>\n",
       "      <td>1006.254299</td>\n",
       "      <td>-300.060056</td>\n",
       "      <td>1433.955649</td>\n",
       "      <td>-450.749619</td>\n",
       "      <td>1406.594956</td>\n",
       "      <td>-451.153188</td>\n",
       "      <td>1391.497269</td>\n",
       "      <td>-452.483463</td>\n",
       "      <td>1101.365315</td>\n",
       "      <td>-450.957513</td>\n",
       "      <td>1050.433005</td>\n",
       "      <td>-451.986460</td>\n",
       "      <td>28.091885</td>\n",
       "      <td>-499.791639</td>\n",
       "      <td>24.985013</td>\n",
       "      <td>-499.831532</td>\n",
       "      <td>30.002063</td>\n",
       "      <td>-499.780163</td>\n",
       "      <td>2.697698e+01</td>\n",
       "      <td>-499.890608</td>\n",
       "      <td>1.803862e+01</td>\n",
       "      <td>-499.404224</td>\n",
       "      <td>1.596213e+01</td>\n",
       "      <td>-400.933805</td>\n",
       "      <td>15.097528</td>\n",
       "      <td>-499.283191</td>\n",
       "      <td>11.997467</td>\n",
       "      <td>-499.719913</td>\n",
       "      <td>21.020013</td>\n",
       "      <td>-499.373018</td>\n",
       "    </tr>\n",
       "    <tr>\n",
       "      <td>max</td>\n",
       "      <td>265.983123</td>\n",
       "      <td>40.000000</td>\n",
       "      <td>15.500000</td>\n",
       "      <td>4.102454</td>\n",
       "      <td>2.103104e+03</td>\n",
       "      <td>-57.195404</td>\n",
       "      <td>1.813084e+03</td>\n",
       "      <td>-142.527229</td>\n",
       "      <td>1.715054e+03</td>\n",
       "      <td>-150.937035</td>\n",
       "      <td>1.913257e+03</td>\n",
       "      <td>-158.950573</td>\n",
       "      <td>14.406130</td>\n",
       "      <td>6.905684</td>\n",
       "      <td>707.364020</td>\n",
       "      <td>392.494040</td>\n",
       "      <td>53.477742</td>\n",
       "      <td>13.731330</td>\n",
       "      <td>24.280636</td>\n",
       "      <td>8.910468</td>\n",
       "      <td>24.280966</td>\n",
       "      <td>8.621338</td>\n",
       "      <td>1423.274687</td>\n",
       "      <td>-273.776101</td>\n",
       "      <td>1706.640419</td>\n",
       "      <td>-298.200051</td>\n",
       "      <td>1731.017788</td>\n",
       "      <td>-298.036852</td>\n",
       "      <td>1775.218584</td>\n",
       "      <td>-76.397327</td>\n",
       "      <td>1467.184843</td>\n",
       "      <td>-139.753025</td>\n",
       "      <td>1476.588107</td>\n",
       "      <td>-249.801043</td>\n",
       "      <td>32.138727</td>\n",
       "      <td>-300.343670</td>\n",
       "      <td>28.165864</td>\n",
       "      <td>-211.999273</td>\n",
       "      <td>40.041997</td>\n",
       "      <td>-313.866425</td>\n",
       "      <td>3.203936e+01</td>\n",
       "      <td>-202.277366</td>\n",
       "      <td>3.005180e+01</td>\n",
       "      <td>-401.565212</td>\n",
       "      <td>3.126971e+01</td>\n",
       "      <td>-6.506986</td>\n",
       "      <td>25.258848</td>\n",
       "      <td>-244.483566</td>\n",
       "      <td>14.086866</td>\n",
       "      <td>-137.740004</td>\n",
       "      <td>26.705889</td>\n",
       "      <td>-123.307487</td>\n",
       "    </tr>\n",
       "  </tbody>\n",
       "</table>\n",
       "</div>"
      ],
      "text/plain": [
       "       primary_cleaner.input.sulfate  primary_cleaner.input.depressant  \\\n",
       "count                    5286.000000                       5285.000000   \n",
       "mean                      174.839652                          8.683596   \n",
       "std                        43.027080                          3.072050   \n",
       "min                         2.566156                          0.003839   \n",
       "25%                       147.121401                          6.489555   \n",
       "50%                       177.828489                          8.052207   \n",
       "75%                       208.125438                         10.027764   \n",
       "max                       265.983123                         40.000000   \n",
       "\n",
       "       primary_cleaner.input.feed_size  primary_cleaner.input.xanthate  \\\n",
       "count                      5290.000000                     5286.000000   \n",
       "mean                          7.266339                        1.383803   \n",
       "std                           0.610219                        0.643474   \n",
       "min                           5.650000                        0.004984   \n",
       "25%                           6.890000                        0.907623   \n",
       "50%                           7.250000                        1.197610   \n",
       "75%                           7.600000                        1.797819   \n",
       "max                          15.500000                        4.102454   \n",
       "\n",
       "       primary_cleaner.state.floatbank8_a_air  \\\n",
       "count                            5.290000e+03   \n",
       "mean                             1.539494e+03   \n",
       "std                              1.167979e+02   \n",
       "min                              5.445860e-32   \n",
       "25%                              1.498936e+03   \n",
       "50%                              1.585129e+03   \n",
       "75%                              1.602077e+03   \n",
       "max                              2.103104e+03   \n",
       "\n",
       "       primary_cleaner.state.floatbank8_a_level  \\\n",
       "count                               5290.000000   \n",
       "mean                                -497.665883   \n",
       "std                                   19.952431   \n",
       "min                                 -795.316337   \n",
       "25%                                 -500.357298   \n",
       "50%                                 -499.969164   \n",
       "75%                                 -499.568951   \n",
       "max                                  -57.195404   \n",
       "\n",
       "       primary_cleaner.state.floatbank8_b_air  \\\n",
       "count                            5.290000e+03   \n",
       "mean                             1.545174e+03   \n",
       "std                              1.222246e+02   \n",
       "min                              6.647490e-32   \n",
       "25%                              1.498971e+03   \n",
       "50%                              1.595622e+03   \n",
       "75%                              1.602324e+03   \n",
       "max                              1.813084e+03   \n",
       "\n",
       "       primary_cleaner.state.floatbank8_b_level  \\\n",
       "count                               5290.000000   \n",
       "mean                                -500.273098   \n",
       "std                                   32.968307   \n",
       "min                                 -799.997015   \n",
       "25%                                 -500.703002   \n",
       "50%                                 -500.028514   \n",
       "75%                                 -499.293257   \n",
       "max                                 -142.527229   \n",
       "\n",
       "       primary_cleaner.state.floatbank8_c_air  \\\n",
       "count                            5.290000e+03   \n",
       "mean                             1.527272e+03   \n",
       "std                              1.225380e+02   \n",
       "min                              4.033736e-32   \n",
       "25%                              1.473230e+03   \n",
       "50%                              1.549595e+03   \n",
       "75%                              1.601144e+03   \n",
       "max                              1.715054e+03   \n",
       "\n",
       "       primary_cleaner.state.floatbank8_c_level  \\\n",
       "count                               5290.000000   \n",
       "mean                                -498.330680   \n",
       "std                                   21.964876   \n",
       "min                                 -799.960571   \n",
       "25%                                 -501.018117   \n",
       "50%                                 -500.017711   \n",
       "75%                                 -498.994130   \n",
       "max                                 -150.937035   \n",
       "\n",
       "       primary_cleaner.state.floatbank8_d_air  \\\n",
       "count                            5.290000e+03   \n",
       "mean                             1.544844e+03   \n",
       "std                              1.247731e+02   \n",
       "min                              4.039220e-32   \n",
       "25%                              1.499481e+03   \n",
       "50%                              1.594579e+03   \n",
       "75%                              1.600965e+03   \n",
       "max                              1.913257e+03   \n",
       "\n",
       "       primary_cleaner.state.floatbank8_d_level  rougher.input.feed_ag  \\\n",
       "count                               5290.000000            5290.000000   \n",
       "mean                                -500.199527               9.371940   \n",
       "std                                   31.045257               1.926264   \n",
       "min                                 -799.794250               0.568441   \n",
       "25%                                 -500.452469               8.112434   \n",
       "50%                                 -500.023307               9.762654   \n",
       "75%                                 -499.607040              10.652297   \n",
       "max                                 -158.950573              14.406130   \n",
       "\n",
       "       rougher.input.feed_pb  rougher.input.feed_rate  \\\n",
       "count            5290.000000              5287.000000   \n",
       "mean                3.798082               489.800620   \n",
       "std                 0.954859               108.036326   \n",
       "min                 0.273677                 0.002986   \n",
       "25%                 3.240251               407.020883   \n",
       "50%                 3.740716               499.051440   \n",
       "75%                 4.282634               575.307213   \n",
       "max                 6.905684               707.364020   \n",
       "\n",
       "       rougher.input.feed_size  rougher.input.feed_sol  rougher.input.feed_au  \\\n",
       "count              5289.000000             5269.000000            5290.000000   \n",
       "mean                 55.951097               37.716648               9.334682   \n",
       "std                  19.081758                5.491415               1.619521   \n",
       "min                   0.046369                1.393488               0.568632   \n",
       "25%                  43.906347               34.505576               8.207814   \n",
       "50%                  50.841029               37.980276               9.593766   \n",
       "75%                  62.431047               41.635385              10.463538   \n",
       "max                 392.494040               53.477742              13.731330   \n",
       "\n",
       "       rougher.input.floatbank10_sulfate  rougher.input.floatbank10_xanthate  \\\n",
       "count                        5285.000000                         5290.000000   \n",
       "mean                           13.855759                            6.467745   \n",
       "std                             3.350852                            1.065114   \n",
       "min                             0.001147                            0.000568   \n",
       "25%                            11.995006                            5.998779   \n",
       "50%                            14.003126                            6.498181   \n",
       "75%                            16.974284                            7.085457   \n",
       "max                            24.280636                            8.910468   \n",
       "\n",
       "       rougher.input.floatbank11_sulfate  rougher.input.floatbank11_xanthate  \\\n",
       "count                        5282.000000                         5265.000000   \n",
       "mean                           13.922328                            6.512103   \n",
       "std                             3.223769                            0.886989   \n",
       "min                             0.000077                            0.006985   \n",
       "25%                            11.997200                            5.999157   \n",
       "50%                            14.004371                            6.498744   \n",
       "75%                            16.959671                            7.091808   \n",
       "max                            24.280966                            8.621338   \n",
       "\n",
       "       rougher.state.floatbank10_a_air  rougher.state.floatbank10_a_level  \\\n",
       "count                      5290.000000                        5290.000000   \n",
       "mean                       1053.400166                        -395.732530   \n",
       "std                         121.139309                          91.085505   \n",
       "min                          -0.042069                        -657.949759   \n",
       "25%                         999.205344                        -499.920565   \n",
       "50%                        1000.472055                        -399.693363   \n",
       "75%                        1006.254299                        -300.060056   \n",
       "max                        1423.274687                        -273.776101   \n",
       "\n",
       "       rougher.state.floatbank10_b_air  rougher.state.floatbank10_b_level  \\\n",
       "count                      5290.000000                        5290.000000   \n",
       "mean                       1318.926879                        -475.241428   \n",
       "std                         156.450366                          45.649466   \n",
       "min                          -0.721806                        -650.245277   \n",
       "25%                        1200.871883                        -500.256114   \n",
       "50%                        1302.254995                        -499.837803   \n",
       "75%                        1433.955649                        -450.749619   \n",
       "max                        1706.640419                        -298.200051   \n",
       "\n",
       "       rougher.state.floatbank10_c_air  rougher.state.floatbank10_c_level  \\\n",
       "count                      5290.000000                        5290.000000   \n",
       "mean                       1301.595477                        -474.836671   \n",
       "std                         171.269667                          45.859866   \n",
       "min                          -0.056636                        -647.544439   \n",
       "25%                        1199.651371                        -500.233831   \n",
       "50%                        1300.202274                        -499.777222   \n",
       "75%                        1406.594956                        -451.153188   \n",
       "max                        1731.017788                        -298.036852   \n",
       "\n",
       "       rougher.state.floatbank10_d_air  rougher.state.floatbank10_d_level  \\\n",
       "count                      5290.000000                        5290.000000   \n",
       "mean                       1214.847960                        -475.682272   \n",
       "std                         185.763319                          47.844967   \n",
       "min                          -0.992219                        -648.390665   \n",
       "25%                        1093.368068                        -500.440610   \n",
       "50%                        1207.014092                        -499.691917   \n",
       "75%                        1391.497269                        -452.483463   \n",
       "max                        1775.218584                         -76.397327   \n",
       "\n",
       "       rougher.state.floatbank10_e_air  rougher.state.floatbank10_e_level  \\\n",
       "count                      5290.000000                        5290.000000   \n",
       "mean                       1056.648995                        -469.029688   \n",
       "std                         131.542839                          59.325990   \n",
       "min                          -1.982295                        -649.267537   \n",
       "25%                         999.361403                        -500.190639   \n",
       "50%                        1047.495449                        -499.765796   \n",
       "75%                        1101.365315                        -450.957513   \n",
       "max                        1467.184843                        -139.753025   \n",
       "\n",
       "       rougher.state.floatbank10_f_air  rougher.state.floatbank10_f_level  \\\n",
       "count                      5290.000000                        5290.000000   \n",
       "mean                        997.949719                        -470.482465   \n",
       "std                         128.218869                          60.759318   \n",
       "min                          -2.593390                        -649.949283   \n",
       "25%                         901.024994                        -500.624783   \n",
       "50%                         999.441879                        -499.680986   \n",
       "75%                        1050.433005                        -451.986460   \n",
       "max                        1476.588107                        -249.801043   \n",
       "\n",
       "       secondary_cleaner.state.floatbank2_a_air  \\\n",
       "count                               5287.000000   \n",
       "mean                                  26.312630   \n",
       "std                                    3.429852   \n",
       "min                                    0.205329   \n",
       "25%                                   24.942328   \n",
       "50%                                   26.910569   \n",
       "75%                                   28.091885   \n",
       "max                                   32.138727   \n",
       "\n",
       "       secondary_cleaner.state.floatbank2_a_level  \\\n",
       "count                                 5290.000000   \n",
       "mean                                  -502.750897   \n",
       "std                                     28.756505   \n",
       "min                                   -784.091091   \n",
       "25%                                   -500.206517   \n",
       "50%                                   -500.003902   \n",
       "75%                                   -499.791639   \n",
       "max                                   -300.343670   \n",
       "\n",
       "       secondary_cleaner.state.floatbank2_b_air  \\\n",
       "count                               5288.000000   \n",
       "mean                                  21.949119   \n",
       "std                                    4.354961   \n",
       "min                                    0.006064   \n",
       "25%                                   20.002315   \n",
       "50%                                   22.942603   \n",
       "75%                                   24.985013   \n",
       "max                                   28.165864   \n",
       "\n",
       "       secondary_cleaner.state.floatbank2_b_level  \\\n",
       "count                                 5290.000000   \n",
       "mean                                  -501.987097   \n",
       "std                                     34.582722   \n",
       "min                                   -797.783989   \n",
       "25%                                   -500.218030   \n",
       "50%                                   -500.019058   \n",
       "75%                                   -499.831532   \n",
       "max                                   -211.999273   \n",
       "\n",
       "       secondary_cleaner.state.floatbank3_a_air  \\\n",
       "count                               5281.000000   \n",
       "mean                                  25.402926   \n",
       "std                                    6.526457   \n",
       "min                                    0.000000   \n",
       "25%                                   22.982288   \n",
       "50%                                   25.010105   \n",
       "75%                                   30.002063   \n",
       "max                                   40.041997   \n",
       "\n",
       "       secondary_cleaner.state.floatbank3_a_level  \\\n",
       "count                                 5290.000000   \n",
       "mean                                  -507.490314   \n",
       "std                                     47.620908   \n",
       "min                                   -799.755798   \n",
       "25%                                   -500.297951   \n",
       "50%                                   -500.034578   \n",
       "75%                                   -499.780163   \n",
       "max                                   -313.866425   \n",
       "\n",
       "       secondary_cleaner.state.floatbank3_b_air  \\\n",
       "count                              5.290000e+03   \n",
       "mean                               2.098211e+01   \n",
       "std                                6.736179e+00   \n",
       "min                                1.521587e-17   \n",
       "25%                                1.796786e+01   \n",
       "50%                                2.100316e+01   \n",
       "75%                                2.697698e+01   \n",
       "max                                3.203936e+01   \n",
       "\n",
       "       secondary_cleaner.state.floatbank3_b_level  \\\n",
       "count                                 5290.000000   \n",
       "mean                                  -506.627916   \n",
       "std                                     44.528673   \n",
       "min                                   -809.333008   \n",
       "25%                                   -500.145128   \n",
       "50%                                   -500.013819   \n",
       "75%                                   -499.890608   \n",
       "max                                   -202.277366   \n",
       "\n",
       "       secondary_cleaner.state.floatbank4_a_air  \\\n",
       "count                              5.290000e+03   \n",
       "mean                               1.632007e+01   \n",
       "std                                3.493583e+00   \n",
       "min                                1.079872e-16   \n",
       "25%                                1.403618e+01   \n",
       "50%                                1.700847e+01   \n",
       "75%                                1.803862e+01   \n",
       "max                                3.005180e+01   \n",
       "\n",
       "       secondary_cleaner.state.floatbank4_a_level  \\\n",
       "count                                 5290.000000   \n",
       "mean                                  -505.144570   \n",
       "std                                     31.427337   \n",
       "min                                   -799.798523   \n",
       "25%                                   -500.868258   \n",
       "50%                                   -500.115727   \n",
       "75%                                   -499.404224   \n",
       "max                                   -401.565212   \n",
       "\n",
       "       secondary_cleaner.state.floatbank4_b_air  \\\n",
       "count                              5.290000e+03   \n",
       "mean                               1.373544e+01   \n",
       "std                                3.430484e+00   \n",
       "min                                2.489718e-17   \n",
       "25%                                1.202862e+01   \n",
       "50%                                1.496486e+01   \n",
       "75%                                1.596213e+01   \n",
       "max                                3.126971e+01   \n",
       "\n",
       "       secondary_cleaner.state.floatbank4_b_level  \\\n",
       "count                                 5290.000000   \n",
       "mean                                  -463.349858   \n",
       "std                                     86.189107   \n",
       "min                                   -800.836914   \n",
       "25%                                   -500.323028   \n",
       "50%                                   -499.576513   \n",
       "75%                                   -400.933805   \n",
       "max                                     -6.506986   \n",
       "\n",
       "       secondary_cleaner.state.floatbank5_a_air  \\\n",
       "count                               5290.000000   \n",
       "mean                                  12.804186   \n",
       "std                                    3.026591   \n",
       "min                                    0.069227   \n",
       "25%                                   10.914838   \n",
       "50%                                   12.954182   \n",
       "75%                                   15.097528   \n",
       "max                                   25.258848   \n",
       "\n",
       "       secondary_cleaner.state.floatbank5_a_level  \\\n",
       "count                                 5290.000000   \n",
       "mean                                  -501.329122   \n",
       "std                                     17.951495   \n",
       "min                                   -797.323986   \n",
       "25%                                   -500.726841   \n",
       "50%                                   -499.990332   \n",
       "75%                                   -499.283191   \n",
       "max                                   -244.483566   \n",
       "\n",
       "       secondary_cleaner.state.floatbank5_b_air  \\\n",
       "count                               5290.000000   \n",
       "mean                                   9.881145   \n",
       "std                                    2.868205   \n",
       "min                                    0.528083   \n",
       "25%                                    8.036719   \n",
       "50%                                   10.004301   \n",
       "75%                                   11.997467   \n",
       "max                                   14.086866   \n",
       "\n",
       "       secondary_cleaner.state.floatbank5_b_level  \\\n",
       "count                                 5290.000000   \n",
       "mean                                  -495.663398   \n",
       "std                                     34.535007   \n",
       "min                                   -800.220337   \n",
       "25%                                   -500.194668   \n",
       "50%                                   -499.990535   \n",
       "75%                                   -499.719913   \n",
       "max                                   -137.740004   \n",
       "\n",
       "       secondary_cleaner.state.floatbank6_a_air  \\\n",
       "count                               5290.000000   \n",
       "mean                                  17.304935   \n",
       "std                                    4.536544   \n",
       "min                                   -0.079426   \n",
       "25%                                   13.997317   \n",
       "50%                                   16.014935   \n",
       "75%                                   21.020013   \n",
       "max                                   26.705889   \n",
       "\n",
       "       secondary_cleaner.state.floatbank6_a_level  \n",
       "count                                 5290.000000  \n",
       "mean                                  -501.793193  \n",
       "std                                     39.044215  \n",
       "min                                   -809.741464  \n",
       "25%                                   -500.690984  \n",
       "50%                                   -500.007126  \n",
       "75%                                   -499.373018  \n",
       "max                                   -123.307487  "
      ]
     },
     "execution_count": 4,
     "metadata": {},
     "output_type": "execute_result"
    }
   ],
   "source": [
    "data_test.describe()"
   ]
  },
  {
   "cell_type": "code",
   "execution_count": 5,
   "metadata": {},
   "outputs": [
    {
     "name": "stdout",
     "output_type": "stream",
     "text": [
      "<class 'pandas.core.frame.DataFrame'>\n",
      "RangeIndex: 14149 entries, 0 to 14148\n",
      "Data columns (total 87 columns):\n",
      "date                                                  14149 non-null object\n",
      "final.output.concentrate_ag                           14148 non-null float64\n",
      "final.output.concentrate_pb                           14148 non-null float64\n",
      "final.output.concentrate_sol                          13938 non-null float64\n",
      "final.output.concentrate_au                           14149 non-null float64\n",
      "final.output.recovery                                 14149 non-null float64\n",
      "final.output.tail_ag                                  14149 non-null float64\n",
      "final.output.tail_pb                                  14049 non-null float64\n",
      "final.output.tail_sol                                 14144 non-null float64\n",
      "final.output.tail_au                                  14149 non-null float64\n",
      "primary_cleaner.input.sulfate                         14129 non-null float64\n",
      "primary_cleaner.input.depressant                      14117 non-null float64\n",
      "primary_cleaner.input.feed_size                       14149 non-null float64\n",
      "primary_cleaner.input.xanthate                        14049 non-null float64\n",
      "primary_cleaner.output.concentrate_ag                 14149 non-null float64\n",
      "primary_cleaner.output.concentrate_pb                 14063 non-null float64\n",
      "primary_cleaner.output.concentrate_sol                13863 non-null float64\n",
      "primary_cleaner.output.concentrate_au                 14149 non-null float64\n",
      "primary_cleaner.output.tail_ag                        14148 non-null float64\n",
      "primary_cleaner.output.tail_pb                        14134 non-null float64\n",
      "primary_cleaner.output.tail_sol                       14103 non-null float64\n",
      "primary_cleaner.output.tail_au                        14149 non-null float64\n",
      "primary_cleaner.state.floatbank8_a_air                14145 non-null float64\n",
      "primary_cleaner.state.floatbank8_a_level              14148 non-null float64\n",
      "primary_cleaner.state.floatbank8_b_air                14145 non-null float64\n",
      "primary_cleaner.state.floatbank8_b_level              14148 non-null float64\n",
      "primary_cleaner.state.floatbank8_c_air                14147 non-null float64\n",
      "primary_cleaner.state.floatbank8_c_level              14148 non-null float64\n",
      "primary_cleaner.state.floatbank8_d_air                14146 non-null float64\n",
      "primary_cleaner.state.floatbank8_d_level              14148 non-null float64\n",
      "rougher.calculation.sulfate_to_au_concentrate         14148 non-null float64\n",
      "rougher.calculation.floatbank10_sulfate_to_au_feed    14148 non-null float64\n",
      "rougher.calculation.floatbank11_sulfate_to_au_feed    14148 non-null float64\n",
      "rougher.calculation.au_pb_ratio                       14149 non-null float64\n",
      "rougher.input.feed_ag                                 14149 non-null float64\n",
      "rougher.input.feed_pb                                 14049 non-null float64\n",
      "rougher.input.feed_rate                               14141 non-null float64\n",
      "rougher.input.feed_size                               14005 non-null float64\n",
      "rougher.input.feed_sol                                14071 non-null float64\n",
      "rougher.input.feed_au                                 14149 non-null float64\n",
      "rougher.input.floatbank10_sulfate                     14120 non-null float64\n",
      "rougher.input.floatbank10_xanthate                    14141 non-null float64\n",
      "rougher.input.floatbank11_sulfate                     14113 non-null float64\n",
      "rougher.input.floatbank11_xanthate                    13721 non-null float64\n",
      "rougher.output.concentrate_ag                         14149 non-null float64\n",
      "rougher.output.concentrate_pb                         14149 non-null float64\n",
      "rougher.output.concentrate_sol                        14127 non-null float64\n",
      "rougher.output.concentrate_au                         14149 non-null float64\n",
      "rougher.output.recovery                               14149 non-null float64\n",
      "rougher.output.tail_ag                                14148 non-null float64\n",
      "rougher.output.tail_pb                                14149 non-null float64\n",
      "rougher.output.tail_sol                               14149 non-null float64\n",
      "rougher.output.tail_au                                14149 non-null float64\n",
      "rougher.state.floatbank10_a_air                       14148 non-null float64\n",
      "rougher.state.floatbank10_a_level                     14148 non-null float64\n",
      "rougher.state.floatbank10_b_air                       14148 non-null float64\n",
      "rougher.state.floatbank10_b_level                     14148 non-null float64\n",
      "rougher.state.floatbank10_c_air                       14148 non-null float64\n",
      "rougher.state.floatbank10_c_level                     14148 non-null float64\n",
      "rougher.state.floatbank10_d_air                       14149 non-null float64\n",
      "rougher.state.floatbank10_d_level                     14149 non-null float64\n",
      "rougher.state.floatbank10_e_air                       13713 non-null float64\n",
      "rougher.state.floatbank10_e_level                     14149 non-null float64\n",
      "rougher.state.floatbank10_f_air                       14149 non-null float64\n",
      "rougher.state.floatbank10_f_level                     14149 non-null float64\n",
      "secondary_cleaner.output.tail_ag                      14147 non-null float64\n",
      "secondary_cleaner.output.tail_pb                      14139 non-null float64\n",
      "secondary_cleaner.output.tail_sol                     12544 non-null float64\n",
      "secondary_cleaner.output.tail_au                      14149 non-null float64\n",
      "secondary_cleaner.state.floatbank2_a_air              13932 non-null float64\n",
      "secondary_cleaner.state.floatbank2_a_level            14148 non-null float64\n",
      "secondary_cleaner.state.floatbank2_b_air              14128 non-null float64\n",
      "secondary_cleaner.state.floatbank2_b_level            14148 non-null float64\n",
      "secondary_cleaner.state.floatbank3_a_air              14145 non-null float64\n",
      "secondary_cleaner.state.floatbank3_a_level            14148 non-null float64\n",
      "secondary_cleaner.state.floatbank3_b_air              14148 non-null float64\n",
      "secondary_cleaner.state.floatbank3_b_level            14148 non-null float64\n",
      "secondary_cleaner.state.floatbank4_a_air              14143 non-null float64\n",
      "secondary_cleaner.state.floatbank4_a_level            14148 non-null float64\n",
      "secondary_cleaner.state.floatbank4_b_air              14148 non-null float64\n",
      "secondary_cleaner.state.floatbank4_b_level            14148 non-null float64\n",
      "secondary_cleaner.state.floatbank5_a_air              14148 non-null float64\n",
      "secondary_cleaner.state.floatbank5_a_level            14148 non-null float64\n",
      "secondary_cleaner.state.floatbank5_b_air              14148 non-null float64\n",
      "secondary_cleaner.state.floatbank5_b_level            14148 non-null float64\n",
      "secondary_cleaner.state.floatbank6_a_air              14147 non-null float64\n",
      "secondary_cleaner.state.floatbank6_a_level            14148 non-null float64\n",
      "dtypes: float64(86), object(1)\n",
      "memory usage: 9.4+ MB\n"
     ]
    }
   ],
   "source": [
    "data_train.info()"
   ]
  },
  {
   "cell_type": "code",
   "execution_count": 6,
   "metadata": {
    "scrolled": false
   },
   "outputs": [
    {
     "name": "stdout",
     "output_type": "stream",
     "text": [
      "<class 'pandas.core.frame.DataFrame'>\n",
      "RangeIndex: 5290 entries, 0 to 5289\n",
      "Data columns (total 53 columns):\n",
      "date                                          5290 non-null object\n",
      "primary_cleaner.input.sulfate                 5286 non-null float64\n",
      "primary_cleaner.input.depressant              5285 non-null float64\n",
      "primary_cleaner.input.feed_size               5290 non-null float64\n",
      "primary_cleaner.input.xanthate                5286 non-null float64\n",
      "primary_cleaner.state.floatbank8_a_air        5290 non-null float64\n",
      "primary_cleaner.state.floatbank8_a_level      5290 non-null float64\n",
      "primary_cleaner.state.floatbank8_b_air        5290 non-null float64\n",
      "primary_cleaner.state.floatbank8_b_level      5290 non-null float64\n",
      "primary_cleaner.state.floatbank8_c_air        5290 non-null float64\n",
      "primary_cleaner.state.floatbank8_c_level      5290 non-null float64\n",
      "primary_cleaner.state.floatbank8_d_air        5290 non-null float64\n",
      "primary_cleaner.state.floatbank8_d_level      5290 non-null float64\n",
      "rougher.input.feed_ag                         5290 non-null float64\n",
      "rougher.input.feed_pb                         5290 non-null float64\n",
      "rougher.input.feed_rate                       5287 non-null float64\n",
      "rougher.input.feed_size                       5289 non-null float64\n",
      "rougher.input.feed_sol                        5269 non-null float64\n",
      "rougher.input.feed_au                         5290 non-null float64\n",
      "rougher.input.floatbank10_sulfate             5285 non-null float64\n",
      "rougher.input.floatbank10_xanthate            5290 non-null float64\n",
      "rougher.input.floatbank11_sulfate             5282 non-null float64\n",
      "rougher.input.floatbank11_xanthate            5265 non-null float64\n",
      "rougher.state.floatbank10_a_air               5290 non-null float64\n",
      "rougher.state.floatbank10_a_level             5290 non-null float64\n",
      "rougher.state.floatbank10_b_air               5290 non-null float64\n",
      "rougher.state.floatbank10_b_level             5290 non-null float64\n",
      "rougher.state.floatbank10_c_air               5290 non-null float64\n",
      "rougher.state.floatbank10_c_level             5290 non-null float64\n",
      "rougher.state.floatbank10_d_air               5290 non-null float64\n",
      "rougher.state.floatbank10_d_level             5290 non-null float64\n",
      "rougher.state.floatbank10_e_air               5290 non-null float64\n",
      "rougher.state.floatbank10_e_level             5290 non-null float64\n",
      "rougher.state.floatbank10_f_air               5290 non-null float64\n",
      "rougher.state.floatbank10_f_level             5290 non-null float64\n",
      "secondary_cleaner.state.floatbank2_a_air      5287 non-null float64\n",
      "secondary_cleaner.state.floatbank2_a_level    5290 non-null float64\n",
      "secondary_cleaner.state.floatbank2_b_air      5288 non-null float64\n",
      "secondary_cleaner.state.floatbank2_b_level    5290 non-null float64\n",
      "secondary_cleaner.state.floatbank3_a_air      5281 non-null float64\n",
      "secondary_cleaner.state.floatbank3_a_level    5290 non-null float64\n",
      "secondary_cleaner.state.floatbank3_b_air      5290 non-null float64\n",
      "secondary_cleaner.state.floatbank3_b_level    5290 non-null float64\n",
      "secondary_cleaner.state.floatbank4_a_air      5290 non-null float64\n",
      "secondary_cleaner.state.floatbank4_a_level    5290 non-null float64\n",
      "secondary_cleaner.state.floatbank4_b_air      5290 non-null float64\n",
      "secondary_cleaner.state.floatbank4_b_level    5290 non-null float64\n",
      "secondary_cleaner.state.floatbank5_a_air      5290 non-null float64\n",
      "secondary_cleaner.state.floatbank5_a_level    5290 non-null float64\n",
      "secondary_cleaner.state.floatbank5_b_air      5290 non-null float64\n",
      "secondary_cleaner.state.floatbank5_b_level    5290 non-null float64\n",
      "secondary_cleaner.state.floatbank6_a_air      5290 non-null float64\n",
      "secondary_cleaner.state.floatbank6_a_level    5290 non-null float64\n",
      "dtypes: float64(52), object(1)\n",
      "memory usage: 2.1+ MB\n"
     ]
    }
   ],
   "source": [
    "data_test.info()"
   ]
  },
  {
   "cell_type": "code",
   "execution_count": 7,
   "metadata": {},
   "outputs": [
    {
     "name": "stdout",
     "output_type": "stream",
     "text": [
      "<class 'pandas.core.frame.DataFrame'>\n",
      "RangeIndex: 19439 entries, 0 to 19438\n",
      "Data columns (total 87 columns):\n",
      "date                                                  19439 non-null object\n",
      "final.output.concentrate_ag                           19438 non-null float64\n",
      "final.output.concentrate_pb                           19438 non-null float64\n",
      "final.output.concentrate_sol                          19228 non-null float64\n",
      "final.output.concentrate_au                           19439 non-null float64\n",
      "final.output.recovery                                 19439 non-null float64\n",
      "final.output.tail_ag                                  19438 non-null float64\n",
      "final.output.tail_pb                                  19338 non-null float64\n",
      "final.output.tail_sol                                 19433 non-null float64\n",
      "final.output.tail_au                                  19439 non-null float64\n",
      "primary_cleaner.input.sulfate                         19415 non-null float64\n",
      "primary_cleaner.input.depressant                      19402 non-null float64\n",
      "primary_cleaner.input.feed_size                       19439 non-null float64\n",
      "primary_cleaner.input.xanthate                        19335 non-null float64\n",
      "primary_cleaner.output.concentrate_ag                 19439 non-null float64\n",
      "primary_cleaner.output.concentrate_pb                 19323 non-null float64\n",
      "primary_cleaner.output.concentrate_sol                19069 non-null float64\n",
      "primary_cleaner.output.concentrate_au                 19439 non-null float64\n",
      "primary_cleaner.output.tail_ag                        19435 non-null float64\n",
      "primary_cleaner.output.tail_pb                        19418 non-null float64\n",
      "primary_cleaner.output.tail_sol                       19377 non-null float64\n",
      "primary_cleaner.output.tail_au                        19439 non-null float64\n",
      "primary_cleaner.state.floatbank8_a_air                19435 non-null float64\n",
      "primary_cleaner.state.floatbank8_a_level              19438 non-null float64\n",
      "primary_cleaner.state.floatbank8_b_air                19435 non-null float64\n",
      "primary_cleaner.state.floatbank8_b_level              19438 non-null float64\n",
      "primary_cleaner.state.floatbank8_c_air                19437 non-null float64\n",
      "primary_cleaner.state.floatbank8_c_level              19438 non-null float64\n",
      "primary_cleaner.state.floatbank8_d_air                19436 non-null float64\n",
      "primary_cleaner.state.floatbank8_d_level              19438 non-null float64\n",
      "rougher.calculation.sulfate_to_au_concentrate         19437 non-null float64\n",
      "rougher.calculation.floatbank10_sulfate_to_au_feed    19437 non-null float64\n",
      "rougher.calculation.floatbank11_sulfate_to_au_feed    19437 non-null float64\n",
      "rougher.calculation.au_pb_ratio                       19439 non-null float64\n",
      "rougher.input.feed_ag                                 19439 non-null float64\n",
      "rougher.input.feed_pb                                 19339 non-null float64\n",
      "rougher.input.feed_rate                               19428 non-null float64\n",
      "rougher.input.feed_size                               19294 non-null float64\n",
      "rougher.input.feed_sol                                19340 non-null float64\n",
      "rougher.input.feed_au                                 19439 non-null float64\n",
      "rougher.input.floatbank10_sulfate                     19405 non-null float64\n",
      "rougher.input.floatbank10_xanthate                    19431 non-null float64\n",
      "rougher.input.floatbank11_sulfate                     19395 non-null float64\n",
      "rougher.input.floatbank11_xanthate                    18986 non-null float64\n",
      "rougher.output.concentrate_ag                         19439 non-null float64\n",
      "rougher.output.concentrate_pb                         19439 non-null float64\n",
      "rougher.output.concentrate_sol                        19416 non-null float64\n",
      "rougher.output.concentrate_au                         19439 non-null float64\n",
      "rougher.output.recovery                               19439 non-null float64\n",
      "rougher.output.tail_ag                                19438 non-null float64\n",
      "rougher.output.tail_pb                                19439 non-null float64\n",
      "rougher.output.tail_sol                               19439 non-null float64\n",
      "rougher.output.tail_au                                19439 non-null float64\n",
      "rougher.state.floatbank10_a_air                       19438 non-null float64\n",
      "rougher.state.floatbank10_a_level                     19438 non-null float64\n",
      "rougher.state.floatbank10_b_air                       19438 non-null float64\n",
      "rougher.state.floatbank10_b_level                     19438 non-null float64\n",
      "rougher.state.floatbank10_c_air                       19438 non-null float64\n",
      "rougher.state.floatbank10_c_level                     19438 non-null float64\n",
      "rougher.state.floatbank10_d_air                       19439 non-null float64\n",
      "rougher.state.floatbank10_d_level                     19439 non-null float64\n",
      "rougher.state.floatbank10_e_air                       19003 non-null float64\n",
      "rougher.state.floatbank10_e_level                     19439 non-null float64\n",
      "rougher.state.floatbank10_f_air                       19439 non-null float64\n",
      "rougher.state.floatbank10_f_level                     19439 non-null float64\n",
      "secondary_cleaner.output.tail_ag                      19437 non-null float64\n",
      "secondary_cleaner.output.tail_pb                      19427 non-null float64\n",
      "secondary_cleaner.output.tail_sol                     17691 non-null float64\n",
      "secondary_cleaner.output.tail_au                      19439 non-null float64\n",
      "secondary_cleaner.state.floatbank2_a_air              19219 non-null float64\n",
      "secondary_cleaner.state.floatbank2_a_level            19438 non-null float64\n",
      "secondary_cleaner.state.floatbank2_b_air              19416 non-null float64\n",
      "secondary_cleaner.state.floatbank2_b_level            19438 non-null float64\n",
      "secondary_cleaner.state.floatbank3_a_air              19426 non-null float64\n",
      "secondary_cleaner.state.floatbank3_a_level            19438 non-null float64\n",
      "secondary_cleaner.state.floatbank3_b_air              19438 non-null float64\n",
      "secondary_cleaner.state.floatbank3_b_level            19438 non-null float64\n",
      "secondary_cleaner.state.floatbank4_a_air              19433 non-null float64\n",
      "secondary_cleaner.state.floatbank4_a_level            19438 non-null float64\n",
      "secondary_cleaner.state.floatbank4_b_air              19438 non-null float64\n",
      "secondary_cleaner.state.floatbank4_b_level            19438 non-null float64\n",
      "secondary_cleaner.state.floatbank5_a_air              19438 non-null float64\n",
      "secondary_cleaner.state.floatbank5_a_level            19438 non-null float64\n",
      "secondary_cleaner.state.floatbank5_b_air              19438 non-null float64\n",
      "secondary_cleaner.state.floatbank5_b_level            19438 non-null float64\n",
      "secondary_cleaner.state.floatbank6_a_air              19437 non-null float64\n",
      "secondary_cleaner.state.floatbank6_a_level            19438 non-null float64\n",
      "dtypes: float64(86), object(1)\n",
      "memory usage: 12.9+ MB\n"
     ]
    }
   ],
   "source": [
    "data_full.info()"
   ]
  },
  {
   "cell_type": "code",
   "execution_count": 8,
   "metadata": {
    "scrolled": true
   },
   "outputs": [
    {
     "name": "stdout",
     "output_type": "stream",
     "text": [
      "0\n"
     ]
    }
   ],
   "source": [
    "data_train_new = data_train.copy()\n",
    "C = data_train_new['rougher.output.concentrate_au']\n",
    "F = data_train_new['rougher.input.feed_au']\n",
    "T = data_train_new['rougher.output.tail_au'] \n",
    "\n",
    "data_train_new['rougher.output.recovery.calcul'] = (C * (F - T)) / (F * (C - T)) * 100\n",
    "MAE = mean_absolute_error(data_train_new['rougher.output.recovery'],\n",
    "                      data_train_new['rougher.output.recovery.calcul'])\n",
    "print(int(MAE))\n"
   ]
  },
  {
   "cell_type": "markdown",
   "metadata": {},
   "source": [
    "### Вывод\n",
    "Расчетная эфективность обогащения соответсвует исходным данным. Средняя абсолбтная ошибка отсутствует (есть небольшая погрешность, но это из-за округления)"
   ]
  },
  {
   "cell_type": "code",
   "execution_count": 9,
   "metadata": {
    "scrolled": false
   },
   "outputs": [
    {
     "name": "stdout",
     "output_type": "stream",
     "text": [
      "0                           final.output.concentrate_ag\n",
      "1                           final.output.concentrate_pb\n",
      "2                          final.output.concentrate_sol\n",
      "3                           final.output.concentrate_au\n",
      "4                                 final.output.recovery\n",
      "5                                  final.output.tail_ag\n",
      "6                                  final.output.tail_pb\n",
      "7                                 final.output.tail_sol\n",
      "8                                  final.output.tail_au\n",
      "9                 primary_cleaner.output.concentrate_ag\n",
      "10                primary_cleaner.output.concentrate_pb\n",
      "11               primary_cleaner.output.concentrate_sol\n",
      "12                primary_cleaner.output.concentrate_au\n",
      "13                       primary_cleaner.output.tail_ag\n",
      "14                       primary_cleaner.output.tail_pb\n",
      "15                      primary_cleaner.output.tail_sol\n",
      "16                       primary_cleaner.output.tail_au\n",
      "17        rougher.calculation.sulfate_to_au_concentrate\n",
      "18    rougher.calculation.floatbank10_sulfate_to_au_...\n",
      "19    rougher.calculation.floatbank11_sulfate_to_au_...\n",
      "20                      rougher.calculation.au_pb_ratio\n",
      "21                        rougher.output.concentrate_ag\n",
      "22                        rougher.output.concentrate_pb\n",
      "23                       rougher.output.concentrate_sol\n",
      "24                        rougher.output.concentrate_au\n",
      "25                              rougher.output.recovery\n",
      "26                               rougher.output.tail_ag\n",
      "27                               rougher.output.tail_pb\n",
      "28                              rougher.output.tail_sol\n",
      "29                               rougher.output.tail_au\n",
      "30                     secondary_cleaner.output.tail_ag\n",
      "31                     secondary_cleaner.output.tail_pb\n",
      "32                    secondary_cleaner.output.tail_sol\n",
      "33                     secondary_cleaner.output.tail_au\n",
      "dtype: object\n"
     ]
    }
   ],
   "source": [
    "j = []\n",
    "for col in data_train.columns:\n",
    "    if col not in data_test.columns:\n",
    "        j.append(col)\n",
    "column = pd.Series(j)\n",
    "print(column) "
   ]
  },
  {
   "cell_type": "markdown",
   "metadata": {},
   "source": [
    "### Вывод\n",
    "В тестовой выборке нет 34 колонок. Это информация по продукту который получается на выходе после каждой стадии очистки, относится к онлайн метрикам\n",
    "\n",
    "Тогда у меня возникает вопрос, почему не включена колонка primary_cleaner.input.feed_size, \n",
    "так как после Флотации мы не должны знать какого размера сырье отправляется на первую стадию очистки"
   ]
  },
  {
   "cell_type": "code",
   "execution_count": 10,
   "metadata": {
    "scrolled": false
   },
   "outputs": [
    {
     "data": {
      "text/html": [
       "<div>\n",
       "<style scoped>\n",
       "    .dataframe tbody tr th:only-of-type {\n",
       "        vertical-align: middle;\n",
       "    }\n",
       "\n",
       "    .dataframe tbody tr th {\n",
       "        vertical-align: top;\n",
       "    }\n",
       "\n",
       "    .dataframe thead th {\n",
       "        text-align: right;\n",
       "    }\n",
       "</style>\n",
       "<table border=\"1\" class=\"dataframe\">\n",
       "  <thead>\n",
       "    <tr style=\"text-align: right;\">\n",
       "      <th></th>\n",
       "      <th>date</th>\n",
       "      <th>final_output_concentrate_ag</th>\n",
       "      <th>final_output_concentrate_pb</th>\n",
       "      <th>final_output_concentrate_sol</th>\n",
       "      <th>final_output_concentrate_au</th>\n",
       "      <th>final_output_recovery</th>\n",
       "      <th>final_output_tail_ag</th>\n",
       "      <th>final_output_tail_pb</th>\n",
       "      <th>final_output_tail_sol</th>\n",
       "      <th>final_output_tail_au</th>\n",
       "      <th>primary_cleaner_input_sulfate</th>\n",
       "      <th>primary_cleaner_input_depressant</th>\n",
       "      <th>primary_cleaner_input_feed_size</th>\n",
       "      <th>primary_cleaner_input_xanthate</th>\n",
       "      <th>primary_cleaner_output_concentrate_ag</th>\n",
       "      <th>primary_cleaner_output_concentrate_pb</th>\n",
       "      <th>primary_cleaner_output_concentrate_sol</th>\n",
       "      <th>primary_cleaner_output_concentrate_au</th>\n",
       "      <th>primary_cleaner_output_tail_ag</th>\n",
       "      <th>primary_cleaner_output_tail_pb</th>\n",
       "      <th>primary_cleaner_output_tail_sol</th>\n",
       "      <th>primary_cleaner_output_tail_au</th>\n",
       "      <th>primary_cleaner_state_floatbank8_a_air</th>\n",
       "      <th>primary_cleaner_state_floatbank8_a_level</th>\n",
       "      <th>primary_cleaner_state_floatbank8_b_air</th>\n",
       "      <th>primary_cleaner_state_floatbank8_b_level</th>\n",
       "      <th>primary_cleaner_state_floatbank8_c_air</th>\n",
       "      <th>primary_cleaner_state_floatbank8_c_level</th>\n",
       "      <th>primary_cleaner_state_floatbank8_d_air</th>\n",
       "      <th>primary_cleaner_state_floatbank8_d_level</th>\n",
       "      <th>rougher_calculation_sulfate_to_au_concentrate</th>\n",
       "      <th>rougher_calculation_floatbank10_sulfate_to_au_feed</th>\n",
       "      <th>rougher_calculation_floatbank11_sulfate_to_au_feed</th>\n",
       "      <th>rougher_calculation_au_pb_ratio</th>\n",
       "      <th>rougher_input_feed_ag</th>\n",
       "      <th>rougher_input_feed_pb</th>\n",
       "      <th>rougher_input_feed_rate</th>\n",
       "      <th>rougher_input_feed_size</th>\n",
       "      <th>rougher_input_feed_sol</th>\n",
       "      <th>rougher_input_feed_au</th>\n",
       "      <th>rougher_input_floatbank10_sulfate</th>\n",
       "      <th>rougher_input_floatbank10_xanthate</th>\n",
       "      <th>rougher_input_floatbank11_sulfate</th>\n",
       "      <th>rougher_input_floatbank11_xanthate</th>\n",
       "      <th>rougher_output_concentrate_ag</th>\n",
       "      <th>rougher_output_concentrate_pb</th>\n",
       "      <th>rougher_output_concentrate_sol</th>\n",
       "      <th>rougher_output_concentrate_au</th>\n",
       "      <th>rougher_output_recovery</th>\n",
       "      <th>rougher_output_tail_ag</th>\n",
       "      <th>rougher_output_tail_pb</th>\n",
       "      <th>rougher_output_tail_sol</th>\n",
       "      <th>rougher_output_tail_au</th>\n",
       "      <th>rougher_state_floatbank10_a_air</th>\n",
       "      <th>rougher_state_floatbank10_a_level</th>\n",
       "      <th>rougher_state_floatbank10_b_air</th>\n",
       "      <th>rougher_state_floatbank10_b_level</th>\n",
       "      <th>rougher_state_floatbank10_c_air</th>\n",
       "      <th>rougher_state_floatbank10_c_level</th>\n",
       "      <th>rougher_state_floatbank10_d_air</th>\n",
       "      <th>rougher_state_floatbank10_d_level</th>\n",
       "      <th>rougher_state_floatbank10_e_air</th>\n",
       "      <th>rougher_state_floatbank10_e_level</th>\n",
       "      <th>rougher_state_floatbank10_f_air</th>\n",
       "      <th>rougher_state_floatbank10_f_level</th>\n",
       "      <th>secondary_cleaner_output_tail_ag</th>\n",
       "      <th>secondary_cleaner_output_tail_pb</th>\n",
       "      <th>secondary_cleaner_output_tail_sol</th>\n",
       "      <th>secondary_cleaner_output_tail_au</th>\n",
       "      <th>secondary_cleaner_state_floatbank2_a_air</th>\n",
       "      <th>secondary_cleaner_state_floatbank2_a_level</th>\n",
       "      <th>secondary_cleaner_state_floatbank2_b_air</th>\n",
       "      <th>secondary_cleaner_state_floatbank2_b_level</th>\n",
       "      <th>secondary_cleaner_state_floatbank3_a_air</th>\n",
       "      <th>secondary_cleaner_state_floatbank3_a_level</th>\n",
       "      <th>secondary_cleaner_state_floatbank3_b_air</th>\n",
       "      <th>secondary_cleaner_state_floatbank3_b_level</th>\n",
       "      <th>secondary_cleaner_state_floatbank4_a_air</th>\n",
       "      <th>secondary_cleaner_state_floatbank4_a_level</th>\n",
       "      <th>secondary_cleaner_state_floatbank4_b_air</th>\n",
       "      <th>secondary_cleaner_state_floatbank4_b_level</th>\n",
       "      <th>secondary_cleaner_state_floatbank5_a_air</th>\n",
       "      <th>secondary_cleaner_state_floatbank5_a_level</th>\n",
       "      <th>secondary_cleaner_state_floatbank5_b_air</th>\n",
       "      <th>secondary_cleaner_state_floatbank5_b_level</th>\n",
       "      <th>secondary_cleaner_state_floatbank6_a_air</th>\n",
       "      <th>secondary_cleaner_state_floatbank6_a_level</th>\n",
       "    </tr>\n",
       "  </thead>\n",
       "  <tbody>\n",
       "    <tr>\n",
       "      <td>0</td>\n",
       "      <td>2016-01-15 00:00:00</td>\n",
       "      <td>6.055403</td>\n",
       "      <td>9.889648</td>\n",
       "      <td>5.507324</td>\n",
       "      <td>42.19202</td>\n",
       "      <td>70.541216</td>\n",
       "      <td>10.411962</td>\n",
       "      <td>0.895447</td>\n",
       "      <td>16.904297</td>\n",
       "      <td>2.143149</td>\n",
       "      <td>127.092003</td>\n",
       "      <td>10.128295</td>\n",
       "      <td>7.25</td>\n",
       "      <td>0.988759</td>\n",
       "      <td>8.547551</td>\n",
       "      <td>10.389648</td>\n",
       "      <td>19.529297</td>\n",
       "      <td>34.174427</td>\n",
       "      <td>14.936526</td>\n",
       "      <td>2.534912</td>\n",
       "      <td>7.476074</td>\n",
       "      <td>2.106679</td>\n",
       "      <td>1549.775757</td>\n",
       "      <td>-498.91214</td>\n",
       "      <td>1551.434204</td>\n",
       "      <td>-516.403442</td>\n",
       "      <td>1549.873901</td>\n",
       "      <td>-498.666595</td>\n",
       "      <td>1554.367432</td>\n",
       "      <td>-493.428131</td>\n",
       "      <td>41885.707031</td>\n",
       "      <td>3481.779053</td>\n",
       "      <td>3520.337158</td>\n",
       "      <td>2.838687</td>\n",
       "      <td>6.100378</td>\n",
       "      <td>2.284912</td>\n",
       "      <td>523.546326</td>\n",
       "      <td>55.486599</td>\n",
       "      <td>36.808594</td>\n",
       "      <td>6.48615</td>\n",
       "      <td>11.986616</td>\n",
       "      <td>6.00799</td>\n",
       "      <td>11.836743</td>\n",
       "      <td>6.005818</td>\n",
       "      <td>11.500771</td>\n",
       "      <td>7.101074</td>\n",
       "      <td>28.029297</td>\n",
       "      <td>19.793808</td>\n",
       "      <td>87.107763</td>\n",
       "      <td>5.008018</td>\n",
       "      <td>0.508728</td>\n",
       "      <td>19.154297</td>\n",
       "      <td>1.170244</td>\n",
       "      <td>999.706909</td>\n",
       "      <td>-404.066986</td>\n",
       "      <td>1603.011353</td>\n",
       "      <td>-434.715027</td>\n",
       "      <td>1602.375</td>\n",
       "      <td>-442.204468</td>\n",
       "      <td>1598.937256</td>\n",
       "      <td>-451.294128</td>\n",
       "      <td>1404.472046</td>\n",
       "      <td>-455.462982</td>\n",
       "      <td>1416.35498</td>\n",
       "      <td>-451.939636</td>\n",
       "      <td>14.500184</td>\n",
       "      <td>4.694824</td>\n",
       "      <td>8.764648</td>\n",
       "      <td>2.606185</td>\n",
       "      <td>25.853109</td>\n",
       "      <td>-498.526489</td>\n",
       "      <td>23.89366</td>\n",
       "      <td>-501.406281</td>\n",
       "      <td>23.961798</td>\n",
       "      <td>-495.262817</td>\n",
       "      <td>21.940409</td>\n",
       "      <td>-499.340973</td>\n",
       "      <td>14.016835</td>\n",
       "      <td>-502.488007</td>\n",
       "      <td>12.099931</td>\n",
       "      <td>-504.715942</td>\n",
       "      <td>9.925633</td>\n",
       "      <td>-498.310211</td>\n",
       "      <td>8.079666</td>\n",
       "      <td>-500.470978</td>\n",
       "      <td>14.151341</td>\n",
       "      <td>-605.84198</td>\n",
       "    </tr>\n",
       "  </tbody>\n",
       "</table>\n",
       "</div>"
      ],
      "text/plain": [
       "                  date  final_output_concentrate_ag  \\\n",
       "0  2016-01-15 00:00:00                     6.055403   \n",
       "\n",
       "   final_output_concentrate_pb  final_output_concentrate_sol  \\\n",
       "0                     9.889648                      5.507324   \n",
       "\n",
       "   final_output_concentrate_au  final_output_recovery  final_output_tail_ag  \\\n",
       "0                     42.19202              70.541216             10.411962   \n",
       "\n",
       "   final_output_tail_pb  final_output_tail_sol  final_output_tail_au  \\\n",
       "0              0.895447              16.904297              2.143149   \n",
       "\n",
       "   primary_cleaner_input_sulfate  primary_cleaner_input_depressant  \\\n",
       "0                     127.092003                         10.128295   \n",
       "\n",
       "   primary_cleaner_input_feed_size  primary_cleaner_input_xanthate  \\\n",
       "0                             7.25                        0.988759   \n",
       "\n",
       "   primary_cleaner_output_concentrate_ag  \\\n",
       "0                               8.547551   \n",
       "\n",
       "   primary_cleaner_output_concentrate_pb  \\\n",
       "0                              10.389648   \n",
       "\n",
       "   primary_cleaner_output_concentrate_sol  \\\n",
       "0                               19.529297   \n",
       "\n",
       "   primary_cleaner_output_concentrate_au  primary_cleaner_output_tail_ag  \\\n",
       "0                              34.174427                       14.936526   \n",
       "\n",
       "   primary_cleaner_output_tail_pb  primary_cleaner_output_tail_sol  \\\n",
       "0                        2.534912                         7.476074   \n",
       "\n",
       "   primary_cleaner_output_tail_au  primary_cleaner_state_floatbank8_a_air  \\\n",
       "0                        2.106679                             1549.775757   \n",
       "\n",
       "   primary_cleaner_state_floatbank8_a_level  \\\n",
       "0                                -498.91214   \n",
       "\n",
       "   primary_cleaner_state_floatbank8_b_air  \\\n",
       "0                             1551.434204   \n",
       "\n",
       "   primary_cleaner_state_floatbank8_b_level  \\\n",
       "0                               -516.403442   \n",
       "\n",
       "   primary_cleaner_state_floatbank8_c_air  \\\n",
       "0                             1549.873901   \n",
       "\n",
       "   primary_cleaner_state_floatbank8_c_level  \\\n",
       "0                               -498.666595   \n",
       "\n",
       "   primary_cleaner_state_floatbank8_d_air  \\\n",
       "0                             1554.367432   \n",
       "\n",
       "   primary_cleaner_state_floatbank8_d_level  \\\n",
       "0                               -493.428131   \n",
       "\n",
       "   rougher_calculation_sulfate_to_au_concentrate  \\\n",
       "0                                   41885.707031   \n",
       "\n",
       "   rougher_calculation_floatbank10_sulfate_to_au_feed  \\\n",
       "0                                        3481.779053    \n",
       "\n",
       "   rougher_calculation_floatbank11_sulfate_to_au_feed  \\\n",
       "0                                        3520.337158    \n",
       "\n",
       "   rougher_calculation_au_pb_ratio  rougher_input_feed_ag  \\\n",
       "0                         2.838687               6.100378   \n",
       "\n",
       "   rougher_input_feed_pb  rougher_input_feed_rate  rougher_input_feed_size  \\\n",
       "0               2.284912               523.546326                55.486599   \n",
       "\n",
       "   rougher_input_feed_sol  rougher_input_feed_au  \\\n",
       "0               36.808594                6.48615   \n",
       "\n",
       "   rougher_input_floatbank10_sulfate  rougher_input_floatbank10_xanthate  \\\n",
       "0                          11.986616                             6.00799   \n",
       "\n",
       "   rougher_input_floatbank11_sulfate  rougher_input_floatbank11_xanthate  \\\n",
       "0                          11.836743                            6.005818   \n",
       "\n",
       "   rougher_output_concentrate_ag  rougher_output_concentrate_pb  \\\n",
       "0                      11.500771                       7.101074   \n",
       "\n",
       "   rougher_output_concentrate_sol  rougher_output_concentrate_au  \\\n",
       "0                       28.029297                      19.793808   \n",
       "\n",
       "   rougher_output_recovery  rougher_output_tail_ag  rougher_output_tail_pb  \\\n",
       "0                87.107763                5.008018                0.508728   \n",
       "\n",
       "   rougher_output_tail_sol  rougher_output_tail_au  \\\n",
       "0                19.154297                1.170244   \n",
       "\n",
       "   rougher_state_floatbank10_a_air  rougher_state_floatbank10_a_level  \\\n",
       "0                       999.706909                        -404.066986   \n",
       "\n",
       "   rougher_state_floatbank10_b_air  rougher_state_floatbank10_b_level  \\\n",
       "0                      1603.011353                        -434.715027   \n",
       "\n",
       "   rougher_state_floatbank10_c_air  rougher_state_floatbank10_c_level  \\\n",
       "0                         1602.375                        -442.204468   \n",
       "\n",
       "   rougher_state_floatbank10_d_air  rougher_state_floatbank10_d_level  \\\n",
       "0                      1598.937256                        -451.294128   \n",
       "\n",
       "   rougher_state_floatbank10_e_air  rougher_state_floatbank10_e_level  \\\n",
       "0                      1404.472046                        -455.462982   \n",
       "\n",
       "   rougher_state_floatbank10_f_air  rougher_state_floatbank10_f_level  \\\n",
       "0                       1416.35498                        -451.939636   \n",
       "\n",
       "   secondary_cleaner_output_tail_ag  secondary_cleaner_output_tail_pb  \\\n",
       "0                         14.500184                          4.694824   \n",
       "\n",
       "   secondary_cleaner_output_tail_sol  secondary_cleaner_output_tail_au  \\\n",
       "0                           8.764648                          2.606185   \n",
       "\n",
       "   secondary_cleaner_state_floatbank2_a_air  \\\n",
       "0                                 25.853109   \n",
       "\n",
       "   secondary_cleaner_state_floatbank2_a_level  \\\n",
       "0                                 -498.526489   \n",
       "\n",
       "   secondary_cleaner_state_floatbank2_b_air  \\\n",
       "0                                  23.89366   \n",
       "\n",
       "   secondary_cleaner_state_floatbank2_b_level  \\\n",
       "0                                 -501.406281   \n",
       "\n",
       "   secondary_cleaner_state_floatbank3_a_air  \\\n",
       "0                                 23.961798   \n",
       "\n",
       "   secondary_cleaner_state_floatbank3_a_level  \\\n",
       "0                                 -495.262817   \n",
       "\n",
       "   secondary_cleaner_state_floatbank3_b_air  \\\n",
       "0                                 21.940409   \n",
       "\n",
       "   secondary_cleaner_state_floatbank3_b_level  \\\n",
       "0                                 -499.340973   \n",
       "\n",
       "   secondary_cleaner_state_floatbank4_a_air  \\\n",
       "0                                 14.016835   \n",
       "\n",
       "   secondary_cleaner_state_floatbank4_a_level  \\\n",
       "0                                 -502.488007   \n",
       "\n",
       "   secondary_cleaner_state_floatbank4_b_air  \\\n",
       "0                                 12.099931   \n",
       "\n",
       "   secondary_cleaner_state_floatbank4_b_level  \\\n",
       "0                                 -504.715942   \n",
       "\n",
       "   secondary_cleaner_state_floatbank5_a_air  \\\n",
       "0                                  9.925633   \n",
       "\n",
       "   secondary_cleaner_state_floatbank5_a_level  \\\n",
       "0                                 -498.310211   \n",
       "\n",
       "   secondary_cleaner_state_floatbank5_b_air  \\\n",
       "0                                  8.079666   \n",
       "\n",
       "   secondary_cleaner_state_floatbank5_b_level  \\\n",
       "0                                 -500.470978   \n",
       "\n",
       "   secondary_cleaner_state_floatbank6_a_air  \\\n",
       "0                                 14.151341   \n",
       "\n",
       "   secondary_cleaner_state_floatbank6_a_level  \n",
       "0                                  -605.84198  "
      ]
     },
     "metadata": {},
     "output_type": "display_data"
    },
    {
     "data": {
      "text/html": [
       "<div>\n",
       "<style scoped>\n",
       "    .dataframe tbody tr th:only-of-type {\n",
       "        vertical-align: middle;\n",
       "    }\n",
       "\n",
       "    .dataframe tbody tr th {\n",
       "        vertical-align: top;\n",
       "    }\n",
       "\n",
       "    .dataframe thead th {\n",
       "        text-align: right;\n",
       "    }\n",
       "</style>\n",
       "<table border=\"1\" class=\"dataframe\">\n",
       "  <thead>\n",
       "    <tr style=\"text-align: right;\">\n",
       "      <th></th>\n",
       "      <th>date</th>\n",
       "      <th>primary_cleaner_input_sulfate</th>\n",
       "      <th>primary_cleaner_input_depressant</th>\n",
       "      <th>primary_cleaner_input_feed_size</th>\n",
       "      <th>primary_cleaner_input_xanthate</th>\n",
       "      <th>primary_cleaner_state_floatbank8_a_air</th>\n",
       "      <th>primary_cleaner_state_floatbank8_a_level</th>\n",
       "      <th>primary_cleaner_state_floatbank8_b_air</th>\n",
       "      <th>primary_cleaner_state_floatbank8_b_level</th>\n",
       "      <th>primary_cleaner_state_floatbank8_c_air</th>\n",
       "      <th>primary_cleaner_state_floatbank8_c_level</th>\n",
       "      <th>primary_cleaner_state_floatbank8_d_air</th>\n",
       "      <th>primary_cleaner_state_floatbank8_d_level</th>\n",
       "      <th>rougher_input_feed_ag</th>\n",
       "      <th>rougher_input_feed_pb</th>\n",
       "      <th>rougher_input_feed_rate</th>\n",
       "      <th>rougher_input_feed_size</th>\n",
       "      <th>rougher_input_feed_sol</th>\n",
       "      <th>rougher_input_feed_au</th>\n",
       "      <th>rougher_input_floatbank10_sulfate</th>\n",
       "      <th>rougher_input_floatbank10_xanthate</th>\n",
       "      <th>rougher_input_floatbank11_sulfate</th>\n",
       "      <th>rougher_input_floatbank11_xanthate</th>\n",
       "      <th>rougher_state_floatbank10_a_air</th>\n",
       "      <th>rougher_state_floatbank10_a_level</th>\n",
       "      <th>rougher_state_floatbank10_b_air</th>\n",
       "      <th>rougher_state_floatbank10_b_level</th>\n",
       "      <th>rougher_state_floatbank10_c_air</th>\n",
       "      <th>rougher_state_floatbank10_c_level</th>\n",
       "      <th>rougher_state_floatbank10_d_air</th>\n",
       "      <th>rougher_state_floatbank10_d_level</th>\n",
       "      <th>rougher_state_floatbank10_e_air</th>\n",
       "      <th>rougher_state_floatbank10_e_level</th>\n",
       "      <th>rougher_state_floatbank10_f_air</th>\n",
       "      <th>rougher_state_floatbank10_f_level</th>\n",
       "      <th>secondary_cleaner_state_floatbank2_a_air</th>\n",
       "      <th>secondary_cleaner_state_floatbank2_a_level</th>\n",
       "      <th>secondary_cleaner_state_floatbank2_b_air</th>\n",
       "      <th>secondary_cleaner_state_floatbank2_b_level</th>\n",
       "      <th>secondary_cleaner_state_floatbank3_a_air</th>\n",
       "      <th>secondary_cleaner_state_floatbank3_a_level</th>\n",
       "      <th>secondary_cleaner_state_floatbank3_b_air</th>\n",
       "      <th>secondary_cleaner_state_floatbank3_b_level</th>\n",
       "      <th>secondary_cleaner_state_floatbank4_a_air</th>\n",
       "      <th>secondary_cleaner_state_floatbank4_a_level</th>\n",
       "      <th>secondary_cleaner_state_floatbank4_b_air</th>\n",
       "      <th>secondary_cleaner_state_floatbank4_b_level</th>\n",
       "      <th>secondary_cleaner_state_floatbank5_a_air</th>\n",
       "      <th>secondary_cleaner_state_floatbank5_a_level</th>\n",
       "      <th>secondary_cleaner_state_floatbank5_b_air</th>\n",
       "      <th>secondary_cleaner_state_floatbank5_b_level</th>\n",
       "      <th>secondary_cleaner_state_floatbank6_a_air</th>\n",
       "      <th>secondary_cleaner_state_floatbank6_a_level</th>\n",
       "    </tr>\n",
       "  </thead>\n",
       "  <tbody>\n",
       "    <tr>\n",
       "      <td>0</td>\n",
       "      <td>2016-09-01 00:59:59</td>\n",
       "      <td>210.800909</td>\n",
       "      <td>14.993118</td>\n",
       "      <td>8.08</td>\n",
       "      <td>1.005021</td>\n",
       "      <td>1398.981301</td>\n",
       "      <td>-500.225577</td>\n",
       "      <td>1399.144926</td>\n",
       "      <td>-499.919735</td>\n",
       "      <td>1400.102998</td>\n",
       "      <td>-500.704369</td>\n",
       "      <td>1399.001695</td>\n",
       "      <td>-499.485144</td>\n",
       "      <td>13.128569</td>\n",
       "      <td>5.63671</td>\n",
       "      <td>489.793655</td>\n",
       "      <td>62.710452</td>\n",
       "      <td>42.02244</td>\n",
       "      <td>12.084103</td>\n",
       "      <td>16.922877</td>\n",
       "      <td>6.153479</td>\n",
       "      <td>16.867518</td>\n",
       "      <td>6.150709</td>\n",
       "      <td>1001.849317</td>\n",
       "      <td>-350.301265</td>\n",
       "      <td>1249.738612</td>\n",
       "      <td>-399.107531</td>\n",
       "      <td>1249.75052</td>\n",
       "      <td>-399.39673</td>\n",
       "      <td>1198.287855</td>\n",
       "      <td>-399.488594</td>\n",
       "      <td>999.47225</td>\n",
       "      <td>-399.530962</td>\n",
       "      <td>949.566189</td>\n",
       "      <td>-398.180807</td>\n",
       "      <td>24.9382</td>\n",
       "      <td>-500.490963</td>\n",
       "      <td>14.947607</td>\n",
       "      <td>-500.013837</td>\n",
       "      <td>20.018166</td>\n",
       "      <td>-450.395995</td>\n",
       "      <td>13.987058</td>\n",
       "      <td>-449.831513</td>\n",
       "      <td>12.023554</td>\n",
       "      <td>-497.795834</td>\n",
       "      <td>8.016656</td>\n",
       "      <td>-501.289139</td>\n",
       "      <td>7.946562</td>\n",
       "      <td>-432.31785</td>\n",
       "      <td>4.872511</td>\n",
       "      <td>-500.037437</td>\n",
       "      <td>26.705889</td>\n",
       "      <td>-499.709414</td>\n",
       "    </tr>\n",
       "  </tbody>\n",
       "</table>\n",
       "</div>"
      ],
      "text/plain": [
       "                  date  primary_cleaner_input_sulfate  \\\n",
       "0  2016-09-01 00:59:59                     210.800909   \n",
       "\n",
       "   primary_cleaner_input_depressant  primary_cleaner_input_feed_size  \\\n",
       "0                         14.993118                             8.08   \n",
       "\n",
       "   primary_cleaner_input_xanthate  primary_cleaner_state_floatbank8_a_air  \\\n",
       "0                        1.005021                             1398.981301   \n",
       "\n",
       "   primary_cleaner_state_floatbank8_a_level  \\\n",
       "0                               -500.225577   \n",
       "\n",
       "   primary_cleaner_state_floatbank8_b_air  \\\n",
       "0                             1399.144926   \n",
       "\n",
       "   primary_cleaner_state_floatbank8_b_level  \\\n",
       "0                               -499.919735   \n",
       "\n",
       "   primary_cleaner_state_floatbank8_c_air  \\\n",
       "0                             1400.102998   \n",
       "\n",
       "   primary_cleaner_state_floatbank8_c_level  \\\n",
       "0                               -500.704369   \n",
       "\n",
       "   primary_cleaner_state_floatbank8_d_air  \\\n",
       "0                             1399.001695   \n",
       "\n",
       "   primary_cleaner_state_floatbank8_d_level  rougher_input_feed_ag  \\\n",
       "0                               -499.485144              13.128569   \n",
       "\n",
       "   rougher_input_feed_pb  rougher_input_feed_rate  rougher_input_feed_size  \\\n",
       "0                5.63671               489.793655                62.710452   \n",
       "\n",
       "   rougher_input_feed_sol  rougher_input_feed_au  \\\n",
       "0                42.02244              12.084103   \n",
       "\n",
       "   rougher_input_floatbank10_sulfate  rougher_input_floatbank10_xanthate  \\\n",
       "0                          16.922877                            6.153479   \n",
       "\n",
       "   rougher_input_floatbank11_sulfate  rougher_input_floatbank11_xanthate  \\\n",
       "0                          16.867518                            6.150709   \n",
       "\n",
       "   rougher_state_floatbank10_a_air  rougher_state_floatbank10_a_level  \\\n",
       "0                      1001.849317                        -350.301265   \n",
       "\n",
       "   rougher_state_floatbank10_b_air  rougher_state_floatbank10_b_level  \\\n",
       "0                      1249.738612                        -399.107531   \n",
       "\n",
       "   rougher_state_floatbank10_c_air  rougher_state_floatbank10_c_level  \\\n",
       "0                       1249.75052                         -399.39673   \n",
       "\n",
       "   rougher_state_floatbank10_d_air  rougher_state_floatbank10_d_level  \\\n",
       "0                      1198.287855                        -399.488594   \n",
       "\n",
       "   rougher_state_floatbank10_e_air  rougher_state_floatbank10_e_level  \\\n",
       "0                        999.47225                        -399.530962   \n",
       "\n",
       "   rougher_state_floatbank10_f_air  rougher_state_floatbank10_f_level  \\\n",
       "0                       949.566189                        -398.180807   \n",
       "\n",
       "   secondary_cleaner_state_floatbank2_a_air  \\\n",
       "0                                   24.9382   \n",
       "\n",
       "   secondary_cleaner_state_floatbank2_a_level  \\\n",
       "0                                 -500.490963   \n",
       "\n",
       "   secondary_cleaner_state_floatbank2_b_air  \\\n",
       "0                                 14.947607   \n",
       "\n",
       "   secondary_cleaner_state_floatbank2_b_level  \\\n",
       "0                                 -500.013837   \n",
       "\n",
       "   secondary_cleaner_state_floatbank3_a_air  \\\n",
       "0                                 20.018166   \n",
       "\n",
       "   secondary_cleaner_state_floatbank3_a_level  \\\n",
       "0                                 -450.395995   \n",
       "\n",
       "   secondary_cleaner_state_floatbank3_b_air  \\\n",
       "0                                 13.987058   \n",
       "\n",
       "   secondary_cleaner_state_floatbank3_b_level  \\\n",
       "0                                 -449.831513   \n",
       "\n",
       "   secondary_cleaner_state_floatbank4_a_air  \\\n",
       "0                                 12.023554   \n",
       "\n",
       "   secondary_cleaner_state_floatbank4_a_level  \\\n",
       "0                                 -497.795834   \n",
       "\n",
       "   secondary_cleaner_state_floatbank4_b_air  \\\n",
       "0                                  8.016656   \n",
       "\n",
       "   secondary_cleaner_state_floatbank4_b_level  \\\n",
       "0                                 -501.289139   \n",
       "\n",
       "   secondary_cleaner_state_floatbank5_a_air  \\\n",
       "0                                  7.946562   \n",
       "\n",
       "   secondary_cleaner_state_floatbank5_a_level  \\\n",
       "0                                  -432.31785   \n",
       "\n",
       "   secondary_cleaner_state_floatbank5_b_air  \\\n",
       "0                                  4.872511   \n",
       "\n",
       "   secondary_cleaner_state_floatbank5_b_level  \\\n",
       "0                                 -500.037437   \n",
       "\n",
       "   secondary_cleaner_state_floatbank6_a_air  \\\n",
       "0                                 26.705889   \n",
       "\n",
       "   secondary_cleaner_state_floatbank6_a_level  \n",
       "0                                 -499.709414  "
      ]
     },
     "metadata": {},
     "output_type": "display_data"
    },
    {
     "data": {
      "text/html": [
       "<div>\n",
       "<style scoped>\n",
       "    .dataframe tbody tr th:only-of-type {\n",
       "        vertical-align: middle;\n",
       "    }\n",
       "\n",
       "    .dataframe tbody tr th {\n",
       "        vertical-align: top;\n",
       "    }\n",
       "\n",
       "    .dataframe thead th {\n",
       "        text-align: right;\n",
       "    }\n",
       "</style>\n",
       "<table border=\"1\" class=\"dataframe\">\n",
       "  <thead>\n",
       "    <tr style=\"text-align: right;\">\n",
       "      <th></th>\n",
       "      <th>date</th>\n",
       "      <th>final_output_concentrate_ag</th>\n",
       "      <th>final_output_concentrate_pb</th>\n",
       "      <th>final_output_concentrate_sol</th>\n",
       "      <th>final_output_concentrate_au</th>\n",
       "      <th>final_output_recovery</th>\n",
       "      <th>final_output_tail_ag</th>\n",
       "      <th>final_output_tail_pb</th>\n",
       "      <th>final_output_tail_sol</th>\n",
       "      <th>final_output_tail_au</th>\n",
       "      <th>primary_cleaner_input_sulfate</th>\n",
       "      <th>primary_cleaner_input_depressant</th>\n",
       "      <th>primary_cleaner_input_feed_size</th>\n",
       "      <th>primary_cleaner_input_xanthate</th>\n",
       "      <th>primary_cleaner_output_concentrate_ag</th>\n",
       "      <th>primary_cleaner_output_concentrate_pb</th>\n",
       "      <th>primary_cleaner_output_concentrate_sol</th>\n",
       "      <th>primary_cleaner_output_concentrate_au</th>\n",
       "      <th>primary_cleaner_output_tail_ag</th>\n",
       "      <th>primary_cleaner_output_tail_pb</th>\n",
       "      <th>primary_cleaner_output_tail_sol</th>\n",
       "      <th>primary_cleaner_output_tail_au</th>\n",
       "      <th>primary_cleaner_state_floatbank8_a_air</th>\n",
       "      <th>primary_cleaner_state_floatbank8_a_level</th>\n",
       "      <th>primary_cleaner_state_floatbank8_b_air</th>\n",
       "      <th>primary_cleaner_state_floatbank8_b_level</th>\n",
       "      <th>primary_cleaner_state_floatbank8_c_air</th>\n",
       "      <th>primary_cleaner_state_floatbank8_c_level</th>\n",
       "      <th>primary_cleaner_state_floatbank8_d_air</th>\n",
       "      <th>primary_cleaner_state_floatbank8_d_level</th>\n",
       "      <th>rougher_calculation_sulfate_to_au_concentrate</th>\n",
       "      <th>rougher_calculation_floatbank10_sulfate_to_au_feed</th>\n",
       "      <th>rougher_calculation_floatbank11_sulfate_to_au_feed</th>\n",
       "      <th>rougher_calculation_au_pb_ratio</th>\n",
       "      <th>rougher_input_feed_ag</th>\n",
       "      <th>rougher_input_feed_pb</th>\n",
       "      <th>rougher_input_feed_rate</th>\n",
       "      <th>rougher_input_feed_size</th>\n",
       "      <th>rougher_input_feed_sol</th>\n",
       "      <th>rougher_input_feed_au</th>\n",
       "      <th>rougher_input_floatbank10_sulfate</th>\n",
       "      <th>rougher_input_floatbank10_xanthate</th>\n",
       "      <th>rougher_input_floatbank11_sulfate</th>\n",
       "      <th>rougher_input_floatbank11_xanthate</th>\n",
       "      <th>rougher_output_concentrate_ag</th>\n",
       "      <th>rougher_output_concentrate_pb</th>\n",
       "      <th>rougher_output_concentrate_sol</th>\n",
       "      <th>rougher_output_concentrate_au</th>\n",
       "      <th>rougher_output_recovery</th>\n",
       "      <th>rougher_output_tail_ag</th>\n",
       "      <th>rougher_output_tail_pb</th>\n",
       "      <th>rougher_output_tail_sol</th>\n",
       "      <th>rougher_output_tail_au</th>\n",
       "      <th>rougher_state_floatbank10_a_air</th>\n",
       "      <th>rougher_state_floatbank10_a_level</th>\n",
       "      <th>rougher_state_floatbank10_b_air</th>\n",
       "      <th>rougher_state_floatbank10_b_level</th>\n",
       "      <th>rougher_state_floatbank10_c_air</th>\n",
       "      <th>rougher_state_floatbank10_c_level</th>\n",
       "      <th>rougher_state_floatbank10_d_air</th>\n",
       "      <th>rougher_state_floatbank10_d_level</th>\n",
       "      <th>rougher_state_floatbank10_e_air</th>\n",
       "      <th>rougher_state_floatbank10_e_level</th>\n",
       "      <th>rougher_state_floatbank10_f_air</th>\n",
       "      <th>rougher_state_floatbank10_f_level</th>\n",
       "      <th>secondary_cleaner_output_tail_ag</th>\n",
       "      <th>secondary_cleaner_output_tail_pb</th>\n",
       "      <th>secondary_cleaner_output_tail_sol</th>\n",
       "      <th>secondary_cleaner_output_tail_au</th>\n",
       "      <th>secondary_cleaner_state_floatbank2_a_air</th>\n",
       "      <th>secondary_cleaner_state_floatbank2_a_level</th>\n",
       "      <th>secondary_cleaner_state_floatbank2_b_air</th>\n",
       "      <th>secondary_cleaner_state_floatbank2_b_level</th>\n",
       "      <th>secondary_cleaner_state_floatbank3_a_air</th>\n",
       "      <th>secondary_cleaner_state_floatbank3_a_level</th>\n",
       "      <th>secondary_cleaner_state_floatbank3_b_air</th>\n",
       "      <th>secondary_cleaner_state_floatbank3_b_level</th>\n",
       "      <th>secondary_cleaner_state_floatbank4_a_air</th>\n",
       "      <th>secondary_cleaner_state_floatbank4_a_level</th>\n",
       "      <th>secondary_cleaner_state_floatbank4_b_air</th>\n",
       "      <th>secondary_cleaner_state_floatbank4_b_level</th>\n",
       "      <th>secondary_cleaner_state_floatbank5_a_air</th>\n",
       "      <th>secondary_cleaner_state_floatbank5_a_level</th>\n",
       "      <th>secondary_cleaner_state_floatbank5_b_air</th>\n",
       "      <th>secondary_cleaner_state_floatbank5_b_level</th>\n",
       "      <th>secondary_cleaner_state_floatbank6_a_air</th>\n",
       "      <th>secondary_cleaner_state_floatbank6_a_level</th>\n",
       "    </tr>\n",
       "  </thead>\n",
       "  <tbody>\n",
       "    <tr>\n",
       "      <td>0</td>\n",
       "      <td>2016-01-15 00:00:00</td>\n",
       "      <td>6.055403</td>\n",
       "      <td>9.889648</td>\n",
       "      <td>5.507324</td>\n",
       "      <td>42.19202</td>\n",
       "      <td>70.541216</td>\n",
       "      <td>10.411962</td>\n",
       "      <td>0.895447</td>\n",
       "      <td>16.904297</td>\n",
       "      <td>2.143149</td>\n",
       "      <td>127.092003</td>\n",
       "      <td>10.128295</td>\n",
       "      <td>7.25</td>\n",
       "      <td>0.988759</td>\n",
       "      <td>8.547551</td>\n",
       "      <td>10.389648</td>\n",
       "      <td>19.529297</td>\n",
       "      <td>34.174427</td>\n",
       "      <td>14.936526</td>\n",
       "      <td>2.534912</td>\n",
       "      <td>7.476074</td>\n",
       "      <td>2.106679</td>\n",
       "      <td>1549.775757</td>\n",
       "      <td>-498.91214</td>\n",
       "      <td>1551.434204</td>\n",
       "      <td>-516.403442</td>\n",
       "      <td>1549.873901</td>\n",
       "      <td>-498.666595</td>\n",
       "      <td>1554.367432</td>\n",
       "      <td>-493.428131</td>\n",
       "      <td>41885.707031</td>\n",
       "      <td>3481.779053</td>\n",
       "      <td>3520.337158</td>\n",
       "      <td>2.838687</td>\n",
       "      <td>6.100378</td>\n",
       "      <td>2.284912</td>\n",
       "      <td>523.546326</td>\n",
       "      <td>55.486599</td>\n",
       "      <td>36.808594</td>\n",
       "      <td>6.48615</td>\n",
       "      <td>11.986616</td>\n",
       "      <td>6.00799</td>\n",
       "      <td>11.836743</td>\n",
       "      <td>6.005818</td>\n",
       "      <td>11.500771</td>\n",
       "      <td>7.101074</td>\n",
       "      <td>28.029297</td>\n",
       "      <td>19.793808</td>\n",
       "      <td>87.107763</td>\n",
       "      <td>5.008018</td>\n",
       "      <td>0.508728</td>\n",
       "      <td>19.154297</td>\n",
       "      <td>1.170244</td>\n",
       "      <td>999.706909</td>\n",
       "      <td>-404.066986</td>\n",
       "      <td>1603.011353</td>\n",
       "      <td>-434.715027</td>\n",
       "      <td>1602.375</td>\n",
       "      <td>-442.204468</td>\n",
       "      <td>1598.937256</td>\n",
       "      <td>-451.294128</td>\n",
       "      <td>1404.472046</td>\n",
       "      <td>-455.462982</td>\n",
       "      <td>1416.35498</td>\n",
       "      <td>-451.939636</td>\n",
       "      <td>14.500184</td>\n",
       "      <td>4.694824</td>\n",
       "      <td>8.764648</td>\n",
       "      <td>2.606185</td>\n",
       "      <td>25.853109</td>\n",
       "      <td>-498.526489</td>\n",
       "      <td>23.89366</td>\n",
       "      <td>-501.406281</td>\n",
       "      <td>23.961798</td>\n",
       "      <td>-495.262817</td>\n",
       "      <td>21.940409</td>\n",
       "      <td>-499.340973</td>\n",
       "      <td>14.016835</td>\n",
       "      <td>-502.488007</td>\n",
       "      <td>12.099931</td>\n",
       "      <td>-504.715942</td>\n",
       "      <td>9.925633</td>\n",
       "      <td>-498.310211</td>\n",
       "      <td>8.079666</td>\n",
       "      <td>-500.470978</td>\n",
       "      <td>14.151341</td>\n",
       "      <td>-605.84198</td>\n",
       "    </tr>\n",
       "  </tbody>\n",
       "</table>\n",
       "</div>"
      ],
      "text/plain": [
       "                  date  final_output_concentrate_ag  \\\n",
       "0  2016-01-15 00:00:00                     6.055403   \n",
       "\n",
       "   final_output_concentrate_pb  final_output_concentrate_sol  \\\n",
       "0                     9.889648                      5.507324   \n",
       "\n",
       "   final_output_concentrate_au  final_output_recovery  final_output_tail_ag  \\\n",
       "0                     42.19202              70.541216             10.411962   \n",
       "\n",
       "   final_output_tail_pb  final_output_tail_sol  final_output_tail_au  \\\n",
       "0              0.895447              16.904297              2.143149   \n",
       "\n",
       "   primary_cleaner_input_sulfate  primary_cleaner_input_depressant  \\\n",
       "0                     127.092003                         10.128295   \n",
       "\n",
       "   primary_cleaner_input_feed_size  primary_cleaner_input_xanthate  \\\n",
       "0                             7.25                        0.988759   \n",
       "\n",
       "   primary_cleaner_output_concentrate_ag  \\\n",
       "0                               8.547551   \n",
       "\n",
       "   primary_cleaner_output_concentrate_pb  \\\n",
       "0                              10.389648   \n",
       "\n",
       "   primary_cleaner_output_concentrate_sol  \\\n",
       "0                               19.529297   \n",
       "\n",
       "   primary_cleaner_output_concentrate_au  primary_cleaner_output_tail_ag  \\\n",
       "0                              34.174427                       14.936526   \n",
       "\n",
       "   primary_cleaner_output_tail_pb  primary_cleaner_output_tail_sol  \\\n",
       "0                        2.534912                         7.476074   \n",
       "\n",
       "   primary_cleaner_output_tail_au  primary_cleaner_state_floatbank8_a_air  \\\n",
       "0                        2.106679                             1549.775757   \n",
       "\n",
       "   primary_cleaner_state_floatbank8_a_level  \\\n",
       "0                                -498.91214   \n",
       "\n",
       "   primary_cleaner_state_floatbank8_b_air  \\\n",
       "0                             1551.434204   \n",
       "\n",
       "   primary_cleaner_state_floatbank8_b_level  \\\n",
       "0                               -516.403442   \n",
       "\n",
       "   primary_cleaner_state_floatbank8_c_air  \\\n",
       "0                             1549.873901   \n",
       "\n",
       "   primary_cleaner_state_floatbank8_c_level  \\\n",
       "0                               -498.666595   \n",
       "\n",
       "   primary_cleaner_state_floatbank8_d_air  \\\n",
       "0                             1554.367432   \n",
       "\n",
       "   primary_cleaner_state_floatbank8_d_level  \\\n",
       "0                               -493.428131   \n",
       "\n",
       "   rougher_calculation_sulfate_to_au_concentrate  \\\n",
       "0                                   41885.707031   \n",
       "\n",
       "   rougher_calculation_floatbank10_sulfate_to_au_feed  \\\n",
       "0                                        3481.779053    \n",
       "\n",
       "   rougher_calculation_floatbank11_sulfate_to_au_feed  \\\n",
       "0                                        3520.337158    \n",
       "\n",
       "   rougher_calculation_au_pb_ratio  rougher_input_feed_ag  \\\n",
       "0                         2.838687               6.100378   \n",
       "\n",
       "   rougher_input_feed_pb  rougher_input_feed_rate  rougher_input_feed_size  \\\n",
       "0               2.284912               523.546326                55.486599   \n",
       "\n",
       "   rougher_input_feed_sol  rougher_input_feed_au  \\\n",
       "0               36.808594                6.48615   \n",
       "\n",
       "   rougher_input_floatbank10_sulfate  rougher_input_floatbank10_xanthate  \\\n",
       "0                          11.986616                             6.00799   \n",
       "\n",
       "   rougher_input_floatbank11_sulfate  rougher_input_floatbank11_xanthate  \\\n",
       "0                          11.836743                            6.005818   \n",
       "\n",
       "   rougher_output_concentrate_ag  rougher_output_concentrate_pb  \\\n",
       "0                      11.500771                       7.101074   \n",
       "\n",
       "   rougher_output_concentrate_sol  rougher_output_concentrate_au  \\\n",
       "0                       28.029297                      19.793808   \n",
       "\n",
       "   rougher_output_recovery  rougher_output_tail_ag  rougher_output_tail_pb  \\\n",
       "0                87.107763                5.008018                0.508728   \n",
       "\n",
       "   rougher_output_tail_sol  rougher_output_tail_au  \\\n",
       "0                19.154297                1.170244   \n",
       "\n",
       "   rougher_state_floatbank10_a_air  rougher_state_floatbank10_a_level  \\\n",
       "0                       999.706909                        -404.066986   \n",
       "\n",
       "   rougher_state_floatbank10_b_air  rougher_state_floatbank10_b_level  \\\n",
       "0                      1603.011353                        -434.715027   \n",
       "\n",
       "   rougher_state_floatbank10_c_air  rougher_state_floatbank10_c_level  \\\n",
       "0                         1602.375                        -442.204468   \n",
       "\n",
       "   rougher_state_floatbank10_d_air  rougher_state_floatbank10_d_level  \\\n",
       "0                      1598.937256                        -451.294128   \n",
       "\n",
       "   rougher_state_floatbank10_e_air  rougher_state_floatbank10_e_level  \\\n",
       "0                      1404.472046                        -455.462982   \n",
       "\n",
       "   rougher_state_floatbank10_f_air  rougher_state_floatbank10_f_level  \\\n",
       "0                       1416.35498                        -451.939636   \n",
       "\n",
       "   secondary_cleaner_output_tail_ag  secondary_cleaner_output_tail_pb  \\\n",
       "0                         14.500184                          4.694824   \n",
       "\n",
       "   secondary_cleaner_output_tail_sol  secondary_cleaner_output_tail_au  \\\n",
       "0                           8.764648                          2.606185   \n",
       "\n",
       "   secondary_cleaner_state_floatbank2_a_air  \\\n",
       "0                                 25.853109   \n",
       "\n",
       "   secondary_cleaner_state_floatbank2_a_level  \\\n",
       "0                                 -498.526489   \n",
       "\n",
       "   secondary_cleaner_state_floatbank2_b_air  \\\n",
       "0                                  23.89366   \n",
       "\n",
       "   secondary_cleaner_state_floatbank2_b_level  \\\n",
       "0                                 -501.406281   \n",
       "\n",
       "   secondary_cleaner_state_floatbank3_a_air  \\\n",
       "0                                 23.961798   \n",
       "\n",
       "   secondary_cleaner_state_floatbank3_a_level  \\\n",
       "0                                 -495.262817   \n",
       "\n",
       "   secondary_cleaner_state_floatbank3_b_air  \\\n",
       "0                                 21.940409   \n",
       "\n",
       "   secondary_cleaner_state_floatbank3_b_level  \\\n",
       "0                                 -499.340973   \n",
       "\n",
       "   secondary_cleaner_state_floatbank4_a_air  \\\n",
       "0                                 14.016835   \n",
       "\n",
       "   secondary_cleaner_state_floatbank4_a_level  \\\n",
       "0                                 -502.488007   \n",
       "\n",
       "   secondary_cleaner_state_floatbank4_b_air  \\\n",
       "0                                 12.099931   \n",
       "\n",
       "   secondary_cleaner_state_floatbank4_b_level  \\\n",
       "0                                 -504.715942   \n",
       "\n",
       "   secondary_cleaner_state_floatbank5_a_air  \\\n",
       "0                                  9.925633   \n",
       "\n",
       "   secondary_cleaner_state_floatbank5_a_level  \\\n",
       "0                                 -498.310211   \n",
       "\n",
       "   secondary_cleaner_state_floatbank5_b_air  \\\n",
       "0                                  8.079666   \n",
       "\n",
       "   secondary_cleaner_state_floatbank5_b_level  \\\n",
       "0                                 -500.470978   \n",
       "\n",
       "   secondary_cleaner_state_floatbank6_a_air  \\\n",
       "0                                 14.151341   \n",
       "\n",
       "   secondary_cleaner_state_floatbank6_a_level  \n",
       "0                                  -605.84198  "
      ]
     },
     "metadata": {},
     "output_type": "display_data"
    }
   ],
   "source": [
    "def replace(data):\n",
    "    data.columns = data.columns.str.replace('.','_')\n",
    "    return data\n",
    "\n",
    "data_train = replace(data_train)\n",
    "data_test = replace(data_test)\n",
    "data_full = replace(data_full)\n",
    "\n",
    "display(data_train.head(1))\n",
    "display(data_test.head(1))\n",
    "display(data_full.head(1))\n"
   ]
  },
  {
   "cell_type": "code",
   "execution_count": 11,
   "metadata": {},
   "outputs": [],
   "source": [
    "# новая функция для заполнения таблицы\n",
    "def fillna_new(data, row1, row2):\n",
    "    data[row1] = data[row1].fillna(data[row1].mean())\n",
    "    data[row2] = data[row2].fillna(data[row2].mean())\n",
    "    data = data.sort_values(by='date').ffill()\n",
    "    return data\n",
    "\n",
    "df_train_new = fillna_new(data_train, 'rougher_input_feed_rate', 'rougher_input_feed_size')\n",
    "df_test_new = fillna_new(data_test, 'rougher_input_feed_rate', 'rougher_input_feed_size')\n",
    "df_full_new = fillna_new(data_full, 'rougher_input_feed_rate', 'rougher_input_feed_size')"
   ]
  },
  {
   "cell_type": "markdown",
   "metadata": {},
   "source": [
    "## Анализ данных"
   ]
  },
  {
   "cell_type": "code",
   "execution_count": 12,
   "metadata": {},
   "outputs": [],
   "source": [
    "df_concentrate_au = data_full[['rougher_output_concentrate_au', 'primary_cleaner_output_concentrate_au',\n",
    "                            'final_output_concentrate_au']]\n",
    "df_concentrate_ag = data_full[['rougher_output_concentrate_ag', \n",
    "                            'primary_cleaner_output_concentrate_ag', 'final_output_concentrate_ag']]\n",
    "df_concentrate_pb = data_full[['rougher_output_concentrate_pb', 'primary_cleaner_output_concentrate_pb',\n",
    "                             'final_output_concentrate_pb']]\n"
   ]
  },
  {
   "cell_type": "code",
   "execution_count": 13,
   "metadata": {
    "scrolled": true
   },
   "outputs": [
    {
     "data": {
      "text/html": [
       "<div>\n",
       "<style scoped>\n",
       "    .dataframe tbody tr th:only-of-type {\n",
       "        vertical-align: middle;\n",
       "    }\n",
       "\n",
       "    .dataframe tbody tr th {\n",
       "        vertical-align: top;\n",
       "    }\n",
       "\n",
       "    .dataframe thead th {\n",
       "        text-align: right;\n",
       "    }\n",
       "</style>\n",
       "<table border=\"1\" class=\"dataframe\">\n",
       "  <thead>\n",
       "    <tr style=\"text-align: right;\">\n",
       "      <th></th>\n",
       "      <th>rougher_output_concentrate_au</th>\n",
       "      <th>primary_cleaner_output_concentrate_au</th>\n",
       "      <th>final_output_concentrate_au</th>\n",
       "    </tr>\n",
       "  </thead>\n",
       "  <tbody>\n",
       "    <tr>\n",
       "      <td>0</td>\n",
       "      <td>19.793808</td>\n",
       "      <td>34.174427</td>\n",
       "      <td>42.19202</td>\n",
       "    </tr>\n",
       "  </tbody>\n",
       "</table>\n",
       "</div>"
      ],
      "text/plain": [
       "   rougher_output_concentrate_au  primary_cleaner_output_concentrate_au  \\\n",
       "0                      19.793808                              34.174427   \n",
       "\n",
       "   final_output_concentrate_au  \n",
       "0                     42.19202  "
      ]
     },
     "metadata": {},
     "output_type": "display_data"
    },
    {
     "data": {
      "image/png": "[encoded data removed]",
      "text/plain": [
       "<Figure size 720x288 with 1 Axes>"
      ]
     },
     "metadata": {
      "needs_background": "light"
     },
     "output_type": "display_data"
    }
   ],
   "source": [
    "display(df_concentrate_au.head(1))\n",
    "ax = df_concentrate_au.plot.hist(bins=40, alpha=0.5, figsize=(10,4))"
   ]
  },
  {
   "cell_type": "code",
   "execution_count": 14,
   "metadata": {
    "scrolled": true
   },
   "outputs": [
    {
     "data": {
      "text/html": [
       "<div>\n",
       "<style scoped>\n",
       "    .dataframe tbody tr th:only-of-type {\n",
       "        vertical-align: middle;\n",
       "    }\n",
       "\n",
       "    .dataframe tbody tr th {\n",
       "        vertical-align: top;\n",
       "    }\n",
       "\n",
       "    .dataframe thead th {\n",
       "        text-align: right;\n",
       "    }\n",
       "</style>\n",
       "<table border=\"1\" class=\"dataframe\">\n",
       "  <thead>\n",
       "    <tr style=\"text-align: right;\">\n",
       "      <th></th>\n",
       "      <th>rougher_output_concentrate_ag</th>\n",
       "      <th>primary_cleaner_output_concentrate_ag</th>\n",
       "      <th>final_output_concentrate_ag</th>\n",
       "    </tr>\n",
       "  </thead>\n",
       "  <tbody>\n",
       "    <tr>\n",
       "      <td>0</td>\n",
       "      <td>11.500771</td>\n",
       "      <td>8.547551</td>\n",
       "      <td>6.055403</td>\n",
       "    </tr>\n",
       "  </tbody>\n",
       "</table>\n",
       "</div>"
      ],
      "text/plain": [
       "   rougher_output_concentrate_ag  primary_cleaner_output_concentrate_ag  \\\n",
       "0                      11.500771                               8.547551   \n",
       "\n",
       "   final_output_concentrate_ag  \n",
       "0                     6.055403  "
      ]
     },
     "metadata": {},
     "output_type": "display_data"
    },
    {
     "data": {
      "image/png": "[encoded data removed]",
      "text/plain": [
       "<Figure size 720x288 with 1 Axes>"
      ]
     },
     "metadata": {
      "needs_background": "light"
     },
     "output_type": "display_data"
    }
   ],
   "source": [
    "display(df_concentrate_ag.head(1))\n",
    "ax = df_concentrate_ag.plot.hist(bins=40, alpha=0.5, figsize=(10,4))\n"
   ]
  },
  {
   "cell_type": "code",
   "execution_count": 15,
   "metadata": {
    "scrolled": false
   },
   "outputs": [
    {
     "data": {
      "text/html": [
       "<div>\n",
       "<style scoped>\n",
       "    .dataframe tbody tr th:only-of-type {\n",
       "        vertical-align: middle;\n",
       "    }\n",
       "\n",
       "    .dataframe tbody tr th {\n",
       "        vertical-align: top;\n",
       "    }\n",
       "\n",
       "    .dataframe thead th {\n",
       "        text-align: right;\n",
       "    }\n",
       "</style>\n",
       "<table border=\"1\" class=\"dataframe\">\n",
       "  <thead>\n",
       "    <tr style=\"text-align: right;\">\n",
       "      <th></th>\n",
       "      <th>rougher_output_concentrate_pb</th>\n",
       "      <th>primary_cleaner_output_concentrate_pb</th>\n",
       "      <th>final_output_concentrate_pb</th>\n",
       "    </tr>\n",
       "  </thead>\n",
       "  <tbody>\n",
       "    <tr>\n",
       "      <td>0</td>\n",
       "      <td>7.101074</td>\n",
       "      <td>10.389648</td>\n",
       "      <td>9.889648</td>\n",
       "    </tr>\n",
       "  </tbody>\n",
       "</table>\n",
       "</div>"
      ],
      "text/plain": [
       "   rougher_output_concentrate_pb  primary_cleaner_output_concentrate_pb  \\\n",
       "0                       7.101074                              10.389648   \n",
       "\n",
       "   final_output_concentrate_pb  \n",
       "0                     9.889648  "
      ]
     },
     "metadata": {},
     "output_type": "display_data"
    },
    {
     "data": {
      "image/png": "[encoded data removed]",
      "text/plain": [
       "<Figure size 720x288 with 1 Axes>"
      ]
     },
     "metadata": {
      "needs_background": "light"
     },
     "output_type": "display_data"
    }
   ],
   "source": [
    "display(df_concentrate_pb.head(1))\n",
    "ax = df_concentrate_pb.plot.hist(bins=40, alpha=0.5, figsize=(10,4))"
   ]
  },
  {
   "cell_type": "markdown",
   "metadata": {},
   "source": [
    "### Вывод\n",
    "Концентрация Au увеличивается с каждой стадией очистки;\n",
    "\n",
    "Концентрация Ag уменьшается с каждой стадией очистки;\n",
    "\n",
    "Концентрация Pb уменьшается после флотации, при этом после Первичной и Вторичной очисти концетнрация свинца приблизительно остается на одном уровне."
   ]
  },
  {
   "cell_type": "code",
   "execution_count": 16,
   "metadata": {},
   "outputs": [
    {
     "data": {
      "text/html": [
       "<div>\n",
       "<style scoped>\n",
       "    .dataframe tbody tr th:only-of-type {\n",
       "        vertical-align: middle;\n",
       "    }\n",
       "\n",
       "    .dataframe tbody tr th {\n",
       "        vertical-align: top;\n",
       "    }\n",
       "\n",
       "    .dataframe thead th {\n",
       "        text-align: right;\n",
       "    }\n",
       "</style>\n",
       "<table border=\"1\" class=\"dataframe\">\n",
       "  <thead>\n",
       "    <tr style=\"text-align: right;\">\n",
       "      <th></th>\n",
       "      <th>rougher_input_feed_size</th>\n",
       "      <th>primary_cleaner_input_feed_size</th>\n",
       "    </tr>\n",
       "  </thead>\n",
       "  <tbody>\n",
       "    <tr>\n",
       "      <td>0</td>\n",
       "      <td>55.486599</td>\n",
       "      <td>7.25</td>\n",
       "    </tr>\n",
       "  </tbody>\n",
       "</table>\n",
       "</div>"
      ],
      "text/plain": [
       "   rougher_input_feed_size  primary_cleaner_input_feed_size\n",
       "0                55.486599                             7.25"
      ]
     },
     "metadata": {},
     "output_type": "display_data"
    },
    {
     "data": {
      "text/html": [
       "<div>\n",
       "<style scoped>\n",
       "    .dataframe tbody tr th:only-of-type {\n",
       "        vertical-align: middle;\n",
       "    }\n",
       "\n",
       "    .dataframe tbody tr th {\n",
       "        vertical-align: top;\n",
       "    }\n",
       "\n",
       "    .dataframe thead th {\n",
       "        text-align: right;\n",
       "    }\n",
       "</style>\n",
       "<table border=\"1\" class=\"dataframe\">\n",
       "  <thead>\n",
       "    <tr style=\"text-align: right;\">\n",
       "      <th></th>\n",
       "      <th>rougher_input_feed_size</th>\n",
       "      <th>primary_cleaner_input_feed_size</th>\n",
       "    </tr>\n",
       "  </thead>\n",
       "  <tbody>\n",
       "    <tr>\n",
       "      <td>0</td>\n",
       "      <td>62.710452</td>\n",
       "      <td>8.08</td>\n",
       "    </tr>\n",
       "  </tbody>\n",
       "</table>\n",
       "</div>"
      ],
      "text/plain": [
       "   rougher_input_feed_size  primary_cleaner_input_feed_size\n",
       "0                62.710452                             8.08"
      ]
     },
     "metadata": {},
     "output_type": "display_data"
    }
   ],
   "source": [
    "df_size_train = data_train[['rougher_input_feed_size',\n",
    "                           'primary_cleaner_input_feed_size']]\n",
    "df_size_test = data_test[['rougher_input_feed_size',\n",
    "                           'primary_cleaner_input_feed_size']]\n",
    "display(df_size_train.head(1))\n",
    "display(df_size_test.head(1))"
   ]
  },
  {
   "cell_type": "code",
   "execution_count": 17,
   "metadata": {
    "scrolled": true
   },
   "outputs": [
    {
     "data": {
      "image/png": "[encoded data removed]",
      "text/plain": [
       "<Figure size 360x360 with 1 Axes>"
      ]
     },
     "metadata": {
      "needs_background": "light"
     },
     "output_type": "display_data"
    }
   ],
   "source": [
    "x = df_size_train['rougher_input_feed_size']\n",
    "y = df_size_test['rougher_input_feed_size']\n",
    "fig, axs = plt.subplots(figsize=(5, 5))\n",
    "ax = x.hist(bins=40)\n",
    "ax = y.hist(bins=40)\n",
    "plt.xlim(xmax = 200);"
   ]
  },
  {
   "cell_type": "code",
   "execution_count": 18,
   "metadata": {
    "scrolled": true
   },
   "outputs": [
    {
     "name": "stdout",
     "output_type": "stream",
     "text": [
      "497.4379120665689\n",
      "363.97581459298976\n",
      "0.37704581413288735\n",
      "0.3722965577722183\n"
     ]
    }
   ],
   "source": [
    "variance1 = np.var(df_size_train['rougher_input_feed_size'])\n",
    "variance2 = np.var(df_size_test['rougher_input_feed_size'])\n",
    "variance3 = np.var(df_size_train['primary_cleaner_input_feed_size'])\n",
    "variance4 = np.var(df_size_test['primary_cleaner_input_feed_size'])\n",
    "print(variance1)\n",
    "print(variance2)\n",
    "print(variance3)\n",
    "print(variance4)\n",
    "\n"
   ]
  },
  {
   "cell_type": "code",
   "execution_count": 19,
   "metadata": {
    "scrolled": true
   },
   "outputs": [
    {
     "name": "stdout",
     "output_type": "stream",
     "text": [
      "48.99452988358672\n",
      "95.91549312214322\n",
      "43.90650382413615\n",
      "94.18724815142865\n"
     ]
    }
   ],
   "source": [
    "print(df_size_train['rougher_input_feed_size'].quantile(q=0.25))\n",
    "print(df_size_train['rougher_input_feed_size'].quantile(q=0.975))\n",
    "print(df_size_test['rougher_input_feed_size'].quantile(q=0.25))\n",
    "print(df_size_test['rougher_input_feed_size'].quantile(q=0.975))"
   ]
  },
  {
   "cell_type": "markdown",
   "metadata": {},
   "source": [
    "### Вывод\n",
    "Дисперсия и Доверенительный интервал, распределения размеров гранул сырья на обучающей и тестовой выборках одинаковый"
   ]
  },
  {
   "cell_type": "markdown",
   "metadata": {},
   "source": [
    "### Вывод\n",
    "Концентрация увеличивается с каждый процессом очистки"
   ]
  },
  {
   "cell_type": "code",
   "execution_count": 20,
   "metadata": {
    "scrolled": true
   },
   "outputs": [
    {
     "data": {
      "image/png": "[encoded data removed]",
      "text/plain": [
       "<Figure size 720x288 with 1 Axes>"
      ]
     },
     "metadata": {
      "needs_background": "light"
     },
     "output_type": "display_data"
    }
   ],
   "source": [
    "NEW_df_concentrate_total_feed = df_full_new[['rougher_input_feed_ag', 'rougher_input_feed_pb',\n",
    "                              'rougher_input_feed_sol', 'rougher_input_feed_au']].sum(axis=1)\n",
    "\n",
    "NEW_df_concentrate_total_second = df_full_new[['rougher_output_concentrate_ag', 'rougher_output_concentrate_pb',\n",
    "                              'rougher_output_concentrate_sol', 'rougher_output_concentrate_au']].sum(axis=1)\n",
    "\n",
    "NEW_df_concentrate_total_final = df_full_new[['final_output_concentrate_ag', 'final_output_concentrate_pb',\n",
    "                              'final_output_concentrate_sol', 'final_output_concentrate_au']].sum(axis=1)\n",
    "\n",
    "NEW_df_concentrate_total_feed.plot.hist(bins=40, alpha=0.5, figsize=(10,4))\n",
    "NEW_df_concentrate_total_second.plot.hist(bins=40, alpha=0.5, figsize=(10,4))\n",
    "NEW_df_concentrate_total_final.plot.hist(bins=40, alpha=0.5, figsize=(10,4))\n",
    "plt.legend(['feed', 'second', 'final'])\n",
    "plt.show()"
   ]
  },
  {
   "cell_type": "code",
   "execution_count": 21,
   "metadata": {},
   "outputs": [
    {
     "name": "stderr",
     "output_type": "stream",
     "text": [
      "C:\\Users\\KZUMANTEND\\praktikum\\lib\\site-packages\\ipykernel_launcher.py:4: SettingWithCopyWarning: \n",
      "A value is trying to be set on a copy of a slice from a DataFrame.\n",
      "Try using .loc[row_indexer,col_indexer] = value instead\n",
      "\n",
      "See the caveats in the documentation: http://pandas.pydata.org/pandas-docs/stable/user_guide/indexing.html#returning-a-view-versus-a-copy\n",
      "  after removing the cwd from sys.path.\n",
      "C:\\Users\\KZUMANTEND\\praktikum\\lib\\site-packages\\ipykernel_launcher.py:9: SettingWithCopyWarning: \n",
      "A value is trying to be set on a copy of a slice from a DataFrame.\n",
      "Try using .loc[row_indexer,col_indexer] = value instead\n",
      "\n",
      "See the caveats in the documentation: http://pandas.pydata.org/pandas-docs/stable/user_guide/indexing.html#returning-a-view-versus-a-copy\n",
      "  if __name__ == '__main__':\n",
      "C:\\Users\\KZUMANTEND\\praktikum\\lib\\site-packages\\ipykernel_launcher.py:13: SettingWithCopyWarning: \n",
      "A value is trying to be set on a copy of a slice from a DataFrame.\n",
      "Try using .loc[row_indexer,col_indexer] = value instead\n",
      "\n",
      "See the caveats in the documentation: http://pandas.pydata.org/pandas-docs/stable/user_guide/indexing.html#returning-a-view-versus-a-copy\n",
      "  del sys.path[0]\n"
     ]
    }
   ],
   "source": [
    "product1 = ['date', 'rougher_input_feed_ag', 'rougher_input_feed_pb',\n",
    "                              'rougher_input_feed_sol', 'rougher_input_feed_au']\n",
    "df_concentrat_feed = df_train_new[product1]\n",
    "df_concentrat_feed['sum'] = df_concentrat_feed.loc[:,'rougher_input_feed_ag':'rougher_input_feed_au'].sum(axis=1)\n",
    "\n",
    "product2 = ['date', 'rougher_output_concentrate_ag', 'rougher_output_concentrate_pb',\n",
    "                              'rougher_output_concentrate_sol', 'rougher_output_concentrate_au']\n",
    "df_concentrat_second = df_train_new[product2]\n",
    "df_concentrat_second['sum'] = df_concentrat_second.loc[:,'rougher_output_concentrate_ag':'rougher_output_concentrate_au'].sum(axis=1)\n",
    "product3 = ['date', 'final_output_concentrate_ag', 'final_output_concentrate_pb',\n",
    "                              'final_output_concentrate_sol', 'final_output_concentrate_au']\n",
    "df_concentrat_final = df_train_new[product3]\n",
    "df_concentrat_final['sum'] = df_concentrat_final.loc[:,'final_output_concentrate_ag':'final_output_concentrate_au'].sum(axis=1)\n"
   ]
  },
  {
   "cell_type": "code",
   "execution_count": 22,
   "metadata": {},
   "outputs": [],
   "source": [
    "df_concentrat_feed = df_concentrat_feed.query('sum == 0')\n",
    "df_concentrat_second = df_concentrat_second.query('sum == 0')\n",
    "df_concentrat_final = df_concentrat_final.query('sum == 0')"
   ]
  },
  {
   "cell_type": "code",
   "execution_count": 23,
   "metadata": {
    "scrolled": true
   },
   "outputs": [],
   "source": [
    "list1 = df_concentrat_second['date'].to_list()\n",
    "list2 = df_concentrat_final['date'].to_list()\n",
    "train_new_withoutsecond = df_train_new.query('date not in @list1')\n",
    "NEW_df_train = train_new_withoutsecond.query('date not in @list2')\n"
   ]
  },
  {
   "cell_type": "markdown",
   "metadata": {},
   "source": [
    "## Модель"
   ]
  },
  {
   "cell_type": "code",
   "execution_count": 24,
   "metadata": {},
   "outputs": [],
   "source": [
    "def smape(predictions, target):\n",
    "    return 100/len(predictions) * np.sum(2 * np.abs(target - predictions) / (np.abs(predictions) + np.abs(target)))"
   ]
  },
  {
   "cell_type": "code",
   "execution_count": 25,
   "metadata": {
    "scrolled": true
   },
   "outputs": [],
   "source": [
    "data_train_model = NEW_df_train.copy()\n",
    "for col in data_train_model.columns:\n",
    "    if col not in df_test_new.columns:\n",
    "        data_train_model = data_train_model.drop(columns=[col], axis=1)"
   ]
  },
  {
   "cell_type": "code",
   "execution_count": 26,
   "metadata": {},
   "outputs": [
    {
     "data": {
      "text/plain": [
       "(13795, 53)"
      ]
     },
     "metadata": {},
     "output_type": "display_data"
    },
    {
     "data": {
      "text/plain": [
       "(5290, 53)"
      ]
     },
     "metadata": {},
     "output_type": "display_data"
    }
   ],
   "source": [
    "display(data_train_model.shape)\n",
    "display(data_test.shape)"
   ]
  },
  {
   "cell_type": "code",
   "execution_count": 28,
   "metadata": {
    "scrolled": true
   },
   "outputs": [],
   "source": [
    "df_recovery = df_train_new[['date', 'rougher_output_recovery', 'final_output_recovery']]\n",
    "df_train_model = pd.merge(data_train_model, df_recovery, on=[\"date\"])"
   ]
  },
  {
   "cell_type": "code",
   "execution_count": 29,
   "metadata": {
    "scrolled": true
   },
   "outputs": [],
   "source": [
    "df_rougher = df_train_model.drop(df_train_model.columns[:13], axis=1)\n",
    "df_rougher = df_rougher.drop(df_rougher.columns[22:40], axis=1)\n",
    "df_rougher = df_rougher.drop(df_rougher.columns[[23]], axis=1)\n",
    "\n",
    "df_final = df_train_model.drop(df_train_model.columns[[0]], axis=1)\n",
    "df_final = df_final.drop(df_final.columns[12:34], axis=1)\n",
    "df_final = df_final.drop(df_final.columns[[30]], axis=1)"
   ]
  },
  {
   "cell_type": "raw",
   "metadata": {},
   "source": [
    "data_train_fin.columns.str.contains(pat='rougher.input|rougher.state')\n",
    "\n",
    "df.columns[df.columns.str.contains(pat='ДО|ПОСЛЕ 3 мес')]\n",
    "df.filter(like='ДО', axis=1)\n",
    "df.filter(regex='ДО|ПОСЛЕ 3 мес', axis=1)"
   ]
  },
  {
   "cell_type": "raw",
   "metadata": {},
   "source": [
    "**********"
   ]
  },
  {
   "cell_type": "code",
   "execution_count": 30,
   "metadata": {},
   "outputs": [],
   "source": [
    "features_rougher = df_rougher.drop(['rougher_output_recovery'], axis=1)\n",
    "target_rougher = df_rougher['rougher_output_recovery'] \n",
    "\n",
    "features_final = df_final.drop(['final_output_recovery'], axis=1)\n",
    "target_final = df_final['final_output_recovery']"
   ]
  },
  {
   "cell_type": "code",
   "execution_count": 31,
   "metadata": {},
   "outputs": [],
   "source": [
    "features_rou_train, features_rou_valid, target_rou_train, target_rou_valid = train_test_split(\n",
    "    features_rougher, target_rougher, test_size=0.25, random_state=12345)\n",
    "\n",
    "features_fin_train, features_fin_valid, target_fin_train, target_fin_valid = train_test_split(\n",
    "    features_final, target_final, test_size=0.25, random_state=12345)\n"
   ]
  },
  {
   "cell_type": "code",
   "execution_count": 32,
   "metadata": {},
   "outputs": [
    {
     "data": {
      "text/plain": [
       "((13795, 22), (13795, 30))"
      ]
     },
     "execution_count": 32,
     "metadata": {},
     "output_type": "execute_result"
    }
   ],
   "source": [
    "features_rougher.shape, features_final.shape"
   ]
  },
  {
   "cell_type": "code",
   "execution_count": 33,
   "metadata": {},
   "outputs": [
    {
     "name": "stdout",
     "output_type": "stream",
     "text": [
      "5.142847311901042\n"
     ]
    }
   ],
   "source": [
    "model = LinearRegression()\n",
    "model.fit(features_rou_train, target_rou_train)\n",
    "predictions_valid = model.predict(features_rou_valid)\n",
    "state = np.random.RandomState(12345)\n",
    "score = []\n",
    "for i in range(1000):\n",
    "    subsample = target_rou_valid.reset_index(drop=True)\n",
    "    target_subsample = subsample.sample(n=500, replace=True, random_state=state)\n",
    "    probs_subsample = predictions_valid[target_subsample.index][:500]\n",
    "    j = smape(probs_subsample, target_subsample)\n",
    "    score.append(j)\n",
    "score = pd.Series(score)\n",
    "mean = score.mean()    \n",
    "print(mean)\n"
   ]
  },
  {
   "cell_type": "code",
   "execution_count": 34,
   "metadata": {},
   "outputs": [
    {
     "name": "stdout",
     "output_type": "stream",
     "text": [
      "3.878149853604053\n"
     ]
    }
   ],
   "source": [
    "model = DecisionTreeRegressor(random_state=12345)\n",
    "model.fit(features_rou_train, target_rou_train)\n",
    "predictions_valid = model.predict(features_rou_valid)\n",
    "state = np.random.RandomState(12345)\n",
    "score = []\n",
    "for i in range(1000):\n",
    "    subsample = target_rou_valid.reset_index(drop=True)\n",
    "    target_subsample = subsample.sample(n=500, replace=True, random_state=state)\n",
    "    probs_subsample = predictions_valid[target_subsample.index][:500]\n",
    "    j = smape(probs_subsample, target_subsample)\n",
    "    score.append(j)\n",
    "score = pd.Series(score)\n",
    "mean = score.mean()    \n",
    "print(mean)"
   ]
  },
  {
   "cell_type": "code",
   "execution_count": 35,
   "metadata": {},
   "outputs": [
    {
     "name": "stdout",
     "output_type": "stream",
     "text": [
      "4.483996372695544 max_depth = 10 : 0\n"
     ]
    }
   ],
   "source": [
    "score = []\n",
    "score_sample = []\n",
    "best_result = 0\n",
    "best_depth = 0\n",
    "best_est = 0\n",
    "for est in range(20, 100, 20):\n",
    "    for depth in range (1, 11, 1):\n",
    "        model = RandomForestRegressor(random_state=12345, \n",
    "                                              max_depth=depth, n_estimators=est)\n",
    "        model.fit(features_rou_train, target_rou_train)\n",
    "        predictions_valid = model.predict(features_rou_valid)\n",
    "        for i in range(1000):\n",
    "            subsample = target_rou_valid.reset_index(drop=True)\n",
    "            target_subsample = subsample.sample(n=500, replace=True, random_state=state)\n",
    "            probs_subsample = predictions_valid[target_subsample.index][:500]\n",
    "            j = smape(probs_subsample, target_subsample)\n",
    "            score_sample.append(j)\n",
    "            if pd.Series(score_sample).mean() > best_result:\n",
    "                score = score_sample\n",
    "                best_depth = depth\n",
    "                best_est = est\n",
    "score = pd.Series(score)\n",
    "mean = score.mean()    \n",
    "print(mean, 'max_depth =', best_depth, ':', best_result)\n",
    "\n",
    "                "
   ]
  },
  {
   "cell_type": "code",
   "execution_count": 36,
   "metadata": {},
   "outputs": [
    {
     "name": "stderr",
     "output_type": "stream",
     "text": [
      "C:\\Users\\KZUMANTEND\\praktikum\\lib\\site-packages\\sklearn\\ensemble\\forest.py:245: FutureWarning: The default value of n_estimators will change from 10 in version 0.20 to 100 in 0.22.\n",
      "  \"10 in version 0.20 to 100 in 0.22.\", FutureWarning)\n",
      "C:\\Users\\KZUMANTEND\\praktikum\\lib\\site-packages\\sklearn\\ensemble\\forest.py:245: FutureWarning: The default value of n_estimators will change from 10 in version 0.20 to 100 in 0.22.\n",
      "  \"10 in version 0.20 to 100 in 0.22.\", FutureWarning)\n",
      "C:\\Users\\KZUMANTEND\\praktikum\\lib\\site-packages\\sklearn\\ensemble\\forest.py:245: FutureWarning: The default value of n_estimators will change from 10 in version 0.20 to 100 in 0.22.\n",
      "  \"10 in version 0.20 to 100 in 0.22.\", FutureWarning)\n",
      "C:\\Users\\KZUMANTEND\\praktikum\\lib\\site-packages\\sklearn\\ensemble\\forest.py:245: FutureWarning: The default value of n_estimators will change from 10 in version 0.20 to 100 in 0.22.\n",
      "  \"10 in version 0.20 to 100 in 0.22.\", FutureWarning)\n",
      "C:\\Users\\KZUMANTEND\\praktikum\\lib\\site-packages\\sklearn\\ensemble\\forest.py:245: FutureWarning: The default value of n_estimators will change from 10 in version 0.20 to 100 in 0.22.\n",
      "  \"10 in version 0.20 to 100 in 0.22.\", FutureWarning)\n",
      "C:\\Users\\KZUMANTEND\\praktikum\\lib\\site-packages\\sklearn\\ensemble\\forest.py:245: FutureWarning: The default value of n_estimators will change from 10 in version 0.20 to 100 in 0.22.\n",
      "  \"10 in version 0.20 to 100 in 0.22.\", FutureWarning)\n",
      "C:\\Users\\KZUMANTEND\\praktikum\\lib\\site-packages\\sklearn\\ensemble\\forest.py:245: FutureWarning: The default value of n_estimators will change from 10 in version 0.20 to 100 in 0.22.\n",
      "  \"10 in version 0.20 to 100 in 0.22.\", FutureWarning)\n",
      "C:\\Users\\KZUMANTEND\\praktikum\\lib\\site-packages\\sklearn\\ensemble\\forest.py:245: FutureWarning: The default value of n_estimators will change from 10 in version 0.20 to 100 in 0.22.\n",
      "  \"10 in version 0.20 to 100 in 0.22.\", FutureWarning)\n",
      "C:\\Users\\KZUMANTEND\\praktikum\\lib\\site-packages\\sklearn\\ensemble\\forest.py:245: FutureWarning: The default value of n_estimators will change from 10 in version 0.20 to 100 in 0.22.\n",
      "  \"10 in version 0.20 to 100 in 0.22.\", FutureWarning)\n",
      "C:\\Users\\KZUMANTEND\\praktikum\\lib\\site-packages\\sklearn\\ensemble\\forest.py:245: FutureWarning: The default value of n_estimators will change from 10 in version 0.20 to 100 in 0.22.\n",
      "  \"10 in version 0.20 to 100 in 0.22.\", FutureWarning)\n"
     ]
    },
    {
     "data": {
      "text/html": [
       "<div>\n",
       "<style scoped>\n",
       "    .dataframe tbody tr th:only-of-type {\n",
       "        vertical-align: middle;\n",
       "    }\n",
       "\n",
       "    .dataframe tbody tr th {\n",
       "        vertical-align: top;\n",
       "    }\n",
       "\n",
       "    .dataframe thead th {\n",
       "        text-align: right;\n",
       "    }\n",
       "</style>\n",
       "<table border=\"1\" class=\"dataframe\">\n",
       "  <thead>\n",
       "    <tr style=\"text-align: right;\">\n",
       "      <th></th>\n",
       "      <th>model name</th>\n",
       "      <th>cross_val_score_rougher</th>\n",
       "      <th>cross_val_score_final</th>\n",
       "    </tr>\n",
       "  </thead>\n",
       "  <tbody>\n",
       "    <tr>\n",
       "      <td>0</td>\n",
       "      <td>DecisionTreeRegressor</td>\n",
       "      <td>-8.595007</td>\n",
       "      <td>-18.899503</td>\n",
       "    </tr>\n",
       "    <tr>\n",
       "      <td>1</td>\n",
       "      <td>RandomForestRegressor</td>\n",
       "      <td>-6.855920</td>\n",
       "      <td>-11.518335</td>\n",
       "    </tr>\n",
       "    <tr>\n",
       "      <td>2</td>\n",
       "      <td>LinearRegression</td>\n",
       "      <td>-6.660447</td>\n",
       "      <td>-9.868440</td>\n",
       "    </tr>\n",
       "  </tbody>\n",
       "</table>\n",
       "</div>"
      ],
      "text/plain": [
       "              model name  cross_val_score_rougher  cross_val_score_final\n",
       "0  DecisionTreeRegressor                -8.595007             -18.899503\n",
       "1  RandomForestRegressor                -6.855920             -11.518335\n",
       "2       LinearRegression                -6.660447              -9.868440"
      ]
     },
     "execution_count": 36,
     "metadata": {},
     "output_type": "execute_result"
    }
   ],
   "source": [
    "#На всей выборке train\n",
    "from sklearn.metrics import fbeta_score, make_scorer\n",
    "from sklearn.model_selection import cross_val_score\n",
    "random_state = 12345\n",
    "cv = 5\n",
    "models = [DecisionTreeRegressor(random_state = random_state), \n",
    "          RandomForestRegressor(random_state=random_state), \n",
    "          LinearRegression()]\n",
    "\n",
    "\n",
    "results_cross_val = []\n",
    "\n",
    "for model in models: \n",
    "    \n",
    "    scorer = make_scorer(smape, greater_is_better=False)\n",
    "    \n",
    "    cross_val_score_rougher = cross_val_score(model, \n",
    "                                              features_rougher, \n",
    "                                              target_rougher, \n",
    "                                              cv=cv, scoring=scorer).mean()\n",
    "    cross_val_score_final = cross_val_score(model, \n",
    "                                            features_final, \n",
    "                                            target_final, \n",
    "                                            cv=cv, scoring=scorer).mean()\n",
    "\n",
    "    results_cross_val.append({'model name': model.__class__.__name__, \n",
    "                              'cross_val_score_rougher': cross_val_score_rougher, \n",
    "                              'cross_val_score_final': cross_val_score_final}) \n",
    "              \n",
    "pd.DataFrame(results_cross_val)"
   ]
  },
  {
   "cell_type": "code",
   "execution_count": 37,
   "metadata": {},
   "outputs": [
    {
     "name": "stderr",
     "output_type": "stream",
     "text": [
      "C:\\Users\\KZUMANTEND\\praktikum\\lib\\site-packages\\sklearn\\ensemble\\forest.py:245: FutureWarning: The default value of n_estimators will change from 10 in version 0.20 to 100 in 0.22.\n",
      "  \"10 in version 0.20 to 100 in 0.22.\", FutureWarning)\n",
      "C:\\Users\\KZUMANTEND\\praktikum\\lib\\site-packages\\sklearn\\ensemble\\forest.py:245: FutureWarning: The default value of n_estimators will change from 10 in version 0.20 to 100 in 0.22.\n",
      "  \"10 in version 0.20 to 100 in 0.22.\", FutureWarning)\n",
      "C:\\Users\\KZUMANTEND\\praktikum\\lib\\site-packages\\sklearn\\ensemble\\forest.py:245: FutureWarning: The default value of n_estimators will change from 10 in version 0.20 to 100 in 0.22.\n",
      "  \"10 in version 0.20 to 100 in 0.22.\", FutureWarning)\n",
      "C:\\Users\\KZUMANTEND\\praktikum\\lib\\site-packages\\sklearn\\ensemble\\forest.py:245: FutureWarning: The default value of n_estimators will change from 10 in version 0.20 to 100 in 0.22.\n",
      "  \"10 in version 0.20 to 100 in 0.22.\", FutureWarning)\n",
      "C:\\Users\\KZUMANTEND\\praktikum\\lib\\site-packages\\sklearn\\ensemble\\forest.py:245: FutureWarning: The default value of n_estimators will change from 10 in version 0.20 to 100 in 0.22.\n",
      "  \"10 in version 0.20 to 100 in 0.22.\", FutureWarning)\n",
      "C:\\Users\\KZUMANTEND\\praktikum\\lib\\site-packages\\sklearn\\ensemble\\forest.py:245: FutureWarning: The default value of n_estimators will change from 10 in version 0.20 to 100 in 0.22.\n",
      "  \"10 in version 0.20 to 100 in 0.22.\", FutureWarning)\n",
      "C:\\Users\\KZUMANTEND\\praktikum\\lib\\site-packages\\sklearn\\ensemble\\forest.py:245: FutureWarning: The default value of n_estimators will change from 10 in version 0.20 to 100 in 0.22.\n",
      "  \"10 in version 0.20 to 100 in 0.22.\", FutureWarning)\n",
      "C:\\Users\\KZUMANTEND\\praktikum\\lib\\site-packages\\sklearn\\ensemble\\forest.py:245: FutureWarning: The default value of n_estimators will change from 10 in version 0.20 to 100 in 0.22.\n",
      "  \"10 in version 0.20 to 100 in 0.22.\", FutureWarning)\n",
      "C:\\Users\\KZUMANTEND\\praktikum\\lib\\site-packages\\sklearn\\ensemble\\forest.py:245: FutureWarning: The default value of n_estimators will change from 10 in version 0.20 to 100 in 0.22.\n",
      "  \"10 in version 0.20 to 100 in 0.22.\", FutureWarning)\n",
      "C:\\Users\\KZUMANTEND\\praktikum\\lib\\site-packages\\sklearn\\ensemble\\forest.py:245: FutureWarning: The default value of n_estimators will change from 10 in version 0.20 to 100 in 0.22.\n",
      "  \"10 in version 0.20 to 100 in 0.22.\", FutureWarning)\n"
     ]
    },
    {
     "data": {
      "text/html": [
       "<div>\n",
       "<style scoped>\n",
       "    .dataframe tbody tr th:only-of-type {\n",
       "        vertical-align: middle;\n",
       "    }\n",
       "\n",
       "    .dataframe tbody tr th {\n",
       "        vertical-align: top;\n",
       "    }\n",
       "\n",
       "    .dataframe thead th {\n",
       "        text-align: right;\n",
       "    }\n",
       "</style>\n",
       "<table border=\"1\" class=\"dataframe\">\n",
       "  <thead>\n",
       "    <tr style=\"text-align: right;\">\n",
       "      <th></th>\n",
       "      <th>model name</th>\n",
       "      <th>cross_val_score_rougher</th>\n",
       "      <th>cross_val_score_final</th>\n",
       "    </tr>\n",
       "  </thead>\n",
       "  <tbody>\n",
       "    <tr>\n",
       "      <td>0</td>\n",
       "      <td>DecisionTreeRegressor</td>\n",
       "      <td>-4.142907</td>\n",
       "      <td>-9.383592</td>\n",
       "    </tr>\n",
       "    <tr>\n",
       "      <td>1</td>\n",
       "      <td>RandomForestRegressor</td>\n",
       "      <td>-3.192520</td>\n",
       "      <td>-6.855469</td>\n",
       "    </tr>\n",
       "    <tr>\n",
       "      <td>2</td>\n",
       "      <td>LinearRegression</td>\n",
       "      <td>-5.162608</td>\n",
       "      <td>-8.672581</td>\n",
       "    </tr>\n",
       "  </tbody>\n",
       "</table>\n",
       "</div>"
      ],
      "text/plain": [
       "              model name  cross_val_score_rougher  cross_val_score_final\n",
       "0  DecisionTreeRegressor                -4.142907              -9.383592\n",
       "1  RandomForestRegressor                -3.192520              -6.855469\n",
       "2       LinearRegression                -5.162608              -8.672581"
      ]
     },
     "execution_count": 37,
     "metadata": {},
     "output_type": "execute_result"
    }
   ],
   "source": [
    "from sklearn.metrics import fbeta_score, make_scorer\n",
    "from sklearn.model_selection import cross_val_score\n",
    "random_state = 12345\n",
    "cv = 5\n",
    "models = [DecisionTreeRegressor(random_state = random_state), \n",
    "          RandomForestRegressor(random_state=random_state), \n",
    "          LinearRegression()]\n",
    "\n",
    "\n",
    "results_cross_val = []\n",
    "\n",
    "for model in models: \n",
    "    \n",
    "    scorer = make_scorer(smape, greater_is_better=False)\n",
    "    \n",
    "    cross_val_score_rougher = cross_val_score(model, \n",
    "                                              features_rou_train, \n",
    "                                              target_rou_train, \n",
    "                                              cv=cv, scoring=scorer).mean()\n",
    "    cross_val_score_final = cross_val_score(model, \n",
    "                                            features_fin_train, \n",
    "                                            target_fin_train, \n",
    "                                            cv=cv, scoring=scorer).mean()\n",
    "\n",
    "    results_cross_val.append({'model name': model.__class__.__name__, \n",
    "                              'cross_val_score_rougher': cross_val_score_rougher, \n",
    "                              'cross_val_score_final': cross_val_score_final}) \n",
    "              \n",
    "pd.DataFrame(results_cross_val)"
   ]
  },
  {
   "cell_type": "markdown",
   "metadata": {},
   "source": [
    "### Вывод\n",
    "Лучшая модель для rougher RandomForestRegressor\n",
    "\n",
    "ЛУчшая модель для final RandomForestRegressor"
   ]
  },
  {
   "cell_type": "code",
   "execution_count": 38,
   "metadata": {},
   "outputs": [],
   "source": [
    "df_recovery_test = df_full_new[['date', 'rougher_output_recovery', 'final_output_recovery']]\n",
    "df_test_model = data_test.copy()\n",
    "df_test_model = pd.merge(df_test_model, df_recovery_test,on=[\"date\"])\n",
    "df_test_model = df_test_model.sort_values(by='date').ffill()"
   ]
  },
  {
   "cell_type": "code",
   "execution_count": 39,
   "metadata": {},
   "outputs": [],
   "source": [
    "df_rougher_test = df_test_model.drop(df_train_model.columns[:13], axis=1)\n",
    "df_rougher_test = df_rougher_test.drop(df_rougher_test.columns[22:40], axis=1)\n",
    "df_rougher_test = df_rougher_test.drop(df_rougher_test.columns[[23]], axis=1)\n",
    "\n",
    "df_final_test = df_test_model.drop(df_train_model.columns[[0]], axis=1)\n",
    "df_final_test = df_final_test.drop(df_final_test.columns[12:34], axis=1)\n",
    "df_final_test = df_final_test.drop(df_final_test.columns[[30]], axis=1)\n"
   ]
  },
  {
   "cell_type": "code",
   "execution_count": 40,
   "metadata": {},
   "outputs": [],
   "source": [
    "features_rougher_test = df_rougher_test.drop(['rougher_output_recovery'], axis=1)\n",
    "target_rougher_test = df_rougher_test['rougher_output_recovery'] \n",
    "\n",
    "features_final_test = df_final_test.drop(['final_output_recovery'], axis=1)\n",
    "target_final_test = df_final_test['final_output_recovery']"
   ]
  },
  {
   "cell_type": "code",
   "execution_count": 41,
   "metadata": {},
   "outputs": [],
   "source": [
    "features_new_rougher = pd.concat([features_rou_train,features_rou_valid],axis=0)\n",
    "target_new_rouher = pd.concat([target_rou_train,target_rou_valid],axis=0)\n",
    "features_new_final = pd.concat([features_fin_train,features_fin_valid],axis=0)\n",
    "target_new_final = pd.concat([target_fin_train,target_fin_valid],axis=0)"
   ]
  },
  {
   "cell_type": "code",
   "execution_count": 42,
   "metadata": {},
   "outputs": [
    {
     "name": "stderr",
     "output_type": "stream",
     "text": [
      "C:\\Users\\KZUMANTEND\\praktikum\\lib\\site-packages\\sklearn\\ensemble\\forest.py:245: FutureWarning: The default value of n_estimators will change from 10 in version 0.20 to 100 in 0.22.\n",
      "  \"10 in version 0.20 to 100 in 0.22.\", FutureWarning)\n"
     ]
    },
    {
     "data": {
      "text/html": [
       "<div>\n",
       "<style scoped>\n",
       "    .dataframe tbody tr th:only-of-type {\n",
       "        vertical-align: middle;\n",
       "    }\n",
       "\n",
       "    .dataframe tbody tr th {\n",
       "        vertical-align: top;\n",
       "    }\n",
       "\n",
       "    .dataframe thead th {\n",
       "        text-align: right;\n",
       "    }\n",
       "</style>\n",
       "<table border=\"1\" class=\"dataframe\">\n",
       "  <thead>\n",
       "    <tr style=\"text-align: right;\">\n",
       "      <th></th>\n",
       "      <th>model name</th>\n",
       "      <th>recovery_rougher</th>\n",
       "    </tr>\n",
       "  </thead>\n",
       "  <tbody>\n",
       "    <tr>\n",
       "      <td>0</td>\n",
       "      <td>DecisionTreeRegressor</td>\n",
       "      <td>10.718391</td>\n",
       "    </tr>\n",
       "    <tr>\n",
       "      <td>1</td>\n",
       "      <td>RandomForestRegressor</td>\n",
       "      <td>8.362159</td>\n",
       "    </tr>\n",
       "    <tr>\n",
       "      <td>2</td>\n",
       "      <td>LinearRegression</td>\n",
       "      <td>8.224102</td>\n",
       "    </tr>\n",
       "  </tbody>\n",
       "</table>\n",
       "</div>"
      ],
      "text/plain": [
       "              model name  recovery_rougher\n",
       "0  DecisionTreeRegressor         10.718391\n",
       "1  RandomForestRegressor          8.362159\n",
       "2       LinearRegression          8.224102"
      ]
     },
     "execution_count": 42,
     "metadata": {},
     "output_type": "execute_result"
    }
   ],
   "source": [
    "random_state = 12345\n",
    "\n",
    "models = [DecisionTreeRegressor(random_state = random_state), \n",
    "          RandomForestRegressor(random_state=random_state), \n",
    "          LinearRegression()]\n",
    "\n",
    "\n",
    "results = []\n",
    "\n",
    "for model in models: \n",
    "    \n",
    "    model.fit(features_rou_train, target_rou_train)\n",
    "    predictions_rouger = model.predict(features_rougher_test)\n",
    "    score_rouger = smape(target_rougher_test, predictions_rouger)\n",
    "    \n",
    "\n",
    "    results.append({'model name': model.__class__.__name__, \n",
    "                              'recovery_rougher': score_rouger}) \n",
    "              \n",
    "pd.DataFrame(results)"
   ]
  },
  {
   "cell_type": "code",
   "execution_count": 43,
   "metadata": {},
   "outputs": [
    {
     "name": "stderr",
     "output_type": "stream",
     "text": [
      "C:\\Users\\KZUMANTEND\\praktikum\\lib\\site-packages\\sklearn\\ensemble\\forest.py:245: FutureWarning: The default value of n_estimators will change from 10 in version 0.20 to 100 in 0.22.\n",
      "  \"10 in version 0.20 to 100 in 0.22.\", FutureWarning)\n"
     ]
    },
    {
     "data": {
      "text/html": [
       "<div>\n",
       "<style scoped>\n",
       "    .dataframe tbody tr th:only-of-type {\n",
       "        vertical-align: middle;\n",
       "    }\n",
       "\n",
       "    .dataframe tbody tr th {\n",
       "        vertical-align: top;\n",
       "    }\n",
       "\n",
       "    .dataframe thead th {\n",
       "        text-align: right;\n",
       "    }\n",
       "</style>\n",
       "<table border=\"1\" class=\"dataframe\">\n",
       "  <thead>\n",
       "    <tr style=\"text-align: right;\">\n",
       "      <th></th>\n",
       "      <th>model name</th>\n",
       "      <th>recovery__final</th>\n",
       "    </tr>\n",
       "  </thead>\n",
       "  <tbody>\n",
       "    <tr>\n",
       "      <td>0</td>\n",
       "      <td>DecisionTreeRegressor</td>\n",
       "      <td>16.053237</td>\n",
       "    </tr>\n",
       "    <tr>\n",
       "      <td>1</td>\n",
       "      <td>RandomForestRegressor</td>\n",
       "      <td>12.505412</td>\n",
       "    </tr>\n",
       "    <tr>\n",
       "      <td>2</td>\n",
       "      <td>LinearRegression</td>\n",
       "      <td>10.148557</td>\n",
       "    </tr>\n",
       "  </tbody>\n",
       "</table>\n",
       "</div>"
      ],
      "text/plain": [
       "              model name  recovery__final\n",
       "0  DecisionTreeRegressor        16.053237\n",
       "1  RandomForestRegressor        12.505412\n",
       "2       LinearRegression        10.148557"
      ]
     },
     "execution_count": 43,
     "metadata": {},
     "output_type": "execute_result"
    }
   ],
   "source": [
    "random_state = 12345\n",
    "\n",
    "models = [DecisionTreeRegressor(random_state = random_state), \n",
    "          RandomForestRegressor(random_state=random_state), \n",
    "          LinearRegression()]\n",
    "\n",
    "\n",
    "results = []\n",
    "\n",
    "for model in models: \n",
    "    \n",
    "    model.fit(features_fin_train, target_fin_train)\n",
    "    predictions_final = model.predict(features_final_test)\n",
    "    score_final = smape(target_final_test, predictions_final)\n",
    "    \n",
    "\n",
    "    results.append({'model name': model.__class__.__name__,  \n",
    "                              'recovery__final': score_final}) \n",
    "              \n",
    "pd.DataFrame(results)"
   ]
  },
  {
   "cell_type": "markdown",
   "metadata": {},
   "source": [
    "# Вывод\n",
    "sMAPE для rougher output = 8.2\n",
    "sMAPE для final output = 10.15\n",
    "Лучшая модель LinearRegression"
   ]
  },
  {
   "cell_type": "code",
   "execution_count": 45,
   "metadata": {
    "scrolled": true
   },
   "outputs": [
    {
     "name": "stdout",
     "output_type": "stream",
     "text": [
      "Процент восстановления золота: 9.67%\n"
     ]
    }
   ],
   "source": [
    "score_smape_rou=8.224102\n",
    "score_smape_fin=10.148557\n",
    "\n",
    "sMAPE_final = ((0.25 * score_smape_rou/100) + (0.75 * score_smape_fin/100))\n",
    "print(\"Процент восстановления золота: {:.2%}\".format(sMAPE_final))"
   ]
  },
  {
   "cell_type": "markdown",
   "metadata": {},
   "source": [
    "## Чек-лист готовности проекта"
   ]
  },
  {
   "cell_type": "markdown",
   "metadata": {},
   "source": [
    "- [x]  Jupyter Notebook открыт\n",
    "- [ ]  Весь код выполняется без ошибок\n",
    "- [ ]  Ячейки с кодом расположены в порядке выполнения\n",
    "- [ ]  Выполнен шаг 1: данные подготовлены\n",
    "    - [ ]  Проверена формула вычисления эффективности обогащения\n",
    "    - [ ]  Проанализированы признаки, недоступные в тестовой выборке\n",
    "    - [ ]  Проведена предобработка данных\n",
    "- [ ]  Выполнен шаг 2: данные проанализированы\n",
    "    - [ ]  Исследовано изменение концентрации элементов на каждом этапе\n",
    "    - [ ]  Проанализированы распределения размеров гранул на обучающей и тестовой выборках\n",
    "    - [ ]  Исследованы суммарные концентрации\n",
    "- [ ]  Выполнен шаг 3: построена модель прогнозирования\n",
    "    - [ ]  Написана функция для вычисления итогового *sMAPE*\n",
    "    - [ ]  Обучено и проверено несколько моделей\n",
    "    - [ ]  Выбрана лучшая модель, её качество проверено на тестовой выборке"
   ]
  }
 ],
 "metadata": {
  "ExecuteTimeLog": [
   {
    "duration": 981,
    "start_time": "2021-11-22T14:17:28.207Z"
   },
   {
    "duration": 402,
    "start_time": "2021-11-22T14:18:04.477Z"
   },
   {
    "duration": 2186,
    "start_time": "2021-11-22T14:19:08.545Z"
   },
   {
    "duration": 384,
    "start_time": "2021-11-22T14:19:22.112Z"
   },
   {
    "duration": 4,
    "start_time": "2021-11-22T14:19:40.766Z"
   },
   {
    "duration": 458,
    "start_time": "2021-11-22T14:19:41.167Z"
   },
   {
    "duration": 1115,
    "start_time": "2021-11-22T14:22:01.944Z"
   },
   {
    "duration": 1152,
    "start_time": "2021-11-22T14:22:21.341Z"
   },
   {
    "duration": 310,
    "start_time": "2021-11-22T14:22:30.361Z"
   },
   {
    "duration": 437,
    "start_time": "2021-11-22T14:22:48.531Z"
   },
   {
    "duration": 323,
    "start_time": "2021-11-22T14:22:54.676Z"
   },
   {
    "duration": 27,
    "start_time": "2021-11-22T14:23:05.048Z"
   },
   {
    "duration": 1461,
    "start_time": "2021-11-22T14:25:56.570Z"
   },
   {
    "duration": 851,
    "start_time": "2021-11-22T14:26:59.141Z"
   },
   {
    "duration": 419,
    "start_time": "2021-11-22T14:28:44.441Z"
   },
   {
    "duration": 236,
    "start_time": "2021-11-22T14:29:23.448Z"
   },
   {
    "duration": 303,
    "start_time": "2021-11-22T14:35:56.754Z"
   },
   {
    "duration": 7,
    "start_time": "2021-11-22T14:36:04.125Z"
   },
   {
    "duration": 23,
    "start_time": "2021-11-22T14:37:26.286Z"
   },
   {
    "duration": 11,
    "start_time": "2021-11-22T14:46:23.133Z"
   },
   {
    "duration": 13,
    "start_time": "2021-11-22T14:47:33.244Z"
   },
   {
    "duration": 10,
    "start_time": "2021-11-22T14:47:54.093Z"
   },
   {
    "duration": 11,
    "start_time": "2021-11-22T14:48:00.443Z"
   },
   {
    "duration": 6,
    "start_time": "2021-11-22T14:49:21.564Z"
   },
   {
    "duration": 600,
    "start_time": "2021-11-22T14:51:05.973Z"
   },
   {
    "duration": 857,
    "start_time": "2021-11-22T14:51:06.576Z"
   },
   {
    "duration": 431,
    "start_time": "2021-11-22T14:51:07.436Z"
   },
   {
    "duration": 1291,
    "start_time": "2021-11-22T14:52:32.685Z"
   },
   {
    "duration": 878,
    "start_time": "2021-11-22T14:52:33.979Z"
   },
   {
    "duration": 369,
    "start_time": "2021-11-22T14:52:34.860Z"
   },
   {
    "duration": 214,
    "start_time": "2021-11-22T14:52:35.231Z"
   },
   {
    "duration": 35,
    "start_time": "2021-11-22T14:52:35.447Z"
   },
   {
    "duration": 17,
    "start_time": "2021-11-22T14:52:35.484Z"
   },
   {
    "duration": 18,
    "start_time": "2021-11-22T14:54:25.261Z"
   },
   {
    "duration": 1334,
    "start_time": "2021-11-22T14:55:23.141Z"
   },
   {
    "duration": 875,
    "start_time": "2021-11-22T14:55:24.479Z"
   },
   {
    "duration": 426,
    "start_time": "2021-11-22T14:55:25.357Z"
   },
   {
    "duration": 244,
    "start_time": "2021-11-22T14:55:25.786Z"
   },
   {
    "duration": 23,
    "start_time": "2021-11-22T14:55:26.032Z"
   },
   {
    "duration": 39,
    "start_time": "2021-11-22T14:55:26.058Z"
   },
   {
    "duration": 10,
    "start_time": "2021-11-22T14:56:35.801Z"
   },
   {
    "duration": 22,
    "start_time": "2021-11-22T14:56:43.545Z"
   },
   {
    "duration": 10,
    "start_time": "2021-11-22T14:56:44.479Z"
   },
   {
    "duration": 94,
    "start_time": "2021-11-22T14:57:53.547Z"
   },
   {
    "duration": 115,
    "start_time": "2021-11-22T14:58:04.040Z"
   },
   {
    "duration": 608,
    "start_time": "2021-11-22T14:58:56.253Z"
   },
   {
    "duration": 325,
    "start_time": "2021-11-22T14:59:29.537Z"
   },
   {
    "duration": 337,
    "start_time": "2021-11-22T15:00:36.677Z"
   },
   {
    "duration": 6208,
    "start_time": "2021-11-22T15:01:39.833Z"
   },
   {
    "duration": 302,
    "start_time": "2021-11-22T15:02:03.553Z"
   },
   {
    "duration": 17,
    "start_time": "2021-11-22T15:02:38.955Z"
   },
   {
    "duration": 13,
    "start_time": "2021-11-22T15:03:31.400Z"
   },
   {
    "duration": 1698,
    "start_time": "2021-11-22T15:05:49.328Z"
   },
   {
    "duration": 1354,
    "start_time": "2021-11-22T15:05:51.030Z"
   },
   {
    "duration": 633,
    "start_time": "2021-11-22T15:05:52.389Z"
   },
   {
    "duration": 258,
    "start_time": "2021-11-22T15:05:53.025Z"
   },
   {
    "duration": 24,
    "start_time": "2021-11-22T15:05:53.286Z"
   },
   {
    "duration": 17,
    "start_time": "2021-11-22T15:05:53.312Z"
   },
   {
    "duration": 51,
    "start_time": "2021-11-22T15:05:53.331Z"
   },
   {
    "duration": 21,
    "start_time": "2021-11-22T15:06:46.815Z"
   },
   {
    "duration": 13,
    "start_time": "2021-11-22T15:06:49.308Z"
   },
   {
    "duration": 28,
    "start_time": "2021-11-22T15:13:53.024Z"
   },
   {
    "duration": 552,
    "start_time": "2021-11-22T15:25:36.740Z"
   },
   {
    "duration": 370,
    "start_time": "2021-11-22T15:25:43.020Z"
   },
   {
    "duration": 297,
    "start_time": "2021-11-22T15:26:05.810Z"
   },
   {
    "duration": 301,
    "start_time": "2021-11-22T15:31:08.021Z"
   },
   {
    "duration": 288,
    "start_time": "2021-11-22T15:31:11.394Z"
   },
   {
    "duration": 299,
    "start_time": "2021-11-22T15:31:16.125Z"
   },
   {
    "duration": 298,
    "start_time": "2021-11-22T15:31:28.245Z"
   },
   {
    "duration": 16,
    "start_time": "2021-11-22T15:32:39.565Z"
   },
   {
    "duration": 301,
    "start_time": "2021-11-22T15:35:26.569Z"
   },
   {
    "duration": 129,
    "start_time": "2021-11-22T15:35:53.007Z"
   },
   {
    "duration": 131,
    "start_time": "2021-11-22T15:35:58.955Z"
   },
   {
    "duration": 88,
    "start_time": "2021-11-22T15:36:05.173Z"
   },
   {
    "duration": 308,
    "start_time": "2021-11-22T15:36:52.027Z"
   },
   {
    "duration": 5,
    "start_time": "2021-11-22T15:37:24.334Z"
   },
   {
    "duration": 95,
    "start_time": "2021-11-22T15:39:49.304Z"
   },
   {
    "duration": 96,
    "start_time": "2021-11-22T15:39:52.249Z"
   },
   {
    "duration": 280,
    "start_time": "2021-11-22T15:40:13.799Z"
   },
   {
    "duration": 16,
    "start_time": "2021-11-22T15:41:07.914Z"
   },
   {
    "duration": 302,
    "start_time": "2021-11-22T15:42:45.821Z"
   },
   {
    "duration": 306,
    "start_time": "2021-11-22T15:43:12.727Z"
   },
   {
    "duration": 6,
    "start_time": "2021-11-22T15:45:32.018Z"
   },
   {
    "duration": 6,
    "start_time": "2021-11-22T15:46:06.721Z"
   },
   {
    "duration": 8,
    "start_time": "2021-11-22T15:46:15.396Z"
   },
   {
    "duration": 8,
    "start_time": "2021-11-22T15:46:22.895Z"
   },
   {
    "duration": 7,
    "start_time": "2021-11-22T15:47:22.174Z"
   },
   {
    "duration": 20,
    "start_time": "2021-11-22T16:00:41.058Z"
   },
   {
    "duration": 10,
    "start_time": "2021-11-22T16:03:04.239Z"
   },
   {
    "duration": 83,
    "start_time": "2021-11-22T16:17:04.898Z"
   },
   {
    "duration": 130,
    "start_time": "2021-11-22T16:17:09.638Z"
   },
   {
    "duration": 138,
    "start_time": "2021-11-22T16:17:14.055Z"
   },
   {
    "duration": 185,
    "start_time": "2021-11-22T16:20:45.471Z"
   },
   {
    "duration": 339,
    "start_time": "2021-11-22T16:23:07.195Z"
   },
   {
    "duration": 503,
    "start_time": "2021-11-22T16:23:14.160Z"
   },
   {
    "duration": 322,
    "start_time": "2021-11-22T16:23:20.652Z"
   },
   {
    "duration": 52,
    "start_time": "2021-11-22T16:23:26.566Z"
   },
   {
    "duration": 430,
    "start_time": "2021-11-22T16:23:51.359Z"
   },
   {
    "duration": 998,
    "start_time": "2021-11-23T03:00:32.211Z"
   },
   {
    "duration": 890,
    "start_time": "2021-11-23T03:00:33.211Z"
   },
   {
    "duration": 273,
    "start_time": "2021-11-23T03:00:34.103Z"
   },
   {
    "duration": 148,
    "start_time": "2021-11-23T03:00:34.378Z"
   },
   {
    "duration": 15,
    "start_time": "2021-11-23T03:00:34.527Z"
   },
   {
    "duration": 9,
    "start_time": "2021-11-23T03:00:34.544Z"
   },
   {
    "duration": 37,
    "start_time": "2021-11-23T03:00:34.555Z"
   },
   {
    "duration": 12,
    "start_time": "2021-11-23T03:00:34.594Z"
   },
   {
    "duration": 5,
    "start_time": "2021-11-23T03:00:34.608Z"
   },
   {
    "duration": 262,
    "start_time": "2021-11-23T03:00:34.614Z"
   },
   {
    "duration": 190,
    "start_time": "2021-11-23T03:02:42.283Z"
   },
   {
    "duration": 4,
    "start_time": "2021-11-23T03:02:46.641Z"
   },
   {
    "duration": 36,
    "start_time": "2021-11-23T03:02:57.329Z"
   },
   {
    "duration": 69,
    "start_time": "2021-11-23T03:03:03.617Z"
   },
   {
    "duration": 292,
    "start_time": "2021-11-23T03:04:29.131Z"
   },
   {
    "duration": 3,
    "start_time": "2021-11-23T03:04:34.129Z"
   },
   {
    "duration": 110,
    "start_time": "2021-11-23T03:05:28.639Z"
   },
   {
    "duration": 171,
    "start_time": "2021-11-23T03:06:05.391Z"
   },
   {
    "duration": 166,
    "start_time": "2021-11-23T03:06:10.586Z"
   },
   {
    "duration": 200,
    "start_time": "2021-11-23T03:06:17.814Z"
   },
   {
    "duration": 69,
    "start_time": "2021-11-23T03:06:27.934Z"
   },
   {
    "duration": 216,
    "start_time": "2021-11-23T03:08:19.440Z"
   },
   {
    "duration": 72,
    "start_time": "2021-11-23T03:08:43.033Z"
   },
   {
    "duration": 63,
    "start_time": "2021-11-23T03:09:22.196Z"
   },
   {
    "duration": 67,
    "start_time": "2021-11-23T03:09:42.410Z"
   },
   {
    "duration": 68,
    "start_time": "2021-11-23T03:10:36.963Z"
   },
   {
    "duration": 65,
    "start_time": "2021-11-23T03:10:50.211Z"
   },
   {
    "duration": 24,
    "start_time": "2021-11-23T03:11:32.731Z"
   },
   {
    "duration": 26,
    "start_time": "2021-11-23T03:14:05.974Z"
   },
   {
    "duration": 25,
    "start_time": "2021-11-23T03:14:18.313Z"
   },
   {
    "duration": 59,
    "start_time": "2021-11-23T03:14:30.461Z"
   },
   {
    "duration": 67,
    "start_time": "2021-11-23T03:15:07.695Z"
   },
   {
    "duration": 226,
    "start_time": "2021-11-23T03:15:33.136Z"
   },
   {
    "duration": 63,
    "start_time": "2021-11-23T03:15:39.890Z"
   },
   {
    "duration": 24,
    "start_time": "2021-11-23T03:35:54.720Z"
   },
   {
    "duration": 221,
    "start_time": "2021-11-23T03:36:17.633Z"
   },
   {
    "duration": 25,
    "start_time": "2021-11-23T03:36:39.811Z"
   },
   {
    "duration": 27,
    "start_time": "2021-11-23T03:36:48.849Z"
   },
   {
    "duration": 24,
    "start_time": "2021-11-23T03:37:06.672Z"
   },
   {
    "duration": 24,
    "start_time": "2021-11-23T03:42:19.033Z"
   },
   {
    "duration": 24,
    "start_time": "2021-11-23T03:42:30.368Z"
   },
   {
    "duration": 23,
    "start_time": "2021-11-23T03:42:37.185Z"
   },
   {
    "duration": 274,
    "start_time": "2021-11-23T03:47:22.582Z"
   },
   {
    "duration": 301,
    "start_time": "2021-11-23T03:47:31.741Z"
   },
   {
    "duration": 512,
    "start_time": "2021-11-23T03:49:38.756Z"
   },
   {
    "duration": 503,
    "start_time": "2021-11-23T03:49:51.827Z"
   },
   {
    "duration": 8,
    "start_time": "2021-11-23T03:55:34.137Z"
   },
   {
    "duration": 8,
    "start_time": "2021-11-23T03:56:01.436Z"
   },
   {
    "duration": 942,
    "start_time": "2021-11-23T03:56:17.854Z"
   },
   {
    "duration": 722,
    "start_time": "2021-11-23T03:56:18.798Z"
   },
   {
    "duration": 272,
    "start_time": "2021-11-23T03:56:19.522Z"
   },
   {
    "duration": 152,
    "start_time": "2021-11-23T03:56:19.796Z"
   },
   {
    "duration": 14,
    "start_time": "2021-11-23T03:56:19.949Z"
   },
   {
    "duration": 9,
    "start_time": "2021-11-23T03:56:19.965Z"
   },
   {
    "duration": 27,
    "start_time": "2021-11-23T03:56:19.976Z"
   },
   {
    "duration": 12,
    "start_time": "2021-11-23T03:56:20.005Z"
   },
   {
    "duration": 4,
    "start_time": "2021-11-23T03:56:20.019Z"
   },
   {
    "duration": 152,
    "start_time": "2021-11-23T03:56:20.025Z"
   },
   {
    "duration": 39,
    "start_time": "2021-11-23T03:56:20.179Z"
   },
   {
    "duration": 10,
    "start_time": "2021-11-23T03:56:20.220Z"
   },
   {
    "duration": 273,
    "start_time": "2021-11-23T03:58:52.707Z"
   },
   {
    "duration": 181,
    "start_time": "2021-11-23T03:58:56.492Z"
   },
   {
    "duration": 72,
    "start_time": "2021-11-23T04:02:44.506Z"
   },
   {
    "duration": 70,
    "start_time": "2021-11-23T04:03:59.182Z"
   },
   {
    "duration": 24,
    "start_time": "2021-11-23T04:06:29.540Z"
   },
   {
    "duration": 25,
    "start_time": "2021-11-23T04:09:09.273Z"
   },
   {
    "duration": 27,
    "start_time": "2021-11-23T04:09:26.633Z"
   },
   {
    "duration": 268,
    "start_time": "2021-11-23T04:09:43.066Z"
   },
   {
    "duration": 297,
    "start_time": "2021-11-23T04:09:53.186Z"
   },
   {
    "duration": 26,
    "start_time": "2021-11-23T04:10:04.577Z"
   },
   {
    "duration": 251,
    "start_time": "2021-11-23T04:10:16.545Z"
   },
   {
    "duration": 212,
    "start_time": "2021-11-23T04:10:36.396Z"
   },
   {
    "duration": 29,
    "start_time": "2021-11-23T04:10:47.922Z"
   },
   {
    "duration": 31,
    "start_time": "2021-11-23T04:11:05.241Z"
   },
   {
    "duration": 214,
    "start_time": "2021-11-23T04:11:52.889Z"
   },
   {
    "duration": 212,
    "start_time": "2021-11-23T04:12:00.787Z"
   },
   {
    "duration": 29,
    "start_time": "2021-11-23T04:12:06.313Z"
   },
   {
    "duration": 207,
    "start_time": "2021-11-23T04:13:14.542Z"
   },
   {
    "duration": 195,
    "start_time": "2021-11-23T04:14:09.770Z"
   },
   {
    "duration": 200,
    "start_time": "2021-11-23T04:14:24.777Z"
   },
   {
    "duration": 37,
    "start_time": "2021-11-23T04:14:27.128Z"
   },
   {
    "duration": 36,
    "start_time": "2021-11-23T04:14:56.696Z"
   },
   {
    "duration": 56,
    "start_time": "2021-11-23T04:15:56.433Z"
   },
   {
    "duration": 58,
    "start_time": "2021-11-23T04:28:36.765Z"
   },
   {
    "duration": 26,
    "start_time": "2021-11-23T04:28:42.351Z"
   },
   {
    "duration": 28,
    "start_time": "2021-11-23T04:28:46.027Z"
   },
   {
    "duration": 29,
    "start_time": "2021-11-23T04:28:48.756Z"
   },
   {
    "duration": 34,
    "start_time": "2021-11-23T04:28:53.557Z"
   },
   {
    "duration": 35,
    "start_time": "2021-11-23T04:28:57.158Z"
   },
   {
    "duration": 183,
    "start_time": "2021-11-23T04:29:11.588Z"
   },
   {
    "duration": 64,
    "start_time": "2021-11-23T04:29:17.811Z"
   },
   {
    "duration": 188,
    "start_time": "2021-11-23T04:29:43.095Z"
   },
   {
    "duration": 9,
    "start_time": "2021-11-23T04:29:47.116Z"
   },
   {
    "duration": 9,
    "start_time": "2021-11-23T04:30:07.231Z"
   },
   {
    "duration": 8,
    "start_time": "2021-11-23T04:30:12.883Z"
   },
   {
    "duration": 208,
    "start_time": "2021-11-23T04:32:30.068Z"
   },
   {
    "duration": 945,
    "start_time": "2021-11-23T04:32:48.841Z"
   },
   {
    "duration": 756,
    "start_time": "2021-11-23T04:32:49.788Z"
   },
   {
    "duration": 279,
    "start_time": "2021-11-23T04:32:50.546Z"
   },
   {
    "duration": 156,
    "start_time": "2021-11-23T04:32:50.827Z"
   },
   {
    "duration": 16,
    "start_time": "2021-11-23T04:32:50.985Z"
   },
   {
    "duration": 10,
    "start_time": "2021-11-23T04:32:51.003Z"
   },
   {
    "duration": 17,
    "start_time": "2021-11-23T04:32:51.015Z"
   },
   {
    "duration": 13,
    "start_time": "2021-11-23T04:32:51.034Z"
   },
   {
    "duration": 44,
    "start_time": "2021-11-23T04:32:51.049Z"
   },
   {
    "duration": 128,
    "start_time": "2021-11-23T04:32:51.096Z"
   },
   {
    "duration": 275,
    "start_time": "2021-11-23T04:32:51.226Z"
   },
   {
    "duration": 199464,
    "start_time": "2021-11-23T04:29:32.040Z"
   },
   {
    "duration": 27,
    "start_time": "2021-11-23T04:33:58.538Z"
   },
   {
    "duration": 25,
    "start_time": "2021-11-23T04:34:06.480Z"
   },
   {
    "duration": 22,
    "start_time": "2021-11-23T04:34:14.943Z"
   },
   {
    "duration": 27,
    "start_time": "2021-11-23T04:37:23.825Z"
   },
   {
    "duration": 28,
    "start_time": "2021-11-23T04:37:27.940Z"
   },
   {
    "duration": 193,
    "start_time": "2021-11-23T04:39:16.965Z"
   },
   {
    "duration": 7,
    "start_time": "2021-11-23T04:40:29.414Z"
   },
   {
    "duration": 9,
    "start_time": "2021-11-23T04:41:56.086Z"
   },
   {
    "duration": 2398,
    "start_time": "2021-11-23T04:42:25.254Z"
   },
   {
    "duration": 69,
    "start_time": "2021-11-23T04:45:04.944Z"
   },
   {
    "duration": 46,
    "start_time": "2021-11-23T04:49:17.132Z"
   },
   {
    "duration": 43,
    "start_time": "2021-11-23T04:49:59.673Z"
   },
   {
    "duration": 72,
    "start_time": "2021-11-23T04:54:04.138Z"
   },
   {
    "duration": 6,
    "start_time": "2021-11-23T04:55:43.496Z"
   },
   {
    "duration": 86,
    "start_time": "2021-11-23T04:56:00.457Z"
   },
   {
    "duration": 25,
    "start_time": "2021-11-23T04:56:33.420Z"
   },
   {
    "duration": 91,
    "start_time": "2021-11-23T04:56:39.977Z"
   },
   {
    "duration": 23,
    "start_time": "2021-11-23T04:58:19.365Z"
   },
   {
    "duration": 24,
    "start_time": "2021-11-23T04:58:27.984Z"
   },
   {
    "duration": 22,
    "start_time": "2021-11-23T04:59:09.626Z"
   },
   {
    "duration": 210,
    "start_time": "2021-11-23T04:59:31.158Z"
   },
   {
    "duration": 7,
    "start_time": "2021-11-23T04:59:42.991Z"
   },
   {
    "duration": 73,
    "start_time": "2021-11-23T05:01:11.800Z"
   },
   {
    "duration": 25,
    "start_time": "2021-11-23T05:01:36.086Z"
   },
   {
    "duration": 67,
    "start_time": "2021-11-23T05:14:40.958Z"
   },
   {
    "duration": 53,
    "start_time": "2021-11-23T05:16:47.579Z"
   },
   {
    "duration": 180,
    "start_time": "2021-11-23T05:23:59.665Z"
   },
   {
    "duration": 50,
    "start_time": "2021-11-23T05:24:13.148Z"
   },
   {
    "duration": 44,
    "start_time": "2021-11-23T05:25:10.617Z"
   },
   {
    "duration": 14,
    "start_time": "2021-11-23T05:27:21.082Z"
   },
   {
    "duration": 9,
    "start_time": "2021-11-23T05:28:02.288Z"
   },
   {
    "duration": 187,
    "start_time": "2021-11-23T05:28:11.345Z"
   },
   {
    "duration": 15,
    "start_time": "2021-11-23T05:28:15.115Z"
   },
   {
    "duration": 15,
    "start_time": "2021-11-23T05:31:41.862Z"
   },
   {
    "duration": 18,
    "start_time": "2021-11-23T05:31:44.238Z"
   },
   {
    "duration": 10,
    "start_time": "2021-11-23T06:09:04.215Z"
   },
   {
    "duration": 10,
    "start_time": "2021-11-23T06:09:30.389Z"
   },
   {
    "duration": 19,
    "start_time": "2021-11-23T06:09:39.605Z"
   },
   {
    "duration": 24,
    "start_time": "2021-11-23T06:10:48.272Z"
   },
   {
    "duration": 972,
    "start_time": "2021-11-23T06:11:15.809Z"
   },
   {
    "duration": 737,
    "start_time": "2021-11-23T06:11:16.782Z"
   },
   {
    "duration": 266,
    "start_time": "2021-11-23T06:11:17.521Z"
   },
   {
    "duration": 150,
    "start_time": "2021-11-23T06:11:17.789Z"
   },
   {
    "duration": 14,
    "start_time": "2021-11-23T06:11:17.941Z"
   },
   {
    "duration": 9,
    "start_time": "2021-11-23T06:11:17.956Z"
   },
   {
    "duration": 36,
    "start_time": "2021-11-23T06:11:17.967Z"
   },
   {
    "duration": 11,
    "start_time": "2021-11-23T06:11:18.006Z"
   },
   {
    "duration": 4,
    "start_time": "2021-11-23T06:11:18.019Z"
   },
   {
    "duration": 125,
    "start_time": "2021-11-23T06:11:18.025Z"
   },
   {
    "duration": 74,
    "start_time": "2021-11-23T06:11:18.152Z"
   },
   {
    "duration": 14,
    "start_time": "2021-11-23T06:11:18.228Z"
   },
   {
    "duration": 18,
    "start_time": "2021-11-23T06:11:18.243Z"
   },
   {
    "duration": 44,
    "start_time": "2021-11-23T06:11:18.262Z"
   },
   {
    "duration": 2,
    "start_time": "2021-11-23T06:11:18.307Z"
   },
   {
    "duration": 52,
    "start_time": "2021-11-23T06:12:25.282Z"
   },
   {
    "duration": 26,
    "start_time": "2021-11-23T06:14:21.503Z"
   },
   {
    "duration": 24,
    "start_time": "2021-11-23T06:14:38.386Z"
   },
   {
    "duration": 13,
    "start_time": "2021-11-23T06:14:54.899Z"
   },
   {
    "duration": 961,
    "start_time": "2021-11-23T06:15:04.026Z"
   },
   {
    "duration": 720,
    "start_time": "2021-11-23T06:15:04.989Z"
   },
   {
    "duration": 268,
    "start_time": "2021-11-23T06:15:05.711Z"
   },
   {
    "duration": 149,
    "start_time": "2021-11-23T06:15:05.981Z"
   },
   {
    "duration": 14,
    "start_time": "2021-11-23T06:15:06.132Z"
   },
   {
    "duration": 8,
    "start_time": "2021-11-23T06:15:06.148Z"
   },
   {
    "duration": 39,
    "start_time": "2021-11-23T06:15:06.158Z"
   },
   {
    "duration": 12,
    "start_time": "2021-11-23T06:15:06.200Z"
   },
   {
    "duration": 4,
    "start_time": "2021-11-23T06:15:06.214Z"
   },
   {
    "duration": 124,
    "start_time": "2021-11-23T06:15:06.219Z"
   },
   {
    "duration": 80,
    "start_time": "2021-11-23T06:15:06.345Z"
   },
   {
    "duration": 14,
    "start_time": "2021-11-23T06:15:06.427Z"
   },
   {
    "duration": 16,
    "start_time": "2021-11-23T06:15:06.442Z"
   },
   {
    "duration": 37,
    "start_time": "2021-11-23T06:15:06.460Z"
   },
   {
    "duration": 3,
    "start_time": "2021-11-23T06:32:43.475Z"
   },
   {
    "duration": 3,
    "start_time": "2021-11-23T06:33:23.259Z"
   },
   {
    "duration": 6,
    "start_time": "2021-11-23T06:33:57.700Z"
   },
   {
    "duration": 260,
    "start_time": "2021-11-23T06:34:10.394Z"
   },
   {
    "duration": 13,
    "start_time": "2021-11-23T06:34:14.532Z"
   },
   {
    "duration": 7,
    "start_time": "2021-11-23T06:34:21.059Z"
   },
   {
    "duration": 1024,
    "start_time": "2021-11-23T06:35:06.967Z"
   },
   {
    "duration": 729,
    "start_time": "2021-11-23T06:35:07.993Z"
   },
   {
    "duration": 264,
    "start_time": "2021-11-23T06:35:08.723Z"
   },
   {
    "duration": 151,
    "start_time": "2021-11-23T06:35:08.991Z"
   },
   {
    "duration": 15,
    "start_time": "2021-11-23T06:35:09.144Z"
   },
   {
    "duration": 9,
    "start_time": "2021-11-23T06:35:09.160Z"
   },
   {
    "duration": 28,
    "start_time": "2021-11-23T06:35:09.170Z"
   },
   {
    "duration": 11,
    "start_time": "2021-11-23T06:35:09.200Z"
   },
   {
    "duration": 4,
    "start_time": "2021-11-23T06:35:09.213Z"
   },
   {
    "duration": 137,
    "start_time": "2021-11-23T06:35:09.219Z"
   },
   {
    "duration": 73,
    "start_time": "2021-11-23T06:35:09.357Z"
   },
   {
    "duration": 13,
    "start_time": "2021-11-23T06:35:09.432Z"
   },
   {
    "duration": 18,
    "start_time": "2021-11-23T06:35:09.446Z"
   },
   {
    "duration": 3,
    "start_time": "2021-11-23T06:35:09.466Z"
   },
   {
    "duration": 29,
    "start_time": "2021-11-23T06:35:09.491Z"
   },
   {
    "duration": 19,
    "start_time": "2021-11-23T06:35:27.449Z"
   },
   {
    "duration": 71,
    "start_time": "2021-11-23T06:41:30.666Z"
   },
   {
    "duration": 280,
    "start_time": "2021-11-23T06:41:34.400Z"
   },
   {
    "duration": 15,
    "start_time": "2021-11-23T06:41:44.793Z"
   },
   {
    "duration": 20,
    "start_time": "2021-11-23T06:42:27.429Z"
   },
   {
    "duration": 6,
    "start_time": "2021-11-23T06:43:37.058Z"
   },
   {
    "duration": 12,
    "start_time": "2021-11-23T06:43:47.121Z"
   },
   {
    "duration": 16,
    "start_time": "2021-11-23T06:44:19.833Z"
   },
   {
    "duration": 6,
    "start_time": "2021-11-23T06:45:49.699Z"
   },
   {
    "duration": 10,
    "start_time": "2021-11-23T06:45:52.072Z"
   },
   {
    "duration": 9,
    "start_time": "2021-11-23T06:46:09.600Z"
   },
   {
    "duration": 10,
    "start_time": "2021-11-23T06:46:36.488Z"
   },
   {
    "duration": 8,
    "start_time": "2021-11-23T06:47:07.332Z"
   },
   {
    "duration": 8,
    "start_time": "2021-11-23T06:47:17.352Z"
   },
   {
    "duration": 8,
    "start_time": "2021-11-23T06:47:17.743Z"
   },
   {
    "duration": 478,
    "start_time": "2021-11-23T06:52:33.775Z"
   },
   {
    "duration": 570,
    "start_time": "2021-11-23T06:53:48.287Z"
   },
   {
    "duration": 444,
    "start_time": "2021-11-23T06:54:45.639Z"
   },
   {
    "duration": 361,
    "start_time": "2021-11-23T06:54:59.192Z"
   },
   {
    "duration": 5845,
    "start_time": "2021-11-23T06:55:16.494Z"
   },
   {
    "duration": 356,
    "start_time": "2021-11-23T06:55:39.254Z"
   },
   {
    "duration": 377,
    "start_time": "2021-11-23T07:00:24.717Z"
   },
   {
    "duration": 356,
    "start_time": "2021-11-23T07:00:37.653Z"
   },
   {
    "duration": 384,
    "start_time": "2021-11-23T07:01:04.957Z"
   },
   {
    "duration": 456,
    "start_time": "2021-11-23T07:01:15.709Z"
   },
   {
    "duration": 555,
    "start_time": "2021-11-23T07:03:32.277Z"
   },
   {
    "duration": 1600,
    "start_time": "2021-11-23T07:04:30.191Z"
   },
   {
    "duration": 362,
    "start_time": "2021-11-23T07:05:04.629Z"
   },
   {
    "duration": 416,
    "start_time": "2021-11-23T07:07:45.819Z"
   },
   {
    "duration": 198,
    "start_time": "2021-11-23T07:10:02.123Z"
   },
   {
    "duration": 332,
    "start_time": "2021-11-23T07:11:52.794Z"
   },
   {
    "duration": 199,
    "start_time": "2021-11-23T07:12:22.813Z"
   },
   {
    "duration": 214,
    "start_time": "2021-11-23T07:12:26.193Z"
   },
   {
    "duration": 432,
    "start_time": "2021-11-23T07:13:00.065Z"
   },
   {
    "duration": 685,
    "start_time": "2021-11-23T07:13:06.002Z"
   },
   {
    "duration": 474,
    "start_time": "2021-11-23T07:14:55.784Z"
   },
   {
    "duration": 456,
    "start_time": "2021-11-23T07:15:16.144Z"
   },
   {
    "duration": 436,
    "start_time": "2021-11-23T07:15:35.570Z"
   },
   {
    "duration": 492,
    "start_time": "2021-11-23T07:15:45.454Z"
   },
   {
    "duration": 629,
    "start_time": "2021-11-23T07:16:35.093Z"
   },
   {
    "duration": 563,
    "start_time": "2021-11-23T07:17:29.528Z"
   },
   {
    "duration": 485,
    "start_time": "2021-11-23T07:17:40.141Z"
   },
   {
    "duration": 535,
    "start_time": "2021-11-23T07:17:45.013Z"
   },
   {
    "duration": 532,
    "start_time": "2021-11-23T07:17:54.981Z"
   },
   {
    "duration": 491,
    "start_time": "2021-11-23T07:18:02.925Z"
   },
   {
    "duration": 649,
    "start_time": "2021-11-23T07:18:19.436Z"
   },
   {
    "duration": 490,
    "start_time": "2021-11-23T07:18:23.156Z"
   },
   {
    "duration": 509,
    "start_time": "2021-11-23T07:18:26.517Z"
   },
   {
    "duration": 485,
    "start_time": "2021-11-23T07:18:31.318Z"
   },
   {
    "duration": 504,
    "start_time": "2021-11-23T07:18:34.902Z"
   },
   {
    "duration": 635,
    "start_time": "2021-11-23T07:18:39.164Z"
   },
   {
    "duration": 15,
    "start_time": "2021-11-23T07:35:32.021Z"
   },
   {
    "duration": 18,
    "start_time": "2021-11-23T07:42:47.822Z"
   },
   {
    "duration": 13,
    "start_time": "2021-11-23T08:14:15.150Z"
   },
   {
    "duration": 182,
    "start_time": "2021-11-23T08:17:21.270Z"
   },
   {
    "duration": 178,
    "start_time": "2021-11-23T08:17:38.836Z"
   },
   {
    "duration": 222,
    "start_time": "2021-11-23T08:17:54.744Z"
   },
   {
    "duration": 224,
    "start_time": "2021-11-23T08:18:11.608Z"
   },
   {
    "duration": 345,
    "start_time": "2021-11-23T08:18:32.588Z"
   },
   {
    "duration": 376,
    "start_time": "2021-11-23T08:18:37.699Z"
   },
   {
    "duration": 223,
    "start_time": "2021-11-23T08:18:49.758Z"
   },
   {
    "duration": 286,
    "start_time": "2021-11-23T08:18:56.749Z"
   },
   {
    "duration": 380,
    "start_time": "2021-11-23T08:19:00.871Z"
   },
   {
    "duration": 415,
    "start_time": "2021-11-23T08:19:15.462Z"
   },
   {
    "duration": 456,
    "start_time": "2021-11-23T08:19:38.939Z"
   },
   {
    "duration": 300,
    "start_time": "2021-11-23T08:19:44.948Z"
   },
   {
    "duration": 1029,
    "start_time": "2021-11-23T08:25:52.582Z"
   },
   {
    "duration": 769,
    "start_time": "2021-11-23T08:25:53.613Z"
   },
   {
    "duration": 290,
    "start_time": "2021-11-23T08:25:54.384Z"
   },
   {
    "duration": 168,
    "start_time": "2021-11-23T08:25:54.677Z"
   },
   {
    "duration": 16,
    "start_time": "2021-11-23T08:25:54.847Z"
   },
   {
    "duration": 28,
    "start_time": "2021-11-23T08:25:54.864Z"
   },
   {
    "duration": 22,
    "start_time": "2021-11-23T08:25:54.894Z"
   },
   {
    "duration": 13,
    "start_time": "2021-11-23T08:25:54.918Z"
   },
   {
    "duration": 4,
    "start_time": "2021-11-23T08:25:54.933Z"
   },
   {
    "duration": 158,
    "start_time": "2021-11-23T08:25:54.939Z"
   },
   {
    "duration": 17,
    "start_time": "2021-11-23T08:25:55.100Z"
   },
   {
    "duration": 19,
    "start_time": "2021-11-23T08:25:55.119Z"
   },
   {
    "duration": 3,
    "start_time": "2021-11-23T08:25:55.139Z"
   },
   {
    "duration": 57,
    "start_time": "2021-11-23T08:25:55.144Z"
   },
   {
    "duration": 6,
    "start_time": "2021-11-23T08:25:55.203Z"
   },
   {
    "duration": 606,
    "start_time": "2021-11-23T08:25:55.211Z"
   },
   {
    "duration": 498,
    "start_time": "2021-11-23T08:25:55.818Z"
   },
   {
    "duration": 559,
    "start_time": "2021-11-23T08:25:56.317Z"
   },
   {
    "duration": 17,
    "start_time": "2021-11-23T08:25:56.877Z"
   },
   {
    "duration": 276,
    "start_time": "2021-11-23T08:25:56.897Z"
   },
   {
    "duration": 199900,
    "start_time": "2021-11-23T08:22:37.275Z"
   },
   {
    "duration": 188,
    "start_time": "2021-11-23T08:26:17.250Z"
   },
   {
    "duration": 385,
    "start_time": "2021-11-23T08:27:07.098Z"
   },
   {
    "duration": 8,
    "start_time": "2021-11-23T08:28:04.167Z"
   },
   {
    "duration": 8,
    "start_time": "2021-11-23T08:28:25.591Z"
   },
   {
    "duration": 11,
    "start_time": "2021-11-23T08:28:51.920Z"
   },
   {
    "duration": 10,
    "start_time": "2021-11-23T08:29:09.792Z"
   },
   {
    "duration": 8,
    "start_time": "2021-11-23T08:29:13.859Z"
   },
   {
    "duration": 8,
    "start_time": "2021-11-23T08:29:21.958Z"
   },
   {
    "duration": 11,
    "start_time": "2021-11-23T08:29:30.693Z"
   },
   {
    "duration": 8,
    "start_time": "2021-11-23T08:29:37.810Z"
   },
   {
    "duration": 8,
    "start_time": "2021-11-23T08:29:41.575Z"
   },
   {
    "duration": 10,
    "start_time": "2021-11-23T08:29:44.690Z"
   },
   {
    "duration": 198,
    "start_time": "2021-11-23T08:49:47.240Z"
   },
   {
    "duration": 4,
    "start_time": "2021-11-23T08:49:54.392Z"
   },
   {
    "duration": 5,
    "start_time": "2021-11-23T08:50:04.252Z"
   },
   {
    "duration": 176,
    "start_time": "2021-11-23T08:50:18.983Z"
   },
   {
    "duration": 5,
    "start_time": "2021-11-23T08:50:22.571Z"
   },
   {
    "duration": 345,
    "start_time": "2021-11-23T09:12:36.227Z"
   },
   {
    "duration": 345,
    "start_time": "2021-11-23T09:12:44.407Z"
   },
   {
    "duration": 7,
    "start_time": "2021-11-23T09:19:55.541Z"
   },
   {
    "duration": 7,
    "start_time": "2021-11-23T09:20:16.232Z"
   },
   {
    "duration": 10,
    "start_time": "2021-11-23T09:21:16.791Z"
   },
   {
    "duration": 8,
    "start_time": "2021-11-23T09:21:37.635Z"
   },
   {
    "duration": 6,
    "start_time": "2021-11-23T09:22:03.402Z"
   },
   {
    "duration": 303,
    "start_time": "2021-11-23T09:22:17.692Z"
   },
   {
    "duration": 199,
    "start_time": "2021-11-23T09:22:31.961Z"
   },
   {
    "duration": 67,
    "start_time": "2021-11-23T09:22:39.051Z"
   },
   {
    "duration": 196,
    "start_time": "2021-11-23T09:22:41.449Z"
   },
   {
    "duration": 331,
    "start_time": "2021-11-23T09:22:46.872Z"
   },
   {
    "duration": 194,
    "start_time": "2021-11-23T09:26:32.640Z"
   },
   {
    "duration": 303,
    "start_time": "2021-11-23T09:26:43.777Z"
   },
   {
    "duration": 394,
    "start_time": "2021-11-23T09:27:00.058Z"
   },
   {
    "duration": 287,
    "start_time": "2021-11-23T09:27:08.664Z"
   },
   {
    "duration": 280,
    "start_time": "2021-11-23T09:27:19.801Z"
   },
   {
    "duration": 243,
    "start_time": "2021-11-23T09:27:24.211Z"
   },
   {
    "duration": 281,
    "start_time": "2021-11-23T09:27:29.963Z"
   },
   {
    "duration": 287,
    "start_time": "2021-11-23T09:27:33.136Z"
   },
   {
    "duration": 410,
    "start_time": "2021-11-23T09:27:39.409Z"
   },
   {
    "duration": 5,
    "start_time": "2021-11-23T09:41:11.841Z"
   },
   {
    "duration": 9,
    "start_time": "2021-11-23T09:41:52.626Z"
   },
   {
    "duration": 19,
    "start_time": "2021-11-23T09:59:07.401Z"
   },
   {
    "duration": 7,
    "start_time": "2021-11-23T10:02:07.578Z"
   },
   {
    "duration": 67,
    "start_time": "2021-11-23T10:03:28.059Z"
   },
   {
    "duration": 5094,
    "start_time": "2021-11-23T10:03:36.462Z"
   },
   {
    "duration": 5225,
    "start_time": "2021-11-23T10:03:48.692Z"
   },
   {
    "duration": 10,
    "start_time": "2021-11-23T10:05:28.553Z"
   },
   {
    "duration": 64,
    "start_time": "2021-11-23T10:06:06.761Z"
   },
   {
    "duration": 13,
    "start_time": "2021-11-23T10:06:09.999Z"
   },
   {
    "duration": 14,
    "start_time": "2021-11-23T10:06:38.122Z"
   },
   {
    "duration": 10,
    "start_time": "2021-11-23T10:06:42.011Z"
   },
   {
    "duration": 252,
    "start_time": "2021-11-23T10:08:02.355Z"
   },
   {
    "duration": 649,
    "start_time": "2021-11-23T10:08:18.014Z"
   },
   {
    "duration": 305,
    "start_time": "2021-11-23T10:08:31.212Z"
   },
   {
    "duration": 406,
    "start_time": "2021-11-23T10:08:43.742Z"
   },
   {
    "duration": 11,
    "start_time": "2021-11-23T10:09:53.723Z"
   },
   {
    "duration": 439,
    "start_time": "2021-11-23T10:10:35.226Z"
   },
   {
    "duration": 564,
    "start_time": "2021-11-23T10:11:44.115Z"
   },
   {
    "duration": 604,
    "start_time": "2021-11-23T10:12:45.052Z"
   },
   {
    "duration": 606,
    "start_time": "2021-11-23T10:13:08.489Z"
   },
   {
    "duration": 588,
    "start_time": "2021-11-23T10:13:17.596Z"
   },
   {
    "duration": 594,
    "start_time": "2021-11-23T10:13:30.460Z"
   },
   {
    "duration": 574,
    "start_time": "2021-11-23T10:13:37.135Z"
   },
   {
    "duration": 585,
    "start_time": "2021-11-23T10:13:55.251Z"
   },
   {
    "duration": 458,
    "start_time": "2021-11-23T10:14:02.756Z"
   },
   {
    "duration": 728,
    "start_time": "2021-11-23T10:15:26.701Z"
   },
   {
    "duration": 600,
    "start_time": "2021-11-23T10:15:31.923Z"
   },
   {
    "duration": 474,
    "start_time": "2021-11-23T10:15:42.411Z"
   },
   {
    "duration": 567,
    "start_time": "2021-11-23T10:15:50.361Z"
   },
   {
    "duration": 469,
    "start_time": "2021-11-23T10:15:53.259Z"
   },
   {
    "duration": 454,
    "start_time": "2021-11-23T10:16:05.453Z"
   },
   {
    "duration": 588,
    "start_time": "2021-11-23T10:16:25.521Z"
   },
   {
    "duration": 463,
    "start_time": "2021-11-23T10:16:43.154Z"
   },
   {
    "duration": 758,
    "start_time": "2021-11-23T10:17:37.524Z"
   },
   {
    "duration": 460,
    "start_time": "2021-11-23T10:17:41.783Z"
   },
   {
    "duration": 519,
    "start_time": "2021-11-23T10:17:56.447Z"
   },
   {
    "duration": 409,
    "start_time": "2021-11-23T10:18:05.423Z"
   },
   {
    "duration": 396,
    "start_time": "2021-11-23T10:18:10.855Z"
   },
   {
    "duration": 409,
    "start_time": "2021-11-23T10:18:23.172Z"
   },
   {
    "duration": 632,
    "start_time": "2021-11-23T10:18:48.754Z"
   },
   {
    "duration": 456,
    "start_time": "2021-11-23T10:20:29.227Z"
   },
   {
    "duration": 467,
    "start_time": "2021-11-23T10:20:53.148Z"
   },
   {
    "duration": 451,
    "start_time": "2021-11-23T10:21:17.504Z"
   },
   {
    "duration": 17,
    "start_time": "2021-11-23T10:33:41.396Z"
   },
   {
    "duration": 16,
    "start_time": "2021-11-23T10:33:59.389Z"
   },
   {
    "duration": 17,
    "start_time": "2021-11-23T10:34:14.136Z"
   },
   {
    "duration": 75,
    "start_time": "2021-11-23T10:45:36.873Z"
   },
   {
    "duration": 9,
    "start_time": "2021-11-23T10:45:59.404Z"
   },
   {
    "duration": 72,
    "start_time": "2021-11-23T10:46:08.041Z"
   },
   {
    "duration": 199,
    "start_time": "2021-11-23T10:47:22.696Z"
   },
   {
    "duration": 186,
    "start_time": "2021-11-23T10:47:38.814Z"
   },
   {
    "duration": 406,
    "start_time": "2021-11-23T10:48:03.624Z"
   },
   {
    "duration": 190,
    "start_time": "2021-11-23T10:48:56.946Z"
   },
   {
    "duration": 192,
    "start_time": "2021-11-23T10:49:08.985Z"
   },
   {
    "duration": 194,
    "start_time": "2021-11-23T10:50:28.398Z"
   },
   {
    "duration": 227,
    "start_time": "2021-11-23T10:50:44.101Z"
   },
   {
    "duration": 236,
    "start_time": "2021-11-23T10:50:55.935Z"
   },
   {
    "duration": 234,
    "start_time": "2021-11-23T10:51:01.173Z"
   },
   {
    "duration": 224,
    "start_time": "2021-11-23T10:51:09.065Z"
   },
   {
    "duration": 287,
    "start_time": "2021-11-23T10:53:30.882Z"
   },
   {
    "duration": 273,
    "start_time": "2021-11-23T10:53:54.584Z"
   },
   {
    "duration": 258,
    "start_time": "2021-11-23T10:56:53.224Z"
   },
   {
    "duration": 6,
    "start_time": "2021-11-23T10:57:49.744Z"
   },
   {
    "duration": 6,
    "start_time": "2021-11-23T10:58:14.145Z"
   },
   {
    "duration": 15,
    "start_time": "2021-11-23T10:58:19.776Z"
   },
   {
    "duration": 16,
    "start_time": "2021-11-23T10:58:31.774Z"
   },
   {
    "duration": 17,
    "start_time": "2021-11-23T10:59:31.598Z"
   },
   {
    "duration": 187,
    "start_time": "2021-11-23T11:00:12.539Z"
   },
   {
    "duration": 59,
    "start_time": "2021-11-23T11:00:28.891Z"
   },
   {
    "duration": 88,
    "start_time": "2021-11-23T11:00:35.948Z"
   },
   {
    "duration": 206,
    "start_time": "2021-11-23T11:00:38.838Z"
   },
   {
    "duration": 93,
    "start_time": "2021-11-23T11:00:49.168Z"
   },
   {
    "duration": 16,
    "start_time": "2021-11-23T11:00:55.996Z"
   },
   {
    "duration": 1564,
    "start_time": "2021-11-23T12:52:29.232Z"
   },
   {
    "duration": 879,
    "start_time": "2021-11-23T12:52:30.799Z"
   },
   {
    "duration": 546,
    "start_time": "2021-11-23T12:52:31.683Z"
   },
   {
    "duration": 293,
    "start_time": "2021-11-23T12:52:32.233Z"
   },
   {
    "duration": 25,
    "start_time": "2021-11-23T12:52:32.529Z"
   },
   {
    "duration": 39,
    "start_time": "2021-11-23T12:52:32.557Z"
   },
   {
    "duration": 27,
    "start_time": "2021-11-23T12:52:32.598Z"
   },
   {
    "duration": 21,
    "start_time": "2021-11-23T12:52:32.628Z"
   },
   {
    "duration": 7,
    "start_time": "2021-11-23T12:52:32.685Z"
   },
   {
    "duration": 348,
    "start_time": "2021-11-23T12:52:32.696Z"
   },
   {
    "duration": 44,
    "start_time": "2021-11-23T12:52:33.047Z"
   },
   {
    "duration": 35,
    "start_time": "2021-11-23T12:52:33.094Z"
   },
   {
    "duration": 6,
    "start_time": "2021-11-23T12:52:33.132Z"
   },
   {
    "duration": 72,
    "start_time": "2021-11-23T12:52:33.141Z"
   },
   {
    "duration": 11,
    "start_time": "2021-11-23T12:52:33.216Z"
   },
   {
    "duration": 834,
    "start_time": "2021-11-23T12:52:33.231Z"
   },
   {
    "duration": 974,
    "start_time": "2021-11-23T12:52:34.067Z"
   },
   {
    "duration": 845,
    "start_time": "2021-11-23T12:52:35.043Z"
   },
   {
    "duration": 17,
    "start_time": "2021-11-23T12:52:35.891Z"
   },
   {
    "duration": 903,
    "start_time": "2021-11-23T12:52:35.911Z"
   },
   {
    "duration": 449,
    "start_time": "2021-11-23T12:52:36.817Z"
   },
   {
    "duration": 199418,
    "start_time": "2021-11-23T12:49:17.851Z"
   },
   {
    "duration": 199417,
    "start_time": "2021-11-23T12:49:17.854Z"
   },
   {
    "duration": 199332,
    "start_time": "2021-11-23T12:49:17.940Z"
   },
   {
    "duration": 199331,
    "start_time": "2021-11-23T12:49:17.943Z"
   },
   {
    "duration": 4,
    "start_time": "2021-11-23T12:53:19.528Z"
   },
   {
    "duration": 10,
    "start_time": "2021-11-23T12:53:27.034Z"
   },
   {
    "duration": 1606,
    "start_time": "2021-11-23T12:53:33.166Z"
   },
   {
    "duration": 1012,
    "start_time": "2021-11-23T12:53:34.774Z"
   },
   {
    "duration": 432,
    "start_time": "2021-11-23T12:53:35.789Z"
   },
   {
    "duration": 295,
    "start_time": "2021-11-23T12:53:36.224Z"
   },
   {
    "duration": 24,
    "start_time": "2021-11-23T12:53:36.522Z"
   },
   {
    "duration": 41,
    "start_time": "2021-11-23T12:53:36.549Z"
   },
   {
    "duration": 35,
    "start_time": "2021-11-23T12:53:36.593Z"
   },
   {
    "duration": 22,
    "start_time": "2021-11-23T12:53:36.632Z"
   },
   {
    "duration": 27,
    "start_time": "2021-11-23T12:53:36.657Z"
   },
   {
    "duration": 299,
    "start_time": "2021-11-23T12:53:36.687Z"
   },
   {
    "duration": 21,
    "start_time": "2021-11-23T12:53:36.989Z"
   },
   {
    "duration": 34,
    "start_time": "2021-11-23T12:53:37.013Z"
   },
   {
    "duration": 34,
    "start_time": "2021-11-23T12:53:37.049Z"
   },
   {
    "duration": 35,
    "start_time": "2021-11-23T12:53:37.086Z"
   },
   {
    "duration": 9,
    "start_time": "2021-11-23T12:53:37.123Z"
   },
   {
    "duration": 832,
    "start_time": "2021-11-23T12:53:37.135Z"
   },
   {
    "duration": 787,
    "start_time": "2021-11-23T12:53:37.969Z"
   },
   {
    "duration": 830,
    "start_time": "2021-11-23T12:53:38.759Z"
   },
   {
    "duration": 18,
    "start_time": "2021-11-23T12:53:39.591Z"
   },
   {
    "duration": 917,
    "start_time": "2021-11-23T12:53:39.611Z"
   },
   {
    "duration": 13,
    "start_time": "2021-11-23T12:53:40.531Z"
   },
   {
    "duration": 37,
    "start_time": "2021-11-23T12:53:40.546Z"
   },
   {
    "duration": 17,
    "start_time": "2021-11-23T12:53:40.587Z"
   },
   {
    "duration": 762,
    "start_time": "2021-11-23T12:53:40.607Z"
   },
   {
    "duration": 34,
    "start_time": "2021-11-23T12:53:41.372Z"
   },
   {
    "duration": 13,
    "start_time": "2021-11-23T12:54:01.223Z"
   },
   {
    "duration": 18,
    "start_time": "2021-11-23T12:54:42.692Z"
   },
   {
    "duration": 116,
    "start_time": "2021-11-23T12:55:17.636Z"
   },
   {
    "duration": 198,
    "start_time": "2021-11-23T12:55:25.122Z"
   },
   {
    "duration": 332,
    "start_time": "2021-11-23T12:55:30.256Z"
   },
   {
    "duration": 253,
    "start_time": "2021-11-23T12:55:44.843Z"
   },
   {
    "duration": 535,
    "start_time": "2021-11-23T12:55:53.147Z"
   },
   {
    "duration": 337,
    "start_time": "2021-11-23T12:56:01.912Z"
   },
   {
    "duration": 259,
    "start_time": "2021-11-23T12:56:12.286Z"
   },
   {
    "duration": 105,
    "start_time": "2021-11-23T12:56:22.250Z"
   },
   {
    "duration": 232,
    "start_time": "2021-11-23T12:56:27.941Z"
   },
   {
    "duration": 257,
    "start_time": "2021-11-23T12:57:01.287Z"
   },
   {
    "duration": 147,
    "start_time": "2021-11-23T12:57:19.440Z"
   },
   {
    "duration": 211,
    "start_time": "2021-11-23T12:57:25.182Z"
   },
   {
    "duration": 181,
    "start_time": "2021-11-23T12:57:29.648Z"
   },
   {
    "duration": 147,
    "start_time": "2021-11-23T12:57:55.191Z"
   },
   {
    "duration": 166,
    "start_time": "2021-11-23T13:00:45.847Z"
   },
   {
    "duration": 129,
    "start_time": "2021-11-23T13:00:51.850Z"
   },
   {
    "duration": 6,
    "start_time": "2021-11-23T13:42:33.566Z"
   },
   {
    "duration": 390,
    "start_time": "2021-11-23T13:43:42.067Z"
   },
   {
    "duration": 4,
    "start_time": "2021-11-23T13:43:46.212Z"
   },
   {
    "duration": 126,
    "start_time": "2021-11-23T13:44:46.459Z"
   },
   {
    "duration": 103,
    "start_time": "2021-11-23T13:45:11.834Z"
   },
   {
    "duration": 5,
    "start_time": "2021-11-23T13:45:31.585Z"
   },
   {
    "duration": 7,
    "start_time": "2021-11-23T13:45:56.457Z"
   },
   {
    "duration": 390,
    "start_time": "2021-11-23T13:46:01.293Z"
   },
   {
    "duration": 7,
    "start_time": "2021-11-23T13:46:08.286Z"
   },
   {
    "duration": 5649,
    "start_time": "2021-11-23T13:47:06.398Z"
   },
   {
    "duration": 1483,
    "start_time": "2021-11-23T13:48:37.950Z"
   },
   {
    "duration": 864,
    "start_time": "2021-11-23T13:48:39.436Z"
   },
   {
    "duration": 430,
    "start_time": "2021-11-23T13:48:40.303Z"
   },
   {
    "duration": 256,
    "start_time": "2021-11-23T13:48:40.736Z"
   },
   {
    "duration": 31,
    "start_time": "2021-11-23T13:48:40.995Z"
   },
   {
    "duration": 23,
    "start_time": "2021-11-23T13:48:41.029Z"
   },
   {
    "duration": 54,
    "start_time": "2021-11-23T13:48:41.054Z"
   },
   {
    "duration": 31,
    "start_time": "2021-11-23T13:48:41.113Z"
   },
   {
    "duration": 6,
    "start_time": "2021-11-23T13:48:41.147Z"
   },
   {
    "duration": 218,
    "start_time": "2021-11-23T13:48:41.183Z"
   },
   {
    "duration": 20,
    "start_time": "2021-11-23T13:48:41.404Z"
   },
   {
    "duration": 35,
    "start_time": "2021-11-23T13:48:41.428Z"
   },
   {
    "duration": 21,
    "start_time": "2021-11-23T13:48:41.465Z"
   },
   {
    "duration": 34,
    "start_time": "2021-11-23T13:48:41.488Z"
   },
   {
    "duration": 8,
    "start_time": "2021-11-23T13:48:41.525Z"
   },
   {
    "duration": 922,
    "start_time": "2021-11-23T13:48:41.536Z"
   },
   {
    "duration": 759,
    "start_time": "2021-11-23T13:48:42.460Z"
   },
   {
    "duration": 784,
    "start_time": "2021-11-23T13:48:43.221Z"
   },
   {
    "duration": 21,
    "start_time": "2021-11-23T13:48:44.008Z"
   },
   {
    "duration": 594,
    "start_time": "2021-11-23T13:48:44.031Z"
   },
   {
    "duration": 11,
    "start_time": "2021-11-23T13:48:44.628Z"
   },
   {
    "duration": 41,
    "start_time": "2021-11-23T13:48:44.641Z"
   },
   {
    "duration": 12,
    "start_time": "2021-11-23T13:48:44.687Z"
   },
   {
    "duration": 753,
    "start_time": "2021-11-23T13:48:44.702Z"
   },
   {
    "duration": 451,
    "start_time": "2021-11-23T13:48:45.457Z"
   },
   {
    "duration": 199318,
    "start_time": "2021-11-23T13:45:26.593Z"
   },
   {
    "duration": 199313,
    "start_time": "2021-11-23T13:45:26.599Z"
   },
   {
    "duration": 480,
    "start_time": "2021-11-23T13:49:59.178Z"
   },
   {
    "duration": 4,
    "start_time": "2021-11-23T13:50:17.882Z"
   },
   {
    "duration": 135,
    "start_time": "2021-11-23T13:51:17.823Z"
   },
   {
    "duration": 7,
    "start_time": "2021-11-23T13:53:11.940Z"
   },
   {
    "duration": 12,
    "start_time": "2021-11-23T13:53:22.942Z"
   },
   {
    "duration": 85,
    "start_time": "2021-11-23T13:53:44.685Z"
   },
   {
    "duration": 6,
    "start_time": "2021-11-23T13:53:47.013Z"
   },
   {
    "duration": 21,
    "start_time": "2021-11-23T13:55:57.396Z"
   },
   {
    "duration": 69,
    "start_time": "2021-11-23T13:56:08.616Z"
   },
   {
    "duration": 88,
    "start_time": "2021-11-23T13:56:23.413Z"
   },
   {
    "duration": 28,
    "start_time": "2021-11-23T13:56:47.081Z"
   },
   {
    "duration": 1955,
    "start_time": "2021-11-23T13:57:02.756Z"
   },
   {
    "duration": 1305,
    "start_time": "2021-11-23T13:57:04.715Z"
   },
   {
    "duration": 637,
    "start_time": "2021-11-23T13:57:06.024Z"
   },
   {
    "duration": 383,
    "start_time": "2021-11-23T13:57:06.664Z"
   },
   {
    "duration": 54,
    "start_time": "2021-11-23T13:57:07.050Z"
   },
   {
    "duration": 25,
    "start_time": "2021-11-23T13:57:07.108Z"
   },
   {
    "duration": 54,
    "start_time": "2021-11-23T13:57:07.136Z"
   },
   {
    "duration": 21,
    "start_time": "2021-11-23T13:57:07.194Z"
   },
   {
    "duration": 6,
    "start_time": "2021-11-23T13:57:07.217Z"
   },
   {
    "duration": 232,
    "start_time": "2021-11-23T13:57:07.226Z"
   },
   {
    "duration": 38,
    "start_time": "2021-11-23T13:57:07.461Z"
   },
   {
    "duration": 29,
    "start_time": "2021-11-23T13:57:07.502Z"
   },
   {
    "duration": 4,
    "start_time": "2021-11-23T13:57:07.533Z"
   },
   {
    "duration": 62,
    "start_time": "2021-11-23T13:57:07.540Z"
   },
   {
    "duration": 11,
    "start_time": "2021-11-23T13:57:07.605Z"
   },
   {
    "duration": 1241,
    "start_time": "2021-11-23T13:57:07.620Z"
   },
   {
    "duration": 1221,
    "start_time": "2021-11-23T13:57:08.864Z"
   },
   {
    "duration": 1258,
    "start_time": "2021-11-23T13:57:10.089Z"
   },
   {
    "duration": 38,
    "start_time": "2021-11-23T13:57:11.350Z"
   },
   {
    "duration": 844,
    "start_time": "2021-11-23T13:57:11.391Z"
   },
   {
    "duration": 10,
    "start_time": "2021-11-23T13:57:12.237Z"
   },
   {
    "duration": 35,
    "start_time": "2021-11-23T13:57:12.249Z"
   },
   {
    "duration": 13,
    "start_time": "2021-11-23T13:57:12.288Z"
   },
   {
    "duration": 774,
    "start_time": "2021-11-23T13:57:12.304Z"
   },
   {
    "duration": 86,
    "start_time": "2021-11-23T13:57:13.082Z"
   },
   {
    "duration": 28,
    "start_time": "2021-11-23T13:57:13.183Z"
   },
   {
    "duration": 4,
    "start_time": "2021-11-23T13:57:13.214Z"
   },
   {
    "duration": 40,
    "start_time": "2021-11-23T13:57:28.371Z"
   },
   {
    "duration": 3,
    "start_time": "2021-11-23T13:57:50.812Z"
   },
   {
    "duration": 42,
    "start_time": "2021-11-23T14:02:46.045Z"
   },
   {
    "duration": 667,
    "start_time": "2021-11-23T14:07:13.926Z"
   },
   {
    "duration": 100,
    "start_time": "2021-11-23T14:07:42.762Z"
   },
   {
    "duration": 340,
    "start_time": "2021-11-23T14:07:48.250Z"
   },
   {
    "duration": 118,
    "start_time": "2021-11-23T14:11:10.812Z"
   },
   {
    "duration": 6,
    "start_time": "2021-11-23T14:12:19.176Z"
   },
   {
    "duration": 76,
    "start_time": "2021-11-23T14:12:30.100Z"
   },
   {
    "duration": 21,
    "start_time": "2021-11-23T14:12:37.203Z"
   },
   {
    "duration": 135,
    "start_time": "2021-11-23T14:13:49.161Z"
   },
   {
    "duration": 22,
    "start_time": "2021-11-23T14:13:52.728Z"
   },
   {
    "duration": 111,
    "start_time": "2021-11-23T14:14:14.020Z"
   },
   {
    "duration": 7,
    "start_time": "2021-11-23T14:15:32.379Z"
   },
   {
    "duration": 4,
    "start_time": "2021-11-23T14:16:03.747Z"
   },
   {
    "duration": 5,
    "start_time": "2021-11-23T14:21:41.905Z"
   },
   {
    "duration": 4,
    "start_time": "2021-11-23T14:21:48.744Z"
   },
   {
    "duration": 411,
    "start_time": "2021-11-23T14:21:55.358Z"
   },
   {
    "duration": 6,
    "start_time": "2021-11-23T14:22:09.158Z"
   },
   {
    "duration": 6,
    "start_time": "2021-11-23T14:22:16.823Z"
   },
   {
    "duration": 6,
    "start_time": "2021-11-23T14:22:20.621Z"
   },
   {
    "duration": 6,
    "start_time": "2021-11-23T14:22:24.723Z"
   },
   {
    "duration": 4,
    "start_time": "2021-11-23T14:22:47.115Z"
   },
   {
    "duration": 5,
    "start_time": "2021-11-23T14:22:54.172Z"
   },
   {
    "duration": 5,
    "start_time": "2021-11-23T14:23:07.784Z"
   },
   {
    "duration": 172,
    "start_time": "2021-11-23T14:23:32.542Z"
   },
   {
    "duration": 12,
    "start_time": "2021-11-23T14:23:48.473Z"
   },
   {
    "duration": 20,
    "start_time": "2021-11-23T14:23:54.533Z"
   },
   {
    "duration": 19,
    "start_time": "2021-11-23T14:24:23.456Z"
   },
   {
    "duration": 22,
    "start_time": "2021-11-23T14:24:29.759Z"
   },
   {
    "duration": 22,
    "start_time": "2021-11-23T14:24:37.742Z"
   },
   {
    "duration": 27,
    "start_time": "2021-11-23T14:25:44.651Z"
   },
   {
    "duration": 18,
    "start_time": "2021-11-23T14:26:24.877Z"
   },
   {
    "duration": 27,
    "start_time": "2021-11-23T14:26:41.787Z"
   },
   {
    "duration": 18,
    "start_time": "2021-11-23T14:28:18.909Z"
   },
   {
    "duration": 20,
    "start_time": "2021-11-23T14:28:27.648Z"
   },
   {
    "duration": 20,
    "start_time": "2021-11-23T14:28:39.150Z"
   },
   {
    "duration": 16,
    "start_time": "2021-11-23T14:28:44.801Z"
   },
   {
    "duration": 17,
    "start_time": "2021-11-23T14:28:51.329Z"
   },
   {
    "duration": 17,
    "start_time": "2021-11-23T14:28:57.201Z"
   },
   {
    "duration": 17,
    "start_time": "2021-11-23T14:29:03.007Z"
   },
   {
    "duration": 16,
    "start_time": "2021-11-23T14:29:07.419Z"
   },
   {
    "duration": 18,
    "start_time": "2021-11-23T14:29:46.150Z"
   },
   {
    "duration": 20,
    "start_time": "2021-11-23T14:31:20.550Z"
   },
   {
    "duration": 25,
    "start_time": "2021-11-23T14:31:33.150Z"
   },
   {
    "duration": 24,
    "start_time": "2021-11-23T14:31:48.755Z"
   },
   {
    "duration": 17,
    "start_time": "2021-11-23T14:32:04.547Z"
   },
   {
    "duration": 17,
    "start_time": "2021-11-23T14:32:09.140Z"
   },
   {
    "duration": 19,
    "start_time": "2021-11-23T14:32:41.547Z"
   },
   {
    "duration": 23,
    "start_time": "2021-11-23T14:32:57.477Z"
   },
   {
    "duration": 354,
    "start_time": "2021-11-23T14:33:57.120Z"
   },
   {
    "duration": 20,
    "start_time": "2021-11-23T14:34:01.861Z"
   },
   {
    "duration": 17,
    "start_time": "2021-11-23T14:35:38.752Z"
   },
   {
    "duration": 34,
    "start_time": "2021-11-23T14:35:46.773Z"
   },
   {
    "duration": 26,
    "start_time": "2021-11-23T14:36:46.178Z"
   },
   {
    "duration": 30,
    "start_time": "2021-11-23T14:37:51.529Z"
   },
   {
    "duration": 19,
    "start_time": "2021-11-23T14:38:07.077Z"
   },
   {
    "duration": 21,
    "start_time": "2021-11-23T14:38:13.620Z"
   },
   {
    "duration": 12,
    "start_time": "2021-11-23T14:38:31.398Z"
   },
   {
    "duration": 17,
    "start_time": "2021-11-23T14:38:38.966Z"
   },
   {
    "duration": 34,
    "start_time": "2021-11-23T14:39:00.615Z"
   },
   {
    "duration": 324,
    "start_time": "2021-11-23T14:43:04.497Z"
   },
   {
    "duration": 25,
    "start_time": "2021-11-23T14:43:27.024Z"
   },
   {
    "duration": 77,
    "start_time": "2021-11-23T14:44:30.195Z"
   },
   {
    "duration": 12,
    "start_time": "2021-11-23T14:45:12.916Z"
   },
   {
    "duration": 11,
    "start_time": "2021-11-23T14:45:37.967Z"
   },
   {
    "duration": 1445,
    "start_time": "2021-11-23T14:47:23.249Z"
   },
   {
    "duration": 912,
    "start_time": "2021-11-23T14:47:24.696Z"
   },
   {
    "duration": 438,
    "start_time": "2021-11-23T14:47:25.612Z"
   },
   {
    "duration": 255,
    "start_time": "2021-11-23T14:47:26.052Z"
   },
   {
    "duration": 24,
    "start_time": "2021-11-23T14:47:26.309Z"
   },
   {
    "duration": 15,
    "start_time": "2021-11-23T14:47:26.336Z"
   },
   {
    "duration": 50,
    "start_time": "2021-11-23T14:47:26.354Z"
   },
   {
    "duration": 25,
    "start_time": "2021-11-23T14:47:26.407Z"
   },
   {
    "duration": 8,
    "start_time": "2021-11-23T14:47:26.437Z"
   },
   {
    "duration": 249,
    "start_time": "2021-11-23T14:47:26.449Z"
   },
   {
    "duration": 22,
    "start_time": "2021-11-23T14:47:26.701Z"
   },
   {
    "duration": 25,
    "start_time": "2021-11-23T14:47:26.725Z"
   },
   {
    "duration": 31,
    "start_time": "2021-11-23T14:47:26.752Z"
   },
   {
    "duration": 42,
    "start_time": "2021-11-23T14:47:26.785Z"
   },
   {
    "duration": 7,
    "start_time": "2021-11-23T14:47:26.829Z"
   },
   {
    "duration": 792,
    "start_time": "2021-11-23T14:47:26.839Z"
   },
   {
    "duration": 757,
    "start_time": "2021-11-23T14:47:27.633Z"
   },
   {
    "duration": 765,
    "start_time": "2021-11-23T14:47:28.392Z"
   },
   {
    "duration": 26,
    "start_time": "2021-11-23T14:47:29.159Z"
   },
   {
    "duration": 573,
    "start_time": "2021-11-23T14:47:29.187Z"
   },
   {
    "duration": 9,
    "start_time": "2021-11-23T14:47:29.762Z"
   },
   {
    "duration": 14,
    "start_time": "2021-11-23T14:47:29.781Z"
   },
   {
    "duration": 14,
    "start_time": "2021-11-23T14:47:29.797Z"
   },
   {
    "duration": 755,
    "start_time": "2021-11-23T14:47:29.813Z"
   },
   {
    "duration": 117,
    "start_time": "2021-11-23T14:47:30.571Z"
   },
   {
    "duration": 21,
    "start_time": "2021-11-23T14:47:30.691Z"
   },
   {
    "duration": 21,
    "start_time": "2021-11-23T14:47:30.717Z"
   },
   {
    "duration": 8,
    "start_time": "2021-11-23T14:47:30.741Z"
   },
   {
    "duration": 141,
    "start_time": "2021-11-23T14:47:30.751Z"
   },
   {
    "duration": 106,
    "start_time": "2021-11-23T14:47:46.530Z"
   },
   {
    "duration": 101,
    "start_time": "2021-11-23T14:47:55.284Z"
   },
   {
    "duration": 12,
    "start_time": "2021-11-23T14:48:07.254Z"
   },
   {
    "duration": 19,
    "start_time": "2021-11-23T14:48:56.109Z"
   },
   {
    "duration": 1744,
    "start_time": "2021-11-23T14:59:00.917Z"
   },
   {
    "duration": 907,
    "start_time": "2021-11-23T14:59:02.664Z"
   },
   {
    "duration": 443,
    "start_time": "2021-11-23T14:59:03.574Z"
   },
   {
    "duration": 289,
    "start_time": "2021-11-23T14:59:04.019Z"
   },
   {
    "duration": 24,
    "start_time": "2021-11-23T14:59:04.310Z"
   },
   {
    "duration": 16,
    "start_time": "2021-11-23T14:59:04.337Z"
   },
   {
    "duration": 30,
    "start_time": "2021-11-23T14:59:04.383Z"
   },
   {
    "duration": 22,
    "start_time": "2021-11-23T14:59:04.416Z"
   },
   {
    "duration": 39,
    "start_time": "2021-11-23T14:59:04.443Z"
   },
   {
    "duration": 260,
    "start_time": "2021-11-23T14:59:04.486Z"
   },
   {
    "duration": 34,
    "start_time": "2021-11-23T14:59:04.748Z"
   },
   {
    "duration": 26,
    "start_time": "2021-11-23T14:59:04.784Z"
   },
   {
    "duration": 5,
    "start_time": "2021-11-23T14:59:04.812Z"
   },
   {
    "duration": 63,
    "start_time": "2021-11-23T14:59:04.820Z"
   },
   {
    "duration": 10,
    "start_time": "2021-11-23T14:59:04.885Z"
   },
   {
    "duration": 1225,
    "start_time": "2021-11-23T14:59:04.898Z"
   },
   {
    "duration": 1139,
    "start_time": "2021-11-23T14:59:06.126Z"
   },
   {
    "duration": 1071,
    "start_time": "2021-11-23T14:59:07.268Z"
   },
   {
    "duration": 18,
    "start_time": "2021-11-23T14:59:08.341Z"
   },
   {
    "duration": 656,
    "start_time": "2021-11-23T14:59:08.362Z"
   },
   {
    "duration": 12,
    "start_time": "2021-11-23T14:59:09.021Z"
   },
   {
    "duration": 28,
    "start_time": "2021-11-23T14:59:09.036Z"
   },
   {
    "duration": 16,
    "start_time": "2021-11-23T14:59:09.083Z"
   },
   {
    "duration": 797,
    "start_time": "2021-11-23T14:59:09.102Z"
   },
   {
    "duration": 103,
    "start_time": "2021-11-23T14:59:09.902Z"
   },
   {
    "duration": 21,
    "start_time": "2021-11-23T14:59:10.007Z"
   },
   {
    "duration": 25,
    "start_time": "2021-11-23T14:59:10.033Z"
   },
   {
    "duration": 8,
    "start_time": "2021-11-23T14:59:10.082Z"
   },
   {
    "duration": 34,
    "start_time": "2021-11-23T14:59:10.093Z"
   },
   {
    "duration": 4,
    "start_time": "2021-11-23T14:59:10.129Z"
   },
   {
    "duration": 471,
    "start_time": "2021-11-23T15:00:21.062Z"
   },
   {
    "duration": 322,
    "start_time": "2021-11-23T15:00:39.460Z"
   },
   {
    "duration": 346,
    "start_time": "2021-11-23T15:01:01.433Z"
   },
   {
    "duration": 521,
    "start_time": "2021-11-23T15:01:51.403Z"
   },
   {
    "duration": 17,
    "start_time": "2021-11-23T15:02:33.343Z"
   },
   {
    "duration": 321,
    "start_time": "2021-11-23T15:03:53.735Z"
   },
   {
    "duration": 518,
    "start_time": "2021-11-23T15:08:50.134Z"
   },
   {
    "duration": 6,
    "start_time": "2021-11-23T15:09:56.835Z"
   },
   {
    "duration": 334,
    "start_time": "2021-11-23T15:10:01.510Z"
   },
   {
    "duration": 21,
    "start_time": "2021-11-23T15:10:17.649Z"
   },
   {
    "duration": 203,
    "start_time": "2021-11-23T15:10:38.482Z"
   },
   {
    "duration": 213,
    "start_time": "2021-11-23T15:12:14.573Z"
   },
   {
    "duration": 402,
    "start_time": "2021-11-23T15:13:11.833Z"
   },
   {
    "duration": 422,
    "start_time": "2021-11-23T15:13:34.279Z"
   },
   {
    "duration": 492,
    "start_time": "2021-11-23T15:13:42.000Z"
   },
   {
    "duration": 1440,
    "start_time": "2021-11-24T08:06:48.044Z"
   },
   {
    "duration": 867,
    "start_time": "2021-11-24T08:06:49.487Z"
   },
   {
    "duration": 425,
    "start_time": "2021-11-24T08:06:50.357Z"
   },
   {
    "duration": 255,
    "start_time": "2021-11-24T08:06:50.784Z"
   },
   {
    "duration": 24,
    "start_time": "2021-11-24T08:06:51.041Z"
   },
   {
    "duration": 15,
    "start_time": "2021-11-24T08:06:51.068Z"
   },
   {
    "duration": 59,
    "start_time": "2021-11-24T08:06:51.086Z"
   },
   {
    "duration": 19,
    "start_time": "2021-11-24T08:06:51.149Z"
   },
   {
    "duration": 6,
    "start_time": "2021-11-24T08:06:51.171Z"
   },
   {
    "duration": 239,
    "start_time": "2021-11-24T08:06:51.180Z"
   },
   {
    "duration": 21,
    "start_time": "2021-11-24T08:06:51.429Z"
   },
   {
    "duration": 25,
    "start_time": "2021-11-24T08:06:51.452Z"
   },
   {
    "duration": 4,
    "start_time": "2021-11-24T08:06:51.480Z"
   },
   {
    "duration": 62,
    "start_time": "2021-11-24T08:06:51.486Z"
   },
   {
    "duration": 8,
    "start_time": "2021-11-24T08:06:51.550Z"
   },
   {
    "duration": 772,
    "start_time": "2021-11-24T08:06:51.561Z"
   },
   {
    "duration": 749,
    "start_time": "2021-11-24T08:06:52.335Z"
   },
   {
    "duration": 916,
    "start_time": "2021-11-24T08:06:53.086Z"
   },
   {
    "duration": 31,
    "start_time": "2021-11-24T08:06:54.004Z"
   },
   {
    "duration": 494,
    "start_time": "2021-11-24T08:06:54.037Z"
   },
   {
    "duration": 9,
    "start_time": "2021-11-24T08:06:54.533Z"
   },
   {
    "duration": 14,
    "start_time": "2021-11-24T08:06:54.544Z"
   },
   {
    "duration": 13,
    "start_time": "2021-11-24T08:06:54.563Z"
   },
   {
    "duration": 777,
    "start_time": "2021-11-24T08:06:54.579Z"
   },
   {
    "duration": 115,
    "start_time": "2021-11-24T08:06:55.359Z"
   },
   {
    "duration": 21,
    "start_time": "2021-11-24T08:06:55.476Z"
   },
   {
    "duration": 41,
    "start_time": "2021-11-24T08:06:55.499Z"
   },
   {
    "duration": 9,
    "start_time": "2021-11-24T08:06:55.542Z"
   },
   {
    "duration": 32,
    "start_time": "2021-11-24T08:06:55.554Z"
   },
   {
    "duration": 590,
    "start_time": "2021-11-24T08:06:55.589Z"
   },
   {
    "duration": 5,
    "start_time": "2021-11-24T08:11:48.335Z"
   },
   {
    "duration": 324,
    "start_time": "2021-11-24T08:12:13.399Z"
   },
   {
    "duration": 5,
    "start_time": "2021-11-24T08:12:58.308Z"
   },
   {
    "duration": 5,
    "start_time": "2021-11-24T08:13:21.340Z"
   },
   {
    "duration": 4,
    "start_time": "2021-11-24T08:13:45.256Z"
   },
   {
    "duration": 5,
    "start_time": "2021-11-24T08:13:50.630Z"
   },
   {
    "duration": 293,
    "start_time": "2021-11-24T08:21:21.725Z"
   },
   {
    "duration": 5,
    "start_time": "2021-11-24T08:22:20.873Z"
   },
   {
    "duration": 380,
    "start_time": "2021-11-24T08:24:13.818Z"
   },
   {
    "duration": 15,
    "start_time": "2021-11-24T08:25:04.411Z"
   },
   {
    "duration": 114,
    "start_time": "2021-11-24T08:25:14.020Z"
   },
   {
    "duration": 87,
    "start_time": "2021-11-24T08:44:10.103Z"
   },
   {
    "duration": 4,
    "start_time": "2021-11-24T08:46:00.027Z"
   },
   {
    "duration": 9,
    "start_time": "2021-11-24T08:46:24.739Z"
   },
   {
    "duration": 8,
    "start_time": "2021-11-24T08:46:37.903Z"
   },
   {
    "duration": 4,
    "start_time": "2021-11-24T08:46:44.961Z"
   },
   {
    "duration": 401,
    "start_time": "2021-11-24T09:03:54.860Z"
   },
   {
    "duration": 317,
    "start_time": "2021-11-24T09:04:30.988Z"
   },
   {
    "duration": 5,
    "start_time": "2021-11-24T09:05:00.315Z"
   },
   {
    "duration": 242,
    "start_time": "2021-11-24T09:05:04.644Z"
   },
   {
    "duration": 6,
    "start_time": "2021-11-24T09:06:31.985Z"
   },
   {
    "duration": 355,
    "start_time": "2021-11-24T09:21:16.543Z"
   },
   {
    "duration": 2027,
    "start_time": "2021-11-24T09:21:28.955Z"
   },
   {
    "duration": 1081,
    "start_time": "2021-11-24T09:21:38.127Z"
   },
   {
    "duration": 1078,
    "start_time": "2021-11-24T09:21:42.268Z"
   },
   {
    "duration": 1496,
    "start_time": "2021-11-24T09:21:57.835Z"
   },
   {
    "duration": 1453,
    "start_time": "2021-11-24T09:22:20.763Z"
   },
   {
    "duration": 1372,
    "start_time": "2021-11-24T09:22:28.107Z"
   },
   {
    "duration": 1414,
    "start_time": "2021-11-24T09:22:38.382Z"
   },
   {
    "duration": 1349,
    "start_time": "2021-11-24T09:22:51.196Z"
   },
   {
    "duration": 1461,
    "start_time": "2021-11-24T09:23:04.013Z"
   },
   {
    "duration": 1298,
    "start_time": "2021-11-24T09:23:12.348Z"
   },
   {
    "duration": 1302,
    "start_time": "2021-11-24T09:23:19.545Z"
   },
   {
    "duration": 1449,
    "start_time": "2021-11-24T09:23:25.461Z"
   },
   {
    "duration": 2818,
    "start_time": "2021-11-24T09:23:31.246Z"
   },
   {
    "duration": 1882,
    "start_time": "2021-11-24T09:23:43.601Z"
   },
   {
    "duration": 1443,
    "start_time": "2021-11-24T09:23:58.237Z"
   },
   {
    "duration": 889,
    "start_time": "2021-11-24T09:23:59.684Z"
   },
   {
    "duration": 458,
    "start_time": "2021-11-24T09:24:00.576Z"
   },
   {
    "duration": 271,
    "start_time": "2021-11-24T09:24:01.037Z"
   },
   {
    "duration": 32,
    "start_time": "2021-11-24T09:24:01.310Z"
   },
   {
    "duration": 16,
    "start_time": "2021-11-24T09:24:01.345Z"
   },
   {
    "duration": 41,
    "start_time": "2021-11-24T09:24:01.363Z"
   },
   {
    "duration": 61,
    "start_time": "2021-11-24T09:24:01.407Z"
   },
   {
    "duration": 28,
    "start_time": "2021-11-24T09:24:01.472Z"
   },
   {
    "duration": 236,
    "start_time": "2021-11-24T09:24:01.503Z"
   },
   {
    "duration": 23,
    "start_time": "2021-11-24T09:24:01.742Z"
   },
   {
    "duration": 53,
    "start_time": "2021-11-24T09:24:01.767Z"
   },
   {
    "duration": 15,
    "start_time": "2021-11-24T09:24:01.822Z"
   },
   {
    "duration": 61,
    "start_time": "2021-11-24T09:24:01.840Z"
   },
   {
    "duration": 10,
    "start_time": "2021-11-24T09:24:01.904Z"
   },
   {
    "duration": 804,
    "start_time": "2021-11-24T09:24:01.916Z"
   },
   {
    "duration": 803,
    "start_time": "2021-11-24T09:24:02.730Z"
   },
   {
    "duration": 921,
    "start_time": "2021-11-24T09:24:03.536Z"
   },
   {
    "duration": 17,
    "start_time": "2021-11-24T09:24:04.460Z"
   },
   {
    "duration": 517,
    "start_time": "2021-11-24T09:24:04.480Z"
   },
   {
    "duration": 8,
    "start_time": "2021-11-24T09:24:04.999Z"
   },
   {
    "duration": 29,
    "start_time": "2021-11-24T09:24:05.010Z"
   },
   {
    "duration": 26,
    "start_time": "2021-11-24T09:24:05.042Z"
   },
   {
    "duration": 769,
    "start_time": "2021-11-24T09:24:05.071Z"
   },
   {
    "duration": 4,
    "start_time": "2021-11-24T09:24:05.843Z"
   },
   {
    "duration": 120,
    "start_time": "2021-11-24T09:24:05.849Z"
   },
   {
    "duration": 20,
    "start_time": "2021-11-24T09:24:05.974Z"
   },
   {
    "duration": 40,
    "start_time": "2021-11-24T09:24:05.997Z"
   },
   {
    "duration": 10,
    "start_time": "2021-11-24T09:24:06.039Z"
   },
   {
    "duration": 40,
    "start_time": "2021-11-24T09:24:06.051Z"
   },
   {
    "duration": 1928,
    "start_time": "2021-11-24T09:24:06.094Z"
   },
   {
    "duration": 17,
    "start_time": "2021-11-24T09:26:06.328Z"
   },
   {
    "duration": 15,
    "start_time": "2021-11-24T09:26:27.296Z"
   },
   {
    "duration": 14,
    "start_time": "2021-11-24T09:26:30.033Z"
   },
   {
    "duration": 1460,
    "start_time": "2021-11-24T09:28:45.411Z"
   },
   {
    "duration": 868,
    "start_time": "2021-11-24T09:28:46.873Z"
   },
   {
    "duration": 432,
    "start_time": "2021-11-24T09:28:47.744Z"
   },
   {
    "duration": 258,
    "start_time": "2021-11-24T09:28:48.178Z"
   },
   {
    "duration": 24,
    "start_time": "2021-11-24T09:28:48.438Z"
   },
   {
    "duration": 17,
    "start_time": "2021-11-24T09:28:48.464Z"
   },
   {
    "duration": 58,
    "start_time": "2021-11-24T09:28:48.483Z"
   },
   {
    "duration": 18,
    "start_time": "2021-11-24T09:28:48.545Z"
   },
   {
    "duration": 7,
    "start_time": "2021-11-24T09:28:48.566Z"
   },
   {
    "duration": 234,
    "start_time": "2021-11-24T09:28:48.575Z"
   },
   {
    "duration": 36,
    "start_time": "2021-11-24T09:28:48.811Z"
   },
   {
    "duration": 32,
    "start_time": "2021-11-24T09:28:48.849Z"
   },
   {
    "duration": 5,
    "start_time": "2021-11-24T09:28:48.883Z"
   },
   {
    "duration": 61,
    "start_time": "2021-11-24T09:28:48.890Z"
   },
   {
    "duration": 8,
    "start_time": "2021-11-24T09:28:48.953Z"
   },
   {
    "duration": 773,
    "start_time": "2021-11-24T09:28:48.963Z"
   },
   {
    "duration": 755,
    "start_time": "2021-11-24T09:28:49.739Z"
   },
   {
    "duration": 953,
    "start_time": "2021-11-24T09:28:50.497Z"
   },
   {
    "duration": 18,
    "start_time": "2021-11-24T09:28:51.453Z"
   },
   {
    "duration": 517,
    "start_time": "2021-11-24T09:28:51.474Z"
   },
   {
    "duration": 9,
    "start_time": "2021-11-24T09:28:51.993Z"
   },
   {
    "duration": 32,
    "start_time": "2021-11-24T09:28:52.004Z"
   },
   {
    "duration": 14,
    "start_time": "2021-11-24T09:28:52.040Z"
   },
   {
    "duration": 742,
    "start_time": "2021-11-24T09:28:52.057Z"
   },
   {
    "duration": 5,
    "start_time": "2021-11-24T09:28:52.801Z"
   },
   {
    "duration": 114,
    "start_time": "2021-11-24T09:28:52.808Z"
   },
   {
    "duration": 21,
    "start_time": "2021-11-24T09:28:52.924Z"
   },
   {
    "duration": 22,
    "start_time": "2021-11-24T09:28:52.948Z"
   },
   {
    "duration": 7,
    "start_time": "2021-11-24T09:28:52.973Z"
   },
   {
    "duration": 50,
    "start_time": "2021-11-24T09:28:52.983Z"
   },
   {
    "duration": 1963,
    "start_time": "2021-11-24T09:28:53.036Z"
   },
   {
    "duration": 2232,
    "start_time": "2021-11-24T09:31:05.898Z"
   },
   {
    "duration": 406,
    "start_time": "2021-11-24T09:31:25.833Z"
   },
   {
    "duration": 280,
    "start_time": "2021-11-24T09:31:44.472Z"
   },
   {
    "duration": 355,
    "start_time": "2021-11-24T09:31:51.713Z"
   },
   {
    "duration": 2300,
    "start_time": "2021-11-24T09:31:56.946Z"
   },
   {
    "duration": 97,
    "start_time": "2021-11-24T09:46:24.630Z"
   },
   {
    "duration": 82,
    "start_time": "2021-11-24T09:46:44.853Z"
   },
   {
    "duration": 105,
    "start_time": "2021-11-24T09:47:22.175Z"
   },
   {
    "duration": 703,
    "start_time": "2021-11-24T09:47:38.748Z"
   },
   {
    "duration": 372519,
    "start_time": "2021-11-24T09:52:37.129Z"
   },
   {
    "duration": 380669,
    "start_time": "2021-11-24T10:10:01.857Z"
   },
   {
    "duration": 2374,
    "start_time": "2021-11-24T10:16:33.429Z"
   },
   {
    "duration": 1920,
    "start_time": "2021-11-24T10:16:37.486Z"
   },
   {
    "duration": 2335,
    "start_time": "2021-11-24T10:16:41.557Z"
   },
   {
    "duration": 437760,
    "start_time": "2021-11-24T10:17:13.926Z"
   },
   {
    "duration": 9,
    "start_time": "2021-11-24T10:29:55.899Z"
   },
   {
    "duration": 12,
    "start_time": "2021-11-24T10:31:30.954Z"
   },
   {
    "duration": 1279,
    "start_time": "2021-11-24T12:42:54.976Z"
   },
   {
    "duration": 732,
    "start_time": "2021-11-24T12:42:56.257Z"
   },
   {
    "duration": 279,
    "start_time": "2021-11-24T12:42:56.991Z"
   },
   {
    "duration": 153,
    "start_time": "2021-11-24T12:42:57.272Z"
   },
   {
    "duration": 15,
    "start_time": "2021-11-24T12:42:57.426Z"
   },
   {
    "duration": 10,
    "start_time": "2021-11-24T12:42:57.442Z"
   },
   {
    "duration": 15,
    "start_time": "2021-11-24T12:42:57.454Z"
   },
   {
    "duration": 36,
    "start_time": "2021-11-24T12:42:57.471Z"
   },
   {
    "duration": 6,
    "start_time": "2021-11-24T12:42:57.510Z"
   },
   {
    "duration": 192,
    "start_time": "2021-11-24T12:42:57.518Z"
   },
   {
    "duration": 16,
    "start_time": "2021-11-24T12:42:57.712Z"
   },
   {
    "duration": 25,
    "start_time": "2021-11-24T12:42:57.730Z"
   },
   {
    "duration": 3,
    "start_time": "2021-11-24T12:42:57.756Z"
   },
   {
    "duration": 46,
    "start_time": "2021-11-24T12:42:57.761Z"
   },
   {
    "duration": 5,
    "start_time": "2021-11-24T12:42:57.809Z"
   },
   {
    "duration": 464,
    "start_time": "2021-11-24T12:42:57.817Z"
   },
   {
    "duration": 456,
    "start_time": "2021-11-24T12:42:58.283Z"
   },
   {
    "duration": 632,
    "start_time": "2021-11-24T12:42:58.741Z"
   },
   {
    "duration": 13,
    "start_time": "2021-11-24T12:42:59.375Z"
   },
   {
    "duration": 297,
    "start_time": "2021-11-24T12:42:59.389Z"
   },
   {
    "duration": 6,
    "start_time": "2021-11-24T12:42:59.688Z"
   },
   {
    "duration": 8,
    "start_time": "2021-11-24T12:42:59.706Z"
   },
   {
    "duration": 9,
    "start_time": "2021-11-24T12:42:59.716Z"
   },
   {
    "duration": 452,
    "start_time": "2021-11-24T12:42:59.726Z"
   },
   {
    "duration": 3,
    "start_time": "2021-11-24T12:43:00.180Z"
   },
   {
    "duration": 103,
    "start_time": "2021-11-24T12:43:00.185Z"
   },
   {
    "duration": 19,
    "start_time": "2021-11-24T12:43:00.291Z"
   },
   {
    "duration": 21,
    "start_time": "2021-11-24T12:43:00.312Z"
   },
   {
    "duration": 25,
    "start_time": "2021-11-24T12:43:00.335Z"
   },
   {
    "duration": 37,
    "start_time": "2021-11-24T12:43:00.361Z"
   },
   {
    "duration": 1271,
    "start_time": "2021-11-24T12:43:00.400Z"
   },
   {
    "duration": 1502,
    "start_time": "2021-11-24T12:43:01.673Z"
   },
   {
    "duration": 274303,
    "start_time": "2021-11-24T12:43:03.177Z"
   },
   {
    "duration": 1197,
    "start_time": "2021-11-24T12:47:37.482Z"
   },
   {
    "duration": 1403,
    "start_time": "2021-11-24T12:47:38.681Z"
   },
   {
    "duration": 1189,
    "start_time": "2021-11-24T14:32:42.526Z"
   },
   {
    "duration": 750,
    "start_time": "2021-11-24T14:32:43.717Z"
   },
   {
    "duration": 254,
    "start_time": "2021-11-24T14:32:44.469Z"
   },
   {
    "duration": 145,
    "start_time": "2021-11-24T14:32:44.725Z"
   },
   {
    "duration": 15,
    "start_time": "2021-11-24T14:32:44.871Z"
   },
   {
    "duration": 22,
    "start_time": "2021-11-24T14:32:44.887Z"
   },
   {
    "duration": 16,
    "start_time": "2021-11-24T14:32:44.911Z"
   },
   {
    "duration": 14,
    "start_time": "2021-11-24T14:32:44.930Z"
   },
   {
    "duration": 5,
    "start_time": "2021-11-24T14:32:44.946Z"
   },
   {
    "duration": 137,
    "start_time": "2021-11-24T14:32:44.952Z"
   },
   {
    "duration": 22,
    "start_time": "2021-11-24T14:32:45.091Z"
   },
   {
    "duration": 25,
    "start_time": "2021-11-24T14:32:45.115Z"
   },
   {
    "duration": 3,
    "start_time": "2021-11-24T14:32:45.142Z"
   },
   {
    "duration": 30,
    "start_time": "2021-11-24T14:32:45.146Z"
   },
   {
    "duration": 5,
    "start_time": "2021-11-24T14:32:45.178Z"
   },
   {
    "duration": 463,
    "start_time": "2021-11-24T14:32:45.184Z"
   },
   {
    "duration": 448,
    "start_time": "2021-11-24T14:32:45.649Z"
   },
   {
    "duration": 535,
    "start_time": "2021-11-24T14:32:46.099Z"
   },
   {
    "duration": 12,
    "start_time": "2021-11-24T14:32:46.636Z"
   },
   {
    "duration": 299,
    "start_time": "2021-11-24T14:32:46.651Z"
   },
   {
    "duration": 7,
    "start_time": "2021-11-24T14:32:46.952Z"
   },
   {
    "duration": 11,
    "start_time": "2021-11-24T14:32:46.961Z"
   },
   {
    "duration": 34,
    "start_time": "2021-11-24T14:32:46.976Z"
   },
   {
    "duration": 446,
    "start_time": "2021-11-24T14:32:47.012Z"
   },
   {
    "duration": 3,
    "start_time": "2021-11-24T14:32:47.460Z"
   },
   {
    "duration": 80,
    "start_time": "2021-11-24T14:32:47.464Z"
   },
   {
    "duration": 14,
    "start_time": "2021-11-24T14:32:47.546Z"
   },
   {
    "duration": 20,
    "start_time": "2021-11-24T14:32:47.562Z"
   },
   {
    "duration": 24,
    "start_time": "2021-11-24T14:32:47.583Z"
   },
   {
    "duration": 18,
    "start_time": "2021-11-24T14:32:47.609Z"
   },
   {
    "duration": 1080,
    "start_time": "2021-11-24T14:32:47.628Z"
   },
   {
    "duration": 1302,
    "start_time": "2021-11-24T14:32:48.710Z"
   },
   {
    "duration": 274216,
    "start_time": "2021-11-24T14:32:50.013Z"
   },
   {
    "duration": 200715,
    "start_time": "2021-11-24T14:34:03.516Z"
   },
   {
    "duration": 200712,
    "start_time": "2021-11-24T14:34:03.520Z"
   },
   {
    "duration": 200711,
    "start_time": "2021-11-24T14:34:03.523Z"
   },
   {
    "duration": 200709,
    "start_time": "2021-11-24T14:34:03.526Z"
   },
   {
    "duration": 200706,
    "start_time": "2021-11-24T14:34:03.530Z"
   },
   {
    "duration": 200617,
    "start_time": "2021-11-24T14:34:03.620Z"
   },
   {
    "duration": 200591,
    "start_time": "2021-11-24T14:34:03.648Z"
   },
   {
    "duration": 154725,
    "start_time": "2021-11-24T14:37:30.336Z"
   },
   {
    "duration": 1708,
    "start_time": "2021-11-24T14:40:20.922Z"
   },
   {
    "duration": 1528,
    "start_time": "2021-11-24T14:40:30.620Z"
   },
   {
    "duration": 11,
    "start_time": "2021-11-24T14:42:07.513Z"
   },
   {
    "duration": 448,
    "start_time": "2021-11-24T14:43:55.342Z"
   },
   {
    "duration": 52,
    "start_time": "2021-11-24T14:43:58.512Z"
   },
   {
    "duration": 28,
    "start_time": "2021-11-24T14:44:04.423Z"
   },
   {
    "duration": 13,
    "start_time": "2021-11-24T14:44:22.488Z"
   },
   {
    "duration": 408,
    "start_time": "2021-11-24T14:45:44.054Z"
   },
   {
    "duration": 11,
    "start_time": "2021-11-24T14:45:52.189Z"
   },
   {
    "duration": 15,
    "start_time": "2021-11-24T14:46:00.970Z"
   },
   {
    "duration": 357,
    "start_time": "2021-11-24T14:46:06.518Z"
   },
   {
    "duration": 124,
    "start_time": "2021-11-24T14:46:17.434Z"
   },
   {
    "duration": 28,
    "start_time": "2021-11-24T14:46:21.140Z"
   },
   {
    "duration": 11,
    "start_time": "2021-11-24T14:46:35.883Z"
   },
   {
    "duration": 7,
    "start_time": "2021-11-24T14:47:22.952Z"
   },
   {
    "duration": 12,
    "start_time": "2021-11-24T14:47:37.248Z"
   },
   {
    "duration": 861,
    "start_time": "2021-11-24T14:48:47.400Z"
   },
   {
    "duration": 520,
    "start_time": "2021-11-24T14:49:17.565Z"
   },
   {
    "duration": 870,
    "start_time": "2021-11-24T14:49:44.988Z"
   },
   {
    "duration": 358,
    "start_time": "2021-11-24T14:49:59.303Z"
   },
   {
    "duration": 2168,
    "start_time": "2021-11-24T14:50:05.339Z"
   },
   {
    "duration": 2199,
    "start_time": "2021-11-24T14:50:30.688Z"
   },
   {
    "duration": 2384,
    "start_time": "2021-11-24T14:51:50.467Z"
   },
   {
    "duration": 112,
    "start_time": "2021-11-24T15:04:21.300Z"
   },
   {
    "duration": 1246,
    "start_time": "2021-11-24T15:04:33.489Z"
   },
   {
    "duration": 794,
    "start_time": "2021-11-24T15:04:34.737Z"
   },
   {
    "duration": 280,
    "start_time": "2021-11-24T15:04:35.533Z"
   },
   {
    "duration": 162,
    "start_time": "2021-11-24T15:04:35.816Z"
   },
   {
    "duration": 29,
    "start_time": "2021-11-24T15:04:35.980Z"
   },
   {
    "duration": 15,
    "start_time": "2021-11-24T15:04:36.011Z"
   },
   {
    "duration": 28,
    "start_time": "2021-11-24T15:04:36.029Z"
   },
   {
    "duration": 19,
    "start_time": "2021-11-24T15:04:36.059Z"
   },
   {
    "duration": 32,
    "start_time": "2021-11-24T15:04:36.081Z"
   },
   {
    "duration": 197,
    "start_time": "2021-11-24T15:04:36.117Z"
   },
   {
    "duration": 5,
    "start_time": "2021-11-24T15:04:36.316Z"
   },
   {
    "duration": 41,
    "start_time": "2021-11-24T15:04:36.323Z"
   },
   {
    "duration": 7,
    "start_time": "2021-11-24T15:04:36.366Z"
   },
   {
    "duration": 502,
    "start_time": "2021-11-24T15:04:36.375Z"
   },
   {
    "duration": 492,
    "start_time": "2021-11-24T15:04:36.879Z"
   },
   {
    "duration": 587,
    "start_time": "2021-11-24T15:04:37.373Z"
   },
   {
    "duration": 13,
    "start_time": "2021-11-24T15:04:37.962Z"
   },
   {
    "duration": 333,
    "start_time": "2021-11-24T15:04:37.976Z"
   },
   {
    "duration": 12,
    "start_time": "2021-11-24T15:04:38.312Z"
   },
   {
    "duration": 10,
    "start_time": "2021-11-24T15:04:38.327Z"
   },
   {
    "duration": 13,
    "start_time": "2021-11-24T15:04:38.339Z"
   },
   {
    "duration": 506,
    "start_time": "2021-11-24T15:04:38.354Z"
   },
   {
    "duration": 3,
    "start_time": "2021-11-24T15:04:38.862Z"
   },
   {
    "duration": 104,
    "start_time": "2021-11-24T15:04:38.866Z"
   },
   {
    "duration": 14,
    "start_time": "2021-11-24T15:04:38.971Z"
   },
   {
    "duration": 35,
    "start_time": "2021-11-24T15:04:38.987Z"
   },
   {
    "duration": 7,
    "start_time": "2021-11-24T15:04:39.027Z"
   },
   {
    "duration": 24,
    "start_time": "2021-11-24T15:04:39.036Z"
   },
   {
    "duration": 1259,
    "start_time": "2021-11-24T15:04:39.062Z"
   },
   {
    "duration": 1373,
    "start_time": "2021-11-24T15:04:40.323Z"
   },
   {
    "duration": 279342,
    "start_time": "2021-11-24T15:04:41.697Z"
   },
   {
    "duration": 1193,
    "start_time": "2021-11-24T15:09:21.041Z"
   },
   {
    "duration": 1418,
    "start_time": "2021-11-24T15:09:22.236Z"
   },
   {
    "duration": 313583,
    "start_time": "2021-11-24T15:09:23.656Z"
   },
   {
    "duration": 16,
    "start_time": "2021-11-24T15:14:37.240Z"
   },
   {
    "duration": 12,
    "start_time": "2021-11-24T15:14:37.258Z"
   },
   {
    "duration": 8,
    "start_time": "2021-11-24T15:14:37.271Z"
   },
   {
    "duration": 34,
    "start_time": "2021-11-24T15:14:37.280Z"
   },
   {
    "duration": 503,
    "start_time": "2021-11-24T15:14:37.316Z"
   },
   {
    "duration": 2298,
    "start_time": "2021-11-24T15:14:37.821Z"
   },
   {
    "duration": 1043,
    "start_time": "2021-11-24T22:58:42.237Z"
   },
   {
    "duration": 715,
    "start_time": "2021-11-24T22:58:43.282Z"
   },
   {
    "duration": 254,
    "start_time": "2021-11-24T22:59:06.432Z"
   },
   {
    "duration": 142,
    "start_time": "2021-11-24T22:59:06.897Z"
   },
   {
    "duration": 14,
    "start_time": "2021-11-24T22:59:07.184Z"
   },
   {
    "duration": 10,
    "start_time": "2021-11-24T22:59:07.657Z"
   },
   {
    "duration": 18,
    "start_time": "2021-11-24T22:59:08.168Z"
   },
   {
    "duration": 13,
    "start_time": "2021-11-24T22:59:08.876Z"
   },
   {
    "duration": 5,
    "start_time": "2021-11-24T22:59:47.044Z"
   },
   {
    "duration": 115,
    "start_time": "2021-11-24T23:00:16.754Z"
   },
   {
    "duration": 3,
    "start_time": "2021-11-24T23:00:20.012Z"
   },
   {
    "duration": 29,
    "start_time": "2021-11-24T23:00:20.854Z"
   },
   {
    "duration": 6,
    "start_time": "2021-11-24T23:03:12.941Z"
   },
   {
    "duration": 460,
    "start_time": "2021-11-24T23:03:13.444Z"
   },
   {
    "duration": 462,
    "start_time": "2021-11-24T23:03:13.906Z"
   },
   {
    "duration": 577,
    "start_time": "2021-11-24T23:03:14.370Z"
   },
   {
    "duration": 12,
    "start_time": "2021-11-24T23:03:43.181Z"
   },
   {
    "duration": 302,
    "start_time": "2021-11-24T23:03:43.492Z"
   },
   {
    "duration": 6,
    "start_time": "2021-11-24T23:03:43.796Z"
   },
   {
    "duration": 8,
    "start_time": "2021-11-24T23:03:44.481Z"
   },
   {
    "duration": 10,
    "start_time": "2021-11-24T23:04:38.859Z"
   },
   {
    "duration": 441,
    "start_time": "2021-11-24T23:04:39.339Z"
   },
   {
    "duration": 4,
    "start_time": "2021-11-24T23:05:02.010Z"
   },
   {
    "duration": 66,
    "start_time": "2021-11-24T23:05:03.177Z"
   },
   {
    "duration": 14,
    "start_time": "2021-11-24T23:05:06.956Z"
   },
   {
    "duration": 15,
    "start_time": "2021-11-24T23:05:07.819Z"
   },
   {
    "duration": 6,
    "start_time": "2021-11-24T23:05:08.577Z"
   },
   {
    "duration": 15,
    "start_time": "2021-11-24T23:05:09.194Z"
   },
   {
    "duration": 4,
    "start_time": "2021-11-24T23:07:27.479Z"
   },
   {
    "duration": 4,
    "start_time": "2021-11-24T23:07:49.983Z"
   },
   {
    "duration": 4,
    "start_time": "2021-11-25T06:55:42.485Z"
   },
   {
    "duration": 4,
    "start_time": "2021-11-25T06:55:57.175Z"
   },
   {
    "duration": 306,
    "start_time": "2021-11-25T06:56:43.266Z"
   },
   {
    "duration": 1147,
    "start_time": "2021-11-25T06:57:01.379Z"
   },
   {
    "duration": 1642,
    "start_time": "2021-11-25T06:57:02.528Z"
   },
   {
    "duration": 258,
    "start_time": "2021-11-25T06:57:04.171Z"
   },
   {
    "duration": 138,
    "start_time": "2021-11-25T06:57:05.911Z"
   },
   {
    "duration": 19,
    "start_time": "2021-11-25T06:57:06.528Z"
   },
   {
    "duration": 10,
    "start_time": "2021-11-25T06:57:07.204Z"
   },
   {
    "duration": 16,
    "start_time": "2021-11-25T06:57:07.911Z"
   },
   {
    "duration": 15,
    "start_time": "2021-11-25T06:57:09.833Z"
   },
   {
    "duration": 5,
    "start_time": "2021-11-25T06:57:11.786Z"
   },
   {
    "duration": 115,
    "start_time": "2021-11-25T06:57:18.331Z"
   },
   {
    "duration": 3,
    "start_time": "2021-11-25T06:57:19.267Z"
   },
   {
    "duration": 26,
    "start_time": "2021-11-25T06:57:20.248Z"
   },
   {
    "duration": 507,
    "start_time": "2021-11-25T06:57:22.818Z"
   },
   {
    "duration": 729,
    "start_time": "2021-11-25T06:58:00.262Z"
   },
   {
    "duration": 29,
    "start_time": "2021-11-25T07:01:40.502Z"
   },
   {
    "duration": 39,
    "start_time": "2021-11-25T07:01:58.493Z"
   },
   {
    "duration": 24,
    "start_time": "2021-11-25T07:02:13.460Z"
   },
   {
    "duration": 22,
    "start_time": "2021-11-25T07:02:25.434Z"
   },
   {
    "duration": 6,
    "start_time": "2021-11-25T07:02:26.584Z"
   },
   {
    "duration": 437,
    "start_time": "2021-11-25T07:02:30.848Z"
   },
   {
    "duration": 437,
    "start_time": "2021-11-25T07:02:31.609Z"
   },
   {
    "duration": 514,
    "start_time": "2021-11-25T07:02:32.416Z"
   },
   {
    "duration": 13,
    "start_time": "2021-11-25T07:02:42.119Z"
   },
   {
    "duration": 294,
    "start_time": "2021-11-25T07:02:45.193Z"
   },
   {
    "duration": 7,
    "start_time": "2021-11-25T07:02:48.210Z"
   },
   {
    "duration": 30,
    "start_time": "2021-11-25T07:03:38.956Z"
   },
   {
    "duration": 4,
    "start_time": "2021-11-25T07:08:26.582Z"
   },
   {
    "duration": 793,
    "start_time": "2021-11-25T07:08:26.722Z"
   },
   {
    "duration": 275,
    "start_time": "2021-11-25T07:08:27.517Z"
   },
   {
    "duration": 151,
    "start_time": "2021-11-25T07:08:27.794Z"
   },
   {
    "duration": 15,
    "start_time": "2021-11-25T07:08:27.947Z"
   },
   {
    "duration": 9,
    "start_time": "2021-11-25T07:08:27.964Z"
   },
   {
    "duration": 15,
    "start_time": "2021-11-25T07:08:27.975Z"
   },
   {
    "duration": 10,
    "start_time": "2021-11-25T07:08:27.991Z"
   },
   {
    "duration": 5,
    "start_time": "2021-11-25T07:08:28.336Z"
   },
   {
    "duration": 119,
    "start_time": "2021-11-25T07:08:29.313Z"
   },
   {
    "duration": 3,
    "start_time": "2021-11-25T07:08:29.723Z"
   },
   {
    "duration": 29,
    "start_time": "2021-11-25T07:08:30.264Z"
   },
   {
    "duration": 25,
    "start_time": "2021-11-25T07:08:38.259Z"
   },
   {
    "duration": 6,
    "start_time": "2021-11-25T07:08:39.193Z"
   },
   {
    "duration": 491,
    "start_time": "2021-11-25T07:08:39.757Z"
   },
   {
    "duration": 460,
    "start_time": "2021-11-25T07:08:40.250Z"
   },
   {
    "duration": 468,
    "start_time": "2021-11-25T07:08:40.712Z"
   },
   {
    "duration": 13,
    "start_time": "2021-11-25T07:08:41.182Z"
   },
   {
    "duration": 381,
    "start_time": "2021-11-25T07:08:41.445Z"
   },
   {
    "duration": 6,
    "start_time": "2021-11-25T07:08:42.486Z"
   },
   {
    "duration": 10,
    "start_time": "2021-11-25T07:08:43.562Z"
   },
   {
    "duration": 9,
    "start_time": "2021-11-25T07:08:48.956Z"
   },
   {
    "duration": 441,
    "start_time": "2021-11-25T07:09:07.837Z"
   },
   {
    "duration": 87,
    "start_time": "2021-11-25T07:09:13.463Z"
   },
   {
    "duration": 466,
    "start_time": "2021-11-25T07:12:22.168Z"
   },
   {
    "duration": 274,
    "start_time": "2021-11-25T07:15:36.551Z"
   },
   {
    "duration": 6,
    "start_time": "2021-11-25T07:15:42.498Z"
   },
   {
    "duration": 479,
    "start_time": "2021-11-25T07:21:48.082Z"
   },
   {
    "duration": 547,
    "start_time": "2021-11-25T07:26:31.064Z"
   },
   {
    "duration": 1114,
    "start_time": "2021-11-25T07:27:33.534Z"
   },
   {
    "duration": 688,
    "start_time": "2021-11-25T07:27:34.650Z"
   },
   {
    "duration": 263,
    "start_time": "2021-11-25T07:27:35.922Z"
   },
   {
    "duration": 136,
    "start_time": "2021-11-25T07:27:36.497Z"
   },
   {
    "duration": 15,
    "start_time": "2021-11-25T07:27:37.037Z"
   },
   {
    "duration": 11,
    "start_time": "2021-11-25T07:27:37.446Z"
   },
   {
    "duration": 17,
    "start_time": "2021-11-25T07:27:37.862Z"
   },
   {
    "duration": 15,
    "start_time": "2021-11-25T07:27:38.978Z"
   },
   {
    "duration": 5,
    "start_time": "2021-11-25T07:27:41.123Z"
   },
   {
    "duration": 115,
    "start_time": "2021-11-25T07:27:42.944Z"
   },
   {
    "duration": 3,
    "start_time": "2021-11-25T07:27:43.998Z"
   },
   {
    "duration": 26,
    "start_time": "2021-11-25T07:27:45.213Z"
   },
   {
    "duration": 601,
    "start_time": "2021-11-25T07:27:48.624Z"
   },
   {
    "duration": 276,
    "start_time": "2021-11-25T07:29:12.111Z"
   },
   {
    "duration": 313,
    "start_time": "2021-11-25T07:29:34.345Z"
   },
   {
    "duration": 474,
    "start_time": "2021-11-25T07:30:33.830Z"
   },
   {
    "duration": 117,
    "start_time": "2021-11-25T07:30:56.217Z"
   },
   {
    "duration": 127,
    "start_time": "2021-11-25T07:31:16.959Z"
   },
   {
    "duration": 481,
    "start_time": "2021-11-25T07:31:33.042Z"
   },
   {
    "duration": 182,
    "start_time": "2021-11-25T07:31:38.909Z"
   },
   {
    "duration": 483,
    "start_time": "2021-11-25T07:34:17.000Z"
   },
   {
    "duration": 62,
    "start_time": "2021-11-25T07:35:05.017Z"
   },
   {
    "duration": 1229,
    "start_time": "2021-11-25T07:35:23.115Z"
   },
   {
    "duration": 739,
    "start_time": "2021-11-25T07:35:24.346Z"
   },
   {
    "duration": 258,
    "start_time": "2021-11-25T07:35:25.086Z"
   },
   {
    "duration": 150,
    "start_time": "2021-11-25T07:35:25.346Z"
   },
   {
    "duration": 16,
    "start_time": "2021-11-25T07:35:25.498Z"
   },
   {
    "duration": 11,
    "start_time": "2021-11-25T07:35:25.750Z"
   },
   {
    "duration": 19,
    "start_time": "2021-11-25T07:35:26.740Z"
   },
   {
    "duration": 17,
    "start_time": "2021-11-25T07:35:27.966Z"
   },
   {
    "duration": 5,
    "start_time": "2021-11-25T07:35:28.982Z"
   },
   {
    "duration": 117,
    "start_time": "2021-11-25T07:35:29.519Z"
   },
   {
    "duration": 3,
    "start_time": "2021-11-25T07:35:29.687Z"
   },
   {
    "duration": 28,
    "start_time": "2021-11-25T07:35:29.846Z"
   },
   {
    "duration": 59,
    "start_time": "2021-11-25T07:35:30.444Z"
   },
   {
    "duration": 6,
    "start_time": "2021-11-25T07:35:30.832Z"
   },
   {
    "duration": 456,
    "start_time": "2021-11-25T07:35:31.141Z"
   },
   {
    "duration": 448,
    "start_time": "2021-11-25T07:35:31.618Z"
   },
   {
    "duration": 543,
    "start_time": "2021-11-25T07:35:32.239Z"
   },
   {
    "duration": 13,
    "start_time": "2021-11-25T07:35:33.864Z"
   },
   {
    "duration": 341,
    "start_time": "2021-11-25T07:35:34.433Z"
   },
   {
    "duration": 8,
    "start_time": "2021-11-25T07:35:34.962Z"
   },
   {
    "duration": 11,
    "start_time": "2021-11-25T07:35:35.505Z"
   },
   {
    "duration": 11,
    "start_time": "2021-11-25T07:35:38.621Z"
   },
   {
    "duration": 443,
    "start_time": "2021-11-25T07:35:39.480Z"
   },
   {
    "duration": 5,
    "start_time": "2021-11-25T07:47:31.806Z"
   },
   {
    "duration": 11,
    "start_time": "2021-11-25T07:47:42.203Z"
   },
   {
    "duration": 8154,
    "start_time": "2021-11-25T07:48:10.649Z"
   },
   {
    "duration": 7570,
    "start_time": "2021-11-25T07:48:28.408Z"
   },
   {
    "duration": 94,
    "start_time": "2021-11-25T07:49:51.674Z"
   },
   {
    "duration": 303,
    "start_time": "2021-11-25T07:50:11.057Z"
   },
   {
    "duration": 287,
    "start_time": "2021-11-25T07:50:50.840Z"
   },
   {
    "duration": 365,
    "start_time": "2021-11-25T07:50:54.192Z"
   },
   {
    "duration": 4,
    "start_time": "2021-11-25T07:52:25.484Z"
   },
   {
    "duration": 11,
    "start_time": "2021-11-25T07:52:41.015Z"
   },
   {
    "duration": 321,
    "start_time": "2021-11-25T07:53:18.910Z"
   },
   {
    "duration": 293,
    "start_time": "2021-11-25T07:59:38.420Z"
   },
   {
    "duration": 191,
    "start_time": "2021-11-25T08:01:17.027Z"
   },
   {
    "duration": 103,
    "start_time": "2021-11-25T08:01:45.634Z"
   },
   {
    "duration": 16,
    "start_time": "2021-11-25T08:03:09.473Z"
   },
   {
    "duration": 15,
    "start_time": "2021-11-25T08:03:14.991Z"
   },
   {
    "duration": 9,
    "start_time": "2021-11-25T08:03:53.645Z"
   },
   {
    "duration": 288,
    "start_time": "2021-11-25T08:06:06.905Z"
   },
   {
    "duration": 355,
    "start_time": "2021-11-25T08:06:20.930Z"
   },
   {
    "duration": 286,
    "start_time": "2021-11-25T08:06:39.497Z"
   },
   {
    "duration": 299,
    "start_time": "2021-11-25T08:07:38.373Z"
   },
   {
    "duration": 9,
    "start_time": "2021-11-25T08:08:20.965Z"
   },
   {
    "duration": 85,
    "start_time": "2021-11-25T08:11:51.030Z"
   },
   {
    "duration": 94,
    "start_time": "2021-11-25T08:12:00.905Z"
   },
   {
    "duration": 1255,
    "start_time": "2021-11-25T08:12:23.496Z"
   },
   {
    "duration": 1136,
    "start_time": "2021-11-25T08:12:47.598Z"
   },
   {
    "duration": 1125,
    "start_time": "2021-11-25T08:13:43.057Z"
   },
   {
    "duration": 1219,
    "start_time": "2021-11-25T08:14:01.185Z"
   },
   {
    "duration": 285,
    "start_time": "2021-11-25T08:15:06.048Z"
   },
   {
    "duration": 21,
    "start_time": "2021-11-25T08:15:11.173Z"
   },
   {
    "duration": 302,
    "start_time": "2021-11-25T08:17:22.592Z"
   },
   {
    "duration": 1116,
    "start_time": "2021-11-25T08:17:44.880Z"
   },
   {
    "duration": 743,
    "start_time": "2021-11-25T08:17:45.998Z"
   },
   {
    "duration": 258,
    "start_time": "2021-11-25T08:17:46.743Z"
   },
   {
    "duration": 167,
    "start_time": "2021-11-25T08:17:47.002Z"
   },
   {
    "duration": 24,
    "start_time": "2021-11-25T08:17:47.171Z"
   },
   {
    "duration": 15,
    "start_time": "2021-11-25T08:17:47.197Z"
   },
   {
    "duration": 39,
    "start_time": "2021-11-25T08:17:47.214Z"
   },
   {
    "duration": 17,
    "start_time": "2021-11-25T08:17:47.255Z"
   },
   {
    "duration": 5,
    "start_time": "2021-11-25T08:17:47.275Z"
   },
   {
    "duration": 129,
    "start_time": "2021-11-25T08:17:47.282Z"
   },
   {
    "duration": 3,
    "start_time": "2021-11-25T08:17:47.413Z"
   },
   {
    "duration": 29,
    "start_time": "2021-11-25T08:17:47.550Z"
   },
   {
    "duration": 58,
    "start_time": "2021-11-25T08:17:48.687Z"
   },
   {
    "duration": 6,
    "start_time": "2021-11-25T08:17:49.280Z"
   },
   {
    "duration": 461,
    "start_time": "2021-11-25T08:17:49.464Z"
   },
   {
    "duration": 459,
    "start_time": "2021-11-25T08:17:49.927Z"
   },
   {
    "duration": 539,
    "start_time": "2021-11-25T08:17:50.388Z"
   },
   {
    "duration": 13,
    "start_time": "2021-11-25T08:17:52.258Z"
   },
   {
    "duration": 296,
    "start_time": "2021-11-25T08:17:52.686Z"
   },
   {
    "duration": 7,
    "start_time": "2021-11-25T08:17:53.191Z"
   },
   {
    "duration": 9,
    "start_time": "2021-11-25T08:17:53.770Z"
   },
   {
    "duration": 10,
    "start_time": "2021-11-25T08:17:55.145Z"
   },
   {
    "duration": 459,
    "start_time": "2021-11-25T08:17:55.727Z"
   },
   {
    "duration": 455,
    "start_time": "2021-11-25T08:17:58.365Z"
   },
   {
    "duration": 453,
    "start_time": "2021-11-25T08:17:59.685Z"
   },
   {
    "duration": 289,
    "start_time": "2021-11-25T08:18:09.264Z"
   },
   {
    "duration": 295,
    "start_time": "2021-11-25T08:19:22.047Z"
   },
   {
    "duration": 280,
    "start_time": "2021-11-25T08:20:31.118Z"
   },
   {
    "duration": 11,
    "start_time": "2021-11-25T08:20:51.628Z"
   },
   {
    "duration": 90,
    "start_time": "2021-11-25T08:21:32.358Z"
   },
   {
    "duration": 101,
    "start_time": "2021-11-25T08:21:36.584Z"
   },
   {
    "duration": 285,
    "start_time": "2021-11-25T08:21:49.169Z"
   },
   {
    "duration": 9,
    "start_time": "2021-11-25T08:22:40.986Z"
   },
   {
    "duration": 452,
    "start_time": "2021-11-25T08:22:42.145Z"
   },
   {
    "duration": 546,
    "start_time": "2021-11-25T08:23:06.048Z"
   },
   {
    "duration": 7,
    "start_time": "2021-11-25T08:23:14.658Z"
   },
   {
    "duration": 14,
    "start_time": "2021-11-25T08:24:48.568Z"
   },
   {
    "duration": 14,
    "start_time": "2021-11-25T08:31:04.279Z"
   },
   {
    "duration": 1146,
    "start_time": "2021-11-25T08:37:13.772Z"
   },
   {
    "duration": 751,
    "start_time": "2021-11-25T08:37:14.920Z"
   },
   {
    "duration": 277,
    "start_time": "2021-11-25T08:37:15.673Z"
   },
   {
    "duration": 156,
    "start_time": "2021-11-25T08:37:15.952Z"
   },
   {
    "duration": 16,
    "start_time": "2021-11-25T08:37:16.110Z"
   },
   {
    "duration": 26,
    "start_time": "2021-11-25T08:37:16.127Z"
   },
   {
    "duration": 18,
    "start_time": "2021-11-25T08:37:16.155Z"
   },
   {
    "duration": 16,
    "start_time": "2021-11-25T08:37:16.175Z"
   },
   {
    "duration": 4,
    "start_time": "2021-11-25T08:37:16.193Z"
   },
   {
    "duration": 123,
    "start_time": "2021-11-25T08:37:16.244Z"
   },
   {
    "duration": 3,
    "start_time": "2021-11-25T08:37:16.391Z"
   },
   {
    "duration": 27,
    "start_time": "2021-11-25T08:37:16.547Z"
   },
   {
    "duration": 57,
    "start_time": "2021-11-25T08:37:17.004Z"
   },
   {
    "duration": 6,
    "start_time": "2021-11-25T08:37:17.316Z"
   },
   {
    "duration": 553,
    "start_time": "2021-11-25T08:37:17.458Z"
   },
   {
    "duration": 455,
    "start_time": "2021-11-25T08:37:18.014Z"
   },
   {
    "duration": 519,
    "start_time": "2021-11-25T08:37:18.471Z"
   },
   {
    "duration": 13,
    "start_time": "2021-11-25T08:37:18.992Z"
   },
   {
    "duration": 310,
    "start_time": "2021-11-25T08:37:19.006Z"
   },
   {
    "duration": 6,
    "start_time": "2021-11-25T08:37:19.317Z"
   },
   {
    "duration": 25,
    "start_time": "2021-11-25T08:37:19.325Z"
   },
   {
    "duration": 11,
    "start_time": "2021-11-25T08:37:20.726Z"
   },
   {
    "duration": 456,
    "start_time": "2021-11-25T08:37:21.430Z"
   },
   {
    "duration": 463,
    "start_time": "2021-11-25T08:37:23.542Z"
   },
   {
    "duration": 3771,
    "start_time": "2021-11-25T08:37:24.032Z"
   },
   {
    "duration": 200028,
    "start_time": "2021-11-25T08:34:07.777Z"
   },
   {
    "duration": 17,
    "start_time": "2021-11-25T08:38:15.085Z"
   },
   {
    "duration": 44,
    "start_time": "2021-11-25T08:39:08.434Z"
   },
   {
    "duration": 94,
    "start_time": "2021-11-25T08:39:38.748Z"
   },
   {
    "duration": 22,
    "start_time": "2021-11-25T08:39:47.365Z"
   },
   {
    "duration": 5,
    "start_time": "2021-11-25T08:40:17.147Z"
   },
   {
    "duration": 24,
    "start_time": "2021-11-25T08:40:50.754Z"
   },
   {
    "duration": 8,
    "start_time": "2021-11-25T08:41:21.362Z"
   },
   {
    "duration": 16,
    "start_time": "2021-11-25T08:41:38.359Z"
   },
   {
    "duration": 11,
    "start_time": "2021-11-25T08:42:37.057Z"
   },
   {
    "duration": 11,
    "start_time": "2021-11-25T08:42:54.821Z"
   },
   {
    "duration": 34,
    "start_time": "2021-11-25T08:43:10.615Z"
   },
   {
    "duration": 10,
    "start_time": "2021-11-25T08:43:52.776Z"
   },
   {
    "duration": 12,
    "start_time": "2021-11-25T08:48:17.466Z"
   },
   {
    "duration": 15,
    "start_time": "2021-11-25T08:48:25.044Z"
   },
   {
    "duration": 25,
    "start_time": "2021-11-25T08:48:45.410Z"
   },
   {
    "duration": 44,
    "start_time": "2021-11-25T09:09:35.931Z"
   },
   {
    "duration": 122,
    "start_time": "2021-11-25T09:10:14.913Z"
   },
   {
    "duration": 344,
    "start_time": "2021-11-25T09:10:17.992Z"
   },
   {
    "duration": 3,
    "start_time": "2021-11-25T09:16:11.463Z"
   },
   {
    "duration": 3,
    "start_time": "2021-11-25T09:19:22.382Z"
   },
   {
    "duration": 6,
    "start_time": "2021-11-25T09:19:29.541Z"
   },
   {
    "duration": 86,
    "start_time": "2021-11-25T09:19:44.536Z"
   },
   {
    "duration": 7480,
    "start_time": "2021-11-25T09:20:53.561Z"
   },
   {
    "duration": 7303,
    "start_time": "2021-11-25T09:21:14.217Z"
   },
   {
    "duration": 285,
    "start_time": "2021-11-25T09:21:31.267Z"
   },
   {
    "duration": 288,
    "start_time": "2021-11-25T09:44:01.552Z"
   },
   {
    "duration": 89,
    "start_time": "2021-11-25T09:49:37.121Z"
   },
   {
    "duration": 266,
    "start_time": "2021-11-25T09:55:50.362Z"
   },
   {
    "duration": 4,
    "start_time": "2021-11-25T09:56:05.191Z"
   },
   {
    "duration": 4,
    "start_time": "2021-11-25T09:57:23.683Z"
   },
   {
    "duration": 268,
    "start_time": "2021-11-25T09:57:27.619Z"
   },
   {
    "duration": 89,
    "start_time": "2021-11-25T09:57:40.363Z"
   },
   {
    "duration": 4,
    "start_time": "2021-11-25T10:05:20.998Z"
   },
   {
    "duration": 11,
    "start_time": "2021-11-25T10:05:30.601Z"
   },
   {
    "duration": 14,
    "start_time": "2021-11-25T10:06:36.253Z"
   },
   {
    "duration": 64,
    "start_time": "2021-11-25T10:06:43.817Z"
   },
   {
    "duration": 1014,
    "start_time": "2021-11-25T10:07:16.388Z"
   },
   {
    "duration": 303,
    "start_time": "2021-11-25T10:07:19.697Z"
   },
   {
    "duration": 285,
    "start_time": "2021-11-25T10:11:22.857Z"
   },
   {
    "duration": 317,
    "start_time": "2021-11-25T10:11:26.749Z"
   },
   {
    "duration": 325,
    "start_time": "2021-11-25T10:11:44.756Z"
   },
   {
    "duration": 4,
    "start_time": "2021-11-25T10:14:37.623Z"
   },
   {
    "duration": 4,
    "start_time": "2021-11-25T10:14:42.140Z"
   },
   {
    "duration": 9,
    "start_time": "2021-11-25T10:15:11.634Z"
   },
   {
    "duration": 270,
    "start_time": "2021-11-25T10:15:22.800Z"
   },
   {
    "duration": 298,
    "start_time": "2021-11-25T10:15:52.701Z"
   },
   {
    "duration": 1138,
    "start_time": "2021-11-25T10:16:26.126Z"
   },
   {
    "duration": 742,
    "start_time": "2021-11-25T10:16:27.266Z"
   },
   {
    "duration": 277,
    "start_time": "2021-11-25T10:16:28.010Z"
   },
   {
    "duration": 157,
    "start_time": "2021-11-25T10:16:28.289Z"
   },
   {
    "duration": 15,
    "start_time": "2021-11-25T10:16:28.448Z"
   },
   {
    "duration": 13,
    "start_time": "2021-11-25T10:16:28.465Z"
   },
   {
    "duration": 30,
    "start_time": "2021-11-25T10:16:28.479Z"
   },
   {
    "duration": 26,
    "start_time": "2021-11-25T10:16:28.511Z"
   },
   {
    "duration": 5,
    "start_time": "2021-11-25T10:16:28.545Z"
   },
   {
    "duration": 133,
    "start_time": "2021-11-25T10:16:28.552Z"
   },
   {
    "duration": 3,
    "start_time": "2021-11-25T10:16:28.687Z"
   },
   {
    "duration": 27,
    "start_time": "2021-11-25T10:16:28.754Z"
   },
   {
    "duration": 69,
    "start_time": "2021-11-25T10:16:29.692Z"
   },
   {
    "duration": 6,
    "start_time": "2021-11-25T10:16:30.265Z"
   },
   {
    "duration": 459,
    "start_time": "2021-11-25T10:16:30.431Z"
   },
   {
    "duration": 445,
    "start_time": "2021-11-25T10:16:30.952Z"
   },
   {
    "duration": 540,
    "start_time": "2021-11-25T10:16:31.399Z"
   },
   {
    "duration": 13,
    "start_time": "2021-11-25T10:16:31.941Z"
   },
   {
    "duration": 289,
    "start_time": "2021-11-25T10:16:32.266Z"
   },
   {
    "duration": 7,
    "start_time": "2021-11-25T10:16:32.676Z"
   },
   {
    "duration": 9,
    "start_time": "2021-11-25T10:16:33.260Z"
   },
   {
    "duration": 11,
    "start_time": "2021-11-25T10:16:35.468Z"
   },
   {
    "duration": 443,
    "start_time": "2021-11-25T10:16:35.916Z"
   },
   {
    "duration": 442,
    "start_time": "2021-11-25T10:16:38.052Z"
   },
   {
    "duration": 18,
    "start_time": "2021-11-25T10:16:38.530Z"
   },
   {
    "duration": 28,
    "start_time": "2021-11-25T10:16:39.257Z"
   },
   {
    "duration": 4,
    "start_time": "2021-11-25T10:16:40.992Z"
   },
   {
    "duration": 60,
    "start_time": "2021-11-25T10:16:42.206Z"
   },
   {
    "duration": 385,
    "start_time": "2021-11-25T10:16:44.665Z"
   },
   {
    "duration": 280,
    "start_time": "2021-11-25T10:17:02.306Z"
   },
   {
    "duration": 1102,
    "start_time": "2021-11-25T10:17:35.657Z"
   },
   {
    "duration": 722,
    "start_time": "2021-11-25T10:17:36.760Z"
   },
   {
    "duration": 260,
    "start_time": "2021-11-25T10:17:37.484Z"
   },
   {
    "duration": 146,
    "start_time": "2021-11-25T10:17:37.746Z"
   },
   {
    "duration": 14,
    "start_time": "2021-11-25T10:17:37.894Z"
   },
   {
    "duration": 9,
    "start_time": "2021-11-25T10:17:37.909Z"
   },
   {
    "duration": 32,
    "start_time": "2021-11-25T10:17:37.920Z"
   },
   {
    "duration": 15,
    "start_time": "2021-11-25T10:17:37.954Z"
   },
   {
    "duration": 4,
    "start_time": "2021-11-25T10:17:37.970Z"
   },
   {
    "duration": 133,
    "start_time": "2021-11-25T10:17:37.976Z"
   },
   {
    "duration": 3,
    "start_time": "2021-11-25T10:17:38.118Z"
   },
   {
    "duration": 26,
    "start_time": "2021-11-25T10:17:38.281Z"
   },
   {
    "duration": 58,
    "start_time": "2021-11-25T10:17:38.756Z"
   },
   {
    "duration": 6,
    "start_time": "2021-11-25T10:17:39.105Z"
   },
   {
    "duration": 457,
    "start_time": "2021-11-25T10:17:39.277Z"
   },
   {
    "duration": 476,
    "start_time": "2021-11-25T10:17:39.736Z"
   },
   {
    "duration": 536,
    "start_time": "2021-11-25T10:17:40.214Z"
   },
   {
    "duration": 13,
    "start_time": "2021-11-25T10:17:41.177Z"
   },
   {
    "duration": 287,
    "start_time": "2021-11-25T10:17:41.904Z"
   },
   {
    "duration": 5,
    "start_time": "2021-11-25T10:17:42.193Z"
   },
   {
    "duration": 10,
    "start_time": "2021-11-25T10:17:42.827Z"
   },
   {
    "duration": 15,
    "start_time": "2021-11-25T10:17:44.965Z"
   },
   {
    "duration": 444,
    "start_time": "2021-11-25T10:17:45.586Z"
   },
   {
    "duration": 446,
    "start_time": "2021-11-25T10:17:47.616Z"
   },
   {
    "duration": 18,
    "start_time": "2021-11-25T10:17:48.064Z"
   },
   {
    "duration": 27,
    "start_time": "2021-11-25T10:17:48.640Z"
   },
   {
    "duration": 3,
    "start_time": "2021-11-25T10:17:49.322Z"
   },
   {
    "duration": 58,
    "start_time": "2021-11-25T10:17:50.096Z"
   },
   {
    "duration": 13,
    "start_time": "2021-11-25T10:17:54.203Z"
   },
   {
    "duration": 7,
    "start_time": "2021-11-25T10:20:55.458Z"
   },
   {
    "duration": 375,
    "start_time": "2021-11-25T10:21:20.140Z"
   },
   {
    "duration": 283,
    "start_time": "2021-11-25T10:23:09.790Z"
   },
   {
    "duration": 307,
    "start_time": "2021-11-25T10:23:20.384Z"
   },
   {
    "duration": 15,
    "start_time": "2021-11-25T10:27:03.496Z"
   },
   {
    "duration": 75,
    "start_time": "2021-11-25T10:27:13.554Z"
   },
   {
    "duration": 11,
    "start_time": "2021-11-25T10:27:19.581Z"
   },
   {
    "duration": 90,
    "start_time": "2021-11-25T10:28:59.002Z"
   },
   {
    "duration": 142,
    "start_time": "2021-11-25T10:30:53.821Z"
   },
   {
    "duration": 19,
    "start_time": "2021-11-25T10:31:20.275Z"
   },
   {
    "duration": 18,
    "start_time": "2021-11-25T10:31:36.872Z"
   },
   {
    "duration": 18,
    "start_time": "2021-11-25T10:31:45.424Z"
   },
   {
    "duration": 20,
    "start_time": "2021-11-25T10:32:41.247Z"
   },
   {
    "duration": 1229,
    "start_time": "2021-11-25T10:32:54.025Z"
   },
   {
    "duration": 741,
    "start_time": "2021-11-25T10:32:55.256Z"
   },
   {
    "duration": 263,
    "start_time": "2021-11-25T10:32:55.999Z"
   },
   {
    "duration": 144,
    "start_time": "2021-11-25T10:32:56.264Z"
   },
   {
    "duration": 15,
    "start_time": "2021-11-25T10:32:56.409Z"
   },
   {
    "duration": 25,
    "start_time": "2021-11-25T10:32:56.426Z"
   },
   {
    "duration": 17,
    "start_time": "2021-11-25T10:32:56.452Z"
   },
   {
    "duration": 15,
    "start_time": "2021-11-25T10:32:56.470Z"
   },
   {
    "duration": 4,
    "start_time": "2021-11-25T10:32:56.486Z"
   },
   {
    "duration": 129,
    "start_time": "2021-11-25T10:32:56.492Z"
   },
   {
    "duration": 4,
    "start_time": "2021-11-25T10:32:56.622Z"
   },
   {
    "duration": 27,
    "start_time": "2021-11-25T10:32:56.689Z"
   },
   {
    "duration": 57,
    "start_time": "2021-11-25T10:32:57.144Z"
   },
   {
    "duration": 7,
    "start_time": "2021-11-25T10:32:57.450Z"
   },
   {
    "duration": 467,
    "start_time": "2021-11-25T10:32:57.621Z"
   },
   {
    "duration": 465,
    "start_time": "2021-11-25T10:32:58.090Z"
   },
   {
    "duration": 543,
    "start_time": "2021-11-25T10:32:58.557Z"
   },
   {
    "duration": 15,
    "start_time": "2021-11-25T10:32:59.103Z"
   },
   {
    "duration": 310,
    "start_time": "2021-11-25T10:32:59.119Z"
   },
   {
    "duration": 16,
    "start_time": "2021-11-25T10:32:59.431Z"
   },
   {
    "duration": 10,
    "start_time": "2021-11-25T10:32:59.450Z"
   },
   {
    "duration": 10,
    "start_time": "2021-11-25T10:33:00.993Z"
   },
   {
    "duration": 478,
    "start_time": "2021-11-25T10:33:01.005Z"
   },
   {
    "duration": 466,
    "start_time": "2021-11-25T10:33:02.139Z"
   },
   {
    "duration": 18,
    "start_time": "2021-11-25T10:33:02.607Z"
   },
   {
    "duration": 29,
    "start_time": "2021-11-25T10:33:02.725Z"
   },
   {
    "duration": 30,
    "start_time": "2021-11-25T10:33:03.227Z"
   },
   {
    "duration": 20,
    "start_time": "2021-11-25T10:33:11.187Z"
   },
   {
    "duration": 18,
    "start_time": "2021-11-25T10:33:35.508Z"
   },
   {
    "duration": 82,
    "start_time": "2021-11-25T10:33:56.726Z"
   },
   {
    "duration": 15,
    "start_time": "2021-11-25T10:34:55.463Z"
   },
   {
    "duration": 400,
    "start_time": "2021-11-25T10:35:28.074Z"
   },
   {
    "duration": 3,
    "start_time": "2021-11-25T10:39:05.338Z"
   },
   {
    "duration": 82,
    "start_time": "2021-11-25T10:40:20.302Z"
   },
   {
    "duration": 13,
    "start_time": "2021-11-25T10:40:36.415Z"
   },
   {
    "duration": 5,
    "start_time": "2021-11-25T10:41:31.729Z"
   },
   {
    "duration": 5,
    "start_time": "2021-11-25T10:42:05.562Z"
   },
   {
    "duration": 21,
    "start_time": "2021-11-25T10:42:18.988Z"
   },
   {
    "duration": 24,
    "start_time": "2021-11-25T10:42:24.793Z"
   },
   {
    "duration": 583,
    "start_time": "2021-11-25T10:42:50.779Z"
   },
   {
    "duration": 4,
    "start_time": "2021-11-25T10:42:57.684Z"
   },
   {
    "duration": 4,
    "start_time": "2021-11-25T10:43:08.438Z"
   },
   {
    "duration": 6,
    "start_time": "2021-11-25T10:43:20.479Z"
   },
   {
    "duration": 21,
    "start_time": "2021-11-25T10:43:59.446Z"
   },
   {
    "duration": 16,
    "start_time": "2021-11-25T10:44:10.202Z"
   },
   {
    "duration": 40,
    "start_time": "2021-11-25T10:44:47.727Z"
   },
   {
    "duration": 20,
    "start_time": "2021-11-25T10:44:54.603Z"
   },
   {
    "duration": 10,
    "start_time": "2021-11-25T10:45:06.809Z"
   },
   {
    "duration": 6,
    "start_time": "2021-11-25T10:45:17.607Z"
   },
   {
    "duration": 4,
    "start_time": "2021-11-25T10:45:42.806Z"
   },
   {
    "duration": 4,
    "start_time": "2021-11-25T10:46:38.844Z"
   },
   {
    "duration": 10,
    "start_time": "2021-11-25T10:46:47.289Z"
   },
   {
    "duration": 11,
    "start_time": "2021-11-25T10:47:16.963Z"
   },
   {
    "duration": 4,
    "start_time": "2021-11-25T10:47:17.468Z"
   },
   {
    "duration": 1217,
    "start_time": "2021-11-25T10:47:56.246Z"
   },
   {
    "duration": 1432,
    "start_time": "2021-11-25T10:48:00.892Z"
   },
   {
    "duration": 252714,
    "start_time": "2021-11-25T10:49:50.064Z"
   },
   {
    "duration": 1145,
    "start_time": "2021-11-25T10:54:19.883Z"
   },
   {
    "duration": 1434,
    "start_time": "2021-11-25T10:54:26.992Z"
   },
   {
    "duration": 301090,
    "start_time": "2021-11-25T10:54:47.231Z"
   },
   {
    "duration": 280,
    "start_time": "2021-11-25T11:03:29.185Z"
   },
   {
    "duration": 17843,
    "start_time": "2021-11-25T11:07:18.606Z"
   },
   {
    "duration": 284,
    "start_time": "2021-11-25T11:12:01.452Z"
   },
   {
    "duration": 299,
    "start_time": "2021-11-25T11:12:35.507Z"
   },
   {
    "duration": 31173,
    "start_time": "2021-11-25T11:13:04.077Z"
   },
   {
    "duration": 277,
    "start_time": "2021-11-25T11:14:51.982Z"
   },
   {
    "duration": 31552,
    "start_time": "2021-11-25T11:15:01.701Z"
   },
   {
    "duration": 21927,
    "start_time": "2021-11-25T11:17:11.419Z"
   },
   {
    "duration": 90,
    "start_time": "2021-11-25T11:22:47.604Z"
   },
   {
    "duration": 17,
    "start_time": "2021-11-25T11:29:22.358Z"
   },
   {
    "duration": 14,
    "start_time": "2021-11-25T11:31:03.618Z"
   },
   {
    "duration": 11,
    "start_time": "2021-11-25T11:31:16.634Z"
   },
   {
    "duration": 14,
    "start_time": "2021-11-25T11:31:40.894Z"
   },
   {
    "duration": 14,
    "start_time": "2021-11-25T11:31:46.031Z"
   },
   {
    "duration": 11,
    "start_time": "2021-11-25T11:31:46.478Z"
   },
   {
    "duration": 11,
    "start_time": "2021-11-25T11:32:27.460Z"
   },
   {
    "duration": 4,
    "start_time": "2021-11-25T11:33:00.279Z"
   },
   {
    "duration": 6,
    "start_time": "2021-11-25T11:33:18.977Z"
   },
   {
    "duration": 579,
    "start_time": "2021-11-25T11:34:32.901Z"
   },
   {
    "duration": 17,
    "start_time": "2021-11-25T11:35:28.270Z"
   },
   {
    "duration": 11,
    "start_time": "2021-11-25T11:35:30.091Z"
   },
   {
    "duration": 6,
    "start_time": "2021-11-25T11:35:30.714Z"
   },
   {
    "duration": 9,
    "start_time": "2021-11-25T11:35:31.288Z"
   },
   {
    "duration": 304,
    "start_time": "2021-11-25T11:35:32.996Z"
   },
   {
    "duration": 2818,
    "start_time": "2021-11-25T11:36:22.845Z"
   },
   {
    "duration": 2759,
    "start_time": "2021-11-25T11:36:33.179Z"
   },
   {
    "duration": 2785,
    "start_time": "2021-11-25T11:36:38.602Z"
   },
   {
    "duration": 446,
    "start_time": "2021-11-25T11:37:28.573Z"
   },
   {
    "duration": 444,
    "start_time": "2021-11-25T11:37:39.365Z"
   },
   {
    "duration": 32519,
    "start_time": "2021-11-25T11:38:41.733Z"
   },
   {
    "duration": 22602,
    "start_time": "2021-11-25T11:39:14.344Z"
   },
   {
    "duration": 31455,
    "start_time": "2021-11-25T11:39:59.694Z"
   },
   {
    "duration": 271,
    "start_time": "2021-11-25T11:41:12.268Z"
   },
   {
    "duration": 306,
    "start_time": "2021-11-25T11:41:34.360Z"
   },
   {
    "duration": 2862,
    "start_time": "2021-11-25T11:41:54.858Z"
   },
   {
    "duration": 3972,
    "start_time": "2021-11-25T11:42:16.927Z"
   },
   {
    "duration": 3927,
    "start_time": "2021-11-25T11:42:57.208Z"
   },
   {
    "duration": 2795,
    "start_time": "2021-11-25T11:43:23.279Z"
   },
   {
    "duration": 311,
    "start_time": "2021-11-25T11:51:39.124Z"
   },
   {
    "duration": 2251,
    "start_time": "2021-11-25T11:53:14.495Z"
   },
   {
    "duration": 2212,
    "start_time": "2021-11-25T11:54:03.034Z"
   },
   {
    "duration": 3530,
    "start_time": "2021-11-25T11:54:48.769Z"
   },
   {
    "duration": 3,
    "start_time": "2021-11-25T12:01:30.877Z"
   },
   {
    "duration": 226,
    "start_time": "2021-11-25T12:05:28.419Z"
   },
   {
    "duration": 115,
    "start_time": "2021-11-25T12:05:29.537Z"
   },
   {
    "duration": 173,
    "start_time": "2021-11-25T12:05:55.972Z"
   },
   {
    "duration": 231,
    "start_time": "2021-11-25T12:06:05.414Z"
   },
   {
    "duration": 3,
    "start_time": "2021-11-25T12:06:30.177Z"
   },
   {
    "duration": 4,
    "start_time": "2021-11-25T12:06:37.752Z"
   },
   {
    "duration": 4,
    "start_time": "2021-11-25T12:08:33.632Z"
   },
   {
    "duration": 4,
    "start_time": "2021-11-25T12:09:11.737Z"
   },
   {
    "duration": 4,
    "start_time": "2021-11-25T12:09:15.990Z"
   },
   {
    "duration": 4,
    "start_time": "2021-11-25T12:11:47.498Z"
   },
   {
    "duration": 4,
    "start_time": "2021-11-25T12:12:10.116Z"
   },
   {
    "duration": 4,
    "start_time": "2021-11-25T12:12:14.927Z"
   },
   {
    "duration": 3,
    "start_time": "2021-11-25T12:12:23.828Z"
   },
   {
    "duration": 3,
    "start_time": "2021-11-25T12:13:59.574Z"
   },
   {
    "duration": 3,
    "start_time": "2021-11-25T12:14:09.911Z"
   },
   {
    "duration": 4,
    "start_time": "2021-11-25T12:14:15.604Z"
   },
   {
    "duration": 86,
    "start_time": "2021-11-25T12:24:10.318Z"
   },
   {
    "duration": 3,
    "start_time": "2021-11-25T12:24:19.874Z"
   },
   {
    "duration": 5,
    "start_time": "2021-11-25T12:24:26.309Z"
   },
   {
    "duration": 4,
    "start_time": "2021-11-25T12:24:44.714Z"
   },
   {
    "duration": 4,
    "start_time": "2021-11-25T12:24:51.813Z"
   },
   {
    "duration": 96,
    "start_time": "2021-11-25T12:25:11.719Z"
   },
   {
    "duration": 5,
    "start_time": "2021-11-25T12:25:23.979Z"
   },
   {
    "duration": 4,
    "start_time": "2021-11-25T12:26:49.071Z"
   },
   {
    "duration": 114,
    "start_time": "2021-11-25T12:26:54.283Z"
   },
   {
    "duration": 4069,
    "start_time": "2021-11-25T12:27:15.264Z"
   },
   {
    "duration": 3930,
    "start_time": "2021-11-25T12:27:30.701Z"
   },
   {
    "duration": 96,
    "start_time": "2021-11-25T12:27:37.861Z"
   },
   {
    "duration": 111,
    "start_time": "2021-11-25T12:27:49.392Z"
   },
   {
    "duration": 181,
    "start_time": "2021-11-25T12:28:05.172Z"
   },
   {
    "duration": 91,
    "start_time": "2021-11-25T12:28:07.920Z"
   },
   {
    "duration": 6,
    "start_time": "2021-11-25T12:29:17.135Z"
   },
   {
    "duration": 5,
    "start_time": "2021-11-25T12:29:34.700Z"
   },
   {
    "duration": 5,
    "start_time": "2021-11-25T12:30:20.315Z"
   },
   {
    "duration": 9,
    "start_time": "2021-11-25T12:31:38.767Z"
   },
   {
    "duration": 10,
    "start_time": "2021-11-25T12:33:21.739Z"
   },
   {
    "duration": 10,
    "start_time": "2021-11-25T12:33:32.687Z"
   },
   {
    "duration": 10,
    "start_time": "2021-11-25T12:33:56.178Z"
   },
   {
    "duration": 10,
    "start_time": "2021-11-25T12:34:10.234Z"
   },
   {
    "duration": 8,
    "start_time": "2021-11-25T12:34:20.576Z"
   },
   {
    "duration": 1150,
    "start_time": "2021-11-25T12:41:11.300Z"
   },
   {
    "duration": 730,
    "start_time": "2021-11-25T12:41:12.452Z"
   },
   {
    "duration": 254,
    "start_time": "2021-11-25T12:41:13.184Z"
   },
   {
    "duration": 147,
    "start_time": "2021-11-25T12:41:13.440Z"
   },
   {
    "duration": 16,
    "start_time": "2021-11-25T12:41:13.588Z"
   },
   {
    "duration": 9,
    "start_time": "2021-11-25T12:41:13.606Z"
   },
   {
    "duration": 38,
    "start_time": "2021-11-25T12:41:13.617Z"
   },
   {
    "duration": 16,
    "start_time": "2021-11-25T12:41:13.658Z"
   },
   {
    "duration": 5,
    "start_time": "2021-11-25T12:41:13.676Z"
   },
   {
    "duration": 137,
    "start_time": "2021-11-25T12:41:13.682Z"
   },
   {
    "duration": 4,
    "start_time": "2021-11-25T12:41:13.821Z"
   },
   {
    "duration": 42,
    "start_time": "2021-11-25T12:41:13.826Z"
   },
   {
    "duration": 61,
    "start_time": "2021-11-25T12:41:13.870Z"
   },
   {
    "duration": 14,
    "start_time": "2021-11-25T12:41:13.932Z"
   },
   {
    "duration": 452,
    "start_time": "2021-11-25T12:41:13.948Z"
   },
   {
    "duration": 445,
    "start_time": "2021-11-25T12:41:14.402Z"
   },
   {
    "duration": 524,
    "start_time": "2021-11-25T12:41:14.848Z"
   },
   {
    "duration": 12,
    "start_time": "2021-11-25T12:41:15.374Z"
   },
   {
    "duration": 309,
    "start_time": "2021-11-25T12:41:15.387Z"
   },
   {
    "duration": 8,
    "start_time": "2021-11-25T12:41:15.697Z"
   },
   {
    "duration": 11,
    "start_time": "2021-11-25T12:41:15.707Z"
   },
   {
    "duration": 32,
    "start_time": "2021-11-25T12:41:15.720Z"
   },
   {
    "duration": 462,
    "start_time": "2021-11-25T12:41:15.756Z"
   },
   {
    "duration": 458,
    "start_time": "2021-11-25T12:41:16.221Z"
   },
   {
    "duration": 19,
    "start_time": "2021-11-25T12:41:16.680Z"
   },
   {
    "duration": 11,
    "start_time": "2021-11-25T12:41:16.700Z"
   },
   {
    "duration": 43,
    "start_time": "2021-11-25T12:41:16.712Z"
   },
   {
    "duration": 3,
    "start_time": "2021-11-25T12:41:16.757Z"
   },
   {
    "duration": 90,
    "start_time": "2021-11-25T12:41:16.762Z"
   },
   {
    "duration": 5,
    "start_time": "2021-11-25T12:41:16.854Z"
   },
   {
    "duration": 17,
    "start_time": "2021-11-25T12:41:16.860Z"
   },
   {
    "duration": 17,
    "start_time": "2021-11-25T12:41:16.879Z"
   },
   {
    "duration": 7,
    "start_time": "2021-11-25T12:41:16.898Z"
   },
   {
    "duration": 38,
    "start_time": "2021-11-25T12:41:16.906Z"
   },
   {
    "duration": 7,
    "start_time": "2021-11-25T12:41:16.946Z"
   },
   {
    "duration": 1108,
    "start_time": "2021-11-25T12:41:16.954Z"
   },
   {
    "duration": 1225,
    "start_time": "2021-11-25T12:41:18.063Z"
   },
   {
    "duration": 265023,
    "start_time": "2021-11-25T12:41:19.290Z"
   },
   {
    "duration": 1276,
    "start_time": "2021-11-25T12:45:44.315Z"
   },
   {
    "duration": 1524,
    "start_time": "2021-11-25T12:45:45.593Z"
   },
   {
    "duration": 317578,
    "start_time": "2021-11-25T12:45:47.119Z"
   },
   {
    "duration": 30452,
    "start_time": "2021-11-25T12:51:04.699Z"
   },
   {
    "duration": 23494,
    "start_time": "2021-11-25T12:51:35.153Z"
   },
   {
    "duration": 17,
    "start_time": "2021-11-25T12:51:58.649Z"
   },
   {
    "duration": 10,
    "start_time": "2021-11-25T12:51:58.667Z"
   },
   {
    "duration": 6,
    "start_time": "2021-11-25T12:51:58.679Z"
   },
   {
    "duration": 61,
    "start_time": "2021-11-25T12:51:58.687Z"
   },
   {
    "duration": 104,
    "start_time": "2021-11-25T12:51:58.750Z"
   },
   {
    "duration": 203,
    "start_time": "2021-11-25T12:51:58.946Z"
   },
   {
    "duration": 2392,
    "start_time": "2021-11-25T12:51:59.152Z"
   },
   {
    "duration": 3604,
    "start_time": "2021-11-25T12:52:01.546Z"
   },
   {
    "duration": 4,
    "start_time": "2021-11-25T12:52:05.152Z"
   },
   {
    "duration": 13,
    "start_time": "2021-11-25T12:52:05.158Z"
   },
   {
    "duration": 21,
    "start_time": "2021-11-25T13:05:54.234Z"
   },
   {
    "duration": 25,
    "start_time": "2021-11-25T13:05:56.529Z"
   },
   {
    "duration": 1747,
    "start_time": "2021-11-25T13:08:09.044Z"
   },
   {
    "duration": 377,
    "start_time": "2021-11-25T13:09:10.775Z"
   },
   {
    "duration": 2265,
    "start_time": "2021-11-25T13:09:21.773Z"
   },
   {
    "duration": 18,
    "start_time": "2021-11-25T13:09:32.661Z"
   },
   {
    "duration": 13,
    "start_time": "2021-11-25T13:11:34.354Z"
   },
   {
    "duration": 11,
    "start_time": "2021-11-25T13:11:37.441Z"
   },
   {
    "duration": 6,
    "start_time": "2021-11-25T13:11:38.109Z"
   },
   {
    "duration": 7,
    "start_time": "2021-11-25T13:11:38.968Z"
   },
   {
    "duration": 358,
    "start_time": "2021-11-25T13:11:40.126Z"
   },
   {
    "duration": 23,
    "start_time": "2021-11-25T13:12:13.261Z"
   },
   {
    "duration": 27,
    "start_time": "2021-11-25T13:13:12.606Z"
   },
   {
    "duration": 573,
    "start_time": "2021-11-25T13:13:33.089Z"
   },
   {
    "duration": 14,
    "start_time": "2021-11-25T13:13:49.026Z"
   },
   {
    "duration": 354,
    "start_time": "2021-11-25T13:13:58.566Z"
   },
   {
    "duration": 25,
    "start_time": "2021-11-25T13:14:08.320Z"
   },
   {
    "duration": 20,
    "start_time": "2021-11-25T13:15:17.938Z"
   },
   {
    "duration": 12,
    "start_time": "2021-11-25T13:15:21.452Z"
   },
   {
    "duration": 6,
    "start_time": "2021-11-25T13:15:22.144Z"
   },
   {
    "duration": 6,
    "start_time": "2021-11-25T13:15:23.187Z"
   },
   {
    "duration": 122,
    "start_time": "2021-11-25T13:15:24.631Z"
   },
   {
    "duration": 155,
    "start_time": "2021-11-25T13:15:26.399Z"
   },
   {
    "duration": 2324,
    "start_time": "2021-11-25T13:15:35.527Z"
   },
   {
    "duration": 3898,
    "start_time": "2021-11-25T13:15:37.854Z"
   },
   {
    "duration": 4,
    "start_time": "2021-11-25T13:15:44.302Z"
   },
   {
    "duration": 10,
    "start_time": "2021-11-25T13:15:48.683Z"
   },
   {
    "duration": 2189,
    "start_time": "2021-11-25T13:17:13.258Z"
   },
   {
    "duration": 185,
    "start_time": "2021-11-25T13:17:49.463Z"
   },
   {
    "duration": 4764,
    "start_time": "2021-11-25T13:18:42.986Z"
   },
   {
    "duration": 3309,
    "start_time": "2021-11-25T13:18:53.943Z"
   },
   {
    "duration": 133,
    "start_time": "2021-11-25T13:19:22.118Z"
   },
   {
    "duration": 3,
    "start_time": "2021-11-25T13:19:40.761Z"
   },
   {
    "duration": 10,
    "start_time": "2021-11-25T13:19:46.409Z"
   }
  ],
  "kernelspec": {
   "display_name": "Python 3",
   "language": "python",
   "name": "python3"
  },
  "language_info": {
   "codemirror_mode": {
    "name": "ipython",
    "version": 3
   },
   "file_extension": ".py",
   "mimetype": "text/x-python",
   "name": "python",
   "nbconvert_exporter": "python",
   "pygments_lexer": "ipython3",
   "version": "3.7.10"
  },
  "toc": {
   "base_numbering": 1,
   "nav_menu": {},
   "number_sections": true,
   "sideBar": true,
   "skip_h1_title": true,
   "title_cell": "Содержание",
   "title_sidebar": "Contents",
   "toc_cell": true,
   "toc_position": {
    "height": "calc(100% - 180px)",
    "left": "10px",
    "top": "150px",
    "width": "165px"
   },
   "toc_section_display": true,
   "toc_window_display": true
  }
 },
 "nbformat": 4,
 "nbformat_minor": 2
}
